{
 "cells": [
  {
   "cell_type": "markdown",
   "metadata": {},
   "source": [
    "# Complexity in fitting Linear Mixed Models"
   ]
  },
  {
   "cell_type": "markdown",
   "metadata": {},
   "source": [
    "Linear mixed-effects models are increasingly used for the analysis of data from experiments in fields like psychology where several subjects are each exposed to each of several different items.\n",
    "In addition to a response, which here will be assumed to be on a continuous scale, such as a _response time_, a number of experimental conditions are systematically varied during the experiment.\n",
    "In the language of statistical experimental design the latter variables are called _experimental factors_ whereas factors like `Subject` and `Item` are _blocking factors_.\n",
    "That is, these are known sources of variation that usually are not of interest by themselves but still should be accounted for when looking for systematic variation in the response."
   ]
  },
  {
   "cell_type": "markdown",
   "metadata": {},
   "source": [
    "## An example data set"
   ]
  },
  {
   "cell_type": "markdown",
   "metadata": {},
   "source": [
    "The data from experiment 2 in [_Kronmueller and Barr (2007)_](https://www.sciencedirect.com/science/article/pii/S0749596X06000581) consist of the truncated response times, `RTtrunc`, (ms.) for target selection by 56 subjects, `subj`, (undergraduate students) on 32 `item`s (a block of displays) under combinations of 3 two-level experimental factors; Speaker, `S` (old/new), Precedent, `P`, (break/maintain), and Cognitive Load, `C` (yes/no).\n",
    "\n",
    "These data are available as the `\"kb07\"` dataframe in the [_RePsychLing_ package](https://github.com/dmbates/RePsychLing/) for [__R__](http://www.R-project.org).\n",
    "\n",
    "A copy is also available as a saved R data set, \"`kb07.rds`\", in this directory.\n",
    "This file can be loaded into a [__Julia__](https://julialang.org) session using the [_RData_ package](https://github.com/JuliaData/RData.jl)."
   ]
  },
  {
   "cell_type": "code",
   "execution_count": 1,
   "metadata": {},
   "outputs": [],
   "source": [
    "using BenchmarkTools, DataFrames, Distributions, FreqTables\n",
    "using MixedModels, RData, Statistics, StatsBase, StatsModels"
   ]
  },
  {
   "cell_type": "code",
   "execution_count": 2,
   "metadata": {},
   "outputs": [
    {
     "data": {
      "text/html": [
       "<table class=\"data-frame\"><thead><tr><th></th><th>subj</th><th>item</th><th>RTtrunc</th><th>S</th><th>P</th><th>C</th></tr><tr><th></th><th>Categorical…</th><th>Categorical…</th><th>Float64</th><th>Categorical…</th><th>Categorical…</th><th>Categorical…</th></tr></thead><tbody><p>1,790 rows × 6 columns</p><tr><th>1</th><td>30</td><td>1</td><td>2267.0</td><td>old</td><td>break</td><td>yes</td></tr><tr><th>2</th><td>30</td><td>2</td><td>3856.0</td><td>new</td><td>maintain</td><td>no</td></tr><tr><th>3</th><td>30</td><td>3</td><td>1567.0</td><td>new</td><td>break</td><td>no</td></tr><tr><th>4</th><td>30</td><td>4</td><td>1732.0</td><td>old</td><td>maintain</td><td>no</td></tr><tr><th>5</th><td>30</td><td>5</td><td>2660.0</td><td>old</td><td>break</td><td>no</td></tr><tr><th>6</th><td>30</td><td>6</td><td>2763.0</td><td>new</td><td>maintain</td><td>yes</td></tr><tr><th>7</th><td>30</td><td>7</td><td>3528.0</td><td>new</td><td>break</td><td>yes</td></tr><tr><th>8</th><td>30</td><td>8</td><td>1741.0</td><td>old</td><td>maintain</td><td>yes</td></tr><tr><th>9</th><td>30</td><td>9</td><td>3692.0</td><td>old</td><td>break</td><td>yes</td></tr><tr><th>10</th><td>30</td><td>10</td><td>1949.0</td><td>new</td><td>maintain</td><td>no</td></tr><tr><th>11</th><td>30</td><td>11</td><td>2189.0</td><td>new</td><td>break</td><td>no</td></tr><tr><th>12</th><td>30</td><td>12</td><td>2207.0</td><td>old</td><td>maintain</td><td>no</td></tr><tr><th>13</th><td>30</td><td>13</td><td>2078.0</td><td>old</td><td>break</td><td>no</td></tr><tr><th>14</th><td>30</td><td>14</td><td>1901.0</td><td>new</td><td>maintain</td><td>yes</td></tr><tr><th>15</th><td>30</td><td>15</td><td>4015.0</td><td>new</td><td>break</td><td>yes</td></tr><tr><th>16</th><td>30</td><td>16</td><td>1880.0</td><td>old</td><td>maintain</td><td>yes</td></tr><tr><th>17</th><td>30</td><td>17</td><td>1444.0</td><td>old</td><td>break</td><td>yes</td></tr><tr><th>18</th><td>30</td><td>18</td><td>1683.0</td><td>new</td><td>maintain</td><td>no</td></tr><tr><th>19</th><td>30</td><td>19</td><td>2037.0</td><td>new</td><td>break</td><td>no</td></tr><tr><th>20</th><td>30</td><td>20</td><td>1168.0</td><td>old</td><td>maintain</td><td>no</td></tr><tr><th>21</th><td>30</td><td>21</td><td>1930.0</td><td>old</td><td>break</td><td>no</td></tr><tr><th>22</th><td>30</td><td>22</td><td>1843.0</td><td>new</td><td>maintain</td><td>yes</td></tr><tr><th>23</th><td>30</td><td>23</td><td>4969.0</td><td>new</td><td>break</td><td>yes</td></tr><tr><th>24</th><td>30</td><td>24</td><td>1798.0</td><td>old</td><td>maintain</td><td>yes</td></tr><tr><th>25</th><td>30</td><td>25</td><td>2436.0</td><td>old</td><td>break</td><td>yes</td></tr><tr><th>26</th><td>30</td><td>26</td><td>2018.0</td><td>new</td><td>maintain</td><td>no</td></tr><tr><th>27</th><td>30</td><td>27</td><td>2278.0</td><td>new</td><td>break</td><td>no</td></tr><tr><th>28</th><td>30</td><td>28</td><td>1866.0</td><td>old</td><td>maintain</td><td>no</td></tr><tr><th>29</th><td>30</td><td>29</td><td>1743.0</td><td>old</td><td>break</td><td>no</td></tr><tr><th>30</th><td>30</td><td>30</td><td>1963.0</td><td>new</td><td>maintain</td><td>yes</td></tr><tr><th>&vellip;</th><td>&vellip;</td><td>&vellip;</td><td>&vellip;</td><td>&vellip;</td><td>&vellip;</td><td>&vellip;</td></tr></tbody></table>"
      ],
      "text/latex": [
       "\\begin{tabular}{r|cccccc}\n",
       "\t& subj & item & RTtrunc & S & P & C\\\\\n",
       "\t\\hline\n",
       "\t& Categorical… & Categorical… & Float64 & Categorical… & Categorical… & Categorical…\\\\\n",
       "\t\\hline\n",
       "\t1 & 30 & 1 & 2267.0 & old & break & yes \\\\\n",
       "\t2 & 30 & 2 & 3856.0 & new & maintain & no \\\\\n",
       "\t3 & 30 & 3 & 1567.0 & new & break & no \\\\\n",
       "\t4 & 30 & 4 & 1732.0 & old & maintain & no \\\\\n",
       "\t5 & 30 & 5 & 2660.0 & old & break & no \\\\\n",
       "\t6 & 30 & 6 & 2763.0 & new & maintain & yes \\\\\n",
       "\t7 & 30 & 7 & 3528.0 & new & break & yes \\\\\n",
       "\t8 & 30 & 8 & 1741.0 & old & maintain & yes \\\\\n",
       "\t9 & 30 & 9 & 3692.0 & old & break & yes \\\\\n",
       "\t10 & 30 & 10 & 1949.0 & new & maintain & no \\\\\n",
       "\t11 & 30 & 11 & 2189.0 & new & break & no \\\\\n",
       "\t12 & 30 & 12 & 2207.0 & old & maintain & no \\\\\n",
       "\t13 & 30 & 13 & 2078.0 & old & break & no \\\\\n",
       "\t14 & 30 & 14 & 1901.0 & new & maintain & yes \\\\\n",
       "\t15 & 30 & 15 & 4015.0 & new & break & yes \\\\\n",
       "\t16 & 30 & 16 & 1880.0 & old & maintain & yes \\\\\n",
       "\t17 & 30 & 17 & 1444.0 & old & break & yes \\\\\n",
       "\t18 & 30 & 18 & 1683.0 & new & maintain & no \\\\\n",
       "\t19 & 30 & 19 & 2037.0 & new & break & no \\\\\n",
       "\t20 & 30 & 20 & 1168.0 & old & maintain & no \\\\\n",
       "\t21 & 30 & 21 & 1930.0 & old & break & no \\\\\n",
       "\t22 & 30 & 22 & 1843.0 & new & maintain & yes \\\\\n",
       "\t23 & 30 & 23 & 4969.0 & new & break & yes \\\\\n",
       "\t24 & 30 & 24 & 1798.0 & old & maintain & yes \\\\\n",
       "\t25 & 30 & 25 & 2436.0 & old & break & yes \\\\\n",
       "\t26 & 30 & 26 & 2018.0 & new & maintain & no \\\\\n",
       "\t27 & 30 & 27 & 2278.0 & new & break & no \\\\\n",
       "\t28 & 30 & 28 & 1866.0 & old & maintain & no \\\\\n",
       "\t29 & 30 & 29 & 1743.0 & old & break & no \\\\\n",
       "\t30 & 30 & 30 & 1963.0 & new & maintain & yes \\\\\n",
       "\t$\\dots$ & $\\dots$ & $\\dots$ & $\\dots$ & $\\dots$ & $\\dots$ & $\\dots$ \\\\\n",
       "\\end{tabular}\n"
      ],
      "text/plain": [
       "1790×6 DataFrame. Omitted printing of 1 columns\n",
       "│ Row  │ subj         │ item         │ RTtrunc │ S            │ P            │\n",
       "│      │ \u001b[90mCategorical…\u001b[39m │ \u001b[90mCategorical…\u001b[39m │ \u001b[90mFloat64\u001b[39m │ \u001b[90mCategorical…\u001b[39m │ \u001b[90mCategorical…\u001b[39m │\n",
       "├──────┼──────────────┼──────────────┼─────────┼──────────────┼──────────────┤\n",
       "│ 1    │ 30           │ 1            │ 2267.0  │ old          │ break        │\n",
       "│ 2    │ 30           │ 2            │ 3856.0  │ new          │ maintain     │\n",
       "│ 3    │ 30           │ 3            │ 1567.0  │ new          │ break        │\n",
       "│ 4    │ 30           │ 4            │ 1732.0  │ old          │ maintain     │\n",
       "│ 5    │ 30           │ 5            │ 2660.0  │ old          │ break        │\n",
       "│ 6    │ 30           │ 6            │ 2763.0  │ new          │ maintain     │\n",
       "│ 7    │ 30           │ 7            │ 3528.0  │ new          │ break        │\n",
       "│ 8    │ 30           │ 8            │ 1741.0  │ old          │ maintain     │\n",
       "│ 9    │ 30           │ 9            │ 3692.0  │ old          │ break        │\n",
       "│ 10   │ 30           │ 10           │ 1949.0  │ new          │ maintain     │\n",
       "⋮\n",
       "│ 1780 │ 103          │ 22           │ 1623.0  │ old          │ break        │\n",
       "│ 1781 │ 103          │ 23           │ 2706.0  │ new          │ maintain     │\n",
       "│ 1782 │ 103          │ 24           │ 4281.0  │ new          │ break        │\n",
       "│ 1783 │ 103          │ 25           │ 2075.0  │ old          │ maintain     │\n",
       "│ 1784 │ 103          │ 26           │ 3179.0  │ old          │ break        │\n",
       "│ 1785 │ 103          │ 27           │ 1216.0  │ new          │ maintain     │\n",
       "│ 1786 │ 103          │ 28           │ 2286.0  │ new          │ break        │\n",
       "│ 1787 │ 103          │ 29           │ 1202.0  │ old          │ maintain     │\n",
       "│ 1788 │ 103          │ 30           │ 1581.0  │ old          │ break        │\n",
       "│ 1789 │ 103          │ 31           │ 1601.0  │ new          │ maintain     │\n",
       "│ 1790 │ 103          │ 32           │ 1941.0  │ new          │ break        │"
      ]
     },
     "execution_count": 2,
     "metadata": {},
     "output_type": "execute_result"
    }
   ],
   "source": [
    "kb07 = load(\"kb07.rds\")"
   ]
  },
  {
   "cell_type": "code",
   "execution_count": 3,
   "metadata": {},
   "outputs": [
    {
     "data": {
      "text/html": [
       "<table class=\"data-frame\"><thead><tr><th></th><th>variable</th><th>mean</th><th>min</th><th>median</th><th>max</th><th>nunique</th><th>nmissing</th><th>eltype</th></tr><tr><th></th><th>Symbol</th><th>Union…</th><th>Any</th><th>Union…</th><th>Any</th><th>Union…</th><th>Nothing</th><th>DataType</th></tr></thead><tbody><p>6 rows × 8 columns</p><tr><th>1</th><td>subj</td><td></td><td>30</td><td></td><td>103</td><td>56</td><td></td><td>CategoricalString{UInt8}</td></tr><tr><th>2</th><td>item</td><td></td><td>1</td><td></td><td>32</td><td>32</td><td></td><td>CategoricalString{UInt8}</td></tr><tr><th>3</th><td>RTtrunc</td><td>2180.49</td><td>336.0</td><td>1936.5</td><td>5143.65</td><td></td><td></td><td>Float64</td></tr><tr><th>4</th><td>S</td><td></td><td>old</td><td></td><td>new</td><td>2</td><td></td><td>CategoricalString{UInt8}</td></tr><tr><th>5</th><td>P</td><td></td><td>break</td><td></td><td>maintain</td><td>2</td><td></td><td>CategoricalString{UInt8}</td></tr><tr><th>6</th><td>C</td><td></td><td>yes</td><td></td><td>no</td><td>2</td><td></td><td>CategoricalString{UInt8}</td></tr></tbody></table>"
      ],
      "text/latex": [
       "\\begin{tabular}{r|cccccccc}\n",
       "\t& variable & mean & min & median & max & nunique & nmissing & eltype\\\\\n",
       "\t\\hline\n",
       "\t& Symbol & Union… & Any & Union… & Any & Union… & Nothing & DataType\\\\\n",
       "\t\\hline\n",
       "\t1 & subj &  & 30 &  & 103 & 56 &  & CategoricalString\\{UInt8\\} \\\\\n",
       "\t2 & item &  & 1 &  & 32 & 32 &  & CategoricalString\\{UInt8\\} \\\\\n",
       "\t3 & RTtrunc & 2180.49 & 336.0 & 1936.5 & 5143.65 &  &  & Float64 \\\\\n",
       "\t4 & S &  & old &  & new & 2 &  & CategoricalString\\{UInt8\\} \\\\\n",
       "\t5 & P &  & break &  & maintain & 2 &  & CategoricalString\\{UInt8\\} \\\\\n",
       "\t6 & C &  & yes &  & no & 2 &  & CategoricalString\\{UInt8\\} \\\\\n",
       "\\end{tabular}\n"
      ],
      "text/plain": [
       "6×8 DataFrame. Omitted printing of 1 columns\n",
       "│ Row │ variable │ mean    │ min   │ median │ max      │ nunique │ nmissing │\n",
       "│     │ \u001b[90mSymbol\u001b[39m   │ \u001b[90mUnion…\u001b[39m  │ \u001b[90mAny\u001b[39m   │ \u001b[90mUnion…\u001b[39m │ \u001b[90mAny\u001b[39m      │ \u001b[90mUnion…\u001b[39m  │ \u001b[90mNothing\u001b[39m  │\n",
       "├─────┼──────────┼─────────┼───────┼────────┼──────────┼─────────┼──────────┤\n",
       "│ 1   │ subj     │         │ 30    │        │ 103      │ 56      │          │\n",
       "│ 2   │ item     │         │ 1     │        │ 32       │ 32      │          │\n",
       "│ 3   │ RTtrunc  │ 2180.49 │ 336.0 │ 1936.5 │ 5143.65  │         │          │\n",
       "│ 4   │ S        │         │ old   │        │ new      │ 2       │          │\n",
       "│ 5   │ P        │         │ break │        │ maintain │ 2       │          │\n",
       "│ 6   │ C        │         │ yes   │        │ no       │ 2       │          │"
      ]
     },
     "execution_count": 3,
     "metadata": {},
     "output_type": "execute_result"
    }
   ],
   "source": [
    "describe(kb07)"
   ]
  },
  {
   "cell_type": "code",
   "execution_count": 4,
   "metadata": {},
   "outputs": [
    {
     "data": {
      "text/plain": [
       "56×32 Named Array{Int64,2}\n",
       "subj ╲ item │  1   2   3   4   5   6   7   8  …  25  26  27  28  29  30  31  32\n",
       "────────────┼──────────────────────────────────────────────────────────────────\n",
       "30          │  1   1   1   1   1   1   1   1  …   1   1   1   1   1   1   1   1\n",
       "31          │  1   1   1   1   1   1   1   1      1   1   1   1   1   1   1   1\n",
       "34          │  1   1   1   1   1   1   1   1      1   1   1   1   1   1   1   1\n",
       "35          │  1   1   1   1   1   1   1   1      1   1   1   1   1   1   1   1\n",
       "36          │  1   1   1   1   1   1   1   1      1   1   1   1   1   1   1   1\n",
       "37          │  1   1   1   1   1   1   1   1      1   1   1   1   1   1   1   1\n",
       "38          │  1   1   1   1   1   1   1   1      1   1   1   1   1   1   1   1\n",
       "39          │  1   1   1   1   1   1   1   1      1   1   1   1   1   1   1   1\n",
       "41          │  1   1   1   1   1   1   1   1      1   1   1   1   1   1   1   1\n",
       "42          │  1   1   1   1   1   1   1   1      1   1   1   1   1   1   1   1\n",
       "43          │  1   1   1   1   1   1   1   1      1   1   1   1   1   1   1   1\n",
       "44          │  1   1   1   1   1   1   1   1      1   1   1   1   1   1   1   1\n",
       "⋮              ⋮   ⋮   ⋮   ⋮   ⋮   ⋮   ⋮   ⋮  ⋱   ⋮   ⋮   ⋮   ⋮   ⋮   ⋮   ⋮   ⋮\n",
       "89          │  1   1   1   1   1   1   1   1      1   1   1   1   1   1   1   1\n",
       "91          │  1   1   1   1   1   1   1   1      1   1   1   1   1   1   1   1\n",
       "93          │  1   1   1   1   1   1   1   1      1   1   1   1   1   1   1   1\n",
       "94          │  1   1   1   1   1   1   1   1      1   1   1   1   1   1   1   1\n",
       "95          │  1   1   1   1   1   1   1   1      1   1   1   1   1   1   1   1\n",
       "96          │  1   1   1   1   1   1   1   1      1   1   1   1   1   1   1   1\n",
       "97          │  1   1   1   1   1   1   1   1      1   1   1   1   1   1   1   1\n",
       "98          │  1   1   1   1   1   1   1   1      1   1   1   1   1   1   1   1\n",
       "100         │  1   1   1   1   1   1   1   1      1   1   1   1   1   1   1   1\n",
       "101         │  1   1   1   1   1   1   1   1      1   1   1   1   1   1   1   1\n",
       "102         │  1   1   1   1   1   1   1   1      1   1   1   1   1   1   1   1\n",
       "103         │  1   1   1   1   1   1   1   1  …   1   1   1   1   1   1   1   1"
      ]
     },
     "execution_count": 4,
     "metadata": {},
     "output_type": "execute_result"
    }
   ],
   "source": [
    "subjitemtbl = freqtable(kb07, :subj, :item)"
   ]
  },
  {
   "cell_type": "code",
   "execution_count": 5,
   "metadata": {},
   "outputs": [
    {
     "data": {
      "text/plain": [
       "Dict{Int64,Int64} with 2 entries:\n",
       "  0 => 2\n",
       "  1 => 1790"
      ]
     },
     "execution_count": 5,
     "metadata": {},
     "output_type": "execute_result"
    }
   ],
   "source": [
    "countmap(vec(subjitemtbl))"
   ]
  },
  {
   "cell_type": "markdown",
   "metadata": {},
   "source": [
    "All of the experimental factors vary within subject and within item, as can be verified by examining the frequency tables for the experimental and grouping factors.  For example"
   ]
  },
  {
   "cell_type": "code",
   "execution_count": 6,
   "metadata": {},
   "outputs": [
    {
     "data": {
      "text/plain": [
       "2×56 Named Array{Int64,2}\n",
       "S ╲ subj │  30   31   34   35   36   37  …   97   98  100  101  102  103\n",
       "─────────┼──────────────────────────────────────────────────────────────\n",
       "old      │  16   16   16   16   16   16  …   16   16   16   16   16   16\n",
       "new      │  16   16   16   16   16   16  …   16   16   16   16   16   16"
      ]
     },
     "execution_count": 6,
     "metadata": {},
     "output_type": "execute_result"
    }
   ],
   "source": [
    "freqtable(kb07, :S, :subj)"
   ]
  },
  {
   "cell_type": "markdown",
   "metadata": {},
   "source": [
    "Some of the characteristics of these data, as described in [_Kronmueller and Barr (2007)_](https://www.sciencedirect.com/science/article/pii/S0749596X06000581), can be reproduced here.  For example"
   ]
  },
  {
   "cell_type": "code",
   "execution_count": 7,
   "metadata": {},
   "outputs": [
    {
     "data": {
      "text/plain": [
       "(mean = 2180.493994413408, std = 934.1982213470507)"
      ]
     },
     "execution_count": 7,
     "metadata": {},
     "output_type": "execute_result"
    }
   ],
   "source": [
    "(mean = mean(kb07.RTtrunc), std = std(kb07.RTtrunc))"
   ]
  },
  {
   "cell_type": "markdown",
   "metadata": {},
   "source": [
    "However, I have been unable to reproduce the mean response and the standard deviation for combinations of the experimental factors, as shown in Table 3 of that paper.\n",
    "The results from this version of the data are"
   ]
  },
  {
   "cell_type": "code",
   "execution_count": 8,
   "metadata": {},
   "outputs": [
    {
     "data": {
      "text/html": [
       "<table class=\"data-frame\"><thead><tr><th></th><th>S</th><th>P</th><th>C</th><th>meanRT</th><th>sdRT</th></tr><tr><th></th><th>Categorical…</th><th>Categorical…</th><th>Categorical…</th><th>Float64</th><th>Float64</th></tr></thead><tbody><p>8 rows × 5 columns</p><tr><th>1</th><td>old</td><td>break</td><td>yes</td><td>2504.12</td><td>1008.82</td></tr><tr><th>2</th><td>old</td><td>break</td><td>no</td><td>2344.56</td><td>970.91</td></tr><tr><th>3</th><td>old</td><td>maintain</td><td>yes</td><td>1843.28</td><td>609.672</td></tr><tr><th>4</th><td>old</td><td>maintain</td><td>no</td><td>1760.53</td><td>586.735</td></tr><tr><th>5</th><td>new</td><td>break</td><td>yes</td><td>2672.35</td><td>1115.27</td></tr><tr><th>6</th><td>new</td><td>break</td><td>no</td><td>2534.95</td><td>1055.43</td></tr><tr><th>7</th><td>new</td><td>maintain</td><td>yes</td><td>2018.71</td><td>724.828</td></tr><tr><th>8</th><td>new</td><td>maintain</td><td>no</td><td>1764.33</td><td>675.26</td></tr></tbody></table>"
      ],
      "text/latex": [
       "\\begin{tabular}{r|ccccc}\n",
       "\t& S & P & C & meanRT & sdRT\\\\\n",
       "\t\\hline\n",
       "\t& Categorical… & Categorical… & Categorical… & Float64 & Float64\\\\\n",
       "\t\\hline\n",
       "\t1 & old & break & yes & 2504.12 & 1008.82 \\\\\n",
       "\t2 & old & break & no & 2344.56 & 970.91 \\\\\n",
       "\t3 & old & maintain & yes & 1843.28 & 609.672 \\\\\n",
       "\t4 & old & maintain & no & 1760.53 & 586.735 \\\\\n",
       "\t5 & new & break & yes & 2672.35 & 1115.27 \\\\\n",
       "\t6 & new & break & no & 2534.95 & 1055.43 \\\\\n",
       "\t7 & new & maintain & yes & 2018.71 & 724.828 \\\\\n",
       "\t8 & new & maintain & no & 1764.33 & 675.26 \\\\\n",
       "\\end{tabular}\n"
      ],
      "text/plain": [
       "8×5 DataFrame\n",
       "│ Row │ S            │ P            │ C            │ meanRT  │ sdRT    │\n",
       "│     │ \u001b[90mCategorical…\u001b[39m │ \u001b[90mCategorical…\u001b[39m │ \u001b[90mCategorical…\u001b[39m │ \u001b[90mFloat64\u001b[39m │ \u001b[90mFloat64\u001b[39m │\n",
       "├─────┼──────────────┼──────────────┼──────────────┼─────────┼─────────┤\n",
       "│ 1   │ old          │ break        │ yes          │ 2504.12 │ 1008.82 │\n",
       "│ 2   │ old          │ break        │ no           │ 2344.56 │ 970.91  │\n",
       "│ 3   │ old          │ maintain     │ yes          │ 1843.28 │ 609.672 │\n",
       "│ 4   │ old          │ maintain     │ no           │ 1760.53 │ 586.735 │\n",
       "│ 5   │ new          │ break        │ yes          │ 2672.35 │ 1115.27 │\n",
       "│ 6   │ new          │ break        │ no           │ 2534.95 │ 1055.43 │\n",
       "│ 7   │ new          │ maintain     │ yes          │ 2018.71 │ 724.828 │\n",
       "│ 8   │ new          │ maintain     │ no           │ 1764.33 │ 675.26  │"
      ]
     },
     "execution_count": 8,
     "metadata": {},
     "output_type": "execute_result"
    }
   ],
   "source": [
    "by(kb07, [:S, :P, :C], meanRT = :RTtrunc => mean, sdRT = :RTtrunc => std)"
   ]
  },
  {
   "cell_type": "markdown",
   "metadata": {},
   "source": [
    "According to Table 3 of that paper the mean in the first row should be 2837 and the standard deviation should be 1751."
   ]
  },
  {
   "cell_type": "markdown",
   "metadata": {},
   "source": [
    "## Formulating a simple model"
   ]
  },
  {
   "cell_type": "markdown",
   "metadata": {},
   "source": [
    "A simple model with main-effects for each of the experimental factors and with random effects for subject and for item is described by the formula `RTtrunc ~ 1 + S + P + C + (1|subj) + (1|item)`.\n",
    "In the _MixedModels_ package, which uses the formula specifications from the [_StatsModels_ package](https://github.com/JuliaStats/StatsModels.jl), a formula must be wrapped in a call to the `@formula` macro.\n",
    "The model is created as an instance of a `LinearMixedModel` type then fit with a call to the `fit!` generic.\n",
    "\n",
    "(By convention, the names in Julia of _mutating functions_, which modify the value of one or more of their arguments, end in `!` as a warning to the user that arguments, usually just the first argument, can be overwritten with new values.)"
   ]
  },
  {
   "cell_type": "code",
   "execution_count": 9,
   "metadata": {},
   "outputs": [
    {
     "data": {
      "text/plain": [
       "Linear mixed model fit by maximum likelihood\n",
       " RTtrunc ~ 1 + S + P + C + (1 | subj) + (1 | item)\n",
       "     logLik        -2 logLik          AIC             BIC       \n",
       " -1.44157021×10⁴  2.88314042×10⁴  2.88454042×10⁴   2.8883834×10⁴\n",
       "\n",
       "Variance components:\n",
       "            Variance Std.Dev. \n",
       " subj      101978.30 319.3404\n",
       " item      131612.90 362.7849\n",
       " Residual  518767.52 720.2552\n",
       " Number of obs: 1790; levels of grouping factors: 56, 32\n",
       "\n",
       "  Fixed-effects parameters:\n",
       "             Estimate Std.Error  z value P(>|z|)\n",
       "(Intercept)   2526.09   84.2215  29.9934  <1e-99\n",
       "S: new        134.394   34.0488  3.94709   <1e-4\n",
       "P: maintain  -667.349   34.0488 -19.5998  <1e-84\n",
       "C: no        -157.798   34.0487 -4.63447   <1e-5\n"
      ]
     },
     "execution_count": 9,
     "metadata": {},
     "output_type": "execute_result"
    }
   ],
   "source": [
    "m1 = fit!(LinearMixedModel(@formula(RTtrunc ~ 1 + S + P + C + (1|subj) + (1|item)), kb07))"
   ]
  },
  {
   "cell_type": "markdown",
   "metadata": {},
   "source": [
    "The first fit of such a model can take several seconds because the Just-In-Time (JIT) compiler must analyze and compile a considerable amount of code.  (All of the code in the _MixedModels_ package is Julia code.)\n",
    "Subsequent fits of this or similar models are much faster.\n",
    "\n",
    "When timing fits that take a few seconds or less the `@btime` macro will be used, as it performs the evaluation of the expression several times and takes the minimum of these evaluation times.  \n",
    "This is to eliminate the noise introduced by garbage collection and compilation.\n",
    "\n",
    "Furthermore, in what follows the formulas and models will be declared `const`, which in Julia means that the type of the value cannot be changed, although the values in, say, a vector can be.\n",
    "\n",
    "Also the expression is written using `$` before an argument name.  This is an interpolation in a macro call.  The effect is to time only the expression evaluation and not the name lookup for the arguments."
   ]
  },
  {
   "cell_type": "code",
   "execution_count": 10,
   "metadata": {},
   "outputs": [
    {
     "name": "stdout",
     "output_type": "stream",
     "text": [
      "  1.971 ms (2699 allocations: 835.78 KiB)\n"
     ]
    }
   ],
   "source": [
    "const f1 = @formula(RTtrunc ~ 1 + S + P + C + (1|subj) + (1|item));\n",
    "@btime fit!(LinearMixedModel($f1, $kb07));"
   ]
  },
  {
   "cell_type": "markdown",
   "metadata": {},
   "source": [
    "The coding for the experimental factors in the model matrix for this model is the default or \"dummy\" coding, where the first level is the reference level and the estimated coefficients represent differences of the response at the indicated level relative to the first.\n",
    "\n",
    "In this case the model matrix for the fixed effects is"
   ]
  },
  {
   "cell_type": "code",
   "execution_count": 11,
   "metadata": {},
   "outputs": [
    {
     "data": {
      "text/plain": [
       "1790×4 Array{Float64,2}:\n",
       " 1.0  0.0  0.0  0.0\n",
       " 1.0  1.0  1.0  1.0\n",
       " 1.0  1.0  0.0  1.0\n",
       " 1.0  0.0  1.0  1.0\n",
       " 1.0  0.0  0.0  1.0\n",
       " 1.0  1.0  1.0  0.0\n",
       " 1.0  1.0  0.0  0.0\n",
       " 1.0  0.0  1.0  0.0\n",
       " 1.0  0.0  0.0  0.0\n",
       " 1.0  1.0  1.0  1.0\n",
       " 1.0  1.0  0.0  1.0\n",
       " 1.0  0.0  1.0  1.0\n",
       " 1.0  0.0  0.0  1.0\n",
       " ⋮                 \n",
       " 1.0  0.0  1.0  1.0\n",
       " 1.0  0.0  0.0  1.0\n",
       " 1.0  1.0  1.0  0.0\n",
       " 1.0  1.0  0.0  0.0\n",
       " 1.0  0.0  1.0  0.0\n",
       " 1.0  0.0  0.0  0.0\n",
       " 1.0  1.0  1.0  1.0\n",
       " 1.0  1.0  0.0  1.0\n",
       " 1.0  0.0  1.0  1.0\n",
       " 1.0  0.0  0.0  1.0\n",
       " 1.0  1.0  1.0  0.0\n",
       " 1.0  1.0  0.0  0.0"
      ]
     },
     "execution_count": 11,
     "metadata": {},
     "output_type": "execute_result"
    }
   ],
   "source": [
    "m1.X"
   ]
  },
  {
   "cell_type": "markdown",
   "metadata": {},
   "source": [
    "In two-level factorial experiments like this it is an advantage to use a $\\pm1$ coding, which can be derived from `EffectsCoding` or `HelmertCoding` (these codings are the same for a two-level factor)."
   ]
  },
  {
   "cell_type": "code",
   "execution_count": 12,
   "metadata": {},
   "outputs": [],
   "source": [
    "const contrasts = Dict(:S=>HelmertCoding(), :P=>HelmertCoding(), :C=>HelmertCoding());"
   ]
  },
  {
   "cell_type": "code",
   "execution_count": 13,
   "metadata": {},
   "outputs": [
    {
     "name": "stdout",
     "output_type": "stream",
     "text": [
      "  2.035 ms (2917 allocations: 843.58 KiB)\n"
     ]
    },
    {
     "data": {
      "text/plain": [
       "Linear mixed model fit by maximum likelihood\n",
       " RTtrunc ~ 1 + S + P + C + (1 | subj) + (1 | item)\n",
       "     logLik        -2 logLik          AIC             BIC       \n",
       " -1.44157021×10⁴  2.88314042×10⁴  2.88454042×10⁴   2.8883834×10⁴\n",
       "\n",
       "Variance components:\n",
       "            Variance Std.Dev. \n",
       " subj      101978.30 319.3404\n",
       " item      131612.90 362.7849\n",
       " Residual  518767.52 720.2552\n",
       " Number of obs: 1790; levels of grouping factors: 56, 32\n",
       "\n",
       "  Fixed-effects parameters:\n",
       "             Estimate Std.Error  z value P(>|z|)\n",
       "(Intercept)   2180.72   78.8909  27.6422  <1e-99\n",
       "S: new        67.1968   17.0244  3.94709   <1e-4\n",
       "P: maintain  -333.674   17.0244 -19.5998  <1e-84\n",
       "C: no        -78.8989   17.0244 -4.63447   <1e-5\n"
      ]
     },
     "execution_count": 13,
     "metadata": {},
     "output_type": "execute_result"
    }
   ],
   "source": [
    "m1 = @btime fit!(LinearMixedModel($f1, $kb07, $contrasts))"
   ]
  },
  {
   "cell_type": "markdown",
   "metadata": {},
   "source": [
    "The estimate of the `(Intercept)` coefficient is now approximately the sample mean. (It may be slightly different from the sample mean due to the   \n",
    "slight imbalance in the design because of two unusually long response times being dropped.)\n",
    "\n",
    "The coefficients for the experimental factors are half the previously estimated effects, because of the $\\pm1$ coding,\n",
    "Their standard errors are also half those from the previous fit.\n",
    "The estimates of the variance components, the log-likelihood and other goodness of fit criteria, and the z statistics and p-values for the effects remain the same.\n",
    "\n",
    "The model matrix for the fixed effects is now"
   ]
  },
  {
   "cell_type": "code",
   "execution_count": 15,
   "metadata": {},
   "outputs": [
    {
     "data": {
      "text/plain": [
       "1790×4 Array{Float64,2}:\n",
       " 1.0  -1.0  -1.0  -1.0\n",
       " 1.0   1.0   1.0   1.0\n",
       " 1.0   1.0  -1.0   1.0\n",
       " 1.0  -1.0   1.0   1.0\n",
       " 1.0  -1.0  -1.0   1.0\n",
       " 1.0   1.0   1.0  -1.0\n",
       " 1.0   1.0  -1.0  -1.0\n",
       " 1.0  -1.0   1.0  -1.0\n",
       " 1.0  -1.0  -1.0  -1.0\n",
       " 1.0   1.0   1.0   1.0\n",
       " 1.0   1.0  -1.0   1.0\n",
       " 1.0  -1.0   1.0   1.0\n",
       " 1.0  -1.0  -1.0   1.0\n",
       " ⋮                    \n",
       " 1.0  -1.0   1.0   1.0\n",
       " 1.0  -1.0  -1.0   1.0\n",
       " 1.0   1.0   1.0  -1.0\n",
       " 1.0   1.0  -1.0  -1.0\n",
       " 1.0  -1.0   1.0  -1.0\n",
       " 1.0  -1.0  -1.0  -1.0\n",
       " 1.0   1.0   1.0   1.0\n",
       " 1.0   1.0  -1.0   1.0\n",
       " 1.0  -1.0   1.0   1.0\n",
       " 1.0  -1.0  -1.0   1.0\n",
       " 1.0   1.0   1.0  -1.0\n",
       " 1.0   1.0  -1.0  -1.0"
      ]
     },
     "execution_count": 15,
     "metadata": {},
     "output_type": "execute_result"
    }
   ],
   "source": [
    "m1.X"
   ]
  },
  {
   "cell_type": "markdown",
   "metadata": {},
   "source": [
    "### Model construction versus model optimization"
   ]
  },
  {
   "cell_type": "markdown",
   "metadata": {},
   "source": [
    "The `m1` object is created in the call to the constructor function, `LinearMixedModel`, then the parameters are optimized or fit in the call to `fit!`.\n",
    "Usually the process of fitting a model will take longer than creating the numerical representation but, for simple models like this, the creation time can be a significant portion of the overall running time."
   ]
  },
  {
   "cell_type": "code",
   "execution_count": 14,
   "metadata": {},
   "outputs": [
    {
     "name": "stdout",
     "output_type": "stream",
     "text": [
      "  902.833 μs (1620 allocations: 810.11 KiB)\n"
     ]
    }
   ],
   "source": [
    "@btime LinearMixedModel($f1, $kb07, $contrasts);"
   ]
  },
  {
   "cell_type": "code",
   "execution_count": 15,
   "metadata": {},
   "outputs": [
    {
     "name": "stdout",
     "output_type": "stream",
     "text": [
      "  1.001 ms (1296 allocations: 33.38 KiB)\n"
     ]
    }
   ],
   "source": [
    "@btime fit!($m1);"
   ]
  },
  {
   "cell_type": "markdown",
   "metadata": {},
   "source": [
    "### Factors affecting the time to optimize the parameters"
   ]
  },
  {
   "cell_type": "markdown",
   "metadata": {},
   "source": [
    "The optimization process is summarized in the `optsum` property of the model."
   ]
  },
  {
   "cell_type": "code",
   "execution_count": 16,
   "metadata": {},
   "outputs": [
    {
     "data": {
      "text/plain": [
       "Initial parameter vector: [1.0, 1.0]\n",
       "Initial objective value:  28889.20544069451\n",
       "\n",
       "Optimizer (from NLopt):   LN_BOBYQA\n",
       "Lower bounds:             [0.0, 0.0]\n",
       "ftol_rel:                 1.0e-12\n",
       "ftol_abs:                 1.0e-8\n",
       "xtol_rel:                 0.0\n",
       "xtol_abs:                 [1.0e-10, 1.0e-10]\n",
       "initial_step:             [0.75, 0.75]\n",
       "maxfeval:                 -1\n",
       "\n",
       "Function evaluations:     21\n",
       "Final parameter vector:   [0.443371, 0.503689]\n",
       "Final objective value:    28831.404175679785\n",
       "Return code:              FTOL_REACHED\n"
      ]
     },
     "execution_count": 16,
     "metadata": {},
     "output_type": "execute_result"
    }
   ],
   "source": [
    "m1.optsum"
   ]
  },
  {
   "cell_type": "markdown",
   "metadata": {},
   "source": [
    "For this model there are two parameters to be optimized because the objective function, negative twice the log-likelihood, can be _profiled_ with respect to all the other parameters.\n",
    "(See section 3 of [_Bates et al. 2015_](https://www.jstatsoft.org/article/view/v067i01) for details.)\n",
    "Both these parameters must be non-negative (i.e. both have a lower bound of zero) and both have an initial value of one.\n",
    "After 21 function evaluations an optimum is declared according to the function value tolerance, either $10^{-8}$ in absolute terms or $10^{-12}$ relative to the current value.\n",
    "\n",
    "The optimization itself has a certain amount of setup and summary time but the majority of the time is spent in the evaluation of the objective - the profiled log-likelihood.\n",
    "\n",
    "Each function evaluation is of the form"
   ]
  },
  {
   "cell_type": "code",
   "execution_count": 17,
   "metadata": {},
   "outputs": [],
   "source": [
    "const θ1 = m1.θ;"
   ]
  },
  {
   "cell_type": "code",
   "execution_count": 18,
   "metadata": {},
   "outputs": [
    {
     "name": "stdout",
     "output_type": "stream",
     "text": [
      "  41.255 μs (57 allocations: 1.42 KiB)\n"
     ]
    }
   ],
   "source": [
    "@btime objective(updateL!(setθ!($m1, $θ1)));"
   ]
  },
  {
   "cell_type": "markdown",
   "metadata": {},
   "source": [
    "Remember that this is a \"best case\" time.  During the course of the optimization some of the function evaluations could take longer due to garbage collection or other factors.\n",
    "\n",
    "On this machine 21 function evaluations, each taking 42 microseconds or more, gives the total function evaluation time of at least 0.85 ms., which is practically all of the time to fit the model.\n",
    "\n",
    "The majority of the time for the function evaluation for this model is in the call to `updateL!`"
   ]
  },
  {
   "cell_type": "code",
   "execution_count": 19,
   "metadata": {},
   "outputs": [
    {
     "name": "stdout",
     "output_type": "stream",
     "text": [
      "  31.580 μs (17 allocations: 320 bytes)\n"
     ]
    }
   ],
   "source": [
    "@btime updateL!($m1);"
   ]
  },
  {
   "cell_type": "markdown",
   "metadata": {},
   "source": [
    "This is an operation that updates the lower Cholesky factor (often written as `L`) of a blocked sparse matrix.\n",
    "\n",
    "There are 4 rows and columns of blocks.\n",
    "The first row and column correspond to the random effects for subject, the second to the random effects for item, the third to the fixed-effects parameters and the fourth to the response.\n",
    "Their sizes and types are"
   ]
  },
  {
   "cell_type": "code",
   "execution_count": 20,
   "metadata": {},
   "outputs": [
    {
     "name": "stdout",
     "output_type": "stream",
     "text": [
      "1,1: LinearAlgebra.Diagonal{Float64,Array{Float64,1}} (56, 56) LinearAlgebra.Diagonal{Float64,Array{Float64,1}}\n",
      "2,1: Array{Float64,2} (32, 56) Array{Float64,2}\n",
      "2,2: LinearAlgebra.Diagonal{Float64,Array{Float64,1}} (32, 32) Array{Float64,2}\n",
      "3,1: Array{Float64,2} (4, 56) Array{Float64,2}\n",
      "3,2: Array{Float64,2} (4, 32) Array{Float64,2}\n",
      "3,3: Array{Float64,2} (4, 4) Array{Float64,2}\n",
      "4,1: Array{Float64,2} (1, 56) Array{Float64,2}\n",
      "4,2: Array{Float64,2} (1, 32) Array{Float64,2}\n",
      "4,3: Array{Float64,2} (1, 4) Array{Float64,2}\n",
      "4,4: Array{Float64,2} (1, 1) Array{Float64,2}\n"
     ]
    }
   ],
   "source": [
    "describeblocks(m1)"
   ]
  },
  {
   "cell_type": "markdown",
   "metadata": {},
   "source": [
    "There are two lower-triangular blocked matrices: `A` with fixed entries determined by the model and data, and `L` which is updated for each evaluation of the objective function.\n",
    "The type of the `A` block is given before the size and the type of the `L` block is after the size.\n",
    "For scalar random effects, generated by a random-effects term like `(1|G)`, the (1,1) block is always diagonal for both `A` and `L`.\n",
    "Its size is the number of levels of the grouping factor, `G`.\n",
    "\n",
    "Because subject and item are crossed, the (2,1) block of `A` is dense, as is the (2,1) block of `L`.\n",
    "The (2,2) block of `A` is diagonal because, like the (1,1) block, it is generated from a scalar random effects term.\n",
    "However, the (2,2) block of `L` ends up being dense as a result of \"fill-in\" in the sparse Cholesky factorization.\n",
    "All the blocks associated with the fixed-effects or the response are stored as dense matrices but their dimensions are (relatively) small."
   ]
  },
  {
   "cell_type": "markdown",
   "metadata": {},
   "source": [
    "## Increasing the complexity"
   ]
  },
  {
   "cell_type": "markdown",
   "metadata": {},
   "source": [
    "In general, adding more terms to a model will increase the time required to fit the model.\n",
    "However, there is a big difference between adding fixed-effects terms and adding complexity to the random effects.\n",
    "\n",
    "Adding the two- and three-factor interactions to the fixed-effects terms increases the time required to fit the model."
   ]
  },
  {
   "cell_type": "code",
   "execution_count": 21,
   "metadata": {},
   "outputs": [],
   "source": [
    "const f2 = @formula(RTtrunc ~ 1 + S*P*C + (1|subj) + (1|item));"
   ]
  },
  {
   "cell_type": "code",
   "execution_count": 22,
   "metadata": {},
   "outputs": [
    {
     "name": "stdout",
     "output_type": "stream",
     "text": [
      "  4.182 ms (6145 allocations: 1.67 MiB)\n"
     ]
    },
    {
     "data": {
      "text/plain": [
       "Linear mixed model fit by maximum likelihood\n",
       " RTtrunc ~ 1 + S + P + C + S & P + S & C + P & C + S & P & C + (1 | subj) + (1 | item)\n",
       "     logLik        -2 logLik          AIC             BIC       \n",
       " -1.44132195×10⁴  2.88264391×10⁴  2.88484391×10⁴  2.89088288×10⁴\n",
       "\n",
       "Variance components:\n",
       "            Variance   Std.Dev. \n",
       " subj      101993.015 319.36345\n",
       " item      131638.811 362.82063\n",
       " Residual  517261.888 719.20921\n",
       " Number of obs: 1790; levels of grouping factors: 56, 32\n",
       "\n",
       "  Fixed-effects parameters:\n",
       "                              Estimate Std.Error   z value P(>|z|)\n",
       "(Intercept)                    2180.66   78.8924    27.641  <1e-99\n",
       "S: new                         67.1689   16.9997   3.95119   <1e-4\n",
       "P: maintain                   -333.702   16.9997  -19.6299  <1e-85\n",
       "C: no                         -78.9525   16.9997  -4.64436   <1e-5\n",
       "S: new & P: maintain          -22.1173   16.9997  -1.30104  0.1932\n",
       "S: new & C: no                -18.7454   16.9997  -1.10269  0.2702\n",
       "P: maintain & C: no           -5.08292   16.9997 -0.299001  0.7649\n",
       "S: new & P: maintain & C: no  -23.9165   16.9997  -1.40688  0.1595\n"
      ]
     },
     "execution_count": 22,
     "metadata": {},
     "output_type": "execute_result"
    }
   ],
   "source": [
    "const m2 = @btime fit!(LinearMixedModel($f2, $kb07, $contrasts))"
   ]
  },
  {
   "cell_type": "markdown",
   "metadata": {},
   "source": [
    "(Notice that none of the interactions are statistically significant.)"
   ]
  },
  {
   "cell_type": "markdown",
   "metadata": {},
   "source": [
    "In this case, the increase in fitting time is more because the number of function evaluations to determine the optimum increases than because of increased evaluation time for the objective function."
   ]
  },
  {
   "cell_type": "code",
   "execution_count": 23,
   "metadata": {},
   "outputs": [
    {
     "data": {
      "text/plain": [
       "39"
      ]
     },
     "execution_count": 23,
     "metadata": {},
     "output_type": "execute_result"
    }
   ],
   "source": [
    "m2.optsum.feval"
   ]
  },
  {
   "cell_type": "code",
   "execution_count": 24,
   "metadata": {},
   "outputs": [],
   "source": [
    "const θ2 = m2.θ;"
   ]
  },
  {
   "cell_type": "code",
   "execution_count": 25,
   "metadata": {},
   "outputs": [
    {
     "name": "stdout",
     "output_type": "stream",
     "text": [
      "  47.051 μs (57 allocations: 1.42 KiB)\n"
     ]
    }
   ],
   "source": [
    "@btime objective(updateL!(setθ!($m2, $θ2)));"
   ]
  },
  {
   "cell_type": "markdown",
   "metadata": {},
   "source": [
    "### Increasing complexity of the random effects"
   ]
  },
  {
   "cell_type": "markdown",
   "metadata": {},
   "source": [
    "Another way in which the model can be extended is to switch to vector-valued random effects.\n",
    "Sometimes this is described as having _random slopes_, so that a subject not only brings their own shift in the typical response but also their own shift in the change due to, say, `Load` versus `No Load`.\n",
    "Instead of just one, scalar, change associated with each subject there is an entire vector of changes in the coefficients.\n",
    "\n",
    "A model with a random slopes for each of the experimental factors for both subject and item is specified as"
   ]
  },
  {
   "cell_type": "code",
   "execution_count": 26,
   "metadata": {},
   "outputs": [],
   "source": [
    "const f3 = @formula(RTtrunc ~ 1 + S*P*C + (1+S+P+C|subj) + (1+S+P+C|item));"
   ]
  },
  {
   "cell_type": "code",
   "execution_count": 27,
   "metadata": {},
   "outputs": [
    {
     "name": "stdout",
     "output_type": "stream",
     "text": [
      "  428.189 ms (642876 allocations: 27.64 MiB)\n"
     ]
    },
    {
     "data": {
      "text/plain": [
       "Linear mixed model fit by maximum likelihood\n",
       " RTtrunc ~ 1 + S + P + C + S & P + S & C + P & C + S & P & C + (1 + S + P + C | subj) + (1 + S + P + C | item)\n",
       "     logLik        -2 logLik          AIC             BIC       \n",
       " -1.43221551×10⁴  2.86443102×10⁴  2.87023102×10⁴  2.88615194×10⁴\n",
       "\n",
       "Variance components:\n",
       "             Variance   Std.Dev.    Corr.\n",
       " subj       91237.7942 302.055945\n",
       "             1943.2438  44.082239  0.77\n",
       "             3772.6955  61.422272 -0.58  0.04\n",
       "             4190.1286  64.731203 -0.35 -0.78 -0.54\n",
       " item      130618.3194 361.411565\n",
       "             1728.1976  41.571596  0.43\n",
       "            60908.7918 246.797066 -0.68  0.37\n",
       "             1892.7740  43.506022 -0.31 -0.19  0.16\n",
       " Residual  444339.3955 666.587875\n",
       " Number of obs: 1790; levels of grouping factors: 56, 32\n",
       "\n",
       "  Fixed-effects parameters:\n",
       "                              Estimate Std.Error   z value P(>|z|)\n",
       "(Intercept)                    2180.51   77.1967   28.2462  <1e-99\n",
       "S: new                         67.0753   18.3566   3.65402  0.0003\n",
       "P: maintain                   -333.796   47.1065  -7.08598  <1e-11\n",
       "C: no                         -79.0991   19.5507  -4.04585   <1e-4\n",
       "S: new & P: maintain          -22.2639   15.7562  -1.41303  0.1576\n",
       "S: new & C: no                 -18.839   15.7562  -1.19566  0.2318\n",
       "P: maintain & C: no           -5.17653   15.7562 -0.328539  0.7425\n",
       "S: new & P: maintain & C: no  -24.0632   15.7562  -1.52722  0.1267\n"
      ]
     },
     "execution_count": 27,
     "metadata": {},
     "output_type": "execute_result"
    }
   ],
   "source": [
    "const m3 = @btime fit!(LinearMixedModel($f3, $kb07, $contrasts))"
   ]
  },
  {
   "cell_type": "markdown",
   "metadata": {},
   "source": [
    "There are several interesting aspects of this model fit.\n",
    "\n",
    "First, the number of parameters optimized directly has increased substantially.\n",
    "What was previously a 2-dimensional optimization has now become 20 dimensional."
   ]
  },
  {
   "cell_type": "code",
   "execution_count": 28,
   "metadata": {},
   "outputs": [
    {
     "data": {
      "text/plain": [
       "Initial parameter vector: [1.0, 0.0, 0.0, 0.0, 1.0, 0.0, 0.0, 1.0, 0.0, 1.0, 1.0, 0.0, 0.0, 0.0, 1.0, 0.0, 0.0, 1.0, 0.0, 1.0]\n",
       "Initial objective value:  29309.04765501624\n",
       "\n",
       "Optimizer (from NLopt):   LN_BOBYQA\n",
       "Lower bounds:             [0.0, -Inf, -Inf, -Inf, 0.0, -Inf, -Inf, 0.0, -Inf, 0.0, 0.0, -Inf, -Inf, -Inf, 0.0, -Inf, -Inf, 0.0, -Inf, 0.0]\n",
       "ftol_rel:                 1.0e-12\n",
       "ftol_abs:                 1.0e-8\n",
       "xtol_rel:                 0.0\n",
       "xtol_abs:                 [1.0e-10, 1.0e-10, 1.0e-10, 1.0e-10, 1.0e-10, 1.0e-10, 1.0e-10, 1.0e-10, 1.0e-10, 1.0e-10, 1.0e-10, 1.0e-10, 1.0e-10, 1.0e-10, 1.0e-10, 1.0e-10, 1.0e-10, 1.0e-10, 1.0e-10, 1.0e-10]\n",
       "initial_step:             [0.75, 1.0, 1.0, 1.0, 0.75, 1.0, 1.0, 0.75, 1.0, 0.75, 0.75, 1.0, 1.0, 1.0, 0.75, 1.0, 1.0, 0.75, 1.0, 0.75]\n",
       "maxfeval:                 -1\n",
       "\n",
       "Function evaluations:     652\n",
       "Final parameter vector:   [0.453137, 0.0511007, -0.0536417, -0.0340426, 0.0419768, 0.0708832, -0.0785956, 0.0242634, -0.0457586, 0.0, 0.542181, 0.0265869, -0.252078, -0.0199587, 0.0564136, 0.271171, -0.00441279, 0.0, 0.0619658, 0.00147087]\n",
       "Final objective value:    28644.31020202708\n",
       "Return code:              FTOL_REACHED\n"
      ]
     },
     "execution_count": 28,
     "metadata": {},
     "output_type": "execute_result"
    }
   ],
   "source": [
    "m3.optsum"
   ]
  },
  {
   "cell_type": "markdown",
   "metadata": {},
   "source": [
    "and the number of function evaluations to convergence has gone from under 40 to over 650.\n",
    "\n",
    "The time required for each function evaluation has also increased considerably,"
   ]
  },
  {
   "cell_type": "code",
   "execution_count": 29,
   "metadata": {},
   "outputs": [],
   "source": [
    "const θ3 = m3.θ;"
   ]
  },
  {
   "cell_type": "code",
   "execution_count": 30,
   "metadata": {},
   "outputs": [
    {
     "name": "stdout",
     "output_type": "stream",
     "text": [
      "  586.845 μs (559 allocations: 29.98 KiB)\n"
     ]
    }
   ],
   "source": [
    "@btime objective(updateL!(setθ!($m3, $θ3)));"
   ]
  },
  {
   "cell_type": "markdown",
   "metadata": {},
   "source": [
    "resulting in much longer times for model fitting - about half a second for the \"best case\" on this machine."
   ]
  },
  {
   "cell_type": "markdown",
   "metadata": {},
   "source": [
    "Notice that the estimates of the fixed-effects coefficients and their standard errors have not changed substantially except for the standard error of `P` (_Precedent_), which is also the largest effect."
   ]
  },
  {
   "cell_type": "markdown",
   "metadata": {},
   "source": [
    "The parameters in the optimization for this model can be arranged as two lower-triangular 4 by 4 matrices."
   ]
  },
  {
   "cell_type": "code",
   "execution_count": 31,
   "metadata": {},
   "outputs": [
    {
     "data": {
      "text/plain": [
       "4×4 LinearAlgebra.LowerTriangular{Float64,Array{Float64,2}}:\n",
       "  0.453137     ⋅           ⋅          ⋅ \n",
       "  0.0511007   0.0419768    ⋅          ⋅ \n",
       " -0.0536417   0.0708832   0.0242634   ⋅ \n",
       " -0.0340426  -0.0785956  -0.0457586  0.0"
      ]
     },
     "execution_count": 31,
     "metadata": {},
     "output_type": "execute_result"
    }
   ],
   "source": [
    "m3.λ[1]"
   ]
  },
  {
   "cell_type": "code",
   "execution_count": 32,
   "metadata": {},
   "outputs": [
    {
     "data": {
      "text/plain": [
       "4×4 LinearAlgebra.LowerTriangular{Float64,Array{Float64,2}}:\n",
       "  0.542181     ⋅           ⋅          ⋅        \n",
       "  0.0265869   0.0564136    ⋅          ⋅        \n",
       " -0.252078    0.271171    0.0         ⋅        \n",
       " -0.0199587  -0.00441279  0.0619658  0.00147087"
      ]
     },
     "execution_count": 32,
     "metadata": {},
     "output_type": "execute_result"
    }
   ],
   "source": [
    "m3.λ[2]"
   ]
  },
  {
   "cell_type": "markdown",
   "metadata": {},
   "source": [
    "which generate the covariance matrices for the random effects.\n",
    "The cumulative proportion of the variance in the principal components of these covariance matrices, available as"
   ]
  },
  {
   "cell_type": "code",
   "execution_count": 33,
   "metadata": {},
   "outputs": [
    {
     "data": {
      "text/plain": [
       "2-element Array{Array{Float64,1},1}:\n",
       " [0.931288, 0.99812, 1.0, 1.0] \n",
       " [0.850728, 0.991272, 1.0, 1.0]"
      ]
     },
     "execution_count": 33,
     "metadata": {},
     "output_type": "execute_result"
    }
   ],
   "source": [
    "m3.rePCA"
   ]
  },
  {
   "cell_type": "markdown",
   "metadata": {},
   "source": [
    "show that 93% of the variation in the random effects for subject is in the first principal direction and 99% in the first two principal directions.\n",
    "The random effects for item also have 99% of the variation in the first two principal directions.\n",
    "\n",
    "Furthermore the estimates of the standard deviations of the \"slope\" random effects are much smaller than the those of the intercept random effects except for the `P` coefficient random effect for `item`, which suggests that the model could be reduced to `RTtrunc ~ 1 + S*P*C + (1|subj) + (1+P|item)` or even `RTtrunc ~ 1 + S+P+C + (1|subj) + (1+P|item)`."
   ]
  },
  {
   "cell_type": "code",
   "execution_count": 34,
   "metadata": {},
   "outputs": [],
   "source": [
    "const f4 = @formula(RTtrunc ~ 1 + S+P+C + (1|subj) + (1+P|item));"
   ]
  },
  {
   "cell_type": "code",
   "execution_count": 35,
   "metadata": {},
   "outputs": [
    {
     "name": "stdout",
     "output_type": "stream",
     "text": [
      "  15.097 ms (72732 allocations: 3.19 MiB)\n"
     ]
    },
    {
     "data": {
      "text/plain": [
       "Linear mixed model fit by maximum likelihood\n",
       " RTtrunc ~ 1 + S + P + C + (1 | subj) + (1 + P | item)\n",
       "     logLik        -2 logLik          AIC             BIC       \n",
       " -1.43356888×10⁴  2.86713775×10⁴  2.86893775×10⁴  2.87387873×10⁴\n",
       "\n",
       "Variance components:\n",
       "            Variance  Std.Dev.   Corr.\n",
       " item      132370.10 363.82702\n",
       "            63784.32 252.55558 -0.69\n",
       " subj       89087.40 298.47512\n",
       " Residual  460058.54 678.27615\n",
       " Number of obs: 1790; levels of grouping factors: 32, 56\n",
       "\n",
       "  Fixed-effects parameters:\n",
       "             Estimate Std.Error  z value P(>|z|)\n",
       "(Intercept)   2180.62   77.3592  28.1883  <1e-99\n",
       "S: new        67.1353   16.0323  4.18752   <1e-4\n",
       "P: maintain  -333.736   47.4373 -7.03531  <1e-11\n",
       "C: no         -78.992   16.0323 -4.92707   <1e-6\n"
      ]
     },
     "execution_count": 35,
     "metadata": {},
     "output_type": "execute_result"
    }
   ],
   "source": [
    "const m4 = @btime fit!(LinearMixedModel($f4, $kb07, $contrasts))"
   ]
  },
  {
   "cell_type": "code",
   "execution_count": 36,
   "metadata": {},
   "outputs": [
    {
     "data": {
      "text/plain": [
       "84"
      ]
     },
     "execution_count": 36,
     "metadata": {},
     "output_type": "execute_result"
    }
   ],
   "source": [
    "m4.optsum.feval"
   ]
  },
  {
   "cell_type": "code",
   "execution_count": 37,
   "metadata": {},
   "outputs": [],
   "source": [
    "const θ4 = m4.θ;"
   ]
  },
  {
   "cell_type": "code",
   "execution_count": 38,
   "metadata": {},
   "outputs": [
    {
     "name": "stdout",
     "output_type": "stream",
     "text": [
      "  134.884 μs (289 allocations: 14.30 KiB)\n"
     ]
    }
   ],
   "source": [
    "@btime objective(updateL!(setθ!($m4, $θ4)));"
   ]
  },
  {
   "cell_type": "markdown",
   "metadata": {},
   "source": [
    "These two model fits can be compared with one of the information criteria, `AIC` or `BIC`, for which \"smaller is better\".\n",
    "They both indicate a preference for the smaller model, `m4`.\n",
    "\n",
    "These criteria are values of the objective, negative twice the log-likelihood at convergence, plus a penalty that depends on the number of parameters being estimated.\n",
    "\n",
    "Because model `m4` is a special case of model `m3`, a likelihood ratio test could also be used.\n",
    "The alternative model, `m3`, will always produce an objective that is less than or equal to that from the null model, `m4`.\n",
    "The difference in these value is similar to the change in the residual sum of squares in a linear model fit.\n",
    "This objective would be called the _deviance_ if there was a way of defining a saturated model but it is not clear what this should be.\n",
    "However, if there was a way to define a deviance then the difference in the deviances would be the same as the differences in these objectives, which is"
   ]
  },
  {
   "cell_type": "code",
   "execution_count": 39,
   "metadata": {},
   "outputs": [
    {
     "data": {
      "text/plain": [
       "1-element Array{Float64,1}:\n",
       " 27.06734432979283"
      ]
     },
     "execution_count": 39,
     "metadata": {},
     "output_type": "execute_result"
    }
   ],
   "source": [
    "diff(objective.([m3, m4]))"
   ]
  },
  {
   "cell_type": "markdown",
   "metadata": {},
   "source": [
    "This difference is compared to a $\\chi^2$ distribution with degrees of freedom corresponding to the difference in the number of parameters"
   ]
  },
  {
   "cell_type": "code",
   "execution_count": 40,
   "metadata": {},
   "outputs": [
    {
     "data": {
      "text/plain": [
       "1-element Array{Int64,1}:\n",
       " 20"
      ]
     },
     "execution_count": 40,
     "metadata": {},
     "output_type": "execute_result"
    }
   ],
   "source": [
    "diff(dof.([m4, m3]))"
   ]
  },
  {
   "cell_type": "markdown",
   "metadata": {},
   "source": [
    "producing a p-value of"
   ]
  },
  {
   "cell_type": "code",
   "execution_count": 41,
   "metadata": {},
   "outputs": [
    {
     "data": {
      "text/plain": [
       "0.13337992341386884"
      ]
     },
     "execution_count": 41,
     "metadata": {},
     "output_type": "execute_result"
    }
   ],
   "source": [
    "ccdf(Chisq(20), first(diff(objective.([m3,m4]))))"
   ]
  },
  {
   "cell_type": "markdown",
   "metadata": {},
   "source": [
    "The \"maximal\" model as proposed by [_Barr et al., 2013_](https://www.sciencedirect.com/science/article/pii/S0749596X12001180) would include all possible interactions of experimental and grouping factors."
   ]
  },
  {
   "cell_type": "code",
   "execution_count": 42,
   "metadata": {},
   "outputs": [],
   "source": [
    "const f5 = @formula(RTtrunc ~ 1 + S*P*C + (1+S*P*C|subj) + (1+S*P*C|item));"
   ]
  },
  {
   "cell_type": "code",
   "execution_count": 43,
   "metadata": {},
   "outputs": [
    {
     "name": "stdout",
     "output_type": "stream",
     "text": [
      "  5.811 s (2119501 allocations: 84.31 MiB)\n"
     ]
    },
    {
     "data": {
      "text/plain": [
       "Linear mixed model fit by maximum likelihood\n",
       " RTtrunc ~ 1 + S + P + C + S & P + S & C + P & C + S & P & C + (1 + S + P + S & P + C + S & C + P & C + S & P & C | subj) + (1 + S + P + S & P + C + S & C + P & C + S & P & C | item)\n",
       "     logLik        -2 logLik          AIC             BIC       \n",
       " -1.42932007×10⁴  2.85864015×10⁴  2.87484015×10⁴  2.91930891×10⁴\n",
       "\n",
       "Variance components:\n",
       "             Variance   Std.Dev.    Corr.\n",
       " subj       90894.0712 301.486436\n",
       "             5190.5584  72.045530  0.44\n",
       "             5533.2105  74.385553 -0.47 -0.08\n",
       "             8833.4931  93.986665 -0.20 -0.76  0.54\n",
       "             7581.3253  87.070806 -0.21 -0.22 -0.40 -0.21\n",
       "             1823.0927  42.697689  0.47  0.52 -0.10 -0.29  0.44\n",
       "             7419.2475  86.135054  0.10  0.15  0.04 -0.05 -0.86 -0.70\n",
       "             3787.6012  61.543491 -0.47 -0.40 -0.39 -0.18  0.09 -0.78  0.39\n",
       " item      129831.5831 360.321500\n",
       "             1808.9438  42.531680  0.35\n",
       "            62341.0219 249.681841 -0.68  0.46\n",
       "             1027.2819  32.051239 -0.57 -0.71 -0.02\n",
       "             2951.4008  54.326796 -0.20 -0.02  0.18  0.02\n",
       "             1627.0796  40.337075  0.28  0.01 -0.27  0.21 -0.45\n",
       "             4671.1905  68.346108 -0.08 -0.36 -0.20 -0.25 -0.14 -0.01\n",
       "             4834.6499  69.531647  0.04  0.45  0.32 -0.66  0.68 -0.68  0.11\n",
       " Residual  399683.1157 632.204963\n",
       " Number of obs: 1790; levels of grouping factors: 56, 32\n",
       "\n",
       "  Fixed-effects parameters:\n",
       "                              Estimate Std.Error   z value P(>|z|)\n",
       "(Intercept)                    2180.62   76.8353   28.3805  <1e-99\n",
       "S: new                         66.9996   19.3012   3.47127  0.0005\n",
       "P: maintain                   -333.872   47.6475  -7.00712  <1e-11\n",
       "C: no                         -78.9903   21.2351   -3.7198  0.0002\n",
       "S: new & P: maintain          -22.1551   20.3264  -1.08997  0.2757\n",
       "S: new & C: no                -18.9146   17.5134  -1.08001  0.2801\n",
       "P: maintain & C: no            -5.2522   22.4004 -0.234469  0.8146\n",
       "S: new & P: maintain & C: no  -23.9543   21.0247  -1.13934  0.2546\n"
      ]
     },
     "execution_count": 43,
     "metadata": {},
     "output_type": "execute_result"
    }
   ],
   "source": [
    "const m5 = @btime fit!(LinearMixedModel($f5, $kb07, $contrasts))"
   ]
  },
  {
   "cell_type": "markdown",
   "metadata": {},
   "source": [
    "As is common in models with high-dimensional vector-valued random effects, the dominant part of the variation is in the first few principal components"
   ]
  },
  {
   "cell_type": "code",
   "execution_count": 44,
   "metadata": {},
   "outputs": [
    {
     "data": {
      "text/plain": [
       "2-element Array{Array{Float64,1},1}:\n",
       " [0.727627, 0.848094, 0.941177, 0.999999, 1.0, 1.0, 1.0, 1.0]\n",
       " [0.794573, 0.941298, 0.973902, 0.994767, 1.0, 1.0, 1.0, 1.0]"
      ]
     },
     "execution_count": 44,
     "metadata": {},
     "output_type": "execute_result"
    }
   ],
   "source": [
    "m5.rePCA"
   ]
  },
  {
   "cell_type": "markdown",
   "metadata": {},
   "source": [
    "For both the subjects and the items practically all the variation of these 8-dimensional random effects is in the first 4 principal components.\n",
    "\n",
    "The dimension of $\\theta$, the parameters in the optimization, increases considerably"
   ]
  },
  {
   "cell_type": "code",
   "execution_count": 46,
   "metadata": {},
   "outputs": [
    {
     "data": {
      "text/plain": [
       "72"
      ]
     },
     "execution_count": 46,
     "metadata": {},
     "output_type": "execute_result"
    }
   ],
   "source": [
    "const θ5 = m5.θ;\n",
    "length(θ5)"
   ]
  },
  {
   "cell_type": "markdown",
   "metadata": {},
   "source": [
    "Of these 72 parameters, 36 are estimated from variation between items, yet there are only 32 items.\n",
    "\n",
    "Because the dimension of the optimization problem has gotten much larger the number of function evaluations to convergence increases correspondingly."
   ]
  },
  {
   "cell_type": "code",
   "execution_count": 45,
   "metadata": {},
   "outputs": [
    {
     "data": {
      "text/plain": [
       "2016"
      ]
     },
     "execution_count": 45,
     "metadata": {},
     "output_type": "execute_result"
    }
   ],
   "source": [
    "m5.optsum.feval"
   ]
  },
  {
   "cell_type": "markdown",
   "metadata": {},
   "source": [
    "Also, each function evaluation requires more time"
   ]
  },
  {
   "cell_type": "code",
   "execution_count": 47,
   "metadata": {},
   "outputs": [
    {
     "name": "stdout",
     "output_type": "stream",
     "text": [
      "  2.259 ms (561 allocations: 30.02 KiB)\n"
     ]
    }
   ],
   "source": [
    "@btime objective(updateL!(setθ!($m5, $θ5)));"
   ]
  },
  {
   "cell_type": "markdown",
   "metadata": {},
   "source": [
    "almost all of which is for the call to `updateL!`."
   ]
  },
  {
   "cell_type": "code",
   "execution_count": 49,
   "metadata": {},
   "outputs": [
    {
     "name": "stdout",
     "output_type": "stream",
     "text": [
      "  2.235 ms (519 allocations: 28.88 KiB)\n"
     ]
    }
   ],
   "source": [
    "@btime updateL!($m5);"
   ]
  },
  {
   "cell_type": "markdown",
   "metadata": {},
   "source": [
    "## Summary"
   ]
  },
  {
   "cell_type": "markdown",
   "metadata": {},
   "source": [
    "Models `m1` to `m5` vary in the number of parameters and the goodness of fit"
   ]
  },
  {
   "cell_type": "code",
   "execution_count": 63,
   "metadata": {},
   "outputs": [
    {
     "data": {
      "text/html": [
       "<table class=\"data-frame\"><thead><tr><th></th><th>p</th><th>q1</th><th>n1</th><th>q2</th><th>n2</th><th>nθ</th><th>npar</th><th>nev</th><th>μsev</th><th>fit</th><th>deviance</th><th>AIC</th><th>AICc</th><th>BIC</th></tr><tr><th></th><th>Int64</th><th>Int64</th><th>Int64</th><th>Int64</th><th>Int64</th><th>Int64</th><th>Int64</th><th>Int64</th><th>Float64</th><th>Float64</th><th>Float64</th><th>Float64</th><th>Float64</th><th>Float64</th></tr></thead><tbody><p>5 rows × 14 columns</p><tr><th>1</th><td>4</td><td>1</td><td>56</td><td>1</td><td>32</td><td>2</td><td>7</td><td>21</td><td>41.255</td><td>0.002035</td><td>28831.4</td><td>28845.4</td><td>28845.5</td><td>28883.8</td></tr><tr><th>2</th><td>8</td><td>1</td><td>56</td><td>1</td><td>32</td><td>2</td><td>11</td><td>39</td><td>47.051</td><td>0.004182</td><td>28826.4</td><td>28848.4</td><td>28848.6</td><td>28908.8</td></tr><tr><th>3</th><td>8</td><td>4</td><td>56</td><td>4</td><td>32</td><td>20</td><td>29</td><td>652</td><td>586.845</td><td>0.428189</td><td>28644.3</td><td>28702.3</td><td>28703.3</td><td>28861.5</td></tr><tr><th>4</th><td>4</td><td>2</td><td>32</td><td>1</td><td>56</td><td>4</td><td>9</td><td>84</td><td>134.884</td><td>0.015097</td><td>28671.4</td><td>28689.4</td><td>28689.5</td><td>28738.8</td></tr><tr><th>5</th><td>8</td><td>8</td><td>56</td><td>8</td><td>32</td><td>72</td><td>81</td><td>2016</td><td>2259.0</td><td>5.811</td><td>28586.4</td><td>28748.4</td><td>28756.2</td><td>29193.1</td></tr></tbody></table>"
      ],
      "text/latex": [
       "\\begin{tabular}{r|cccccccccccccc}\n",
       "\t& p & q1 & n1 & q2 & n2 & nθ & npar & nev & μsev & fit & deviance & AIC & AICc & BIC\\\\\n",
       "\t\\hline\n",
       "\t& Int64 & Int64 & Int64 & Int64 & Int64 & Int64 & Int64 & Int64 & Float64 & Float64 & Float64 & Float64 & Float64 & Float64\\\\\n",
       "\t\\hline\n",
       "\t1 & 4 & 1 & 56 & 1 & 32 & 2 & 7 & 21 & 41.255 & 0.002035 & 28831.4 & 28845.4 & 28845.5 & 28883.8 \\\\\n",
       "\t2 & 8 & 1 & 56 & 1 & 32 & 2 & 11 & 39 & 47.051 & 0.004182 & 28826.4 & 28848.4 & 28848.6 & 28908.8 \\\\\n",
       "\t3 & 8 & 4 & 56 & 4 & 32 & 20 & 29 & 652 & 586.845 & 0.428189 & 28644.3 & 28702.3 & 28703.3 & 28861.5 \\\\\n",
       "\t4 & 4 & 2 & 32 & 1 & 56 & 4 & 9 & 84 & 134.884 & 0.015097 & 28671.4 & 28689.4 & 28689.5 & 28738.8 \\\\\n",
       "\t5 & 8 & 8 & 56 & 8 & 32 & 72 & 81 & 2016 & 2259.0 & 5.811 & 28586.4 & 28748.4 & 28756.2 & 29193.1 \\\\\n",
       "\\end{tabular}\n"
      ],
      "text/plain": [
       "5×14 DataFrame. Omitted printing of 6 columns\n",
       "│ Row │ p     │ q1    │ n1    │ q2    │ n2    │ nθ    │ npar  │ nev   │\n",
       "│     │ \u001b[90mInt64\u001b[39m │ \u001b[90mInt64\u001b[39m │ \u001b[90mInt64\u001b[39m │ \u001b[90mInt64\u001b[39m │ \u001b[90mInt64\u001b[39m │ \u001b[90mInt64\u001b[39m │ \u001b[90mInt64\u001b[39m │ \u001b[90mInt64\u001b[39m │\n",
       "├─────┼───────┼───────┼───────┼───────┼───────┼───────┼───────┼───────┤\n",
       "│ 1   │ 4     │ 1     │ 56    │ 1     │ 32    │ 2     │ 7     │ 21    │\n",
       "│ 2   │ 8     │ 1     │ 56    │ 1     │ 32    │ 2     │ 11    │ 39    │\n",
       "│ 3   │ 8     │ 4     │ 56    │ 4     │ 32    │ 20    │ 29    │ 652   │\n",
       "│ 4   │ 4     │ 2     │ 32    │ 1     │ 56    │ 4     │ 9     │ 84    │\n",
       "│ 5   │ 8     │ 8     │ 56    │ 8     │ 32    │ 72    │ 81    │ 2016  │"
      ]
     },
     "execution_count": 63,
     "metadata": {},
     "output_type": "execute_result"
    }
   ],
   "source": [
    "mods = [m1, m2, m3, m4, m5];\n",
    "nfe(m) = length(coef(m));\n",
    "nre1(m) = MixedModels.vsize(first(m.reterms));\n",
    "nlv1(m) = MixedModels.nlevs(first(m.reterms));\n",
    "nre2(m) = MixedModels.vsize(last(m.reterms));\n",
    "nlv2(m) = MixedModels.nlevs(last(m.reterms));\n",
    "nθ(m) = sum(MixedModels.nθ, m.reterms);\n",
    "nev = map(m -> m.optsum.feval, mods);\n",
    "μsev = [41.255, 47.051, 586.845, 134.884, 2259];\n",
    "fit = [0.002035, 0.004182, 0.428189, 0.015097, 5.811]\n",
    "sumry = DataFrame(p = nfe.(mods), q1 = nre1.(mods), n1 = nlv1.(mods),\n",
    "    q2 = nre2.(mods), n2 = nlv2.(mods), nθ = nθ.(mods),\n",
    "    npar = dof.(mods), nev = nev, μsev = μsev, \n",
    "    fit = fit, deviance = deviance.(mods),\n",
    "    AIC = aic.(mods), AICc = aicc.(mods), BIC = bic.(mods))"
   ]
  },
  {
   "cell_type": "markdown",
   "metadata": {},
   "source": [
    "In this table, `p` is the dimension of the fixed-effects vector, `q1` is the dimension of the random-effects for each of the `n1` levels of the first grouping factor while `q2` and `n2` are similar for the second grouping factor.\n",
    "`nθ` is the dimension of the parameter vector and `npar` is the total number of parameters being estimated, and is equal to `nθ + p + 1`.\n",
    "\n",
    "`nev` is the number of function evaluations to convergence.\n",
    "Because this number will depend on the number of parameters in the model and several other factors such as the setting of the convergence criteria, only its magnitude should be considered reproducible.\n",
    "`μsev` is the best-case time, in microseconds, per function evaluation and `fit` is the best-case time, in seconds, to fit the model.\n",
    "\n",
    "Finally the (uncorrected) deviance and the model-fit criteria are given.\n",
    "All the model-fit criteria are on a scale of \"smaller is better\" and all would select model 4 as \"best\"."
   ]
  },
  {
   "cell_type": "code",
   "execution_count": 60,
   "metadata": {},
   "outputs": [
    {
     "data": {
      "text/plain": [
       "(AIC = 4, AICc = 4, BIC = 4)"
      ]
     },
     "execution_count": 60,
     "metadata": {},
     "output_type": "execute_result"
    }
   ],
   "source": [
    "map(argmin, (AIC=sumry.AIC, AICc = sumry.AICc, BIC=sumry.BIC))"
   ]
  }
 ],
 "metadata": {
  "kernelspec": {
   "display_name": "Julia 1.1.0",
   "language": "julia",
   "name": "julia-1.1"
  },
  "language_info": {
   "file_extension": ".jl",
   "mimetype": "application/julia",
   "name": "julia",
   "version": "1.1.0"
  }
 },
 "nbformat": 4,
 "nbformat_minor": 2
}
