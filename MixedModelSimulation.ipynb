{
 "cells": [
  {
   "cell_type": "markdown",
   "metadata": {},
   "source": [
    "# Mixed-effects model simulation using MixedModels.jl"
   ]
  },
  {
   "cell_type": "markdown",
   "metadata": {},
   "source": [
    "A recent [paper](https://psyarxiv.com/xp5cy) by DeBruin and Barr describes the use of simulations to explote the formulation and interpretation of mixed-effects models, especially in cases of crossed random-effects terms.  They use the [`lme4`](https://github.com/lme4/lme4) package for [`R`](https://R-project.org) to illustrate how the model is constructed and to perform the simulations.\n",
    "\n",
    "`R` and `lme4` are wonderful for illustrating the concepts but not always the best for performing the simulations.  One of my purposes in creating the [`MixedModels`](https://github.com/dmbates/MixedModels.jl) package for [`Julia`](https://julialang.org) was to develop and implement data structures and algorithms that accelerate compute-intensive processes such as simulation of mixed-effects models.\n",
    "\n",
    "The purpose of this notebook is to show how the simulations can be performed in Julia quickly and with minimal adjustment from the R representation."
   ]
  },
  {
   "cell_type": "markdown",
   "metadata": {},
   "source": [
    "## Preparing the Julia environment"
   ]
  },
  {
   "cell_type": "markdown",
   "metadata": {},
   "source": [
    "Julia executables for different operating systems are available at the [download site](https://julialang.org/downloads/).  This notebook was prepared using Julia version 1.1.1 and the packages shown below."
   ]
  },
  {
   "cell_type": "code",
   "execution_count": 1,
   "metadata": {},
   "outputs": [
    {
     "name": "stdout",
     "output_type": "stream",
     "text": [
      "Julia Version 1.1.1\n",
      "Commit 55e36cc308 (2019-05-16 04:10 UTC)\n",
      "Platform Info:\n",
      "  OS: Linux (x86_64-pc-linux-gnu)\n",
      "  CPU: Intel(R) Core(TM) i5-3570 CPU @ 3.40GHz\n",
      "  WORD_SIZE: 64\n",
      "  LIBM: libopenlibm\n",
      "  LLVM: libLLVM-6.0.1 (ORCJIT, ivybridge)\n"
     ]
    }
   ],
   "source": [
    "# Attach packages from the standard library\n",
    "using InteractiveUtils, LinearAlgebra, Random, Statistics\n",
    "# Attach user-contributed packages (may need to Pkg.add these)\n",
    "using DataFrames, MixedModels, RData, StatsModels, StatsPlots\n",
    "# Check the version of Julia being used\n",
    "versioninfo()"
   ]
  },
  {
   "cell_type": "markdown",
   "metadata": {},
   "source": [
    "The simulations will be based on a model defined using a formula and a data frame such as shown in Table 2 of DeBruin and Barr's paper.  The easiest way for an R user to obtain such a data frame in Julia is to create it in R, using the methods described in that paper, and save it as, say, `data.RData`, which can be read in Julia using the `RData` package."
   ]
  },
  {
   "cell_type": "code",
   "execution_count": 2,
   "metadata": {},
   "outputs": [
    {
     "data": {
      "text/html": [
       "<table class=\"data-frame\"><thead><tr><th></th><th>subj_id</th><th>item_id</th><th>category</th><th>RT</th></tr><tr><th></th><th>String</th><th>String</th><th>String</th><th>Float64</th></tr></thead><tbody><p>5,000 rows × 4 columns</p><tr><th>1</th><td>S001</td><td>I01</td><td>ingroup</td><td>798.76</td></tr><tr><th>2</th><td>S001</td><td>I02</td><td>ingroup</td><td>800.02</td></tr><tr><th>3</th><td>S001</td><td>I03</td><td>ingroup</td><td>800.843</td></tr><tr><th>4</th><td>S001</td><td>I04</td><td>ingroup</td><td>800.143</td></tr><tr><th>5</th><td>S001</td><td>I05</td><td>ingroup</td><td>800.781</td></tr><tr><th>6</th><td>S001</td><td>I06</td><td>ingroup</td><td>799.472</td></tr><tr><th>7</th><td>S001</td><td>I07</td><td>ingroup</td><td>799.051</td></tr><tr><th>8</th><td>S001</td><td>I08</td><td>ingroup</td><td>799.584</td></tr><tr><th>9</th><td>S001</td><td>I09</td><td>ingroup</td><td>801.917</td></tr><tr><th>10</th><td>S001</td><td>I10</td><td>ingroup</td><td>798.339</td></tr><tr><th>11</th><td>S001</td><td>I11</td><td>ingroup</td><td>800.221</td></tr><tr><th>12</th><td>S001</td><td>I12</td><td>ingroup</td><td>799.701</td></tr><tr><th>13</th><td>S001</td><td>I13</td><td>ingroup</td><td>800.044</td></tr><tr><th>14</th><td>S001</td><td>I14</td><td>ingroup</td><td>799.906</td></tr><tr><th>15</th><td>S001</td><td>I15</td><td>ingroup</td><td>799.697</td></tr><tr><th>16</th><td>S001</td><td>I16</td><td>ingroup</td><td>799.318</td></tr><tr><th>17</th><td>S001</td><td>I17</td><td>ingroup</td><td>798.748</td></tr><tr><th>18</th><td>S001</td><td>I18</td><td>ingroup</td><td>799.089</td></tr><tr><th>19</th><td>S001</td><td>I19</td><td>ingroup</td><td>798.742</td></tr><tr><th>20</th><td>S001</td><td>I20</td><td>ingroup</td><td>801.326</td></tr><tr><th>21</th><td>S001</td><td>I21</td><td>ingroup</td><td>801.264</td></tr><tr><th>22</th><td>S001</td><td>I22</td><td>ingroup</td><td>799.85</td></tr><tr><th>23</th><td>S001</td><td>I23</td><td>ingroup</td><td>799.253</td></tr><tr><th>24</th><td>S001</td><td>I24</td><td>ingroup</td><td>799.586</td></tr><tr><th>25</th><td>S001</td><td>I25</td><td>ingroup</td><td>799.155</td></tr><tr><th>26</th><td>S001</td><td>I26</td><td>outgroup</td><td>799.412</td></tr><tr><th>27</th><td>S001</td><td>I27</td><td>outgroup</td><td>799.352</td></tr><tr><th>28</th><td>S001</td><td>I28</td><td>outgroup</td><td>799.644</td></tr><tr><th>29</th><td>S001</td><td>I29</td><td>outgroup</td><td>800.85</td></tr><tr><th>30</th><td>S001</td><td>I30</td><td>outgroup</td><td>798.959</td></tr><tr><th>&vellip;</th><td>&vellip;</td><td>&vellip;</td><td>&vellip;</td><td>&vellip;</td></tr></tbody></table>"
      ],
      "text/latex": [
       "\\begin{tabular}{r|cccc}\n",
       "\t& subj\\_id & item\\_id & category & RT\\\\\n",
       "\t\\hline\n",
       "\t& String & String & String & Float64\\\\\n",
       "\t\\hline\n",
       "\t1 & S001 & I01 & ingroup & 798.76 \\\\\n",
       "\t2 & S001 & I02 & ingroup & 800.02 \\\\\n",
       "\t3 & S001 & I03 & ingroup & 800.843 \\\\\n",
       "\t4 & S001 & I04 & ingroup & 800.143 \\\\\n",
       "\t5 & S001 & I05 & ingroup & 800.781 \\\\\n",
       "\t6 & S001 & I06 & ingroup & 799.472 \\\\\n",
       "\t7 & S001 & I07 & ingroup & 799.051 \\\\\n",
       "\t8 & S001 & I08 & ingroup & 799.584 \\\\\n",
       "\t9 & S001 & I09 & ingroup & 801.917 \\\\\n",
       "\t10 & S001 & I10 & ingroup & 798.339 \\\\\n",
       "\t11 & S001 & I11 & ingroup & 800.221 \\\\\n",
       "\t12 & S001 & I12 & ingroup & 799.701 \\\\\n",
       "\t13 & S001 & I13 & ingroup & 800.044 \\\\\n",
       "\t14 & S001 & I14 & ingroup & 799.906 \\\\\n",
       "\t15 & S001 & I15 & ingroup & 799.697 \\\\\n",
       "\t16 & S001 & I16 & ingroup & 799.318 \\\\\n",
       "\t17 & S001 & I17 & ingroup & 798.748 \\\\\n",
       "\t18 & S001 & I18 & ingroup & 799.089 \\\\\n",
       "\t19 & S001 & I19 & ingroup & 798.742 \\\\\n",
       "\t20 & S001 & I20 & ingroup & 801.326 \\\\\n",
       "\t21 & S001 & I21 & ingroup & 801.264 \\\\\n",
       "\t22 & S001 & I22 & ingroup & 799.85 \\\\\n",
       "\t23 & S001 & I23 & ingroup & 799.253 \\\\\n",
       "\t24 & S001 & I24 & ingroup & 799.586 \\\\\n",
       "\t25 & S001 & I25 & ingroup & 799.155 \\\\\n",
       "\t26 & S001 & I26 & outgroup & 799.412 \\\\\n",
       "\t27 & S001 & I27 & outgroup & 799.352 \\\\\n",
       "\t28 & S001 & I28 & outgroup & 799.644 \\\\\n",
       "\t29 & S001 & I29 & outgroup & 800.85 \\\\\n",
       "\t30 & S001 & I30 & outgroup & 798.959 \\\\\n",
       "\t$\\dots$ & $\\dots$ & $\\dots$ & $\\dots$ & $\\dots$ \\\\\n",
       "\\end{tabular}\n"
      ],
      "text/plain": [
       "5000×4 DataFrame\n",
       "│ Row  │ subj_id │ item_id │ category │ RT      │\n",
       "│      │ \u001b[90mString\u001b[39m  │ \u001b[90mString\u001b[39m  │ \u001b[90mString\u001b[39m   │ \u001b[90mFloat64\u001b[39m │\n",
       "├──────┼─────────┼─────────┼──────────┼─────────┤\n",
       "│ 1    │ S001    │ I01     │ ingroup  │ 798.76  │\n",
       "│ 2    │ S001    │ I02     │ ingroup  │ 800.02  │\n",
       "│ 3    │ S001    │ I03     │ ingroup  │ 800.843 │\n",
       "│ 4    │ S001    │ I04     │ ingroup  │ 800.143 │\n",
       "│ 5    │ S001    │ I05     │ ingroup  │ 800.781 │\n",
       "│ 6    │ S001    │ I06     │ ingroup  │ 799.472 │\n",
       "│ 7    │ S001    │ I07     │ ingroup  │ 799.051 │\n",
       "│ 8    │ S001    │ I08     │ ingroup  │ 799.584 │\n",
       "│ 9    │ S001    │ I09     │ ingroup  │ 801.917 │\n",
       "│ 10   │ S001    │ I10     │ ingroup  │ 798.339 │\n",
       "⋮\n",
       "│ 4990 │ S100    │ I40     │ outgroup │ 798.55  │\n",
       "│ 4991 │ S100    │ I41     │ outgroup │ 799.472 │\n",
       "│ 4992 │ S100    │ I42     │ outgroup │ 798.367 │\n",
       "│ 4993 │ S100    │ I43     │ outgroup │ 800.674 │\n",
       "│ 4994 │ S100    │ I44     │ outgroup │ 799.892 │\n",
       "│ 4995 │ S100    │ I45     │ outgroup │ 800.305 │\n",
       "│ 4996 │ S100    │ I46     │ outgroup │ 801.229 │\n",
       "│ 4997 │ S100    │ I47     │ outgroup │ 802.1   │\n",
       "│ 4998 │ S100    │ I48     │ outgroup │ 800.616 │\n",
       "│ 4999 │ S100    │ I49     │ outgroup │ 798.589 │\n",
       "│ 5000 │ S100    │ I50     │ outgroup │ 801.206 │"
      ]
     },
     "execution_count": 2,
     "metadata": {},
     "output_type": "execute_result"
    }
   ],
   "source": [
    "dat = load(\"data.RData\")[\"dat\"]"
   ]
  },
  {
   "cell_type": "code",
   "execution_count": 3,
   "metadata": {},
   "outputs": [
    {
     "data": {
      "text/html": [
       "<table class=\"data-frame\"><thead><tr><th></th><th>variable</th><th>mean</th><th>min</th><th>median</th><th>max</th><th>nunique</th><th>nmissing</th><th>eltype</th></tr><tr><th></th><th>Symbol</th><th>Union…</th><th>Any</th><th>Union…</th><th>Any</th><th>Union…</th><th>Nothing</th><th>DataType</th></tr></thead><tbody><p>4 rows × 8 columns</p><tr><th>1</th><td>subj_id</td><td></td><td>S001</td><td></td><td>S100</td><td>100</td><td></td><td>String</td></tr><tr><th>2</th><td>item_id</td><td></td><td>I01</td><td></td><td>I50</td><td>50</td><td></td><td>String</td></tr><tr><th>3</th><td>category</td><td></td><td>ingroup</td><td></td><td>outgroup</td><td>2</td><td></td><td>String</td></tr><tr><th>4</th><td>RT</td><td>799.971</td><td>796.716</td><td>799.97</td><td>803.884</td><td></td><td></td><td>Float64</td></tr></tbody></table>"
      ],
      "text/latex": [
       "\\begin{tabular}{r|cccccccc}\n",
       "\t& variable & mean & min & median & max & nunique & nmissing & eltype\\\\\n",
       "\t\\hline\n",
       "\t& Symbol & Union… & Any & Union… & Any & Union… & Nothing & DataType\\\\\n",
       "\t\\hline\n",
       "\t1 & subj\\_id &  & S001 &  & S100 & 100 &  & String \\\\\n",
       "\t2 & item\\_id &  & I01 &  & I50 & 50 &  & String \\\\\n",
       "\t3 & category &  & ingroup &  & outgroup & 2 &  & String \\\\\n",
       "\t4 & RT & 799.971 & 796.716 & 799.97 & 803.884 &  &  & Float64 \\\\\n",
       "\\end{tabular}\n"
      ],
      "text/plain": [
       "4×8 DataFrame. Omitted printing of 1 columns\n",
       "│ Row │ variable │ mean    │ min     │ median │ max      │ nunique │ nmissing │\n",
       "│     │ \u001b[90mSymbol\u001b[39m   │ \u001b[90mUnion…\u001b[39m  │ \u001b[90mAny\u001b[39m     │ \u001b[90mUnion…\u001b[39m │ \u001b[90mAny\u001b[39m      │ \u001b[90mUnion…\u001b[39m  │ \u001b[90mNothing\u001b[39m  │\n",
       "├─────┼──────────┼─────────┼─────────┼────────┼──────────┼─────────┼──────────┤\n",
       "│ 1   │ subj_id  │         │ S001    │        │ S100     │ 100     │          │\n",
       "│ 2   │ item_id  │         │ I01     │        │ I50      │ 50      │          │\n",
       "│ 3   │ category │         │ ingroup │        │ outgroup │ 2       │          │\n",
       "│ 4   │ RT       │ 799.971 │ 796.716 │ 799.97 │ 803.884  │         │          │"
      ]
     },
     "execution_count": 3,
     "metadata": {},
     "output_type": "execute_result"
    }
   ],
   "source": [
    "describe(dat)"
   ]
  },
  {
   "cell_type": "markdown",
   "metadata": {},
   "source": [
    "The values of the response, `RT`, are arbitrary.  They need to be present in the data frame to construct the model but are not used in the simulation.  "
   ]
  },
  {
   "cell_type": "markdown",
   "metadata": {},
   "source": [
    "## Creating a LinearMixedModel object"
   ]
  },
  {
   "cell_type": "markdown",
   "metadata": {},
   "source": [
    "A mixed-effects model formula in Julia is similar to one in R but must be enclosed in a call to the `@formula` macro.  The formula for the model to be considered is"
   ]
  },
  {
   "cell_type": "code",
   "execution_count": 4,
   "metadata": {},
   "outputs": [],
   "source": [
    "f1 = @formula(RT ~ 1 + category + (1+category|subj_id) + (1|item_id));"
   ]
  },
  {
   "cell_type": "markdown",
   "metadata": {},
   "source": [
    "One issue to be resolved is the numerical coding of the `category` variable.  DeBruin and Barr used a $\\pm0.5$ encoding. Statisticians, such as I, prefer a $\\pm 1$ encoding which is generated by the \"Helmert\" or the \"Effects\" contrasts for a two-level factor.  Coding of categorical covariates is specified as a *dictionary* of key-value pairs in the call to create a `LinearMixedModel` object. Without going into too many details, the name of the column is given as a *symbol*, like `:cateegory`, and the generator for the coding as a function call, like `EffectsCoding()`.  The `=>` operator creates a key-value pair."
   ]
  },
  {
   "cell_type": "code",
   "execution_count": 5,
   "metadata": {},
   "outputs": [],
   "source": [
    "m1 = LinearMixedModel(f1, dat, Dict(:category => EffectsCoding()));"
   ]
  },
  {
   "cell_type": "markdown",
   "metadata": {},
   "source": [
    "Just to check that the coding occurred as expected, the model matrix for the fixed-effects parameters is"
   ]
  },
  {
   "cell_type": "code",
   "execution_count": 6,
   "metadata": {},
   "outputs": [
    {
     "data": {
      "text/plain": [
       "5000×2 Array{Float64,2}:\n",
       " 1.0  -1.0\n",
       " 1.0  -1.0\n",
       " 1.0  -1.0\n",
       " 1.0  -1.0\n",
       " 1.0  -1.0\n",
       " 1.0  -1.0\n",
       " 1.0  -1.0\n",
       " 1.0  -1.0\n",
       " 1.0  -1.0\n",
       " 1.0  -1.0\n",
       " 1.0  -1.0\n",
       " 1.0  -1.0\n",
       " 1.0  -1.0\n",
       " ⋮        \n",
       " 1.0   1.0\n",
       " 1.0   1.0\n",
       " 1.0   1.0\n",
       " 1.0   1.0\n",
       " 1.0   1.0\n",
       " 1.0   1.0\n",
       " 1.0   1.0\n",
       " 1.0   1.0\n",
       " 1.0   1.0\n",
       " 1.0   1.0\n",
       " 1.0   1.0\n",
       " 1.0   1.0"
      ]
     },
     "execution_count": 6,
     "metadata": {},
     "output_type": "execute_result"
    }
   ],
   "source": [
    "m1.X"
   ]
  },
  {
   "cell_type": "markdown",
   "metadata": {},
   "source": [
    "and that for the subject-specific random effects is"
   ]
  },
  {
   "cell_type": "code",
   "execution_count": 7,
   "metadata": {},
   "outputs": [
    {
     "data": {
      "text/plain": [
       "5000×200 ReMat{Float64,2}:\n",
       " 1.0  -1.0  0.0  0.0  0.0  0.0  0.0  …  0.0  0.0  0.0  0.0  0.0  0.0  0.0\n",
       " 1.0  -1.0  0.0  0.0  0.0  0.0  0.0     0.0  0.0  0.0  0.0  0.0  0.0  0.0\n",
       " 1.0  -1.0  0.0  0.0  0.0  0.0  0.0     0.0  0.0  0.0  0.0  0.0  0.0  0.0\n",
       " 1.0  -1.0  0.0  0.0  0.0  0.0  0.0     0.0  0.0  0.0  0.0  0.0  0.0  0.0\n",
       " 1.0  -1.0  0.0  0.0  0.0  0.0  0.0     0.0  0.0  0.0  0.0  0.0  0.0  0.0\n",
       " 1.0  -1.0  0.0  0.0  0.0  0.0  0.0  …  0.0  0.0  0.0  0.0  0.0  0.0  0.0\n",
       " 1.0  -1.0  0.0  0.0  0.0  0.0  0.0     0.0  0.0  0.0  0.0  0.0  0.0  0.0\n",
       " 1.0  -1.0  0.0  0.0  0.0  0.0  0.0     0.0  0.0  0.0  0.0  0.0  0.0  0.0\n",
       " 1.0  -1.0  0.0  0.0  0.0  0.0  0.0     0.0  0.0  0.0  0.0  0.0  0.0  0.0\n",
       " 1.0  -1.0  0.0  0.0  0.0  0.0  0.0     0.0  0.0  0.0  0.0  0.0  0.0  0.0\n",
       " 1.0  -1.0  0.0  0.0  0.0  0.0  0.0  …  0.0  0.0  0.0  0.0  0.0  0.0  0.0\n",
       " 1.0  -1.0  0.0  0.0  0.0  0.0  0.0     0.0  0.0  0.0  0.0  0.0  0.0  0.0\n",
       " 1.0  -1.0  0.0  0.0  0.0  0.0  0.0     0.0  0.0  0.0  0.0  0.0  0.0  0.0\n",
       " ⋮                         ⋮         ⋱            ⋮                      \n",
       " 0.0   0.0  0.0  0.0  0.0  0.0  0.0     0.0  0.0  0.0  0.0  0.0  1.0  1.0\n",
       " 0.0   0.0  0.0  0.0  0.0  0.0  0.0     0.0  0.0  0.0  0.0  0.0  1.0  1.0\n",
       " 0.0   0.0  0.0  0.0  0.0  0.0  0.0  …  0.0  0.0  0.0  0.0  0.0  1.0  1.0\n",
       " 0.0   0.0  0.0  0.0  0.0  0.0  0.0     0.0  0.0  0.0  0.0  0.0  1.0  1.0\n",
       " 0.0   0.0  0.0  0.0  0.0  0.0  0.0     0.0  0.0  0.0  0.0  0.0  1.0  1.0\n",
       " 0.0   0.0  0.0  0.0  0.0  0.0  0.0     0.0  0.0  0.0  0.0  0.0  1.0  1.0\n",
       " 0.0   0.0  0.0  0.0  0.0  0.0  0.0     0.0  0.0  0.0  0.0  0.0  1.0  1.0\n",
       " 0.0   0.0  0.0  0.0  0.0  0.0  0.0  …  0.0  0.0  0.0  0.0  0.0  1.0  1.0\n",
       " 0.0   0.0  0.0  0.0  0.0  0.0  0.0     0.0  0.0  0.0  0.0  0.0  1.0  1.0\n",
       " 0.0   0.0  0.0  0.0  0.0  0.0  0.0     0.0  0.0  0.0  0.0  0.0  1.0  1.0\n",
       " 0.0   0.0  0.0  0.0  0.0  0.0  0.0     0.0  0.0  0.0  0.0  0.0  1.0  1.0\n",
       " 0.0   0.0  0.0  0.0  0.0  0.0  0.0     0.0  0.0  0.0  0.0  0.0  1.0  1.0"
      ]
     },
     "execution_count": 7,
     "metadata": {},
     "output_type": "execute_result"
    }
   ],
   "source": [
    "first(m1.reterms)"
   ]
  },
  {
   "cell_type": "markdown",
   "metadata": {},
   "source": [
    "(If you are concerned about the size of this matrix, don't worry - it is stored in a much more compact way.)"
   ]
  },
  {
   "cell_type": "markdown",
   "metadata": {},
   "source": [
    "### Specifying parameter values"
   ]
  },
  {
   "cell_type": "markdown",
   "metadata": {},
   "source": [
    "The fixed-effects parameter vector in DeBruine and Barr's formula is `[800.0, 50.0]` for the $\\pm 0.5$ coding, which corresponds to `[800.0, 25.0]` in the $\\pm 1$ coding.  It is written as $\\beta$. The standard deviation for the residual, written $\\sigma$, is `200.0`."
   ]
  },
  {
   "cell_type": "code",
   "execution_count": 8,
   "metadata": {},
   "outputs": [
    {
     "data": {
      "text/plain": [
       "2-element Array{Float64,1}:\n",
       " 800.0\n",
       "  25.0"
      ]
     },
     "execution_count": 8,
     "metadata": {},
     "output_type": "execute_result"
    }
   ],
   "source": [
    "β = [800.0; 25.0]"
   ]
  },
  {
   "cell_type": "code",
   "execution_count": 9,
   "metadata": {},
   "outputs": [
    {
     "data": {
      "text/plain": [
       "200.0"
      ]
     },
     "execution_count": 9,
     "metadata": {},
     "output_type": "execute_result"
    }
   ],
   "source": [
    "σ = 200.0"
   ]
  },
  {
   "cell_type": "markdown",
   "metadata": {},
   "source": [
    "The standard deviation of the by-subject intercept random-effects is `100.0` and the by-item intercept random-effects is `80.0`.  The standard deviation of the by-subject slope random effects is `40.0` in the $\\pm0.5$ coding or `20.0` in the $\\pm 1$ coding.  The within-subject correlation is `0.2`.\n",
    "\n",
    "Internally both the `lme4` and the `MixedModels` package use parameters derived from the *relative covariance factor* of the random effects distribution. In this case the correlation matrix for the random effects by subject is"
   ]
  },
  {
   "cell_type": "code",
   "execution_count": 10,
   "metadata": {},
   "outputs": [
    {
     "data": {
      "text/plain": [
       "2×2 Array{Float64,2}:\n",
       " 1.0  0.2\n",
       " 0.2  1.0"
      ]
     },
     "execution_count": 10,
     "metadata": {},
     "output_type": "execute_result"
    }
   ],
   "source": [
    "cormat = [1. 0.2; 0.2 1.]"
   ]
  },
  {
   "cell_type": "markdown",
   "metadata": {},
   "source": [
    "Combining this with the standard deviations produces the covariance matrix"
   ]
  },
  {
   "cell_type": "code",
   "execution_count": 11,
   "metadata": {},
   "outputs": [
    {
     "data": {
      "text/plain": [
       "2×2 Array{Float64,2}:\n",
       " 10000.0  400.0\n",
       "   400.0  400.0"
      ]
     },
     "execution_count": 11,
     "metadata": {},
     "output_type": "execute_result"
    }
   ],
   "source": [
    "covmat = Diagonal([100.; 20.]) * cormat * Diagonal([100.; 20.])"
   ]
  },
  {
   "cell_type": "markdown",
   "metadata": {},
   "source": [
    "The covariance factor is the lower Cholesky factor of this positive definite symmetric matrix"
   ]
  },
  {
   "cell_type": "code",
   "execution_count": 12,
   "metadata": {},
   "outputs": [
    {
     "data": {
      "text/plain": [
       "2×2 LowerTriangular{Float64,Array{Float64,2}}:\n",
       " 100.0    ⋅    \n",
       "   4.0  19.5959"
      ]
     },
     "execution_count": 12,
     "metadata": {},
     "output_type": "execute_result"
    }
   ],
   "source": [
    "covfac = cholesky(covmat).L"
   ]
  },
  {
   "cell_type": "markdown",
   "metadata": {},
   "source": [
    "The relative covariance factor is `covfac/σ`"
   ]
  },
  {
   "cell_type": "code",
   "execution_count": 13,
   "metadata": {},
   "outputs": [
    {
     "data": {
      "text/plain": [
       "2×2 LowerTriangular{Float64,Array{Float64,2}}:\n",
       " 0.5    ⋅       \n",
       " 0.02  0.0979796"
      ]
     },
     "execution_count": 13,
     "metadata": {},
     "output_type": "execute_result"
    }
   ],
   "source": [
    "Λ = covfac ./ σ"
   ]
  },
  {
   "cell_type": "markdown",
   "metadata": {},
   "source": [
    "leading to a covariance parameter vector for the subject-specific random effects of"
   ]
  },
  {
   "cell_type": "code",
   "execution_count": 14,
   "metadata": {},
   "outputs": [
    {
     "data": {
      "text/plain": [
       "3-element Array{Float64,1}:\n",
       " 0.5                \n",
       " 0.02               \n",
       " 0.09797958971132711"
      ]
     },
     "execution_count": 14,
     "metadata": {},
     "output_type": "execute_result"
    }
   ],
   "source": [
    "θ = Λ[[1,2,4]]"
   ]
  },
  {
   "cell_type": "markdown",
   "metadata": {},
   "source": [
    "For the item-specific random effects the relative covariance factor is simply the ratio of the standard deviation of the intercepts to σ.  This is appended to the current "
   ]
  },
  {
   "cell_type": "code",
   "execution_count": 15,
   "metadata": {},
   "outputs": [
    {
     "data": {
      "text/plain": [
       "4-element Array{Float64,1}:\n",
       " 0.5                \n",
       " 0.02               \n",
       " 0.09797958971132711\n",
       " 0.4                "
      ]
     },
     "execution_count": 15,
     "metadata": {},
     "output_type": "execute_result"
    }
   ],
   "source": [
    "push!(θ, 80.0/200.0)"
   ]
  },
  {
   "cell_type": "markdown",
   "metadata": {},
   "source": [
    "Simulation of a response vector and fitting the model to that vector is performed as"
   ]
  },
  {
   "cell_type": "code",
   "execution_count": 16,
   "metadata": {},
   "outputs": [
    {
     "data": {
      "text/plain": [
       "Linear mixed model fit by maximum likelihood\n",
       " RT ~ 1 + category + (1 + category | subj_id) + (1 | item_id)\n",
       "     logLik        -2 logLik          AIC             BIC       \n",
       " -3.38407253×10⁴  6.76814506×10⁴  6.76954506×10⁴  6.77410709×10⁴\n",
       "\n",
       "Variance components:\n",
       "                 Column         Variance   Std.Dev.    Corr.\n",
       " subj_id  (Intercept)          8301.70025  91.113667\n",
       "          category: outgroup    289.67972  17.019980  0.14\n",
       " item_id  (Intercept)          6566.69818  81.035166\n",
       " Residual                     40790.96882 201.967742\n",
       " Number of obs: 5000; levels of grouping factors: 100, 50\n",
       "\n",
       "  Fixed-effects parameters:\n",
       "──────────────────────────────────────────────────────────\n",
       "                    Estimate  Std.Error   z value  P(>|z|)\n",
       "──────────────────────────────────────────────────────────\n",
       "(Intercept)         816.44      14.9167  54.7331    <1e-99\n",
       "category: outgroup   37.1347    11.9327   3.11201   0.0019\n",
       "──────────────────────────────────────────────────────────"
      ]
     },
     "execution_count": 16,
     "metadata": {},
     "output_type": "execute_result"
    }
   ],
   "source": [
    "refit!(simulate!(m1, β=β, σ=σ, θ=θ))"
   ]
  },
  {
   "cell_type": "markdown",
   "metadata": {},
   "source": [
    "A Julia convention is to append `!` to the names of *mutating* functions, which can change the value of one or more of the functions arguments.  Typically it is the first argument that is changed.  That is, the call to `push!` modifies `θ` and the call to `simulate!` modifies and returns `m1` which is then further modified by the call to `refit!`."
   ]
  },
  {
   "cell_type": "markdown",
   "metadata": {},
   "source": [
    "## Simulating the distribution of an estimator"
   ]
  },
  {
   "cell_type": "markdown",
   "metadata": {},
   "source": [
    "The focus of this simulation is the estimate of the effect of category."
   ]
  },
  {
   "cell_type": "code",
   "execution_count": 17,
   "metadata": {},
   "outputs": [
    {
     "data": {
      "text/plain": [
       "37.134667905555"
      ]
     },
     "execution_count": 17,
     "metadata": {},
     "output_type": "execute_result"
    }
   ],
   "source": [
    "last(m1.β)"
   ]
  },
  {
   "cell_type": "markdown",
   "metadata": {},
   "source": [
    "and its standard error"
   ]
  },
  {
   "cell_type": "code",
   "execution_count": 18,
   "metadata": {},
   "outputs": [
    {
     "data": {
      "text/plain": [
       "11.932684292413413"
      ]
     },
     "execution_count": 18,
     "metadata": {},
     "output_type": "execute_result"
    }
   ],
   "source": [
    "last(m1.stderror)"
   ]
  },
  {
   "cell_type": "markdown",
   "metadata": {},
   "source": [
    "It is useful to create a function to perform the simulation and store the values in a `DataFrame`.  For reproducibility we pass the random number generator initialized with a known seed."
   ]
  },
  {
   "cell_type": "code",
   "execution_count": 19,
   "metadata": {},
   "outputs": [
    {
     "data": {
      "text/plain": [
       "lmmSim! (generic function with 1 method)"
      ]
     },
     "execution_count": 19,
     "metadata": {},
     "output_type": "execute_result"
    }
   ],
   "source": [
    "function lmmSim!(m, rng, N, β, σ, θ)\n",
    "    b = similar(β, N)\n",
    "    se = similar(b)\n",
    "    for i in 1:N\n",
    "        refit!(simulate!(m, β=β, σ=σ, θ=θ))\n",
    "        b[i] = last(m.β)\n",
    "        se[i] = last(m.stderror)\n",
    "    end\n",
    "    DataFrame(estimate=b, stderr=se)\n",
    "end"
   ]
  },
  {
   "cell_type": "markdown",
   "metadata": {},
   "source": [
    "Just to check that it works as expected"
   ]
  },
  {
   "cell_type": "code",
   "execution_count": 20,
   "metadata": {},
   "outputs": [
    {
     "data": {
      "text/html": [
       "<table class=\"data-frame\"><thead><tr><th></th><th>estimate</th><th>stderr</th></tr><tr><th></th><th>Float64</th><th>Float64</th></tr></thead><tbody><p>10 rows × 2 columns</p><tr><th>1</th><td>52.3617</td><td>10.0055</td></tr><tr><th>2</th><td>29.1041</td><td>10.4875</td></tr><tr><th>3</th><td>35.5162</td><td>10.869</td></tr><tr><th>4</th><td>21.1009</td><td>11.7573</td></tr><tr><th>5</th><td>18.0655</td><td>11.7528</td></tr><tr><th>6</th><td>9.09064</td><td>10.748</td></tr><tr><th>7</th><td>2.05215</td><td>12.6805</td></tr><tr><th>8</th><td>14.3647</td><td>12.9878</td></tr><tr><th>9</th><td>37.8851</td><td>13.0451</td></tr><tr><th>10</th><td>43.1481</td><td>11.7467</td></tr></tbody></table>"
      ],
      "text/latex": [
       "\\begin{tabular}{r|cc}\n",
       "\t& estimate & stderr\\\\\n",
       "\t\\hline\n",
       "\t& Float64 & Float64\\\\\n",
       "\t\\hline\n",
       "\t1 & 52.3617 & 10.0055 \\\\\n",
       "\t2 & 29.1041 & 10.4875 \\\\\n",
       "\t3 & 35.5162 & 10.869 \\\\\n",
       "\t4 & 21.1009 & 11.7573 \\\\\n",
       "\t5 & 18.0655 & 11.7528 \\\\\n",
       "\t6 & 9.09064 & 10.748 \\\\\n",
       "\t7 & 2.05215 & 12.6805 \\\\\n",
       "\t8 & 14.3647 & 12.9878 \\\\\n",
       "\t9 & 37.8851 & 13.0451 \\\\\n",
       "\t10 & 43.1481 & 11.7467 \\\\\n",
       "\\end{tabular}\n"
      ],
      "text/plain": [
       "10×2 DataFrame\n",
       "│ Row │ estimate │ stderr  │\n",
       "│     │ \u001b[90mFloat64\u001b[39m  │ \u001b[90mFloat64\u001b[39m │\n",
       "├─────┼──────────┼─────────┤\n",
       "│ 1   │ 52.3617  │ 10.0055 │\n",
       "│ 2   │ 29.1041  │ 10.4875 │\n",
       "│ 3   │ 35.5162  │ 10.869  │\n",
       "│ 4   │ 21.1009  │ 11.7573 │\n",
       "│ 5   │ 18.0655  │ 11.7528 │\n",
       "│ 6   │ 9.09064  │ 10.748  │\n",
       "│ 7   │ 2.05215  │ 12.6805 │\n",
       "│ 8   │ 14.3647  │ 12.9878 │\n",
       "│ 9   │ 37.8851  │ 13.0451 │\n",
       "│ 10  │ 43.1481  │ 11.7467 │"
      ]
     },
     "execution_count": 20,
     "metadata": {},
     "output_type": "execute_result"
    }
   ],
   "source": [
    "rng = MersenneTwister(1234321)   # random number generator\n",
    "lmmSim!(m1, rng, 10, β, σ, θ)"
   ]
  },
  {
   "cell_type": "markdown",
   "metadata": {},
   "source": [
    "Now collect a larger sample"
   ]
  },
  {
   "cell_type": "code",
   "execution_count": 21,
   "metadata": {},
   "outputs": [
    {
     "name": "stdout",
     "output_type": "stream",
     "text": [
      "303.806155 seconds (644.81 M allocations: 32.730 GiB, 1.48% gc time)\n"
     ]
    }
   ],
   "source": [
    "sim = @time lmmSim!(m1, rng, 10000, β, σ, θ);"
   ]
  },
  {
   "cell_type": "code",
   "execution_count": 22,
   "metadata": {},
   "outputs": [
    {
     "data": {
      "image/svg+xml": [
       "<?xml version=\"1.0\" encoding=\"utf-8\"?>\n",
       "<svg xmlns=\"http://www.w3.org/2000/svg\" xmlns:xlink=\"http://www.w3.org/1999/xlink\" width=\"600\" height=\"400\" viewBox=\"0 0 2400 1600\">\n",
       "<defs>\n",
       "  <clipPath id=\"clip6400\">\n",
       "    <rect x=\"0\" y=\"0\" width=\"2400\" height=\"1600\"/>\n",
       "  </clipPath>\n",
       "</defs>\n",
       "<polygon clip-path=\"url(#clip6400)\" points=\"\n",
       "0,1600 2400,1600 2400,0 0,0 \n",
       "  \" fill=\"#ffffff\" fill-rule=\"evenodd\" fill-opacity=\"1\"/>\n",
       "<defs>\n",
       "  <clipPath id=\"clip6401\">\n",
       "    <rect x=\"480\" y=\"0\" width=\"1681\" height=\"1600\"/>\n",
       "  </clipPath>\n",
       "</defs>\n",
       "<polygon clip-path=\"url(#clip6400)\" points=\"\n",
       "180.66,1487.47 2352.76,1487.47 2352.76,47.2441 180.66,47.2441 \n",
       "  \" fill=\"#ffffff\" fill-rule=\"evenodd\" fill-opacity=\"1\"/>\n",
       "<defs>\n",
       "  <clipPath id=\"clip6402\">\n",
       "    <rect x=\"180\" y=\"47\" width=\"2173\" height=\"1441\"/>\n",
       "  </clipPath>\n",
       "</defs>\n",
       "<polyline clip-path=\"url(#clip6402)\" style=\"stroke:#000000; stroke-width:2; stroke-opacity:0.1; fill:none\" points=\"\n",
       "  441.792,1487.47 441.792,47.2441 \n",
       "  \"/>\n",
       "<polyline clip-path=\"url(#clip6402)\" style=\"stroke:#000000; stroke-width:2; stroke-opacity:0.1; fill:none\" points=\"\n",
       "  827.731,1487.47 827.731,47.2441 \n",
       "  \"/>\n",
       "<polyline clip-path=\"url(#clip6402)\" style=\"stroke:#000000; stroke-width:2; stroke-opacity:0.1; fill:none\" points=\"\n",
       "  1213.67,1487.47 1213.67,47.2441 \n",
       "  \"/>\n",
       "<polyline clip-path=\"url(#clip6402)\" style=\"stroke:#000000; stroke-width:2; stroke-opacity:0.1; fill:none\" points=\"\n",
       "  1599.61,1487.47 1599.61,47.2441 \n",
       "  \"/>\n",
       "<polyline clip-path=\"url(#clip6402)\" style=\"stroke:#000000; stroke-width:2; stroke-opacity:0.1; fill:none\" points=\"\n",
       "  1985.55,1487.47 1985.55,47.2441 \n",
       "  \"/>\n",
       "<polyline clip-path=\"url(#clip6402)\" style=\"stroke:#000000; stroke-width:2; stroke-opacity:0.1; fill:none\" points=\"\n",
       "  180.66,1446.71 2352.76,1446.71 \n",
       "  \"/>\n",
       "<polyline clip-path=\"url(#clip6402)\" style=\"stroke:#000000; stroke-width:2; stroke-opacity:0.1; fill:none\" points=\"\n",
       "  180.66,1030.2 2352.76,1030.2 \n",
       "  \"/>\n",
       "<polyline clip-path=\"url(#clip6402)\" style=\"stroke:#000000; stroke-width:2; stroke-opacity:0.1; fill:none\" points=\"\n",
       "  180.66,613.694 2352.76,613.694 \n",
       "  \"/>\n",
       "<polyline clip-path=\"url(#clip6402)\" style=\"stroke:#000000; stroke-width:2; stroke-opacity:0.1; fill:none\" points=\"\n",
       "  180.66,197.184 2352.76,197.184 \n",
       "  \"/>\n",
       "<polyline clip-path=\"url(#clip6400)\" style=\"stroke:#000000; stroke-width:4; stroke-opacity:1; fill:none\" points=\"\n",
       "  180.66,1487.47 2352.76,1487.47 \n",
       "  \"/>\n",
       "<polyline clip-path=\"url(#clip6400)\" style=\"stroke:#000000; stroke-width:4; stroke-opacity:1; fill:none\" points=\"\n",
       "  180.66,1487.47 180.66,47.2441 \n",
       "  \"/>\n",
       "<polyline clip-path=\"url(#clip6400)\" style=\"stroke:#000000; stroke-width:4; stroke-opacity:1; fill:none\" points=\"\n",
       "  441.792,1487.47 441.792,1465.87 \n",
       "  \"/>\n",
       "<polyline clip-path=\"url(#clip6400)\" style=\"stroke:#000000; stroke-width:4; stroke-opacity:1; fill:none\" points=\"\n",
       "  827.731,1487.47 827.731,1465.87 \n",
       "  \"/>\n",
       "<polyline clip-path=\"url(#clip6400)\" style=\"stroke:#000000; stroke-width:4; stroke-opacity:1; fill:none\" points=\"\n",
       "  1213.67,1487.47 1213.67,1465.87 \n",
       "  \"/>\n",
       "<polyline clip-path=\"url(#clip6400)\" style=\"stroke:#000000; stroke-width:4; stroke-opacity:1; fill:none\" points=\"\n",
       "  1599.61,1487.47 1599.61,1465.87 \n",
       "  \"/>\n",
       "<polyline clip-path=\"url(#clip6400)\" style=\"stroke:#000000; stroke-width:4; stroke-opacity:1; fill:none\" points=\"\n",
       "  1985.55,1487.47 1985.55,1465.87 \n",
       "  \"/>\n",
       "<polyline clip-path=\"url(#clip6400)\" style=\"stroke:#000000; stroke-width:4; stroke-opacity:1; fill:none\" points=\"\n",
       "  180.66,1446.71 213.242,1446.71 \n",
       "  \"/>\n",
       "<polyline clip-path=\"url(#clip6400)\" style=\"stroke:#000000; stroke-width:4; stroke-opacity:1; fill:none\" points=\"\n",
       "  180.66,1030.2 213.242,1030.2 \n",
       "  \"/>\n",
       "<polyline clip-path=\"url(#clip6400)\" style=\"stroke:#000000; stroke-width:4; stroke-opacity:1; fill:none\" points=\"\n",
       "  180.66,613.694 213.242,613.694 \n",
       "  \"/>\n",
       "<polyline clip-path=\"url(#clip6400)\" style=\"stroke:#000000; stroke-width:4; stroke-opacity:1; fill:none\" points=\"\n",
       "  180.66,197.184 213.242,197.184 \n",
       "  \"/>\n",
       "<g clip-path=\"url(#clip6400)\">\n",
       "<text style=\"fill:#000000; fill-opacity:1; font-family:Arial,Helvetica Neue,Helvetica,sans-serif; font-size:48px; text-anchor:middle;\" transform=\"rotate(0, 441.792, 1541.47)\" x=\"441.792\" y=\"1541.47\">-20</text>\n",
       "</g>\n",
       "<g clip-path=\"url(#clip6400)\">\n",
       "<text style=\"fill:#000000; fill-opacity:1; font-family:Arial,Helvetica Neue,Helvetica,sans-serif; font-size:48px; text-anchor:middle;\" transform=\"rotate(0, 827.731, 1541.47)\" x=\"827.731\" y=\"1541.47\">0</text>\n",
       "</g>\n",
       "<g clip-path=\"url(#clip6400)\">\n",
       "<text style=\"fill:#000000; fill-opacity:1; font-family:Arial,Helvetica Neue,Helvetica,sans-serif; font-size:48px; text-anchor:middle;\" transform=\"rotate(0, 1213.67, 1541.47)\" x=\"1213.67\" y=\"1541.47\">20</text>\n",
       "</g>\n",
       "<g clip-path=\"url(#clip6400)\">\n",
       "<text style=\"fill:#000000; fill-opacity:1; font-family:Arial,Helvetica Neue,Helvetica,sans-serif; font-size:48px; text-anchor:middle;\" transform=\"rotate(0, 1599.61, 1541.47)\" x=\"1599.61\" y=\"1541.47\">40</text>\n",
       "</g>\n",
       "<g clip-path=\"url(#clip6400)\">\n",
       "<text style=\"fill:#000000; fill-opacity:1; font-family:Arial,Helvetica Neue,Helvetica,sans-serif; font-size:48px; text-anchor:middle;\" transform=\"rotate(0, 1985.55, 1541.47)\" x=\"1985.55\" y=\"1541.47\">60</text>\n",
       "</g>\n",
       "<g clip-path=\"url(#clip6400)\">\n",
       "<text style=\"fill:#000000; fill-opacity:1; font-family:Arial,Helvetica Neue,Helvetica,sans-serif; font-size:48px; text-anchor:end;\" transform=\"rotate(0, 156.66, 1464.21)\" x=\"156.66\" y=\"1464.21\">0.00</text>\n",
       "</g>\n",
       "<g clip-path=\"url(#clip6400)\">\n",
       "<text style=\"fill:#000000; fill-opacity:1; font-family:Arial,Helvetica Neue,Helvetica,sans-serif; font-size:48px; text-anchor:end;\" transform=\"rotate(0, 156.66, 1047.7)\" x=\"156.66\" y=\"1047.7\">0.01</text>\n",
       "</g>\n",
       "<g clip-path=\"url(#clip6400)\">\n",
       "<text style=\"fill:#000000; fill-opacity:1; font-family:Arial,Helvetica Neue,Helvetica,sans-serif; font-size:48px; text-anchor:end;\" transform=\"rotate(0, 156.66, 631.194)\" x=\"156.66\" y=\"631.194\">0.02</text>\n",
       "</g>\n",
       "<g clip-path=\"url(#clip6400)\">\n",
       "<text style=\"fill:#000000; fill-opacity:1; font-family:Arial,Helvetica Neue,Helvetica,sans-serif; font-size:48px; text-anchor:end;\" transform=\"rotate(0, 156.66, 214.684)\" x=\"156.66\" y=\"214.684\">0.03</text>\n",
       "</g>\n",
       "<polyline clip-path=\"url(#clip6402)\" style=\"stroke:#009af9; stroke-width:4; stroke-opacity:1; fill:none\" points=\"\n",
       "  242.135,1446.71 252.432,1446.71 262.729,1446.71 273.026,1446.7 283.324,1446.68 293.621,1446.63 303.918,1446.54 314.215,1446.37 324.512,1446.09 334.81,1445.68 \n",
       "  345.107,1445.11 355.404,1444.43 365.701,1443.68 375.999,1442.97 386.296,1442.39 396.593,1442.03 406.89,1441.93 417.187,1442.09 427.485,1442.47 437.782,1442.96 \n",
       "  448.079,1443.44 458.376,1443.81 468.674,1443.99 478.971,1443.94 489.268,1443.71 499.565,1443.35 509.862,1442.94 520.16,1442.53 530.457,1442.12 540.754,1441.71 \n",
       "  551.051,1441.23 561.349,1440.63 571.646,1439.83 581.943,1438.79 592.24,1437.51 602.537,1435.98 612.835,1434.22 623.132,1432.24 633.429,1430.01 643.726,1427.46 \n",
       "  654.024,1424.54 664.321,1421.2 674.618,1417.42 684.915,1413.2 695.212,1408.58 705.51,1403.57 715.807,1398.22 726.104,1392.56 736.401,1386.61 746.698,1380.36 \n",
       "  756.996,1373.73 767.293,1366.61 777.59,1358.77 787.887,1349.92 798.185,1339.67 808.482,1327.56 818.779,1313.15 829.076,1296.07 839.373,1276.11 849.671,1253.39 \n",
       "  859.968,1228.42 870.265,1202.18 880.562,1176.02 890.86,1151.34 901.157,1129.18 911.454,1109.75 921.751,1092.23 932.048,1074.87 942.346,1055.47 952.643,1032.12 \n",
       "  962.94,1003.79 973.237,970.796 983.535,934.644 993.832,897.484 1004.13,861.333 1014.43,827.397 1024.72,795.744 1035.02,765.407 1045.32,734.81 1055.62,702.363 \n",
       "  1065.91,667.03 1076.21,628.7 1086.51,588.227 1096.8,547.145 1107.1,507.169 1117.4,469.69 1127.7,435.417 1137.99,404.254 1148.29,375.434 1158.59,347.86 \n",
       "  1168.88,320.567 1179.18,293.104 1189.48,265.652 1199.78,238.828 1210.07,213.294 1220.37,189.437 1230.67,167.327 1240.97,146.952 1251.26,128.552 1261.56,112.775 \n",
       "  1271.86,100.512 1282.15,92.4457 1292.45,88.5745 1302.75,88.0053 1313.05,89.2004 1323.34,90.596 1333.64,91.2966 1343.94,91.5005 1354.23,92.4739 1364.53,96.1251 \n",
       "  1374.83,104.395 1385.13,118.682 1395.42,139.435 1405.72,165.981 1416.02,196.62 1426.32,229.018 1436.61,260.838 1446.91,290.457 1457.21,317.487 1467.5,342.849 \n",
       "  1477.8,368.355 1488.1,395.94 1498.4,426.904 1508.69,461.462 1518.99,498.775 1529.29,537.393 1539.58,575.868 1549.88,613.285 1560.18,649.505 1570.48,685.07 \n",
       "  1580.77,720.837 1591.07,757.517 1601.37,795.335 1611.66,833.95 1621.96,872.633 1632.26,910.59 1642.56,947.206 1652.85,982.111 1663.15,1015.07 1673.45,1045.84 \n",
       "  1683.75,1074.1 1694.04,1099.62 1704.34,1122.37 1714.64,1142.69 1724.93,1161.3 1735.23,1179.05 1745.53,1196.65 1755.83,1214.46 1766.12,1232.46 1776.42,1250.31 \n",
       "  1786.72,1267.56 1797.01,1283.82 1807.31,1298.87 1817.61,1312.64 1827.91,1325.21 1838.2,1336.76 1848.5,1347.49 1858.8,1357.55 1869.1,1367.04 1879.39,1375.99 \n",
       "  1889.69,1384.41 1899.99,1392.3 1910.28,1399.67 1920.58,1406.53 1930.88,1412.83 1941.18,1418.45 1951.47,1423.24 1961.77,1427.08 1972.07,1429.94 1982.36,1431.9 \n",
       "  1992.66,1433.13 2002.96,1433.85 2013.26,1434.32 2023.55,1434.75 2033.85,1435.32 2044.15,1436.11 2054.45,1437.07 2064.74,1438.1 2075.04,1439.08 2085.34,1439.92 \n",
       "  2095.63,1440.6 2105.93,1441.16 2116.23,1441.67 2126.53,1442.19 2136.82,1442.75 2147.12,1443.35 2157.42,1443.97 2167.71,1444.59 2178.01,1445.15 2188.31,1445.63 \n",
       "  2198.61,1446.01 2208.9,1446.29 2219.2,1446.47 2229.5,1446.59 2239.8,1446.65 2250.09,1446.69 2260.39,1446.7 2270.69,1446.71 2280.98,1446.71 2291.28,1446.71 \n",
       "  \n",
       "  \"/>\n",
       "<polygon clip-path=\"url(#clip6400)\" points=\"\n",
       "1989.93,251.724 2280.76,251.724 2280.76,130.764 1989.93,130.764 \n",
       "  \" fill=\"#ffffff\" fill-rule=\"evenodd\" fill-opacity=\"1\"/>\n",
       "<polyline clip-path=\"url(#clip6400)\" style=\"stroke:#000000; stroke-width:4; stroke-opacity:1; fill:none\" points=\"\n",
       "  1989.93,251.724 2280.76,251.724 2280.76,130.764 1989.93,130.764 1989.93,251.724 \n",
       "  \"/>\n",
       "<polyline clip-path=\"url(#clip6400)\" style=\"stroke:#009af9; stroke-width:4; stroke-opacity:1; fill:none\" points=\"\n",
       "  2013.93,191.244 2157.93,191.244 \n",
       "  \"/>\n",
       "<g clip-path=\"url(#clip6400)\">\n",
       "<text style=\"fill:#000000; fill-opacity:1; font-family:Arial,Helvetica Neue,Helvetica,sans-serif; font-size:48px; text-anchor:start;\" transform=\"rotate(0, 2181.93, 208.744)\" x=\"2181.93\" y=\"208.744\">y1</text>\n",
       "</g>\n",
       "</svg>\n"
      ]
     },
     "execution_count": 22,
     "metadata": {},
     "output_type": "execute_result"
    }
   ],
   "source": [
    "@df sim density(:estimate)"
   ]
  },
  {
   "cell_type": "code",
   "execution_count": 23,
   "metadata": {},
   "outputs": [
    {
     "data": {
      "text/html": [
       "<table class=\"data-frame\"><thead><tr><th></th><th>variable</th><th>mean</th><th>min</th><th>median</th><th>max</th><th>nunique</th><th>nmissing</th><th>eltype</th></tr><tr><th></th><th>Symbol</th><th>Float64</th><th>Float64</th><th>Float64</th><th>Float64</th><th>Nothing</th><th>Nothing</th><th>DataType</th></tr></thead><tbody><p>2 rows × 8 columns</p><tr><th>1</th><td>estimate</td><td>25.1166</td><td>-23.5304</td><td>25.1465</td><td>69.0275</td><td></td><td></td><td>Float64</td></tr><tr><th>2</th><td>stderr</td><td>11.6072</td><td>7.70398</td><td>11.5805</td><td>16.1908</td><td></td><td></td><td>Float64</td></tr></tbody></table>"
      ],
      "text/latex": [
       "\\begin{tabular}{r|cccccccc}\n",
       "\t& variable & mean & min & median & max & nunique & nmissing & eltype\\\\\n",
       "\t\\hline\n",
       "\t& Symbol & Float64 & Float64 & Float64 & Float64 & Nothing & Nothing & DataType\\\\\n",
       "\t\\hline\n",
       "\t1 & estimate & 25.1166 & -23.5304 & 25.1465 & 69.0275 &  &  & Float64 \\\\\n",
       "\t2 & stderr & 11.6072 & 7.70398 & 11.5805 & 16.1908 &  &  & Float64 \\\\\n",
       "\\end{tabular}\n"
      ],
      "text/plain": [
       "2×8 DataFrame. Omitted printing of 1 columns\n",
       "│ Row │ variable │ mean    │ min      │ median  │ max     │ nunique │ nmissing │\n",
       "│     │ \u001b[90mSymbol\u001b[39m   │ \u001b[90mFloat64\u001b[39m │ \u001b[90mFloat64\u001b[39m  │ \u001b[90mFloat64\u001b[39m │ \u001b[90mFloat64\u001b[39m │ \u001b[90mNothing\u001b[39m │ \u001b[90mNothing\u001b[39m  │\n",
       "├─────┼──────────┼─────────┼──────────┼─────────┼─────────┼─────────┼──────────┤\n",
       "│ 1   │ estimate │ 25.1166 │ -23.5304 │ 25.1465 │ 69.0275 │         │          │\n",
       "│ 2   │ stderr   │ 11.6072 │ 7.70398  │ 11.5805 │ 16.1908 │         │          │"
      ]
     },
     "execution_count": 23,
     "metadata": {},
     "output_type": "execute_result"
    }
   ],
   "source": [
    "describe(sim)"
   ]
  },
  {
   "cell_type": "markdown",
   "metadata": {},
   "source": [
    "An empirical p-value for the one-sided test of $H_0:\\beta_1\\le0$ versus $H_a:\\beta_1>0$ is"
   ]
  },
  {
   "cell_type": "code",
   "execution_count": 24,
   "metadata": {},
   "outputs": [
    {
     "data": {
      "text/plain": [
       "0.0158"
      ]
     },
     "execution_count": 24,
     "metadata": {},
     "output_type": "execute_result"
    }
   ],
   "source": [
    "sum(x ≤ 0 for x in sim.estimate)/length(sim.estimate)"
   ]
  },
  {
   "cell_type": "markdown",
   "metadata": {},
   "source": [
    "## Confidence intervals"
   ]
  },
  {
   "cell_type": "markdown",
   "metadata": {},
   "source": [
    "The simulated sample from the estimator can be used to create empirical confidence intervals on the parameters.  Because the distribution of the estimate is relatively symmetric, it is reasonable to evaluate the bounds on a $1-\\alpha$ confidence interval as the $\\frac{\\alpha}{2}$ and $1-\\frac{\\alpha}{2}$ quantiles of the sample.  A 95% confidence interval evaluated in this way would be"
   ]
  },
  {
   "cell_type": "code",
   "execution_count": 25,
   "metadata": {},
   "outputs": [
    {
     "data": {
      "text/plain": [
       "2-element Array{Float64,1}:\n",
       "  2.149911837488085\n",
       " 48.37219081741177 "
      ]
     },
     "execution_count": 25,
     "metadata": {},
     "output_type": "execute_result"
    }
   ],
   "source": [
    "quantile(sim.estimate, [0.025, 0.975])"
   ]
  },
  {
   "cell_type": "markdown",
   "metadata": {},
   "source": [
    "An alternative, which can be useful for skewed but unimodal distributions, is to consider all the contiguous blocks of indices containing $1-\\alpha$ proportion of the sorted values and pick the one with the shortest distance between the end points.  This is similar to a *highest posterior density* interval in a Bayesian analysis."
   ]
  },
  {
   "cell_type": "code",
   "execution_count": 26,
   "metadata": {},
   "outputs": [
    {
     "data": {
      "text/plain": [
       "hpdinterval (generic function with 1 method)"
      ]
     },
     "execution_count": 26,
     "metadata": {},
     "output_type": "execute_result"
    }
   ],
   "source": [
    "function hpdinterval(samp, coverage)\n",
    "    sorted = sort(samp)\n",
    "    n = length(sorted)\n",
    "    k = round(Int, n * coverage)\n",
    "    minj = argmin([(sorted[j + k] - sorted[j]) for j in 1:(n-k)])\n",
    "    [sorted[minj], sorted[minj + k]]\n",
    "end\n",
    "        "
   ]
  },
  {
   "cell_type": "code",
   "execution_count": 27,
   "metadata": {},
   "outputs": [
    {
     "data": {
      "text/plain": [
       "2-element Array{Float64,1}:\n",
       "  2.2296495929604245\n",
       " 48.45062854829372  "
      ]
     },
     "execution_count": 27,
     "metadata": {},
     "output_type": "execute_result"
    }
   ],
   "source": [
    "hpdinterval(sim.estimate, 0.95)"
   ]
  },
  {
   "cell_type": "markdown",
   "metadata": {},
   "source": [
    "This is essentially the same as the interval from the equal-tail quantiles."
   ]
  }
 ],
 "metadata": {
  "kernelspec": {
   "display_name": "Julia 1.1.1",
   "language": "julia",
   "name": "julia-1.1"
  },
  "language_info": {
   "file_extension": ".jl",
   "mimetype": "application/julia",
   "name": "julia",
   "version": "1.1.1"
  }
 },
 "nbformat": 4,
 "nbformat_minor": 2
}
