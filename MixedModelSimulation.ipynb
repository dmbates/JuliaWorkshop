{
 "cells": [
  {
   "cell_type": "markdown",
   "metadata": {},
   "source": [
    "# Mixed-effects model simulation using MixedModels.jl"
   ]
  },
  {
   "cell_type": "markdown",
   "metadata": {},
   "source": [
    "A recent [paper](https://psyarxiv.com/xp5cy) by DeBruin and Barr describes the use of simulations to explote the formulation and interpretation of mixed-effects models, especially in cases of crossed random-effects terms.  They use the [`lme4`](https://github.com/lme4/lme4) package for [`R`](https://R-project.org) to illustrate how the model is constructed and to perform the simulations.\n",
    "\n",
    "`R` and `lme4` are wonderful for illustrating the concepts but not always the best for performing the simulations.  One of my purposes in creating the [`MixedModels`](https://github.com/dmbates/MixedModels.jl) package for [`Julia`](https://julialang.org) was to develop and implement data structures and algorithms that accelerate compute-intensive processes such as simulation of mixed-effects models.\n",
    "\n",
    "The purpose of this notebook is to show how the simulations can be performed in Julia quickly and with minimal adjustment from the R representation."
   ]
  },
  {
   "cell_type": "markdown",
   "metadata": {},
   "source": [
    "## Preparing the Julia environment"
   ]
  },
  {
   "cell_type": "markdown",
   "metadata": {},
   "source": [
    "Julia executables for different operating systems are available at the [download site](https://julialang.org/downloads/).  This notebook was prepared using Julia version 1.1.1 and the packages shown below."
   ]
  },
  {
   "cell_type": "code",
   "execution_count": 1,
   "metadata": {},
   "outputs": [
    {
     "name": "stdout",
     "output_type": "stream",
     "text": [
      "Julia Version 1.1.1\n",
      "Commit 55e36cc308 (2019-05-16 04:10 UTC)\n",
      "Platform Info:\n",
      "  OS: Linux (x86_64-pc-linux-gnu)\n",
      "  CPU: Intel(R) Core(TM) i5-3570 CPU @ 3.40GHz\n",
      "  WORD_SIZE: 64\n",
      "  LIBM: libopenlibm\n",
      "  LLVM: libLLVM-6.0.1 (ORCJIT, ivybridge)\n"
     ]
    }
   ],
   "source": [
    "using DataFrames, InteractiveUtils, LinearAlgebra, MixedModels, RData, StatsModels\n",
    "versioninfo()"
   ]
  },
  {
   "cell_type": "markdown",
   "metadata": {},
   "source": [
    "The simulations will be based on a model defined using a formula and a data frame such as shown in Table 2 of DeBruin and Barr's paper.  The easiest way for an R user to obtain such a data frame in Julia is to create it in R, using the methods described in that paper, and save it as, say, `data.RData`, which can be read in Julia using the `RData` package."
   ]
  },
  {
   "cell_type": "code",
   "execution_count": 2,
   "metadata": {},
   "outputs": [
    {
     "data": {
      "text/html": [
       "<table class=\"data-frame\"><thead><tr><th></th><th>subj_id</th><th>item_id</th><th>category</th><th>RT</th></tr><tr><th></th><th>String</th><th>String</th><th>String</th><th>Float64</th></tr></thead><tbody><p>5,000 rows × 4 columns</p><tr><th>1</th><td>S001</td><td>I01</td><td>ingroup</td><td>798.76</td></tr><tr><th>2</th><td>S001</td><td>I02</td><td>ingroup</td><td>800.02</td></tr><tr><th>3</th><td>S001</td><td>I03</td><td>ingroup</td><td>800.843</td></tr><tr><th>4</th><td>S001</td><td>I04</td><td>ingroup</td><td>800.143</td></tr><tr><th>5</th><td>S001</td><td>I05</td><td>ingroup</td><td>800.781</td></tr><tr><th>6</th><td>S001</td><td>I06</td><td>ingroup</td><td>799.472</td></tr><tr><th>7</th><td>S001</td><td>I07</td><td>ingroup</td><td>799.051</td></tr><tr><th>8</th><td>S001</td><td>I08</td><td>ingroup</td><td>799.584</td></tr><tr><th>9</th><td>S001</td><td>I09</td><td>ingroup</td><td>801.917</td></tr><tr><th>10</th><td>S001</td><td>I10</td><td>ingroup</td><td>798.339</td></tr><tr><th>11</th><td>S001</td><td>I11</td><td>ingroup</td><td>800.221</td></tr><tr><th>12</th><td>S001</td><td>I12</td><td>ingroup</td><td>799.701</td></tr><tr><th>13</th><td>S001</td><td>I13</td><td>ingroup</td><td>800.044</td></tr><tr><th>14</th><td>S001</td><td>I14</td><td>ingroup</td><td>799.906</td></tr><tr><th>15</th><td>S001</td><td>I15</td><td>ingroup</td><td>799.697</td></tr><tr><th>16</th><td>S001</td><td>I16</td><td>ingroup</td><td>799.318</td></tr><tr><th>17</th><td>S001</td><td>I17</td><td>ingroup</td><td>798.748</td></tr><tr><th>18</th><td>S001</td><td>I18</td><td>ingroup</td><td>799.089</td></tr><tr><th>19</th><td>S001</td><td>I19</td><td>ingroup</td><td>798.742</td></tr><tr><th>20</th><td>S001</td><td>I20</td><td>ingroup</td><td>801.326</td></tr><tr><th>21</th><td>S001</td><td>I21</td><td>ingroup</td><td>801.264</td></tr><tr><th>22</th><td>S001</td><td>I22</td><td>ingroup</td><td>799.85</td></tr><tr><th>23</th><td>S001</td><td>I23</td><td>ingroup</td><td>799.253</td></tr><tr><th>24</th><td>S001</td><td>I24</td><td>ingroup</td><td>799.586</td></tr><tr><th>25</th><td>S001</td><td>I25</td><td>ingroup</td><td>799.155</td></tr><tr><th>26</th><td>S001</td><td>I26</td><td>outgroup</td><td>799.412</td></tr><tr><th>27</th><td>S001</td><td>I27</td><td>outgroup</td><td>799.352</td></tr><tr><th>28</th><td>S001</td><td>I28</td><td>outgroup</td><td>799.644</td></tr><tr><th>29</th><td>S001</td><td>I29</td><td>outgroup</td><td>800.85</td></tr><tr><th>30</th><td>S001</td><td>I30</td><td>outgroup</td><td>798.959</td></tr><tr><th>&vellip;</th><td>&vellip;</td><td>&vellip;</td><td>&vellip;</td><td>&vellip;</td></tr></tbody></table>"
      ],
      "text/latex": [
       "\\begin{tabular}{r|cccc}\n",
       "\t& subj\\_id & item\\_id & category & RT\\\\\n",
       "\t\\hline\n",
       "\t& String & String & String & Float64\\\\\n",
       "\t\\hline\n",
       "\t1 & S001 & I01 & ingroup & 798.76 \\\\\n",
       "\t2 & S001 & I02 & ingroup & 800.02 \\\\\n",
       "\t3 & S001 & I03 & ingroup & 800.843 \\\\\n",
       "\t4 & S001 & I04 & ingroup & 800.143 \\\\\n",
       "\t5 & S001 & I05 & ingroup & 800.781 \\\\\n",
       "\t6 & S001 & I06 & ingroup & 799.472 \\\\\n",
       "\t7 & S001 & I07 & ingroup & 799.051 \\\\\n",
       "\t8 & S001 & I08 & ingroup & 799.584 \\\\\n",
       "\t9 & S001 & I09 & ingroup & 801.917 \\\\\n",
       "\t10 & S001 & I10 & ingroup & 798.339 \\\\\n",
       "\t11 & S001 & I11 & ingroup & 800.221 \\\\\n",
       "\t12 & S001 & I12 & ingroup & 799.701 \\\\\n",
       "\t13 & S001 & I13 & ingroup & 800.044 \\\\\n",
       "\t14 & S001 & I14 & ingroup & 799.906 \\\\\n",
       "\t15 & S001 & I15 & ingroup & 799.697 \\\\\n",
       "\t16 & S001 & I16 & ingroup & 799.318 \\\\\n",
       "\t17 & S001 & I17 & ingroup & 798.748 \\\\\n",
       "\t18 & S001 & I18 & ingroup & 799.089 \\\\\n",
       "\t19 & S001 & I19 & ingroup & 798.742 \\\\\n",
       "\t20 & S001 & I20 & ingroup & 801.326 \\\\\n",
       "\t21 & S001 & I21 & ingroup & 801.264 \\\\\n",
       "\t22 & S001 & I22 & ingroup & 799.85 \\\\\n",
       "\t23 & S001 & I23 & ingroup & 799.253 \\\\\n",
       "\t24 & S001 & I24 & ingroup & 799.586 \\\\\n",
       "\t25 & S001 & I25 & ingroup & 799.155 \\\\\n",
       "\t26 & S001 & I26 & outgroup & 799.412 \\\\\n",
       "\t27 & S001 & I27 & outgroup & 799.352 \\\\\n",
       "\t28 & S001 & I28 & outgroup & 799.644 \\\\\n",
       "\t29 & S001 & I29 & outgroup & 800.85 \\\\\n",
       "\t30 & S001 & I30 & outgroup & 798.959 \\\\\n",
       "\t$\\dots$ & $\\dots$ & $\\dots$ & $\\dots$ & $\\dots$ \\\\\n",
       "\\end{tabular}\n"
      ],
      "text/plain": [
       "5000×4 DataFrame\n",
       "│ Row  │ subj_id │ item_id │ category │ RT      │\n",
       "│      │ \u001b[90mString\u001b[39m  │ \u001b[90mString\u001b[39m  │ \u001b[90mString\u001b[39m   │ \u001b[90mFloat64\u001b[39m │\n",
       "├──────┼─────────┼─────────┼──────────┼─────────┤\n",
       "│ 1    │ S001    │ I01     │ ingroup  │ 798.76  │\n",
       "│ 2    │ S001    │ I02     │ ingroup  │ 800.02  │\n",
       "│ 3    │ S001    │ I03     │ ingroup  │ 800.843 │\n",
       "│ 4    │ S001    │ I04     │ ingroup  │ 800.143 │\n",
       "│ 5    │ S001    │ I05     │ ingroup  │ 800.781 │\n",
       "│ 6    │ S001    │ I06     │ ingroup  │ 799.472 │\n",
       "│ 7    │ S001    │ I07     │ ingroup  │ 799.051 │\n",
       "│ 8    │ S001    │ I08     │ ingroup  │ 799.584 │\n",
       "│ 9    │ S001    │ I09     │ ingroup  │ 801.917 │\n",
       "│ 10   │ S001    │ I10     │ ingroup  │ 798.339 │\n",
       "⋮\n",
       "│ 4990 │ S100    │ I40     │ outgroup │ 798.55  │\n",
       "│ 4991 │ S100    │ I41     │ outgroup │ 799.472 │\n",
       "│ 4992 │ S100    │ I42     │ outgroup │ 798.367 │\n",
       "│ 4993 │ S100    │ I43     │ outgroup │ 800.674 │\n",
       "│ 4994 │ S100    │ I44     │ outgroup │ 799.892 │\n",
       "│ 4995 │ S100    │ I45     │ outgroup │ 800.305 │\n",
       "│ 4996 │ S100    │ I46     │ outgroup │ 801.229 │\n",
       "│ 4997 │ S100    │ I47     │ outgroup │ 802.1   │\n",
       "│ 4998 │ S100    │ I48     │ outgroup │ 800.616 │\n",
       "│ 4999 │ S100    │ I49     │ outgroup │ 798.589 │\n",
       "│ 5000 │ S100    │ I50     │ outgroup │ 801.206 │"
      ]
     },
     "execution_count": 2,
     "metadata": {},
     "output_type": "execute_result"
    }
   ],
   "source": [
    "dat = load(\"data.RData\")[\"dat\"]"
   ]
  },
  {
   "cell_type": "code",
   "execution_count": 3,
   "metadata": {},
   "outputs": [
    {
     "data": {
      "text/html": [
       "<table class=\"data-frame\"><thead><tr><th></th><th>variable</th><th>mean</th><th>min</th><th>median</th><th>max</th><th>nunique</th><th>nmissing</th><th>eltype</th></tr><tr><th></th><th>Symbol</th><th>Union…</th><th>Any</th><th>Union…</th><th>Any</th><th>Union…</th><th>Nothing</th><th>DataType</th></tr></thead><tbody><p>4 rows × 8 columns</p><tr><th>1</th><td>subj_id</td><td></td><td>S001</td><td></td><td>S100</td><td>100</td><td></td><td>String</td></tr><tr><th>2</th><td>item_id</td><td></td><td>I01</td><td></td><td>I50</td><td>50</td><td></td><td>String</td></tr><tr><th>3</th><td>category</td><td></td><td>ingroup</td><td></td><td>outgroup</td><td>2</td><td></td><td>String</td></tr><tr><th>4</th><td>RT</td><td>799.971</td><td>796.716</td><td>799.97</td><td>803.884</td><td></td><td></td><td>Float64</td></tr></tbody></table>"
      ],
      "text/latex": [
       "\\begin{tabular}{r|cccccccc}\n",
       "\t& variable & mean & min & median & max & nunique & nmissing & eltype\\\\\n",
       "\t\\hline\n",
       "\t& Symbol & Union… & Any & Union… & Any & Union… & Nothing & DataType\\\\\n",
       "\t\\hline\n",
       "\t1 & subj\\_id &  & S001 &  & S100 & 100 &  & String \\\\\n",
       "\t2 & item\\_id &  & I01 &  & I50 & 50 &  & String \\\\\n",
       "\t3 & category &  & ingroup &  & outgroup & 2 &  & String \\\\\n",
       "\t4 & RT & 799.971 & 796.716 & 799.97 & 803.884 &  &  & Float64 \\\\\n",
       "\\end{tabular}\n"
      ],
      "text/plain": [
       "4×8 DataFrame. Omitted printing of 1 columns\n",
       "│ Row │ variable │ mean    │ min     │ median │ max      │ nunique │ nmissing │\n",
       "│     │ \u001b[90mSymbol\u001b[39m   │ \u001b[90mUnion…\u001b[39m  │ \u001b[90mAny\u001b[39m     │ \u001b[90mUnion…\u001b[39m │ \u001b[90mAny\u001b[39m      │ \u001b[90mUnion…\u001b[39m  │ \u001b[90mNothing\u001b[39m  │\n",
       "├─────┼──────────┼─────────┼─────────┼────────┼──────────┼─────────┼──────────┤\n",
       "│ 1   │ subj_id  │         │ S001    │        │ S100     │ 100     │          │\n",
       "│ 2   │ item_id  │         │ I01     │        │ I50      │ 50      │          │\n",
       "│ 3   │ category │         │ ingroup │        │ outgroup │ 2       │          │\n",
       "│ 4   │ RT       │ 799.971 │ 796.716 │ 799.97 │ 803.884  │         │          │"
      ]
     },
     "execution_count": 3,
     "metadata": {},
     "output_type": "execute_result"
    }
   ],
   "source": [
    "describe(dat)"
   ]
  },
  {
   "cell_type": "markdown",
   "metadata": {},
   "source": [
    "The values of the response, `RT`, are arbitrary.  They need to be present in the data frame to construct the model but are not used in the simulation.  "
   ]
  },
  {
   "cell_type": "markdown",
   "metadata": {},
   "source": [
    "## Creating a LinearMixedModel object"
   ]
  },
  {
   "cell_type": "markdown",
   "metadata": {},
   "source": [
    "A mixed-effects model formula in Julia is similar to one in R but must be enclosed in a call to the `@formula` macro.  The formula for the model to be considered is"
   ]
  },
  {
   "cell_type": "code",
   "execution_count": 4,
   "metadata": {},
   "outputs": [],
   "source": [
    "f1 = @formula(RT ~ 1 + category + (1+category|subj_id) + (1|item_id));"
   ]
  },
  {
   "cell_type": "markdown",
   "metadata": {},
   "source": [
    "One issue to be resolved is the numerical coding of the `category` variable.  DeBruin and Barr used a $\\pm0.5$ encoding. Statisticians, such as I, prefer a $\\pm 1$ encoding which is generated by the \"Helmert\" or the \"Effects\" contrasts for a two-level factor.  Coding of categorical covariates is specified as a *dictionary* of key-value pairs in the call to create a `LinearMixedModel` object. Without going into too many details, the name of the column is given as a *symbol*, like `:cateegory`, and the generator for the coding as a function call, like `EffectsCoding()`.  The `=>` operator creates a key-value pair."
   ]
  },
  {
   "cell_type": "code",
   "execution_count": 5,
   "metadata": {},
   "outputs": [],
   "source": [
    "m1 = LinearMixedModel(f1, dat, Dict(:category => EffectsCoding()));"
   ]
  },
  {
   "cell_type": "markdown",
   "metadata": {},
   "source": [
    "Just to check that the coding occurred as expected, the model matrix for the fixed-effects parameters is"
   ]
  },
  {
   "cell_type": "code",
   "execution_count": 6,
   "metadata": {},
   "outputs": [
    {
     "data": {
      "text/plain": [
       "5000×2 Array{Float64,2}:\n",
       " 1.0  -1.0\n",
       " 1.0  -1.0\n",
       " 1.0  -1.0\n",
       " 1.0  -1.0\n",
       " 1.0  -1.0\n",
       " 1.0  -1.0\n",
       " 1.0  -1.0\n",
       " 1.0  -1.0\n",
       " 1.0  -1.0\n",
       " 1.0  -1.0\n",
       " 1.0  -1.0\n",
       " 1.0  -1.0\n",
       " 1.0  -1.0\n",
       " ⋮        \n",
       " 1.0   1.0\n",
       " 1.0   1.0\n",
       " 1.0   1.0\n",
       " 1.0   1.0\n",
       " 1.0   1.0\n",
       " 1.0   1.0\n",
       " 1.0   1.0\n",
       " 1.0   1.0\n",
       " 1.0   1.0\n",
       " 1.0   1.0\n",
       " 1.0   1.0\n",
       " 1.0   1.0"
      ]
     },
     "execution_count": 6,
     "metadata": {},
     "output_type": "execute_result"
    }
   ],
   "source": [
    "m1.X"
   ]
  },
  {
   "cell_type": "markdown",
   "metadata": {},
   "source": [
    "and that for the subject-specific random effects is"
   ]
  },
  {
   "cell_type": "code",
   "execution_count": 7,
   "metadata": {},
   "outputs": [
    {
     "data": {
      "text/plain": [
       "5000×200 ReMat{Float64,2}:\n",
       " 1.0  -1.0  0.0  0.0  0.0  0.0  0.0  …  0.0  0.0  0.0  0.0  0.0  0.0  0.0\n",
       " 1.0  -1.0  0.0  0.0  0.0  0.0  0.0     0.0  0.0  0.0  0.0  0.0  0.0  0.0\n",
       " 1.0  -1.0  0.0  0.0  0.0  0.0  0.0     0.0  0.0  0.0  0.0  0.0  0.0  0.0\n",
       " 1.0  -1.0  0.0  0.0  0.0  0.0  0.0     0.0  0.0  0.0  0.0  0.0  0.0  0.0\n",
       " 1.0  -1.0  0.0  0.0  0.0  0.0  0.0     0.0  0.0  0.0  0.0  0.0  0.0  0.0\n",
       " 1.0  -1.0  0.0  0.0  0.0  0.0  0.0  …  0.0  0.0  0.0  0.0  0.0  0.0  0.0\n",
       " 1.0  -1.0  0.0  0.0  0.0  0.0  0.0     0.0  0.0  0.0  0.0  0.0  0.0  0.0\n",
       " 1.0  -1.0  0.0  0.0  0.0  0.0  0.0     0.0  0.0  0.0  0.0  0.0  0.0  0.0\n",
       " 1.0  -1.0  0.0  0.0  0.0  0.0  0.0     0.0  0.0  0.0  0.0  0.0  0.0  0.0\n",
       " 1.0  -1.0  0.0  0.0  0.0  0.0  0.0     0.0  0.0  0.0  0.0  0.0  0.0  0.0\n",
       " 1.0  -1.0  0.0  0.0  0.0  0.0  0.0  …  0.0  0.0  0.0  0.0  0.0  0.0  0.0\n",
       " 1.0  -1.0  0.0  0.0  0.0  0.0  0.0     0.0  0.0  0.0  0.0  0.0  0.0  0.0\n",
       " 1.0  -1.0  0.0  0.0  0.0  0.0  0.0     0.0  0.0  0.0  0.0  0.0  0.0  0.0\n",
       " ⋮                         ⋮         ⋱            ⋮                      \n",
       " 0.0   0.0  0.0  0.0  0.0  0.0  0.0     0.0  0.0  0.0  0.0  0.0  1.0  1.0\n",
       " 0.0   0.0  0.0  0.0  0.0  0.0  0.0     0.0  0.0  0.0  0.0  0.0  1.0  1.0\n",
       " 0.0   0.0  0.0  0.0  0.0  0.0  0.0  …  0.0  0.0  0.0  0.0  0.0  1.0  1.0\n",
       " 0.0   0.0  0.0  0.0  0.0  0.0  0.0     0.0  0.0  0.0  0.0  0.0  1.0  1.0\n",
       " 0.0   0.0  0.0  0.0  0.0  0.0  0.0     0.0  0.0  0.0  0.0  0.0  1.0  1.0\n",
       " 0.0   0.0  0.0  0.0  0.0  0.0  0.0     0.0  0.0  0.0  0.0  0.0  1.0  1.0\n",
       " 0.0   0.0  0.0  0.0  0.0  0.0  0.0     0.0  0.0  0.0  0.0  0.0  1.0  1.0\n",
       " 0.0   0.0  0.0  0.0  0.0  0.0  0.0  …  0.0  0.0  0.0  0.0  0.0  1.0  1.0\n",
       " 0.0   0.0  0.0  0.0  0.0  0.0  0.0     0.0  0.0  0.0  0.0  0.0  1.0  1.0\n",
       " 0.0   0.0  0.0  0.0  0.0  0.0  0.0     0.0  0.0  0.0  0.0  0.0  1.0  1.0\n",
       " 0.0   0.0  0.0  0.0  0.0  0.0  0.0     0.0  0.0  0.0  0.0  0.0  1.0  1.0\n",
       " 0.0   0.0  0.0  0.0  0.0  0.0  0.0     0.0  0.0  0.0  0.0  0.0  1.0  1.0"
      ]
     },
     "execution_count": 7,
     "metadata": {},
     "output_type": "execute_result"
    }
   ],
   "source": [
    "first(m1.reterms)"
   ]
  },
  {
   "cell_type": "markdown",
   "metadata": {},
   "source": [
    "(If you are concerned about the size of this matrix, don't worry - it is stored in a much more compact way.)"
   ]
  },
  {
   "cell_type": "markdown",
   "metadata": {},
   "source": [
    "### Specifying parameter values"
   ]
  },
  {
   "cell_type": "markdown",
   "metadata": {},
   "source": [
    "The fixed-effects parameter vector in DeBruine and Barr's formula is `[800.0, 50.0]` for the $\\pm 0.5$ coding, which corresponds to `[800.0, 25.0]` in the $\\pm 1$ coding.  It is written as $\\beta$. The standard deviation for the residual, written $\\sigma$, is `200.0`."
   ]
  },
  {
   "cell_type": "code",
   "execution_count": 8,
   "metadata": {},
   "outputs": [
    {
     "data": {
      "text/plain": [
       "2-element Array{Float64,1}:\n",
       " 800.0\n",
       "  25.0"
      ]
     },
     "execution_count": 8,
     "metadata": {},
     "output_type": "execute_result"
    }
   ],
   "source": [
    "β = [800.0; 25.0]"
   ]
  },
  {
   "cell_type": "code",
   "execution_count": 9,
   "metadata": {},
   "outputs": [
    {
     "data": {
      "text/plain": [
       "200.0"
      ]
     },
     "execution_count": 9,
     "metadata": {},
     "output_type": "execute_result"
    }
   ],
   "source": [
    "σ = 200.0"
   ]
  },
  {
   "cell_type": "markdown",
   "metadata": {},
   "source": [
    "The standard deviation of the by-subject intercept random-effects is `100.0` and the by-item intercept random-effects is `80.0`.  The standard deviation of the by-subject slope random effects is `40.0` in the $\\pm0.5$ coding or `20.0` in the $\\pm 1$ coding.  The within-subject correlation is `0.2`.\n",
    "\n",
    "Internally both the `lme4` and the `MixedModels` package use parameters derived from the *relative covariance factor* of the random effects distribution. In this case the correlation matrix for the random effects by subject is"
   ]
  },
  {
   "cell_type": "code",
   "execution_count": 10,
   "metadata": {},
   "outputs": [
    {
     "data": {
      "text/plain": [
       "2×2 Array{Float64,2}:\n",
       " 1.0  0.2\n",
       " 0.2  1.0"
      ]
     },
     "execution_count": 10,
     "metadata": {},
     "output_type": "execute_result"
    }
   ],
   "source": [
    "cormat = [1. 0.2; 0.2 1.]"
   ]
  },
  {
   "cell_type": "markdown",
   "metadata": {},
   "source": [
    "Combining this with the standard deviations produces the covariance matrix"
   ]
  },
  {
   "cell_type": "code",
   "execution_count": 11,
   "metadata": {},
   "outputs": [
    {
     "data": {
      "text/plain": [
       "2×2 Array{Float64,2}:\n",
       " 10000.0   2000.0\n",
       "  2000.0  10000.0"
      ]
     },
     "execution_count": 11,
     "metadata": {},
     "output_type": "execute_result"
    }
   ],
   "source": [
    "covmat = Diagonal([100. 20.]) * cormat * Diagonal([100. 20.])"
   ]
  },
  {
   "cell_type": "markdown",
   "metadata": {},
   "source": [
    "The covariance factor is the lower Cholesky factor of this positive definite symmetric matrix"
   ]
  },
  {
   "cell_type": "code",
   "execution_count": 12,
   "metadata": {},
   "outputs": [
    {
     "data": {
      "text/plain": [
       "2×2 LowerTriangular{Float64,Array{Float64,2}}:\n",
       " 100.0    ⋅    \n",
       "  20.0  97.9796"
      ]
     },
     "execution_count": 12,
     "metadata": {},
     "output_type": "execute_result"
    }
   ],
   "source": [
    "covfac = cholesky(covmat).L"
   ]
  },
  {
   "cell_type": "markdown",
   "metadata": {},
   "source": [
    "The relative covariance factor is `covfac/σ`"
   ]
  },
  {
   "cell_type": "code",
   "execution_count": 13,
   "metadata": {},
   "outputs": [
    {
     "data": {
      "text/plain": [
       "2×2 LowerTriangular{Float64,Array{Float64,2}}:\n",
       " 0.5   ⋅      \n",
       " 0.1  0.489898"
      ]
     },
     "execution_count": 13,
     "metadata": {},
     "output_type": "execute_result"
    }
   ],
   "source": [
    "Λ = covfac ./ σ"
   ]
  },
  {
   "cell_type": "markdown",
   "metadata": {},
   "source": [
    "leading to a covariance parameter vector for the subject-specific random effects of"
   ]
  },
  {
   "cell_type": "code",
   "execution_count": 14,
   "metadata": {},
   "outputs": [
    {
     "data": {
      "text/plain": [
       "3-element Array{Float64,1}:\n",
       " 0.5               \n",
       " 0.1               \n",
       " 0.4898979485566356"
      ]
     },
     "execution_count": 14,
     "metadata": {},
     "output_type": "execute_result"
    }
   ],
   "source": [
    "θ = Λ[[1,2,4]]"
   ]
  },
  {
   "cell_type": "markdown",
   "metadata": {},
   "source": [
    "For the item-specific random effects the relative covariance factor is simply the ratio of the standard deviation of the intercepts to σ.  This is appended to the current "
   ]
  },
  {
   "cell_type": "code",
   "execution_count": 15,
   "metadata": {},
   "outputs": [
    {
     "data": {
      "text/plain": [
       "4-element Array{Float64,1}:\n",
       " 0.5               \n",
       " 0.1               \n",
       " 0.4898979485566356\n",
       " 0.4               "
      ]
     },
     "execution_count": 15,
     "metadata": {},
     "output_type": "execute_result"
    }
   ],
   "source": [
    "push!(θ, 80.0/200.0)"
   ]
  },
  {
   "cell_type": "markdown",
   "metadata": {},
   "source": [
    "Simulation of a response vector and fitting the model to that vector is performed as"
   ]
  },
  {
   "cell_type": "code",
   "execution_count": 16,
   "metadata": {},
   "outputs": [
    {
     "data": {
      "text/plain": [
       "Linear mixed model fit by maximum likelihood\n",
       " RT ~ 1 + category + (1 + category | subj_id) + (1 | item_id)\n",
       "     logLik        -2 logLik          AIC             BIC       \n",
       " -3.39266435×10⁴   6.7853287×10⁴   6.7867287×10⁴  6.79129074×10⁴\n",
       "\n",
       "Variance components:\n",
       "                 Column        Variance   Std.Dev.    Corr.\n",
       " subj_id  (Intercept)         11338.9596 106.484551\n",
       "          category: outgroup   9815.9139  99.075294  0.25\n",
       " item_id  (Intercept)          6659.6092  81.606429\n",
       " Residual                     40136.6126 200.341241\n",
       " Number of obs: 5000; levels of grouping factors: 100, 50\n",
       "\n",
       "  Fixed-effects parameters:\n",
       "──────────────────────────────────────────────────────────\n",
       "                    Estimate  Std.Error   z value  P(>|z|)\n",
       "──────────────────────────────────────────────────────────\n",
       "(Intercept)         806.724     15.9565  50.5578    <1e-99\n",
       "category: outgroup   49.5928    15.4719   3.20535   0.0013\n",
       "──────────────────────────────────────────────────────────"
      ]
     },
     "execution_count": 16,
     "metadata": {},
     "output_type": "execute_result"
    }
   ],
   "source": [
    "refit!(simulate!(m1, β=β, σ=σ, θ=θ))"
   ]
  },
  {
   "cell_type": "markdown",
   "metadata": {},
   "source": [
    "A Julia convention is to append `!` to the names of *mutating* functions, which can change the value of one or more of the functions arguments.  Typically it is the first argument that is changed.  That is, the call to `push!` modifies `θ` and the call to `simulate!` modifies and returns `m1` which is then further modified by the call to `refit!`."
   ]
  },
  {
   "cell_type": "markdown",
   "metadata": {},
   "source": [
    "## Simulating the distribution of an estimator"
   ]
  },
  {
   "cell_type": "markdown",
   "metadata": {},
   "source": [
    "The focus of this simulation is the estimate of the effect of category."
   ]
  },
  {
   "cell_type": "code",
   "execution_count": 17,
   "metadata": {},
   "outputs": [
    {
     "data": {
      "text/plain": [
       "49.592769202791125"
      ]
     },
     "execution_count": 17,
     "metadata": {},
     "output_type": "execute_result"
    }
   ],
   "source": [
    "last(m1.β)"
   ]
  },
  {
   "cell_type": "markdown",
   "metadata": {},
   "source": [
    "and its standard error"
   ]
  },
  {
   "cell_type": "code",
   "execution_count": 18,
   "metadata": {},
   "outputs": [
    {
     "data": {
      "text/plain": [
       "15.471866250816344"
      ]
     },
     "execution_count": 18,
     "metadata": {},
     "output_type": "execute_result"
    }
   ],
   "source": [
    "last(m1.stderror)"
   ]
  },
  {
   "cell_type": "markdown",
   "metadata": {},
   "source": [
    "It is useful to create a function to perform the simulation and store the values in a `DataFrame`."
   ]
  },
  {
   "cell_type": "code",
   "execution_count": 19,
   "metadata": {},
   "outputs": [
    {
     "data": {
      "text/plain": [
       "lmmSim (generic function with 1 method)"
      ]
     },
     "execution_count": 19,
     "metadata": {},
     "output_type": "execute_result"
    }
   ],
   "source": [
    "function lmmSim(N, m, β, σ, θ)\n",
    "    b = similar(β, N)\n",
    "    se = similar(b)\n",
    "    for i in 1:N\n",
    "        refit!(simulate!(m, β=β, σ=σ, θ=θ))\n",
    "        b[i] = last(m.β)\n",
    "        se[i] = last(m.stderror)\n",
    "    end\n",
    "    DataFrame(estimate=b, stderr=se)\n",
    "end"
   ]
  },
  {
   "cell_type": "markdown",
   "metadata": {},
   "source": [
    "Just to check that it works as expected"
   ]
  },
  {
   "cell_type": "code",
   "execution_count": 20,
   "metadata": {},
   "outputs": [
    {
     "data": {
      "text/html": [
       "<table class=\"data-frame\"><thead><tr><th></th><th>estimate</th><th>stderr</th></tr><tr><th></th><th>Float64</th><th>Float64</th></tr></thead><tbody><p>10 rows × 2 columns</p><tr><th>1</th><td>22.122</td><td>13.084</td></tr><tr><th>2</th><td>47.4013</td><td>15.5551</td></tr><tr><th>3</th><td>45.4024</td><td>14.1161</td></tr><tr><th>4</th><td>23.06</td><td>14.2855</td></tr><tr><th>5</th><td>0.280425</td><td>16.06</td></tr><tr><th>6</th><td>17.7822</td><td>15.6946</td></tr><tr><th>7</th><td>19.4438</td><td>13.2523</td></tr><tr><th>8</th><td>-4.89727</td><td>16.6772</td></tr><tr><th>9</th><td>19.4918</td><td>13.4021</td></tr><tr><th>10</th><td>20.3308</td><td>14.865</td></tr></tbody></table>"
      ],
      "text/latex": [
       "\\begin{tabular}{r|cc}\n",
       "\t& estimate & stderr\\\\\n",
       "\t\\hline\n",
       "\t& Float64 & Float64\\\\\n",
       "\t\\hline\n",
       "\t1 & 22.122 & 13.084 \\\\\n",
       "\t2 & 47.4013 & 15.5551 \\\\\n",
       "\t3 & 45.4024 & 14.1161 \\\\\n",
       "\t4 & 23.06 & 14.2855 \\\\\n",
       "\t5 & 0.280425 & 16.06 \\\\\n",
       "\t6 & 17.7822 & 15.6946 \\\\\n",
       "\t7 & 19.4438 & 13.2523 \\\\\n",
       "\t8 & -4.89727 & 16.6772 \\\\\n",
       "\t9 & 19.4918 & 13.4021 \\\\\n",
       "\t10 & 20.3308 & 14.865 \\\\\n",
       "\\end{tabular}\n"
      ],
      "text/plain": [
       "10×2 DataFrame\n",
       "│ Row │ estimate │ stderr  │\n",
       "│     │ \u001b[90mFloat64\u001b[39m  │ \u001b[90mFloat64\u001b[39m │\n",
       "├─────┼──────────┼─────────┤\n",
       "│ 1   │ 22.122   │ 13.084  │\n",
       "│ 2   │ 47.4013  │ 15.5551 │\n",
       "│ 3   │ 45.4024  │ 14.1161 │\n",
       "│ 4   │ 23.06    │ 14.2855 │\n",
       "│ 5   │ 0.280425 │ 16.06   │\n",
       "│ 6   │ 17.7822  │ 15.6946 │\n",
       "│ 7   │ 19.4438  │ 13.2523 │\n",
       "│ 8   │ -4.89727 │ 16.6772 │\n",
       "│ 9   │ 19.4918  │ 13.4021 │\n",
       "│ 10  │ 20.3308  │ 14.865  │"
      ]
     },
     "execution_count": 20,
     "metadata": {},
     "output_type": "execute_result"
    }
   ],
   "source": [
    "lmmSim(10, m1, β, σ, θ)"
   ]
  },
  {
   "cell_type": "markdown",
   "metadata": {},
   "source": [
    "Now collect a larger sample"
   ]
  },
  {
   "cell_type": "code",
   "execution_count": 21,
   "metadata": {},
   "outputs": [
    {
     "name": "stdout",
     "output_type": "stream",
     "text": [
      "263.108074 seconds (630.32 M allocations: 32.091 GiB, 1.24% gc time)\n"
     ]
    }
   ],
   "source": [
    "sim = @time lmmSim(10000, m1, β, σ, θ);"
   ]
  },
  {
   "cell_type": "code",
   "execution_count": 22,
   "metadata": {},
   "outputs": [
    {
     "data": {
      "image/svg+xml": [
       "<?xml version=\"1.0\" encoding=\"utf-8\"?>\n",
       "<svg xmlns=\"http://www.w3.org/2000/svg\" xmlns:xlink=\"http://www.w3.org/1999/xlink\" width=\"600\" height=\"400\" viewBox=\"0 0 2400 1600\">\n",
       "<defs>\n",
       "  <clipPath id=\"clip7300\">\n",
       "    <rect x=\"0\" y=\"0\" width=\"2400\" height=\"1600\"/>\n",
       "  </clipPath>\n",
       "</defs>\n",
       "<polygon clip-path=\"url(#clip7300)\" points=\"\n",
       "0,1600 2400,1600 2400,0 0,0 \n",
       "  \" fill=\"#ffffff\" fill-rule=\"evenodd\" fill-opacity=\"1\"/>\n",
       "<defs>\n",
       "  <clipPath id=\"clip7301\">\n",
       "    <rect x=\"480\" y=\"0\" width=\"1681\" height=\"1600\"/>\n",
       "  </clipPath>\n",
       "</defs>\n",
       "<polygon clip-path=\"url(#clip7300)\" points=\"\n",
       "207.423,1487.47 2352.76,1487.47 2352.76,47.2441 207.423,47.2441 \n",
       "  \" fill=\"#ffffff\" fill-rule=\"evenodd\" fill-opacity=\"1\"/>\n",
       "<defs>\n",
       "  <clipPath id=\"clip7302\">\n",
       "    <rect x=\"207\" y=\"47\" width=\"2146\" height=\"1441\"/>\n",
       "  </clipPath>\n",
       "</defs>\n",
       "<polyline clip-path=\"url(#clip7302)\" style=\"stroke:#000000; stroke-width:2; stroke-opacity:0.1; fill:none\" points=\"\n",
       "  485.58,1487.47 485.58,47.2441 \n",
       "  \"/>\n",
       "<polyline clip-path=\"url(#clip7302)\" style=\"stroke:#000000; stroke-width:2; stroke-opacity:0.1; fill:none\" points=\"\n",
       "  908.867,1487.47 908.867,47.2441 \n",
       "  \"/>\n",
       "<polyline clip-path=\"url(#clip7302)\" style=\"stroke:#000000; stroke-width:2; stroke-opacity:0.1; fill:none\" points=\"\n",
       "  1332.15,1487.47 1332.15,47.2441 \n",
       "  \"/>\n",
       "<polyline clip-path=\"url(#clip7302)\" style=\"stroke:#000000; stroke-width:2; stroke-opacity:0.1; fill:none\" points=\"\n",
       "  1755.44,1487.47 1755.44,47.2441 \n",
       "  \"/>\n",
       "<polyline clip-path=\"url(#clip7302)\" style=\"stroke:#000000; stroke-width:2; stroke-opacity:0.1; fill:none\" points=\"\n",
       "  2178.73,1487.47 2178.73,47.2441 \n",
       "  \"/>\n",
       "<polyline clip-path=\"url(#clip7302)\" style=\"stroke:#000000; stroke-width:2; stroke-opacity:0.1; fill:none\" points=\"\n",
       "  207.423,1446.71 2352.76,1446.71 \n",
       "  \"/>\n",
       "<polyline clip-path=\"url(#clip7302)\" style=\"stroke:#000000; stroke-width:2; stroke-opacity:0.1; fill:none\" points=\"\n",
       "  207.423,1182.09 2352.76,1182.09 \n",
       "  \"/>\n",
       "<polyline clip-path=\"url(#clip7302)\" style=\"stroke:#000000; stroke-width:2; stroke-opacity:0.1; fill:none\" points=\"\n",
       "  207.423,917.475 2352.76,917.475 \n",
       "  \"/>\n",
       "<polyline clip-path=\"url(#clip7302)\" style=\"stroke:#000000; stroke-width:2; stroke-opacity:0.1; fill:none\" points=\"\n",
       "  207.423,652.855 2352.76,652.855 \n",
       "  \"/>\n",
       "<polyline clip-path=\"url(#clip7302)\" style=\"stroke:#000000; stroke-width:2; stroke-opacity:0.1; fill:none\" points=\"\n",
       "  207.423,388.235 2352.76,388.235 \n",
       "  \"/>\n",
       "<polyline clip-path=\"url(#clip7302)\" style=\"stroke:#000000; stroke-width:2; stroke-opacity:0.1; fill:none\" points=\"\n",
       "  207.423,123.616 2352.76,123.616 \n",
       "  \"/>\n",
       "<polyline clip-path=\"url(#clip7300)\" style=\"stroke:#000000; stroke-width:4; stroke-opacity:1; fill:none\" points=\"\n",
       "  207.423,1487.47 2352.76,1487.47 \n",
       "  \"/>\n",
       "<polyline clip-path=\"url(#clip7300)\" style=\"stroke:#000000; stroke-width:4; stroke-opacity:1; fill:none\" points=\"\n",
       "  207.423,1487.47 207.423,47.2441 \n",
       "  \"/>\n",
       "<polyline clip-path=\"url(#clip7300)\" style=\"stroke:#000000; stroke-width:4; stroke-opacity:1; fill:none\" points=\"\n",
       "  485.58,1487.47 485.58,1465.87 \n",
       "  \"/>\n",
       "<polyline clip-path=\"url(#clip7300)\" style=\"stroke:#000000; stroke-width:4; stroke-opacity:1; fill:none\" points=\"\n",
       "  908.867,1487.47 908.867,1465.87 \n",
       "  \"/>\n",
       "<polyline clip-path=\"url(#clip7300)\" style=\"stroke:#000000; stroke-width:4; stroke-opacity:1; fill:none\" points=\"\n",
       "  1332.15,1487.47 1332.15,1465.87 \n",
       "  \"/>\n",
       "<polyline clip-path=\"url(#clip7300)\" style=\"stroke:#000000; stroke-width:4; stroke-opacity:1; fill:none\" points=\"\n",
       "  1755.44,1487.47 1755.44,1465.87 \n",
       "  \"/>\n",
       "<polyline clip-path=\"url(#clip7300)\" style=\"stroke:#000000; stroke-width:4; stroke-opacity:1; fill:none\" points=\"\n",
       "  2178.73,1487.47 2178.73,1465.87 \n",
       "  \"/>\n",
       "<polyline clip-path=\"url(#clip7300)\" style=\"stroke:#000000; stroke-width:4; stroke-opacity:1; fill:none\" points=\"\n",
       "  207.423,1446.71 239.603,1446.71 \n",
       "  \"/>\n",
       "<polyline clip-path=\"url(#clip7300)\" style=\"stroke:#000000; stroke-width:4; stroke-opacity:1; fill:none\" points=\"\n",
       "  207.423,1182.09 239.603,1182.09 \n",
       "  \"/>\n",
       "<polyline clip-path=\"url(#clip7300)\" style=\"stroke:#000000; stroke-width:4; stroke-opacity:1; fill:none\" points=\"\n",
       "  207.423,917.475 239.603,917.475 \n",
       "  \"/>\n",
       "<polyline clip-path=\"url(#clip7300)\" style=\"stroke:#000000; stroke-width:4; stroke-opacity:1; fill:none\" points=\"\n",
       "  207.423,652.855 239.603,652.855 \n",
       "  \"/>\n",
       "<polyline clip-path=\"url(#clip7300)\" style=\"stroke:#000000; stroke-width:4; stroke-opacity:1; fill:none\" points=\"\n",
       "  207.423,388.235 239.603,388.235 \n",
       "  \"/>\n",
       "<polyline clip-path=\"url(#clip7300)\" style=\"stroke:#000000; stroke-width:4; stroke-opacity:1; fill:none\" points=\"\n",
       "  207.423,123.616 239.603,123.616 \n",
       "  \"/>\n",
       "<g clip-path=\"url(#clip7300)\">\n",
       "<text style=\"fill:#000000; fill-opacity:1; font-family:Arial,Helvetica Neue,Helvetica,sans-serif; font-size:48px; text-anchor:middle;\" transform=\"rotate(0, 485.58, 1541.47)\" x=\"485.58\" y=\"1541.47\">-30</text>\n",
       "</g>\n",
       "<g clip-path=\"url(#clip7300)\">\n",
       "<text style=\"fill:#000000; fill-opacity:1; font-family:Arial,Helvetica Neue,Helvetica,sans-serif; font-size:48px; text-anchor:middle;\" transform=\"rotate(0, 908.867, 1541.47)\" x=\"908.867\" y=\"1541.47\">0</text>\n",
       "</g>\n",
       "<g clip-path=\"url(#clip7300)\">\n",
       "<text style=\"fill:#000000; fill-opacity:1; font-family:Arial,Helvetica Neue,Helvetica,sans-serif; font-size:48px; text-anchor:middle;\" transform=\"rotate(0, 1332.15, 1541.47)\" x=\"1332.15\" y=\"1541.47\">30</text>\n",
       "</g>\n",
       "<g clip-path=\"url(#clip7300)\">\n",
       "<text style=\"fill:#000000; fill-opacity:1; font-family:Arial,Helvetica Neue,Helvetica,sans-serif; font-size:48px; text-anchor:middle;\" transform=\"rotate(0, 1755.44, 1541.47)\" x=\"1755.44\" y=\"1541.47\">60</text>\n",
       "</g>\n",
       "<g clip-path=\"url(#clip7300)\">\n",
       "<text style=\"fill:#000000; fill-opacity:1; font-family:Arial,Helvetica Neue,Helvetica,sans-serif; font-size:48px; text-anchor:middle;\" transform=\"rotate(0, 2178.73, 1541.47)\" x=\"2178.73\" y=\"1541.47\">90</text>\n",
       "</g>\n",
       "<g clip-path=\"url(#clip7300)\">\n",
       "<text style=\"fill:#000000; fill-opacity:1; font-family:Arial,Helvetica Neue,Helvetica,sans-serif; font-size:48px; text-anchor:end;\" transform=\"rotate(0, 183.423, 1464.21)\" x=\"183.423\" y=\"1464.21\">0.000</text>\n",
       "</g>\n",
       "<g clip-path=\"url(#clip7300)\">\n",
       "<text style=\"fill:#000000; fill-opacity:1; font-family:Arial,Helvetica Neue,Helvetica,sans-serif; font-size:48px; text-anchor:end;\" transform=\"rotate(0, 183.423, 1199.59)\" x=\"183.423\" y=\"1199.59\">0.005</text>\n",
       "</g>\n",
       "<g clip-path=\"url(#clip7300)\">\n",
       "<text style=\"fill:#000000; fill-opacity:1; font-family:Arial,Helvetica Neue,Helvetica,sans-serif; font-size:48px; text-anchor:end;\" transform=\"rotate(0, 183.423, 934.975)\" x=\"183.423\" y=\"934.975\">0.010</text>\n",
       "</g>\n",
       "<g clip-path=\"url(#clip7300)\">\n",
       "<text style=\"fill:#000000; fill-opacity:1; font-family:Arial,Helvetica Neue,Helvetica,sans-serif; font-size:48px; text-anchor:end;\" transform=\"rotate(0, 183.423, 670.355)\" x=\"183.423\" y=\"670.355\">0.015</text>\n",
       "</g>\n",
       "<g clip-path=\"url(#clip7300)\">\n",
       "<text style=\"fill:#000000; fill-opacity:1; font-family:Arial,Helvetica Neue,Helvetica,sans-serif; font-size:48px; text-anchor:end;\" transform=\"rotate(0, 183.423, 405.735)\" x=\"183.423\" y=\"405.735\">0.020</text>\n",
       "</g>\n",
       "<g clip-path=\"url(#clip7300)\">\n",
       "<text style=\"fill:#000000; fill-opacity:1; font-family:Arial,Helvetica Neue,Helvetica,sans-serif; font-size:48px; text-anchor:end;\" transform=\"rotate(0, 183.423, 141.116)\" x=\"183.423\" y=\"141.116\">0.025</text>\n",
       "</g>\n",
       "<polyline clip-path=\"url(#clip7302)\" style=\"stroke:#009af9; stroke-width:4; stroke-opacity:1; fill:none\" points=\"\n",
       "  268.14,1446.71 278.31,1446.71 288.48,1446.71 298.651,1446.7 308.821,1446.69 318.991,1446.66 329.162,1446.6 339.332,1446.5 349.502,1446.36 359.673,1446.19 \n",
       "  369.843,1446.01 380.013,1445.86 390.184,1445.78 400.354,1445.8 410.525,1445.9 420.695,1446.05 430.865,1446.22 441.036,1446.35 451.206,1446.4 461.376,1446.34 \n",
       "  471.547,1446.11 481.717,1445.67 491.887,1444.99 502.058,1444.05 512.228,1442.9 522.398,1441.64 532.569,1440.39 542.739,1439.24 552.909,1438.21 563.08,1437.18 \n",
       "  573.25,1435.94 583.42,1434.27 593.591,1432.02 603.761,1429.15 613.931,1425.82 624.102,1422.28 634.272,1418.83 644.443,1415.69 654.613,1412.88 664.783,1410.2 \n",
       "  674.954,1407.3 685.124,1403.74 695.294,1399.16 705.465,1393.39 715.635,1386.42 725.805,1378.35 735.976,1369.27 746.146,1359.19 756.316,1348.05 766.487,1335.74 \n",
       "  776.657,1322.24 786.827,1307.61 796.998,1292.02 807.168,1275.67 817.338,1258.64 827.509,1240.81 837.679,1221.86 847.849,1201.46 858.02,1179.55 868.19,1156.33 \n",
       "  878.361,1132.24 888.531,1107.57 898.701,1082.34 908.872,1056.22 919.042,1028.8 929.212,999.838 939.383,969.394 949.553,937.813 959.723,905.524 969.894,872.8 \n",
       "  980.064,839.609 990.234,805.643 1000.4,770.542 1010.58,734.163 1020.75,696.747 1030.92,658.868 1041.09,621.211 1051.26,584.324 1061.43,548.5 1071.6,513.823 \n",
       "  1081.77,480.335 1091.94,448.185 1102.11,417.637 1112.28,388.899 1122.45,361.825 1132.62,335.719 1142.79,309.431 1152.96,281.825 1163.13,252.396 1173.3,221.679 \n",
       "  1183.47,191.175 1193.64,162.844 1203.81,138.439 1213.98,119.025 1224.15,104.834 1234.32,95.4307 1244.49,90.0529 1254.66,88.0053 1264.83,88.9803 1275,93.1721 \n",
       "  1285.17,101.118 1295.34,113.361 1305.52,130.147 1315.69,151.309 1325.86,176.305 1336.03,204.273 1346.2,234.032 1356.37,264.133 1366.54,293.094 1376.71,319.862 \n",
       "  1386.88,344.281 1397.05,367.266 1407.22,390.453 1417.39,415.475 1427.56,443.238 1437.73,473.669 1447.9,506.021 1458.07,539.48 1468.24,573.636 1478.41,608.536 \n",
       "  1488.58,644.395 1498.75,681.231 1508.92,718.675 1519.09,756.042 1529.26,792.585 1539.43,827.772 1549.6,861.467 1559.77,893.898 1569.94,925.424 1580.11,956.251 \n",
       "  1590.28,986.256 1600.46,1015.08 1610.63,1042.37 1620.8,1068.08 1630.97,1092.53 1641.14,1116.29 1651.31,1139.96 1661.48,1163.88 1671.65,1187.99 1681.82,1211.85 \n",
       "  1691.99,1234.73 1702.16,1255.94 1712.33,1275.04 1722.5,1292.03 1732.67,1307.22 1742.84,1321.05 1753.01,1333.84 1763.18,1345.66 1773.35,1356.42 1783.52,1365.99 \n",
       "  1793.69,1374.4 1803.86,1381.86 1814.03,1388.69 1824.2,1395.23 1834.37,1401.67 1844.54,1408.02 1854.71,1414.07 1864.88,1419.56 1875.05,1424.26 1885.22,1428.04 \n",
       "  1895.4,1430.9 1905.57,1432.98 1915.74,1434.47 1925.91,1435.57 1936.08,1436.45 1946.25,1437.22 1956.42,1437.91 1966.59,1438.51 1976.76,1439.04 1986.93,1439.53 \n",
       "  1997.1,1440.05 2007.27,1440.62 2017.44,1441.26 2027.61,1441.92 2037.78,1442.55 2047.95,1443.1 2058.12,1443.53 2068.29,1443.87 2078.46,1444.14 2088.63,1444.39 \n",
       "  2098.8,1444.65 2108.97,1444.91 2119.14,1445.16 2129.31,1445.34 2139.48,1445.47 2149.65,1445.54 2159.82,1445.6 2169.99,1445.68 2180.17,1445.82 2190.34,1445.99 \n",
       "  2200.51,1446.18 2210.68,1446.36 2220.85,1446.5 2231.02,1446.6 2241.19,1446.66 2251.36,1446.69 2261.53,1446.7 2271.7,1446.71 2281.87,1446.71 2292.04,1446.71 \n",
       "  \n",
       "  \"/>\n",
       "<polygon clip-path=\"url(#clip7300)\" points=\"\n",
       "1989.93,251.724 2280.76,251.724 2280.76,130.764 1989.93,130.764 \n",
       "  \" fill=\"#ffffff\" fill-rule=\"evenodd\" fill-opacity=\"1\"/>\n",
       "<polyline clip-path=\"url(#clip7300)\" style=\"stroke:#000000; stroke-width:4; stroke-opacity:1; fill:none\" points=\"\n",
       "  1989.93,251.724 2280.76,251.724 2280.76,130.764 1989.93,130.764 1989.93,251.724 \n",
       "  \"/>\n",
       "<polyline clip-path=\"url(#clip7300)\" style=\"stroke:#009af9; stroke-width:4; stroke-opacity:1; fill:none\" points=\"\n",
       "  2013.93,191.244 2157.93,191.244 \n",
       "  \"/>\n",
       "<g clip-path=\"url(#clip7300)\">\n",
       "<text style=\"fill:#000000; fill-opacity:1; font-family:Arial,Helvetica Neue,Helvetica,sans-serif; font-size:48px; text-anchor:start;\" transform=\"rotate(0, 2181.93, 208.744)\" x=\"2181.93\" y=\"208.744\">y1</text>\n",
       "</g>\n",
       "</svg>\n"
      ]
     },
     "execution_count": 22,
     "metadata": {},
     "output_type": "execute_result"
    }
   ],
   "source": [
    "using StatsPlots\n",
    "@df sim density(:estimate)"
   ]
  },
  {
   "cell_type": "code",
   "execution_count": 23,
   "metadata": {},
   "outputs": [
    {
     "data": {
      "text/html": [
       "<table class=\"data-frame\"><thead><tr><th></th><th>variable</th><th>mean</th><th>min</th><th>median</th><th>max</th><th>nunique</th><th>nmissing</th><th>eltype</th></tr><tr><th></th><th>Symbol</th><th>Float64</th><th>Float64</th><th>Float64</th><th>Float64</th><th>Nothing</th><th>Nothing</th><th>DataType</th></tr></thead><tbody><p>2 rows × 8 columns</p><tr><th>1</th><td>estimate</td><td>24.9663</td><td>-36.5008</td><td>24.9127</td><td>89.1207</td><td></td><td></td><td>Float64</td></tr><tr><th>2</th><td>stderr</td><td>15.1986</td><td>11.5876</td><td>15.1827</td><td>19.0029</td><td></td><td></td><td>Float64</td></tr></tbody></table>"
      ],
      "text/latex": [
       "\\begin{tabular}{r|cccccccc}\n",
       "\t& variable & mean & min & median & max & nunique & nmissing & eltype\\\\\n",
       "\t\\hline\n",
       "\t& Symbol & Float64 & Float64 & Float64 & Float64 & Nothing & Nothing & DataType\\\\\n",
       "\t\\hline\n",
       "\t1 & estimate & 24.9663 & -36.5008 & 24.9127 & 89.1207 &  &  & Float64 \\\\\n",
       "\t2 & stderr & 15.1986 & 11.5876 & 15.1827 & 19.0029 &  &  & Float64 \\\\\n",
       "\\end{tabular}\n"
      ],
      "text/plain": [
       "2×8 DataFrame. Omitted printing of 1 columns\n",
       "│ Row │ variable │ mean    │ min      │ median  │ max     │ nunique │ nmissing │\n",
       "│     │ \u001b[90mSymbol\u001b[39m   │ \u001b[90mFloat64\u001b[39m │ \u001b[90mFloat64\u001b[39m  │ \u001b[90mFloat64\u001b[39m │ \u001b[90mFloat64\u001b[39m │ \u001b[90mNothing\u001b[39m │ \u001b[90mNothing\u001b[39m  │\n",
       "├─────┼──────────┼─────────┼──────────┼─────────┼─────────┼─────────┼──────────┤\n",
       "│ 1   │ estimate │ 24.9663 │ -36.5008 │ 24.9127 │ 89.1207 │         │          │\n",
       "│ 2   │ stderr   │ 15.1986 │ 11.5876  │ 15.1827 │ 19.0029 │         │          │"
      ]
     },
     "execution_count": 23,
     "metadata": {},
     "output_type": "execute_result"
    }
   ],
   "source": [
    "describe(sim)"
   ]
  },
  {
   "cell_type": "markdown",
   "metadata": {},
   "source": [
    "An empirical p-value for the one-sided test of $H_0:\\beta_1\\le0$ versus $H_a:\\beta_1>0$ is"
   ]
  },
  {
   "cell_type": "code",
   "execution_count": 24,
   "metadata": {},
   "outputs": [
    {
     "data": {
      "text/plain": [
       "0.0555"
      ]
     },
     "execution_count": 24,
     "metadata": {},
     "output_type": "execute_result"
    }
   ],
   "source": [
    "sum(x ≤ 0 for x in sim.estimate)/length(sim.estimate)"
   ]
  }
 ],
 "metadata": {
  "kernelspec": {
   "display_name": "Julia 1.1.1",
   "language": "julia",
   "name": "julia-1.1"
  },
  "language_info": {
   "file_extension": ".jl",
   "mimetype": "application/julia",
   "name": "julia",
   "version": "1.1.1"
  }
 },
 "nbformat": 4,
 "nbformat_minor": 2
}
