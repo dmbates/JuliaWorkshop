{
 "cells": [
  {
   "cell_type": "markdown",
   "metadata": {
    "slideshow": {
     "slide_type": "slide"
    }
   },
   "source": [
    "# Calling R, Python and C++ from Julia\n",
    "\n",
    "\n",
    "- Douglas Bates\n",
    "- U. of Wisconsin - Madison\n",
    "- github: dmbates\n"
   ]
  },
  {
   "cell_type": "markdown",
   "metadata": {
    "slideshow": {
     "slide_type": "slide"
    }
   },
   "source": [
    "## In 2012 I started using Julia\n",
    "\n",
    "### Good things\n",
    "- What Viral said: multiple dispatch, JIT method compilation, extensible type system, interesting language constructs.\n",
    "\n",
    "### Bad things\n",
    "- Many things I knew how to do in `R` were not available or needed to be relearned.\n",
    "- Re-learning takes a while for things like data visualization systems\n",
    "- `R` packages often provide data sets for illustration/experimentation. As a rule `Julia` packages don't."
   ]
  },
  {
   "cell_type": "markdown",
   "metadata": {
    "slideshow": {
     "slide_type": "slide"
    }
   },
   "source": [
    "## The `RCall` package (JuliaStats/RCall.jl)\n",
    "\n",
    "- Julia has the `ccall` function. Steven Johnson had written `PyCall`. Avik created `JavaCall`\n",
    "- So I started writing `RCall`.  Most of the recent work has been done by Randy Lai and Simon Byrne.\n",
    "- Basic approach\n",
    "    - Create Julia immutables to mirror `R`'s `SEXPREC` struct (see [`types.jl`](https://github.com/JuliaStats/RCall.jl/blob/master/src/types.jl) )\n",
    "    - Locate and dlopen `libR` (see [`setup.jl`](https://github.com/JuliaStats/RCall.jl/blob/master/src/setup.jl) )\n",
    "    - Start an embedded `R` process\n",
    "    - Call `R`'s API\n",
    "- Functions of interest are `reval`, `rcall`, `rcopy`, etc."
   ]
  },
  {
   "cell_type": "code",
   "execution_count": 1,
   "metadata": {
    "collapsed": false,
    "slideshow": {
     "slide_type": "slide"
    }
   },
   "outputs": [
    {
     "name": "stdout",
     "output_type": "stream",
     "text": [
      "                        @R_str   2163 bytes  Function\n",
      "                         @rget   1576 bytes  Function\n",
      "                      @rimport   1860 bytes  Function\n",
      "                     @rlibrary   1296 bytes  Function\n",
      "                         @rput   1542 bytes  Function\n",
      "                       @rusing    452 bytes  Function\n",
      "                      @var_str    259 bytes  Function\n",
      "                       CharSxp    136 bytes  DataType\n",
      "                       ClosSxp    148 bytes  DataType\n",
      "                       CplxSxp    136 bytes  DataType\n",
      "                        IntSxp    136 bytes  DataType\n",
      "                        LglSxp    136 bytes  DataType\n",
      "                        NilSxp    112 bytes  DataType\n",
      "                         RCall    566 KB     Module\n",
      "                       RObject    168 bytes  DataType\n",
      "                       RealSxp    136 bytes  DataType\n",
      "                        StrSxp    136 bytes  DataType\n",
      "                           Sxp     92 bytes  DataType\n",
      "                         anyNA   1377 bytes  Function\n",
      "                     getAttrib   2722 bytes  Function\n",
      "                      getNames    978 bytes  Function\n",
      "                     globalEnv      8 bytes  RCall.RObject{RCall.EnvSxp}\n",
      "                      isFactor   1066 bytes  Function\n",
      "                          isNA   4223 bytes  Function\n",
      "                     isOrdered   1067 bytes  Function\n",
      "                         rcall   3149 bytes  Function\n",
      "                         rcopy     39 KB     Function\n",
      "                         reval   6289 bytes  Function\n",
      "                         rlang   2229 bytes  Function\n",
      "                        rparse    829 bytes  Function\n",
      "                        rprint   4106 bytes  Function\n",
      "                    setAttrib!   4453 bytes  Function\n",
      "                     setNames!   1054 bytes  Function\n"
     ]
    }
   ],
   "source": [
    "using RCall  # make the package available\n",
    "whos(RCall)"
   ]
  },
  {
   "cell_type": "code",
   "execution_count": 2,
   "metadata": {
    "collapsed": false,
    "slideshow": {
     "slide_type": "slide"
    }
   },
   "outputs": [
    {
     "name": "stdout",
     "output_type": "stream",
     "text": [
      "search: rcall RCall remotecall remotecall_wait remotecall_fetch UniformScaling\n",
      "\n"
     ]
    },
    {
     "data": {
      "text/latex": [
       "Evaluate a function in the global environment. The first argument corresponds to the function to be called. It can be either a FunctionSxp type, a SymSxp or a Symbol.\n"
      ],
      "text/markdown": [
       "Evaluate a function in the global environment. The first argument corresponds to the function to be called. It can be either a FunctionSxp type, a SymSxp or a Symbol.\n"
      ],
      "text/plain": [
       "Evaluate a function in the global environment. The first argument corresponds to the function to be called. It can be either a FunctionSxp type, a SymSxp or a Symbol.\n"
      ]
     },
     "execution_count": 2,
     "metadata": {},
     "output_type": "execute_result"
    }
   ],
   "source": [
    "?rcall"
   ]
  },
  {
   "cell_type": "code",
   "execution_count": 3,
   "metadata": {
    "collapsed": false
   },
   "outputs": [
    {
     "name": "stdout",
     "output_type": "stream",
     "text": [
      "search: rcopy precompile __precompile__ readchomp ProcessGroup\n",
      "\n"
     ]
    },
    {
     "data": {
      "text/latex": [
       "Evaluate and convert the result of a string as an R expression.\n",
       "\\texttt{rcopy} copies the contents of an R object into a corresponding canonical Julia type.\n",
       "\\texttt{rcopy(T,p)} converts a pointer \\texttt{p} to a Sxp object to a native Julia object of type T.\n",
       "\\texttt{rcopy(p)} performs a default conversion.\n"
      ],
      "text/markdown": [
       "Evaluate and convert the result of a string as an R expression.\n",
       "\n",
       "`rcopy` copies the contents of an R object into a corresponding canonical Julia type.\n",
       "\n",
       "`rcopy(T,p)` converts a pointer `p` to a Sxp object to a native Julia object of type T.\n",
       "\n",
       "`rcopy(p)` performs a default conversion.\n"
      ],
      "text/plain": [
       "Evaluate and convert the result of a string as an R expression.\n",
       "\n",
       "`rcopy` copies the contents of an R object into a corresponding canonical Julia type.\n",
       "\n",
       "`rcopy(T,p)` converts a pointer `p` to a Sxp object to a native Julia object of type T.\n",
       "\n",
       "`rcopy(p)` performs a default conversion.\n"
      ]
     },
     "execution_count": 3,
     "metadata": {},
     "output_type": "execute_result"
    }
   ],
   "source": [
    "?rcopy"
   ]
  },
  {
   "cell_type": "code",
   "execution_count": 4,
   "metadata": {
    "collapsed": false,
    "slideshow": {
     "slide_type": "slide"
    }
   },
   "outputs": [
    {
     "data": {
      "text/html": [
       "<table class=\"data-frame\"><tr><th></th><th>mpg</th><th>cyl</th><th>disp</th><th>hp</th><th>drat</th><th>wt</th><th>qsec</th><th>vs</th><th>am</th><th>gear</th><th>carb</th></tr><tr><th>1</th><td>21.0</td><td>6.0</td><td>160.0</td><td>110.0</td><td>3.9</td><td>2.62</td><td>16.46</td><td>0.0</td><td>1.0</td><td>4.0</td><td>4.0</td></tr><tr><th>2</th><td>21.0</td><td>6.0</td><td>160.0</td><td>110.0</td><td>3.9</td><td>2.875</td><td>17.02</td><td>0.0</td><td>1.0</td><td>4.0</td><td>4.0</td></tr><tr><th>3</th><td>22.8</td><td>4.0</td><td>108.0</td><td>93.0</td><td>3.85</td><td>2.32</td><td>18.61</td><td>1.0</td><td>1.0</td><td>4.0</td><td>1.0</td></tr><tr><th>4</th><td>21.4</td><td>6.0</td><td>258.0</td><td>110.0</td><td>3.08</td><td>3.215</td><td>19.44</td><td>1.0</td><td>0.0</td><td>3.0</td><td>1.0</td></tr><tr><th>5</th><td>18.7</td><td>8.0</td><td>360.0</td><td>175.0</td><td>3.15</td><td>3.44</td><td>17.02</td><td>0.0</td><td>0.0</td><td>3.0</td><td>2.0</td></tr><tr><th>6</th><td>18.1</td><td>6.0</td><td>225.0</td><td>105.0</td><td>2.76</td><td>3.46</td><td>20.22</td><td>1.0</td><td>0.0</td><td>3.0</td><td>1.0</td></tr><tr><th>7</th><td>14.3</td><td>8.0</td><td>360.0</td><td>245.0</td><td>3.21</td><td>3.57</td><td>15.84</td><td>0.0</td><td>0.0</td><td>3.0</td><td>4.0</td></tr><tr><th>8</th><td>24.4</td><td>4.0</td><td>146.7</td><td>62.0</td><td>3.69</td><td>3.19</td><td>20.0</td><td>1.0</td><td>0.0</td><td>4.0</td><td>2.0</td></tr><tr><th>9</th><td>22.8</td><td>4.0</td><td>140.8</td><td>95.0</td><td>3.92</td><td>3.15</td><td>22.9</td><td>1.0</td><td>0.0</td><td>4.0</td><td>2.0</td></tr><tr><th>10</th><td>19.2</td><td>6.0</td><td>167.6</td><td>123.0</td><td>3.92</td><td>3.44</td><td>18.3</td><td>1.0</td><td>0.0</td><td>4.0</td><td>4.0</td></tr><tr><th>11</th><td>17.8</td><td>6.0</td><td>167.6</td><td>123.0</td><td>3.92</td><td>3.44</td><td>18.9</td><td>1.0</td><td>0.0</td><td>4.0</td><td>4.0</td></tr><tr><th>12</th><td>16.4</td><td>8.0</td><td>275.8</td><td>180.0</td><td>3.07</td><td>4.07</td><td>17.4</td><td>0.0</td><td>0.0</td><td>3.0</td><td>3.0</td></tr><tr><th>13</th><td>17.3</td><td>8.0</td><td>275.8</td><td>180.0</td><td>3.07</td><td>3.73</td><td>17.6</td><td>0.0</td><td>0.0</td><td>3.0</td><td>3.0</td></tr><tr><th>14</th><td>15.2</td><td>8.0</td><td>275.8</td><td>180.0</td><td>3.07</td><td>3.78</td><td>18.0</td><td>0.0</td><td>0.0</td><td>3.0</td><td>3.0</td></tr><tr><th>15</th><td>10.4</td><td>8.0</td><td>472.0</td><td>205.0</td><td>2.93</td><td>5.25</td><td>17.98</td><td>0.0</td><td>0.0</td><td>3.0</td><td>4.0</td></tr><tr><th>16</th><td>10.4</td><td>8.0</td><td>460.0</td><td>215.0</td><td>3.0</td><td>5.424</td><td>17.82</td><td>0.0</td><td>0.0</td><td>3.0</td><td>4.0</td></tr><tr><th>17</th><td>14.7</td><td>8.0</td><td>440.0</td><td>230.0</td><td>3.23</td><td>5.345</td><td>17.42</td><td>0.0</td><td>0.0</td><td>3.0</td><td>4.0</td></tr><tr><th>18</th><td>32.4</td><td>4.0</td><td>78.7</td><td>66.0</td><td>4.08</td><td>2.2</td><td>19.47</td><td>1.0</td><td>1.0</td><td>4.0</td><td>1.0</td></tr><tr><th>19</th><td>30.4</td><td>4.0</td><td>75.7</td><td>52.0</td><td>4.93</td><td>1.615</td><td>18.52</td><td>1.0</td><td>1.0</td><td>4.0</td><td>2.0</td></tr><tr><th>20</th><td>33.9</td><td>4.0</td><td>71.1</td><td>65.0</td><td>4.22</td><td>1.835</td><td>19.9</td><td>1.0</td><td>1.0</td><td>4.0</td><td>1.0</td></tr><tr><th>21</th><td>21.5</td><td>4.0</td><td>120.1</td><td>97.0</td><td>3.7</td><td>2.465</td><td>20.01</td><td>1.0</td><td>0.0</td><td>3.0</td><td>1.0</td></tr><tr><th>22</th><td>15.5</td><td>8.0</td><td>318.0</td><td>150.0</td><td>2.76</td><td>3.52</td><td>16.87</td><td>0.0</td><td>0.0</td><td>3.0</td><td>2.0</td></tr><tr><th>23</th><td>15.2</td><td>8.0</td><td>304.0</td><td>150.0</td><td>3.15</td><td>3.435</td><td>17.3</td><td>0.0</td><td>0.0</td><td>3.0</td><td>2.0</td></tr><tr><th>24</th><td>13.3</td><td>8.0</td><td>350.0</td><td>245.0</td><td>3.73</td><td>3.84</td><td>15.41</td><td>0.0</td><td>0.0</td><td>3.0</td><td>4.0</td></tr><tr><th>25</th><td>19.2</td><td>8.0</td><td>400.0</td><td>175.0</td><td>3.08</td><td>3.845</td><td>17.05</td><td>0.0</td><td>0.0</td><td>3.0</td><td>2.0</td></tr><tr><th>26</th><td>27.3</td><td>4.0</td><td>79.0</td><td>66.0</td><td>4.08</td><td>1.935</td><td>18.9</td><td>1.0</td><td>1.0</td><td>4.0</td><td>1.0</td></tr><tr><th>27</th><td>26.0</td><td>4.0</td><td>120.3</td><td>91.0</td><td>4.43</td><td>2.14</td><td>16.7</td><td>0.0</td><td>1.0</td><td>5.0</td><td>2.0</td></tr><tr><th>28</th><td>30.4</td><td>4.0</td><td>95.1</td><td>113.0</td><td>3.77</td><td>1.513</td><td>16.9</td><td>1.0</td><td>1.0</td><td>5.0</td><td>2.0</td></tr><tr><th>29</th><td>15.8</td><td>8.0</td><td>351.0</td><td>264.0</td><td>4.22</td><td>3.17</td><td>14.5</td><td>0.0</td><td>1.0</td><td>5.0</td><td>4.0</td></tr><tr><th>30</th><td>19.7</td><td>6.0</td><td>145.0</td><td>175.0</td><td>3.62</td><td>2.77</td><td>15.5</td><td>0.0</td><td>1.0</td><td>5.0</td><td>6.0</td></tr><tr><th>&vellip;</th><td>&vellip;</td><td>&vellip;</td><td>&vellip;</td><td>&vellip;</td><td>&vellip;</td><td>&vellip;</td><td>&vellip;</td><td>&vellip;</td><td>&vellip;</td><td>&vellip;</td><td>&vellip;</td></tr></table>"
      ],
      "text/plain": [
       "32×11 DataFrames.DataFrame\n",
       "│ Row │ mpg  │ cyl │ disp  │ hp    │ drat │ wt    │ qsec  │ vs  │ am  │ gear │\n",
       "├─────┼──────┼─────┼───────┼───────┼──────┼───────┼───────┼─────┼─────┼──────┤\n",
       "│ 1   │ 21.0 │ 6.0 │ 160.0 │ 110.0 │ 3.9  │ 2.62  │ 16.46 │ 0.0 │ 1.0 │ 4.0  │\n",
       "│ 2   │ 21.0 │ 6.0 │ 160.0 │ 110.0 │ 3.9  │ 2.875 │ 17.02 │ 0.0 │ 1.0 │ 4.0  │\n",
       "│ 3   │ 22.8 │ 4.0 │ 108.0 │ 93.0  │ 3.85 │ 2.32  │ 18.61 │ 1.0 │ 1.0 │ 4.0  │\n",
       "│ 4   │ 21.4 │ 6.0 │ 258.0 │ 110.0 │ 3.08 │ 3.215 │ 19.44 │ 1.0 │ 0.0 │ 3.0  │\n",
       "│ 5   │ 18.7 │ 8.0 │ 360.0 │ 175.0 │ 3.15 │ 3.44  │ 17.02 │ 0.0 │ 0.0 │ 3.0  │\n",
       "│ 6   │ 18.1 │ 6.0 │ 225.0 │ 105.0 │ 2.76 │ 3.46  │ 20.22 │ 1.0 │ 0.0 │ 3.0  │\n",
       "│ 7   │ 14.3 │ 8.0 │ 360.0 │ 245.0 │ 3.21 │ 3.57  │ 15.84 │ 0.0 │ 0.0 │ 3.0  │\n",
       "│ 8   │ 24.4 │ 4.0 │ 146.7 │ 62.0  │ 3.69 │ 3.19  │ 20.0  │ 1.0 │ 0.0 │ 4.0  │\n",
       "│ 9   │ 22.8 │ 4.0 │ 140.8 │ 95.0  │ 3.92 │ 3.15  │ 22.9  │ 1.0 │ 0.0 │ 4.0  │\n",
       "│ 10  │ 19.2 │ 6.0 │ 167.6 │ 123.0 │ 3.92 │ 3.44  │ 18.3  │ 1.0 │ 0.0 │ 4.0  │\n",
       "│ 11  │ 17.8 │ 6.0 │ 167.6 │ 123.0 │ 3.92 │ 3.44  │ 18.9  │ 1.0 │ 0.0 │ 4.0  │\n",
       "⋮\n",
       "│ 21  │ 21.5 │ 4.0 │ 120.1 │ 97.0  │ 3.7  │ 2.465 │ 20.01 │ 1.0 │ 0.0 │ 3.0  │\n",
       "│ 22  │ 15.5 │ 8.0 │ 318.0 │ 150.0 │ 2.76 │ 3.52  │ 16.87 │ 0.0 │ 0.0 │ 3.0  │\n",
       "│ 23  │ 15.2 │ 8.0 │ 304.0 │ 150.0 │ 3.15 │ 3.435 │ 17.3  │ 0.0 │ 0.0 │ 3.0  │\n",
       "│ 24  │ 13.3 │ 8.0 │ 350.0 │ 245.0 │ 3.73 │ 3.84  │ 15.41 │ 0.0 │ 0.0 │ 3.0  │\n",
       "│ 25  │ 19.2 │ 8.0 │ 400.0 │ 175.0 │ 3.08 │ 3.845 │ 17.05 │ 0.0 │ 0.0 │ 3.0  │\n",
       "│ 26  │ 27.3 │ 4.0 │ 79.0  │ 66.0  │ 4.08 │ 1.935 │ 18.9  │ 1.0 │ 1.0 │ 4.0  │\n",
       "│ 27  │ 26.0 │ 4.0 │ 120.3 │ 91.0  │ 4.43 │ 2.14  │ 16.7  │ 0.0 │ 1.0 │ 5.0  │\n",
       "│ 28  │ 30.4 │ 4.0 │ 95.1  │ 113.0 │ 3.77 │ 1.513 │ 16.9  │ 1.0 │ 1.0 │ 5.0  │\n",
       "│ 29  │ 15.8 │ 8.0 │ 351.0 │ 264.0 │ 4.22 │ 3.17  │ 14.5  │ 0.0 │ 1.0 │ 5.0  │\n",
       "│ 30  │ 19.7 │ 6.0 │ 145.0 │ 175.0 │ 3.62 │ 2.77  │ 15.5  │ 0.0 │ 1.0 │ 5.0  │\n",
       "│ 31  │ 15.0 │ 8.0 │ 301.0 │ 335.0 │ 3.54 │ 3.57  │ 14.6  │ 0.0 │ 1.0 │ 5.0  │\n",
       "│ 32  │ 21.4 │ 4.0 │ 121.0 │ 109.0 │ 4.11 │ 2.78  │ 18.6  │ 1.0 │ 1.0 │ 4.0  │\n",
       "\n",
       "│ Row │ carb │\n",
       "├─────┼──────┤\n",
       "│ 1   │ 4.0  │\n",
       "│ 2   │ 4.0  │\n",
       "│ 3   │ 1.0  │\n",
       "│ 4   │ 1.0  │\n",
       "│ 5   │ 2.0  │\n",
       "│ 6   │ 1.0  │\n",
       "│ 7   │ 4.0  │\n",
       "│ 8   │ 2.0  │\n",
       "│ 9   │ 2.0  │\n",
       "│ 10  │ 4.0  │\n",
       "│ 11  │ 4.0  │\n",
       "⋮\n",
       "│ 21  │ 1.0  │\n",
       "│ 22  │ 2.0  │\n",
       "│ 23  │ 2.0  │\n",
       "│ 24  │ 4.0  │\n",
       "│ 25  │ 2.0  │\n",
       "│ 26  │ 1.0  │\n",
       "│ 27  │ 2.0  │\n",
       "│ 28  │ 2.0  │\n",
       "│ 29  │ 4.0  │\n",
       "│ 30  │ 6.0  │\n",
       "│ 31  │ 8.0  │\n",
       "│ 32  │ 2.0  │"
      ]
     },
     "execution_count": 4,
     "metadata": {},
     "output_type": "execute_result"
    }
   ],
   "source": [
    "mtcars = rcopy(\"mtcars\")"
   ]
  },
  {
   "cell_type": "markdown",
   "metadata": {
    "slideshow": {
     "slide_type": "slide"
    }
   },
   "source": [
    "## A simpler interface\n",
    "- the character `R` followed by a string evaluates the string as an `R` expression.  The behavior is defined in `@R_str`. See [`rstr.jl`](https://github.com/JuliaStats/RCall.jl/blob/master/src/rstr.jl).\n",
    "- Julia allows multiline strings using triple quotes\n",
    "- string interpolation of Julia objects is allowed using `$`, only when it is not used as valid `R` syntax.\n"
   ]
  },
  {
   "cell_type": "code",
   "execution_count": 5,
   "metadata": {
    "collapsed": false,
    "slideshow": {
     "slide_type": "fragment"
    }
   },
   "outputs": [
    {
     "data": {
      "text/plain": [
       "0.7525806925786059"
      ]
     },
     "execution_count": 5,
     "metadata": {},
     "output_type": "execute_result"
    }
   ],
   "source": [
    "R\"\"\"\n",
    "suppressMessages(library(lme4))\n",
    "fm1 <- lmer(Yield ~ 1 + (1 | Batch), Dyestuff, REML = FALSE)\n",
    "getME(fm1, \"theta\")\n",
    "\"\"\"[1]"
   ]
  },
  {
   "cell_type": "code",
   "execution_count": 6,
   "metadata": {
    "collapsed": false,
    "slideshow": {
     "slide_type": "slide"
    }
   },
   "outputs": [
    {
     "data": {
      "image/png": "[encoded data removed]"
     },
     "metadata": {},
     "output_type": "display_data"
    },
    {
     "data": {
      "text/plain": [
       "RCall.RObject{RCall.VecSxp}\n"
      ]
     },
     "execution_count": 6,
     "metadata": {},
     "output_type": "execute_result"
    }
   ],
   "source": [
    "using DataFrames\n",
    "brownian(N) = DataFrame(x = 1:N, y = cumsum(randn(N)))\n",
    "srand(1234321)  # set random number seed\n",
    "br = brownian(10_000);\n",
    "R\"\"\"\n",
    "suppressMessages(library(ggplot2))\n",
    "ggplot($br, aes(x = x, y = y)) + geom_line()\n",
    "\"\"\""
   ]
  },
  {
   "cell_type": "markdown",
   "metadata": {
    "slideshow": {
     "slide_type": "slide"
    }
   },
   "source": [
    "## An even simpler interface\n",
    "\n",
    "- Most of base Julia, including the REPL, is written in Julia\n",
    "- The REPL allows for different, user-extensible, modes: julia, shell, help, ..\n",
    "- Modes can be switched by the first character you type at the prompt (`?` for help; `;` for shell)\n",
    "- `RCall` adds an R REPL mode (magic char is `$`).  `Cxx` adds a `C++` REPL mode (magic is `<`).  "
   ]
  },
  {
   "cell_type": "markdown",
   "metadata": {
    "slideshow": {
     "slide_type": "slide"
    }
   },
   "source": [
    "## RCall summary\n",
    "\n",
    "- There is no \"glue\" code written in a compiled language.  The whole package is written in Julia.\n",
    "- It is feasible to emulate the internal R structures in Julia.  The other direction would be very difficult.\n",
    "- `ccall`, `cglobal`, `cfunction`, `Libdl.dlopen` allow low-level access to a C API.\n",
    "- String macros and REPL modes allow for a familiar interface."
   ]
  },
  {
   "cell_type": "markdown",
   "metadata": {
    "slideshow": {
     "slide_type": "slide"
    }
   },
   "source": [
    "## PyCall (stevengj/PyCall.jl)\n",
    "\n",
    "- the `@pyimport` macro functions like `import` in Python."
   ]
  },
  {
   "cell_type": "code",
   "execution_count": 7,
   "metadata": {
    "collapsed": false,
    "slideshow": {
     "slide_type": "fragment"
    }
   },
   "outputs": [],
   "source": [
    "using PyCall\n",
    "@pyimport numpy as np\n",
    "@pyimport pandas as pd\n",
    "@pyimport feather"
   ]
  },
  {
   "cell_type": "code",
   "execution_count": 8,
   "metadata": {
    "collapsed": false,
    "slideshow": {
     "slide_type": "slide"
    }
   },
   "outputs": [
    {
     "name": "stdout",
     "output_type": "stream",
     "text": [
      "                   Categorical      8 bytes  PyCall.PyObject\n",
      "              CategoricalIndex      8 bytes  PyCall.PyObject\n",
      "                     DataFrame      8 bytes  PyCall.PyObject\n",
      "                    DateOffset      8 bytes  PyCall.PyObject\n",
      "                 DatetimeIndex      8 bytes  PyCall.PyObject\n",
      "                     ExcelFile      8 bytes  PyCall.PyObject\n",
      "                   ExcelWriter      8 bytes  PyCall.PyObject\n",
      "                          Expr      8 bytes  PyCall.PyObject\n",
      "                  Float64Index      8 bytes  PyCall.PyObject\n",
      "                       Grouper      8 bytes  PyCall.PyObject\n",
      "                      HDFStore      8 bytes  PyCall.PyObject\n",
      "                         Index      8 bytes  PyCall.PyObject\n",
      "                    IndexSlice      8 bytes  PyCall.PyObject\n",
      "                    Int64Index      8 bytes  PyCall.PyObject\n",
      "                    MultiIndex      8 bytes  PyCall.PyObject\n",
      "                           NaT      8 bytes  PyCall.PyObject\n",
      "                         Panel      8 bytes  PyCall.PyObject\n",
      "                       Panel4D      8 bytes  PyCall.PyObject\n",
      "                        Period      8 bytes  PyCall.PyObject\n",
      "                   PeriodIndex      8 bytes  PyCall.PyObject\n",
      "                    RangeIndex      8 bytes  PyCall.PyObject\n",
      "                        Series      8 bytes  PyCall.PyObject\n",
      "                   SparseArray      8 bytes  PyCall.PyObject\n",
      "               SparseDataFrame      8 bytes  PyCall.PyObject\n",
      "                    SparseList      8 bytes  PyCall.PyObject\n",
      "                   SparsePanel      8 bytes  PyCall.PyObject\n",
      "                  SparseSeries      8 bytes  PyCall.PyObject\n",
      "              SparseTimeSeries      8 bytes  PyCall.PyObject\n",
      "                          Term      8 bytes  PyCall.PyObject\n",
      "                   TimeGrouper      8 bytes  PyCall.PyObject\n",
      "                    TimeSeries      8 bytes  PyCall.PyObject\n",
      "                     Timedelta      8 bytes  PyCall.PyObject\n",
      "                TimedeltaIndex      8 bytes  PyCall.PyObject\n",
      "                     Timestamp      8 bytes  PyCall.PyObject\n",
      "                     WidePanel      8 bytes  PyCall.PyObject\n",
      "                      __anon__     10 KB     Module\n",
      "                         algos      8 bytes  PyCall.PyObject\n",
      "                   bdate_range      8 bytes  PyCall.PyObject\n",
      "                        compat      8 bytes  PyCall.PyObject\n",
      "                   computation      8 bytes  PyCall.PyObject\n",
      "                        concat      8 bytes  PyCall.PyObject\n",
      "                          core      8 bytes  PyCall.PyObject\n",
      "                      crosstab      8 bytes  PyCall.PyObject\n",
      "                           cut      8 bytes  PyCall.PyObject\n",
      "                    date_range      8 bytes  PyCall.PyObject\n",
      "                      datetime      8 bytes  PyCall.PyObject\n",
      "                     datetools      8 bytes  PyCall.PyObject\n",
      "                    dependency     16 bytes  ASCIIString\n",
      "               describe_option      8 bytes  PyCall.PyObject\n",
      "                          eval      8 bytes  PyCall.PyObject\n",
      "                          ewma      8 bytes  PyCall.PyObject\n",
      "                       ewmcorr      8 bytes  PyCall.PyObject\n",
      "                        ewmcov      8 bytes  PyCall.PyObject\n",
      "                        ewmstd      8 bytes  PyCall.PyObject\n",
      "                        ewmvar      8 bytes  PyCall.PyObject\n",
      "                        ewmvol      8 bytes  PyCall.PyObject\n",
      "               expanding_apply      8 bytes  PyCall.PyObject\n",
      "                expanding_corr      8 bytes  PyCall.PyObject\n",
      "               expanding_count      8 bytes  PyCall.PyObject\n",
      "                 expanding_cov      8 bytes  PyCall.PyObject\n",
      "                expanding_kurt      8 bytes  PyCall.PyObject\n",
      "                 expanding_max      8 bytes  PyCall.PyObject\n",
      "                expanding_mean      8 bytes  PyCall.PyObject\n",
      "              expanding_median      8 bytes  PyCall.PyObject\n",
      "                 expanding_min      8 bytes  PyCall.PyObject\n",
      "            expanding_quantile      8 bytes  PyCall.PyObject\n",
      "                expanding_skew      8 bytes  PyCall.PyObject\n",
      "                 expanding_std      8 bytes  PyCall.PyObject\n",
      "                 expanding_sum      8 bytes  PyCall.PyObject\n",
      "                 expanding_var      8 bytes  PyCall.PyObject\n",
      "                     factorize      8 bytes  PyCall.PyObject\n",
      "                  fama_macbeth      8 bytes  PyCall.PyObject\n",
      "                       formats      8 bytes  PyCall.PyObject\n",
      "                   get_dummies      8 bytes  PyCall.PyObject\n",
      "                    get_option      8 bytes  PyCall.PyObject\n",
      "                     get_store      8 bytes  PyCall.PyObject\n",
      "                       groupby      8 bytes  PyCall.PyObject\n",
      "             hard_dependencies     65 bytes  Tuple{ASCIIString,ASCIIString,ASCI…\n",
      "                     hashtable      8 bytes  PyCall.PyObject\n",
      "                         index      8 bytes  PyCall.PyObject\n",
      "                       indexes      8 bytes  PyCall.PyObject\n",
      "                    infer_freq      8 bytes  PyCall.PyObject\n",
      "                          info      8 bytes  PyCall.PyObject\n",
      "                            io      8 bytes  PyCall.PyObject\n",
      "                        isnull      8 bytes  PyCall.PyObject\n",
      "                          json      8 bytes  PyCall.PyObject\n",
      "                           lib      8 bytes  PyCall.PyObject\n",
      "                      lreshape      8 bytes  PyCall.PyObject\n",
      "                         match      8 bytes  PyCall.PyObject\n",
      "                          melt      8 bytes  PyCall.PyObject\n",
      "                         merge      8 bytes  PyCall.PyObject\n",
      "          missing_dependencies      0 bytes  0-element Array{Any,1}\n",
      "                       msgpack      8 bytes  PyCall.PyObject\n",
      "                       notnull      8 bytes  PyCall.PyObject\n",
      "                            np      8 bytes  PyCall.PyObject\n",
      "                       offsets      8 bytes  PyCall.PyObject\n",
      "                           ols      8 bytes  PyCall.PyObject\n",
      "                option_context      8 bytes  PyCall.PyObject\n",
      "                       options      8 bytes  PyCall.PyObject\n",
      "                 ordered_merge      8 bytes  PyCall.PyObject\n",
      "                        pandas      8 bytes  PyCall.PyObject\n",
      "                        parser      8 bytes  PyCall.PyObject\n",
      "                  period_range      8 bytes  PyCall.PyObject\n",
      "                         pivot      8 bytes  PyCall.PyObject\n",
      "                   pivot_table      8 bytes  PyCall.PyObject\n",
      "                   plot_params    357 bytes  Dict{Any,Any} with 1 entry\n",
      "                          pnow      8 bytes  PyCall.PyObject\n",
      "                          qcut      8 bytes  PyCall.PyObject\n",
      "                read_clipboard      8 bytes  PyCall.PyObject\n",
      "                      read_csv      8 bytes  PyCall.PyObject\n",
      "                    read_excel      8 bytes  PyCall.PyObject\n",
      "                      read_fwf      8 bytes  PyCall.PyObject\n",
      "                      read_gbq      8 bytes  PyCall.PyObject\n",
      "                      read_hdf      8 bytes  PyCall.PyObject\n",
      "                     read_html      8 bytes  PyCall.PyObject\n",
      "                     read_json      8 bytes  PyCall.PyObject\n",
      "                  read_msgpack      8 bytes  PyCall.PyObject\n",
      "                   read_pickle      8 bytes  PyCall.PyObject\n",
      "                      read_sas      8 bytes  PyCall.PyObject\n",
      "                      read_sql      8 bytes  PyCall.PyObject\n",
      "                read_sql_query      8 bytes  PyCall.PyObject\n",
      "                read_sql_table      8 bytes  PyCall.PyObject\n",
      "                    read_stata      8 bytes  PyCall.PyObject\n",
      "                    read_table      8 bytes  PyCall.PyObject\n",
      "                  reset_option      8 bytes  PyCall.PyObject\n",
      "                 rolling_apply      8 bytes  PyCall.PyObject\n",
      "                  rolling_corr      8 bytes  PyCall.PyObject\n",
      "                 rolling_count      8 bytes  PyCall.PyObject\n",
      "                   rolling_cov      8 bytes  PyCall.PyObject\n",
      "                  rolling_kurt      8 bytes  PyCall.PyObject\n",
      "                   rolling_max      8 bytes  PyCall.PyObject\n",
      "                  rolling_mean      8 bytes  PyCall.PyObject\n",
      "                rolling_median      8 bytes  PyCall.PyObject\n",
      "                   rolling_min      8 bytes  PyCall.PyObject\n",
      "              rolling_quantile      8 bytes  PyCall.PyObject\n",
      "                  rolling_skew      8 bytes  PyCall.PyObject\n",
      "                   rolling_std      8 bytes  PyCall.PyObject\n",
      "                   rolling_sum      8 bytes  PyCall.PyObject\n",
      "                   rolling_var      8 bytes  PyCall.PyObject\n",
      "                rolling_window      8 bytes  PyCall.PyObject\n",
      "                scatter_matrix      8 bytes  PyCall.PyObject\n",
      "          set_eng_float_format      8 bytes  PyCall.PyObject\n",
      "                    set_option      8 bytes  PyCall.PyObject\n",
      "                 show_versions      8 bytes  PyCall.PyObject\n",
      "                        sparse      8 bytes  PyCall.PyObject\n",
      "                         stats      8 bytes  PyCall.PyObject\n",
      "                          test      8 bytes  PyCall.PyObject\n",
      "               timedelta_range      8 bytes  PyCall.PyObject\n",
      "                   to_datetime      8 bytes  PyCall.PyObject\n",
      "                    to_msgpack      8 bytes  PyCall.PyObject\n",
      "                    to_numeric      8 bytes  PyCall.PyObject\n",
      "                     to_pickle      8 bytes  PyCall.PyObject\n",
      "                  to_timedelta      8 bytes  PyCall.PyObject\n",
      "                         tools      8 bytes  PyCall.PyObject\n",
      "                       tseries      8 bytes  PyCall.PyObject\n",
      "                         tslib      8 bytes  PyCall.PyObject\n",
      "                         types      8 bytes  PyCall.PyObject\n",
      "                        unique      8 bytes  PyCall.PyObject\n",
      "                          util      8 bytes  PyCall.PyObject\n",
      "                  value_counts      8 bytes  PyCall.PyObject\n",
      "                  wide_to_long      8 bytes  PyCall.PyObject\n"
     ]
    }
   ],
   "source": [
    "whos(pd)"
   ]
  },
  {
   "cell_type": "code",
   "execution_count": 9,
   "metadata": {
    "collapsed": false,
    "slideshow": {
     "slide_type": "slide"
    }
   },
   "outputs": [
    {
     "data": {
      "text/plain": [
       "brown (generic function with 1 method)"
      ]
     },
     "execution_count": 9,
     "metadata": {},
     "output_type": "execute_result"
    }
   ],
   "source": [
    "function brown(N::Number)\n",
    "    v = zeros(N + 1)\n",
    "    for i in 1:N\n",
    "        v[i + 1] = v[i] + randn()\n",
    "    end\n",
    "    v\n",
    "end\n",
    "        "
   ]
  },
  {
   "cell_type": "code",
   "execution_count": 10,
   "metadata": {
    "collapsed": false,
    "slideshow": {
     "slide_type": "fragment"
    }
   },
   "outputs": [
    {
     "data": {
      "text/html": [
       "<div>\n",
       "<table border=\"1\" class=\"dataframe\">\n",
       "  <thead>\n",
       "    <tr style=\"text-align: right;\">\n",
       "      <th></th>\n",
       "      <th>br1</th>\n",
       "      <th>br2</th>\n",
       "    </tr>\n",
       "  </thead>\n",
       "  <tbody>\n",
       "    <tr>\n",
       "      <th>0</th>\n",
       "      <td>0.000000</td>\n",
       "      <td>0.000000</td>\n",
       "    </tr>\n",
       "    <tr>\n",
       "      <th>1</th>\n",
       "      <td>-0.773834</td>\n",
       "      <td>-0.006075</td>\n",
       "    </tr>\n",
       "    <tr>\n",
       "      <th>2</th>\n",
       "      <td>-0.537581</td>\n",
       "      <td>-0.281177</td>\n",
       "    </tr>\n",
       "    <tr>\n",
       "      <th>3</th>\n",
       "      <td>0.070239</td>\n",
       "      <td>0.989620</td>\n",
       "    </tr>\n",
       "    <tr>\n",
       "      <th>4</th>\n",
       "      <td>0.913922</td>\n",
       "      <td>0.272461</td>\n",
       "    </tr>\n",
       "    <tr>\n",
       "      <th>5</th>\n",
       "      <td>0.783253</td>\n",
       "      <td>0.943957</td>\n",
       "    </tr>\n",
       "    <tr>\n",
       "      <th>6</th>\n",
       "      <td>1.847161</td>\n",
       "      <td>0.796048</td>\n",
       "    </tr>\n",
       "    <tr>\n",
       "      <th>7</th>\n",
       "      <td>0.448132</td>\n",
       "      <td>1.478668</td>\n",
       "    </tr>\n",
       "    <tr>\n",
       "      <th>8</th>\n",
       "      <td>-2.358731</td>\n",
       "      <td>0.106409</td>\n",
       "    </tr>\n",
       "    <tr>\n",
       "      <th>9</th>\n",
       "      <td>-3.037559</td>\n",
       "      <td>-0.322209</td>\n",
       "    </tr>\n",
       "    <tr>\n",
       "      <th>10</th>\n",
       "      <td>-0.647172</td>\n",
       "      <td>-0.024637</td>\n",
       "    </tr>\n",
       "    <tr>\n",
       "      <th>11</th>\n",
       "      <td>-0.324446</td>\n",
       "      <td>0.887330</td>\n",
       "    </tr>\n",
       "    <tr>\n",
       "      <th>12</th>\n",
       "      <td>-1.087391</td>\n",
       "      <td>0.764816</td>\n",
       "    </tr>\n",
       "    <tr>\n",
       "      <th>13</th>\n",
       "      <td>-0.092598</td>\n",
       "      <td>1.635592</td>\n",
       "    </tr>\n",
       "    <tr>\n",
       "      <th>14</th>\n",
       "      <td>0.270325</td>\n",
       "      <td>1.103798</td>\n",
       "    </tr>\n",
       "    <tr>\n",
       "      <th>15</th>\n",
       "      <td>0.026771</td>\n",
       "      <td>0.601902</td>\n",
       "    </tr>\n",
       "    <tr>\n",
       "      <th>16</th>\n",
       "      <td>-1.469982</td>\n",
       "      <td>1.815822</td>\n",
       "    </tr>\n",
       "    <tr>\n",
       "      <th>17</th>\n",
       "      <td>-2.144328</td>\n",
       "      <td>0.957945</td>\n",
       "    </tr>\n",
       "    <tr>\n",
       "      <th>18</th>\n",
       "      <td>-3.344290</td>\n",
       "      <td>1.105669</td>\n",
       "    </tr>\n",
       "    <tr>\n",
       "      <th>19</th>\n",
       "      <td>-2.112758</td>\n",
       "      <td>1.303400</td>\n",
       "    </tr>\n",
       "    <tr>\n",
       "      <th>20</th>\n",
       "      <td>-3.072021</td>\n",
       "      <td>0.911289</td>\n",
       "    </tr>\n",
       "    <tr>\n",
       "      <th>21</th>\n",
       "      <td>-2.243848</td>\n",
       "      <td>1.488212</td>\n",
       "    </tr>\n",
       "    <tr>\n",
       "      <th>22</th>\n",
       "      <td>-1.276259</td>\n",
       "      <td>1.990742</td>\n",
       "    </tr>\n",
       "    <tr>\n",
       "      <th>23</th>\n",
       "      <td>-2.105055</td>\n",
       "      <td>2.864032</td>\n",
       "    </tr>\n",
       "    <tr>\n",
       "      <th>24</th>\n",
       "      <td>-1.909855</td>\n",
       "      <td>4.591759</td>\n",
       "    </tr>\n",
       "    <tr>\n",
       "      <th>25</th>\n",
       "      <td>-2.241574</td>\n",
       "      <td>4.498321</td>\n",
       "    </tr>\n",
       "    <tr>\n",
       "      <th>26</th>\n",
       "      <td>-2.712888</td>\n",
       "      <td>4.342676</td>\n",
       "    </tr>\n",
       "    <tr>\n",
       "      <th>27</th>\n",
       "      <td>-2.501568</td>\n",
       "      <td>4.245411</td>\n",
       "    </tr>\n",
       "    <tr>\n",
       "      <th>28</th>\n",
       "      <td>-2.737541</td>\n",
       "      <td>3.471929</td>\n",
       "    </tr>\n",
       "    <tr>\n",
       "      <th>29</th>\n",
       "      <td>-1.666890</td>\n",
       "      <td>3.263433</td>\n",
       "    </tr>\n",
       "    <tr>\n",
       "      <th>...</th>\n",
       "      <td>...</td>\n",
       "      <td>...</td>\n",
       "    </tr>\n",
       "    <tr>\n",
       "      <th>9971</th>\n",
       "      <td>-67.201469</td>\n",
       "      <td>-37.090684</td>\n",
       "    </tr>\n",
       "    <tr>\n",
       "      <th>9972</th>\n",
       "      <td>-68.372847</td>\n",
       "      <td>-37.603236</td>\n",
       "    </tr>\n",
       "    <tr>\n",
       "      <th>9973</th>\n",
       "      <td>-69.053534</td>\n",
       "      <td>-37.842471</td>\n",
       "    </tr>\n",
       "    <tr>\n",
       "      <th>9974</th>\n",
       "      <td>-67.648497</td>\n",
       "      <td>-38.373551</td>\n",
       "    </tr>\n",
       "    <tr>\n",
       "      <th>9975</th>\n",
       "      <td>-65.773006</td>\n",
       "      <td>-39.242039</td>\n",
       "    </tr>\n",
       "    <tr>\n",
       "      <th>9976</th>\n",
       "      <td>-66.520155</td>\n",
       "      <td>-39.173315</td>\n",
       "    </tr>\n",
       "    <tr>\n",
       "      <th>9977</th>\n",
       "      <td>-66.774692</td>\n",
       "      <td>-40.773012</td>\n",
       "    </tr>\n",
       "    <tr>\n",
       "      <th>9978</th>\n",
       "      <td>-67.839113</td>\n",
       "      <td>-39.828624</td>\n",
       "    </tr>\n",
       "    <tr>\n",
       "      <th>9979</th>\n",
       "      <td>-68.676012</td>\n",
       "      <td>-40.120377</td>\n",
       "    </tr>\n",
       "    <tr>\n",
       "      <th>9980</th>\n",
       "      <td>-68.364612</td>\n",
       "      <td>-38.445496</td>\n",
       "    </tr>\n",
       "    <tr>\n",
       "      <th>9981</th>\n",
       "      <td>-66.843212</td>\n",
       "      <td>-38.913253</td>\n",
       "    </tr>\n",
       "    <tr>\n",
       "      <th>9982</th>\n",
       "      <td>-66.390980</td>\n",
       "      <td>-38.201632</td>\n",
       "    </tr>\n",
       "    <tr>\n",
       "      <th>9983</th>\n",
       "      <td>-65.733951</td>\n",
       "      <td>-37.470297</td>\n",
       "    </tr>\n",
       "    <tr>\n",
       "      <th>9984</th>\n",
       "      <td>-65.099306</td>\n",
       "      <td>-38.119241</td>\n",
       "    </tr>\n",
       "    <tr>\n",
       "      <th>9985</th>\n",
       "      <td>-66.354152</td>\n",
       "      <td>-37.442763</td>\n",
       "    </tr>\n",
       "    <tr>\n",
       "      <th>9986</th>\n",
       "      <td>-68.651218</td>\n",
       "      <td>-38.013503</td>\n",
       "    </tr>\n",
       "    <tr>\n",
       "      <th>9987</th>\n",
       "      <td>-67.823224</td>\n",
       "      <td>-37.741410</td>\n",
       "    </tr>\n",
       "    <tr>\n",
       "      <th>9988</th>\n",
       "      <td>-68.053629</td>\n",
       "      <td>-38.639877</td>\n",
       "    </tr>\n",
       "    <tr>\n",
       "      <th>9989</th>\n",
       "      <td>-67.943860</td>\n",
       "      <td>-36.262430</td>\n",
       "    </tr>\n",
       "    <tr>\n",
       "      <th>9990</th>\n",
       "      <td>-66.721974</td>\n",
       "      <td>-35.792575</td>\n",
       "    </tr>\n",
       "    <tr>\n",
       "      <th>9991</th>\n",
       "      <td>-67.957720</td>\n",
       "      <td>-35.626207</td>\n",
       "    </tr>\n",
       "    <tr>\n",
       "      <th>9992</th>\n",
       "      <td>-68.531987</td>\n",
       "      <td>-34.892304</td>\n",
       "    </tr>\n",
       "    <tr>\n",
       "      <th>9993</th>\n",
       "      <td>-68.036708</td>\n",
       "      <td>-34.475120</td>\n",
       "    </tr>\n",
       "    <tr>\n",
       "      <th>9994</th>\n",
       "      <td>-69.109629</td>\n",
       "      <td>-34.392904</td>\n",
       "    </tr>\n",
       "    <tr>\n",
       "      <th>9995</th>\n",
       "      <td>-69.369302</td>\n",
       "      <td>-34.677581</td>\n",
       "    </tr>\n",
       "    <tr>\n",
       "      <th>9996</th>\n",
       "      <td>-69.953834</td>\n",
       "      <td>-36.628048</td>\n",
       "    </tr>\n",
       "    <tr>\n",
       "      <th>9997</th>\n",
       "      <td>-69.380250</td>\n",
       "      <td>-37.220133</td>\n",
       "    </tr>\n",
       "    <tr>\n",
       "      <th>9998</th>\n",
       "      <td>-69.382725</td>\n",
       "      <td>-36.422765</td>\n",
       "    </tr>\n",
       "    <tr>\n",
       "      <th>9999</th>\n",
       "      <td>-69.528264</td>\n",
       "      <td>-35.077929</td>\n",
       "    </tr>\n",
       "    <tr>\n",
       "      <th>10000</th>\n",
       "      <td>-68.787819</td>\n",
       "      <td>-35.410307</td>\n",
       "    </tr>\n",
       "  </tbody>\n",
       "</table>\n",
       "<p>10001 rows × 2 columns</p>\n",
       "</div>"
      ],
      "text/plain": [
       "PyObject              br1        br2\n",
       "0       0.000000   0.000000\n",
       "1      -0.773834  -0.006075\n",
       "2      -0.537581  -0.281177\n",
       "3       0.070239   0.989620\n",
       "4       0.913922   0.272461\n",
       "5       0.783253   0.943957\n",
       "6       1.847161   0.796048\n",
       "7       0.448132   1.478668\n",
       "8      -2.358731   0.106409\n",
       "9      -3.037559  -0.322209\n",
       "10     -0.647172  -0.024637\n",
       "11     -0.324446   0.887330\n",
       "12     -1.087391   0.764816\n",
       "13     -0.092598   1.635592\n",
       "14      0.270325   1.103798\n",
       "15      0.026771   0.601902\n",
       "16     -1.469982   1.815822\n",
       "17     -2.144328   0.957945\n",
       "18     -3.344290   1.105669\n",
       "19     -2.112758   1.303400\n",
       "20     -3.072021   0.911289\n",
       "21     -2.243848   1.488212\n",
       "22     -1.276259   1.990742\n",
       "23     -2.105055   2.864032\n",
       "24     -1.909855   4.591759\n",
       "25     -2.241574   4.498321\n",
       "26     -2.712888   4.342676\n",
       "27     -2.501568   4.245411\n",
       "28     -2.737541   3.471929\n",
       "29     -1.666890   3.263433\n",
       "...          ...        ...\n",
       "9971  -67.201469 -37.090684\n",
       "9972  -68.372847 -37.603236\n",
       "9973  -69.053534 -37.842471\n",
       "9974  -67.648497 -38.373551\n",
       "9975  -65.773006 -39.242039\n",
       "9976  -66.520155 -39.173315\n",
       "9977  -66.774692 -40.773012\n",
       "9978  -67.839113 -39.828624\n",
       "9979  -68.676012 -40.120377\n",
       "9980  -68.364612 -38.445496\n",
       "9981  -66.843212 -38.913253\n",
       "9982  -66.390980 -38.201632\n",
       "9983  -65.733951 -37.470297\n",
       "9984  -65.099306 -38.119241\n",
       "9985  -66.354152 -37.442763\n",
       "9986  -68.651218 -38.013503\n",
       "9987  -67.823224 -37.741410\n",
       "9988  -68.053629 -38.639877\n",
       "9989  -67.943860 -36.262430\n",
       "9990  -66.721974 -35.792575\n",
       "9991  -67.957720 -35.626207\n",
       "9992  -68.531987 -34.892304\n",
       "9993  -68.036708 -34.475120\n",
       "9994  -69.109629 -34.392904\n",
       "9995  -69.369302 -34.677581\n",
       "9996  -69.953834 -36.628048\n",
       "9997  -69.380250 -37.220133\n",
       "9998  -69.382725 -36.422765\n",
       "9999  -69.528264 -35.077929\n",
       "10000 -68.787819 -35.410307\n",
       "\n",
       "[10001 rows x 2 columns]"
      ]
     },
     "execution_count": 10,
     "metadata": {},
     "output_type": "execute_result"
    }
   ],
   "source": [
    "df = pd.DataFrame(Dict(\"br1\" => pd.Series(brown(10_000)), \"br2\" => pd.Series(brown(10_000))))"
   ]
  },
  {
   "cell_type": "code",
   "execution_count": 11,
   "metadata": {
    "collapsed": true,
    "slideshow": {
     "slide_type": "slide"
    }
   },
   "outputs": [],
   "source": [
    "feather.write_dataframe(df, \"/tmp/br.feather\")"
   ]
  },
  {
   "cell_type": "code",
   "execution_count": 12,
   "metadata": {
    "collapsed": false,
    "slideshow": {
     "slide_type": "fragment"
    }
   },
   "outputs": [
    {
     "data": {
      "text/plain": [
       "RCall.RObject{RCall.VecSxp}\n",
       "Source: local data frame [10,001 x 2]\n",
       "\n",
       "           br1          br2\n",
       "         <dbl>        <dbl>\n",
       "1   0.00000000  0.000000000\n",
       "2  -0.77383429 -0.006074936\n",
       "3  -0.53758071 -0.281177366\n",
       "4   0.07023901  0.989619762\n",
       "5   0.91392200  0.272461480\n",
       "6   0.78325339  0.943957326\n",
       "7   1.84716072  0.796047645\n",
       "8   0.44813220  1.478668055\n",
       "9  -2.35873065  0.106408928\n",
       "10 -3.03755867 -0.322209156\n",
       "..         ...          ...\n"
      ]
     },
     "execution_count": 12,
     "metadata": {},
     "output_type": "execute_result"
    }
   ],
   "source": [
    "R\"\"\"\n",
    "library(feather)\n",
    "read_feather(\"/tmp/br.feather\")\n",
    "\"\"\""
   ]
  },
  {
   "cell_type": "code",
   "execution_count": null,
   "metadata": {
    "collapsed": true
   },
   "outputs": [],
   "source": []
  }
 ],
 "metadata": {
  "celltoolbar": "Slideshow",
  "kernelspec": {
   "display_name": "Julia 1.1.0",
   "language": "julia",
   "name": "julia-1.1"
  },
  "language_info": {
   "file_extension": ".jl",
   "mimetype": "application/julia",
   "name": "julia",
   "version": "0.4.6"
  }
 },
 "nbformat": 4,
 "nbformat_minor": 2
}
