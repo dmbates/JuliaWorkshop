{
 "cells": [
  {
   "cell_type": "markdown",
   "metadata": {},
   "source": [
    "# Writing Julia Functions"
   ]
  },
  {
   "cell_type": "markdown",
   "metadata": {},
   "source": [
    "The purpose of these notes is to introduce [R](http://www.r-project.org) programmers to the [Julia](http://julialang.org) programming language.\n",
    "\n",
    "Julia functions are sufficiently similar to R functions that most R programmers can read most Julia functions.  They are sufficiently different that initial attempts at writing a Julia function can be frustrating.\n",
    "\n",
    "One way of learning a programming language like Julia is to read programs written by experienced in that language.  One of the amazing aspects of Julia is that much of the Base system is written in Julia itself.  One of the current (June, 2014) deficiencies of Julia is that the documentation, especially package documentation, is quite sparse and you often need to read the source of a function to understand its purpose.\n",
    "\n",
    "In these notes I am assuming the use of julia-0.4.2 or later."
   ]
  },
  {
   "cell_type": "code",
   "execution_count": 1,
   "metadata": {
    "collapsed": false
   },
   "outputs": [
    {
     "name": "stdout",
     "output_type": "stream",
     "text": [
      "Julia Version 0.4.6\n",
      "Commit 2e358ce (2016-06-19 17:16 UTC)\n",
      "Platform Info:\n",
      "  System: Linux (x86_64-unknown-linux-gnu)\n",
      "  CPU: Intel(R) Core(TM) i5-3570 CPU @ 3.40GHz\n",
      "  WORD_SIZE: 64\n",
      "  BLAS: libopenblas (USE64BITINT DYNAMIC_ARCH NO_AFFINITY Sandybridge)\n",
      "  LAPACK: libopenblas64_\n",
      "  LIBM: libopenlibm\n",
      "  LLVM: libLLVM-3.3\n"
     ]
    }
   ],
   "source": [
    "versioninfo()"
   ]
  },
  {
   "cell_type": "markdown",
   "metadata": {},
   "source": [
    "## Tools for examining functions"
   ]
  },
  {
   "cell_type": "markdown",
   "metadata": {},
   "source": [
    "### Method signatures and sources"
   ]
  },
  {
   "cell_type": "markdown",
   "metadata": {},
   "source": [
    "Entering the name of a function in R returns the definition of the function.  Entering the name of a function in Julia provides information on the number of methods defined for that generic.  Remember that all Julia functions are generic functions."
   ]
  },
  {
   "cell_type": "code",
   "execution_count": 2,
   "metadata": {
    "collapsed": false
   },
   "outputs": [
    {
     "data": {
      "text/plain": [
       "mean (generic function with 4 methods)"
      ]
     },
     "execution_count": 2,
     "metadata": {},
     "output_type": "execute_result"
    }
   ],
   "source": [
    "mean"
   ]
  },
  {
   "cell_type": "markdown",
   "metadata": {},
   "source": [
    "The `methods` function gives the signatures of the methods for the generic."
   ]
  },
  {
   "cell_type": "code",
   "execution_count": 3,
   "metadata": {
    "collapsed": false
   },
   "outputs": [
    {
     "data": {
      "text/html": [
       "4 methods for generic function <b>mean</b>:<ul><li> mean<i>{T<:Real}</i>(r::<b>Range{T<:Real}</b>) at <a href=\"https://github.com/JuliaLang/julia/tree/2e358ce975029ec97aba5994c17d4a2169c3b085/base/range.jl#L710\" target=\"_blank\">range.jl:710</a><li> mean(A::<b>AbstractArray{T,N}</b>) at <a href=\"https://github.com/JuliaLang/julia/tree/2e358ce975029ec97aba5994c17d4a2169c3b085/base/statistics.jl#L19\" target=\"_blank\">statistics.jl:19</a><li> mean<i>{T}</i>(A::<b>AbstractArray{T,N}</b>, region) at <a href=\"https://github.com/JuliaLang/julia/tree/2e358ce975029ec97aba5994c17d4a2169c3b085/base/statistics.jl#L31\" target=\"_blank\">statistics.jl:31</a><li> mean(iterable) at <a href=\"https://github.com/JuliaLang/julia/tree/2e358ce975029ec97aba5994c17d4a2169c3b085/base/statistics.jl#L6\" target=\"_blank\">statistics.jl:6</a></ul>"
      ],
      "text/plain": [
       "# 4 methods for generic function \"mean\":\n",
       "mean{T<:Real}(r::Range{T<:Real}) at range.jl:710\n",
       "mean(A::AbstractArray{T,N}) at statistics.jl:19\n",
       "mean{T}(A::AbstractArray{T,N}, region) at statistics.jl:31\n",
       "mean(iterable) at statistics.jl:6"
      ]
     },
     "execution_count": 3,
     "metadata": {},
     "output_type": "execute_result"
    }
   ],
   "source": [
    "methods(mean)"
   ]
  },
  {
   "cell_type": "markdown",
   "metadata": {},
   "source": [
    "In an IJulia notebook the names of the files are links to the file in the github repository."
   ]
  },
  {
   "cell_type": "markdown",
   "metadata": {},
   "source": [
    "Prebuilt binary packages for various operating systems may have a copy of the base directory elsewhere.  The Ubuntu binaries put it in `/usr/share/julia/base`"
   ]
  },
  {
   "cell_type": "markdown",
   "metadata": {},
   "source": [
    "### The @which macro"
   ]
  },
  {
   "cell_type": "markdown",
   "metadata": {},
   "source": [
    "In addition to functions Julia provides macros.  Writing macros is not a priority when you start but you should know about some of the macros that can be useful with regard to functions.  A call to a macro always begins with the `@` character and parenthesis around the argument list are optional."
   ]
  },
  {
   "cell_type": "markdown",
   "metadata": {},
   "source": [
    "For generics that have many methods (try `methods(*)`) it may not be obvious which method applies to a particular set of arguments.  The `@which` macro tells you which method will be used. "
   ]
  },
  {
   "cell_type": "code",
   "execution_count": 4,
   "metadata": {
    "collapsed": false
   },
   "outputs": [
    {
     "data": {
      "text/html": [
       "mean(A::<b>AbstractArray{T,N}</b>) at <a href=\"https://github.com/JuliaLang/julia/tree/2e358ce975029ec97aba5994c17d4a2169c3b085/base/statistics.jl#L19\" target=\"_blank\">statistics.jl:19</a>"
      ],
      "text/plain": [
       "mean(A::AbstractArray{T,N}) at statistics.jl:19"
      ]
     },
     "execution_count": 4,
     "metadata": {},
     "output_type": "execute_result"
    }
   ],
   "source": [
    "@which mean([1:10;])"
   ]
  },
  {
   "cell_type": "markdown",
   "metadata": {
    "collapsed": false
   },
   "source": [
    "In a REPL session the filenames will not be live links.  You can use `@less mean([1:10;])` to view the source file at the indicated location."
   ]
  },
  {
   "cell_type": "markdown",
   "metadata": {},
   "source": [
    "## Other useful macros"
   ]
  },
  {
   "cell_type": "markdown",
   "metadata": {},
   "source": [
    "Two very useful macros for tuning the performance of your functions are `@time` and @profile.  Recent versions of the `@time` tell you the elapsed time, the total number of bytes allocated and the proportion of the time spent in garbage collection.\n",
    "\n",
    "Note that the number of bytes allocated does not measure the increase in memory used by the process.  Often objects are allocated, populated, used and freed within the course of a functions's execution.\n",
    "\n",
    "Also, bear in mind that the very short execution times are quite variable."
   ]
  },
  {
   "cell_type": "code",
   "execution_count": 5,
   "metadata": {
    "collapsed": false
   },
   "outputs": [
    {
     "data": {
      "text/plain": [
       "1x1000000 Array{Float64,2}:\n",
       " -0.141432  -0.307227  -0.276117  …  -0.134498  0.0388967  -0.0461761"
      ]
     },
     "execution_count": 5,
     "metadata": {},
     "output_type": "execute_result"
    }
   ],
   "source": [
    "mean(randn((25,1_000_000)),1)  # 1,000,000 replications of a normal sample of size 25"
   ]
  },
  {
   "cell_type": "code",
   "execution_count": 6,
   "metadata": {
    "collapsed": false
   },
   "outputs": [
    {
     "name": "stdout",
     "output_type": "stream",
     "text": [
      "  0.154326 seconds (584 allocations: 198.398 MB, 2.17% gc time)\n"
     ]
    }
   ],
   "source": [
    "@time mn25n = mean(randn(25,1_000_000),1);"
   ]
  },
  {
   "cell_type": "markdown",
   "metadata": {},
   "source": [
    "The first time a particular function signature is called it will be slower, often much slower, than subsequent times.  This is because the first call to a signature can cause a lot of compilation of methods.\n",
    "\n",
    "Another useful macro is `@profile`, especially when paired with the `view` function in the `ProfileView` package."
   ]
  },
  {
   "cell_type": "code",
   "execution_count": 7,
   "metadata": {
    "collapsed": false
   },
   "outputs": [],
   "source": [
    "@profile mean(randn(25,1_000_000),1);"
   ]
  },
  {
   "cell_type": "code",
   "execution_count": 8,
   "metadata": {
    "collapsed": false
   },
   "outputs": [
    {
     "data": {
      "image/svg+xml": [
       "<?xml version=\"1.0\" standalone=\"no\"?>\n",
       "<!DOCTYPE svg PUBLIC \"-//W3C//DTD SVG 1.1//EN\" \"http://www.w3.org/Graphics/SVG/1.1/DTD/svg11.dtd\">\n",
       "<svg version=\"1.1\" width=\"1200\" height=\"220\" viewBox=\"0 0 1200 220\" xmlns=\"http://www.w3.org/2000/svg\" >\n",
       "<defs >\n",
       "    <linearGradient id=\"background\" y1=\"0\" y2=\"1\" x1=\"0\" x2=\"0\" >\n",
       "        <stop stop-color=\"#eeeeee\" offset=\"5%\" />\n",
       "        <stop stop-color=\"#eeeeb0\" offset=\"95%\" />\n",
       "    </linearGradient>\n",
       "    <clipPath id=\"fig-0c15e0d08612412bb1cc1d51486796f7-image-frame\">\n",
       "      <rect id=\"fig-0c15e0d08612412bb1cc1d51486796f7-clip-rect\" x=\"0\" y=\"0\" width=\"1200\" height=\"220\" />\n",
       "    </clipPath>\n",
       "</defs>\n",
       "<style type=\"text/css\">\n",
       "    rect[rx]:hover { stroke:black; stroke-width:1; }\n",
       "    text:hover { stroke:black; stroke-width:1; stroke-opacity:0.35; }\n",
       "</style>\n",
       "<g id=\"fig-0c15e0d08612412bb1cc1d51486796f7-frame\" clip-path=\"url(#fig-0c15e0d08612412bb1cc1d51486796f7-image-frame)\">\n",
       "<rect class=\"pvbackground\" x=\"0.0\" y=\"0\" width=\"1200.0\" height=\"220.0\" fill=\"url(#background)\"  />\n",
       "<text class=\"pvbackground\" text-anchor=\"middle\" x=\"600\" y=\"24\" font-size=\"17\" font-family=\"Verdana\" fill=\"rgb(0,0,0)\"  >Profile results</text>\n",
       "<text text-anchor=\"left\" x=\"10\" y=\"203\" font-size=\"12\" font-family=\"Verdana\" fill=\"rgb(0,0,0)\"  >Function:</text>\n",
       "<text text-anchor=\"\" x=\"70\" y=\"203\" font-size=\"12\" font-family=\"Verdana\" fill=\"rgb(0,0,0)\" id=\"fig-0c15e0d08612412bb1cc1d51486796f7-details\" > </text>\n",
       "<g id=\"fig-0c15e0d08612412bb1cc1d51486796f7-viewport\" transform=\"scale(1)\">\n",
       "<rect vector-effect=\"non-scaling-stroke\" x=\"10.0\" y=\"165.0\" width=\"1172.4840764331211\" height=\"15.0\" fill=\"rgb(232,112,221)\" rx=\"2\" ry=\"2\" data-shortinfo=\"anonymous in task.jl:447\" data-info=\"anonymous in task.jl:447\"/>\n",
       "<text text-anchor=\"\" x=\"14.0\" y=\"176.5\" font-size=\"12\" font-family=\"Verdana\" fill=\"rgb(0,0,0)\" ></text>\n",
       "<rect vector-effect=\"non-scaling-stroke\" x=\"10.0\" y=\"150.0\" width=\"1172.4840764331211\" height=\"15.0\" fill=\"rgb(255,164,156)\" rx=\"2\" ry=\"2\" data-shortinfo=\"eventloop in /home/bates/.julia/v0.4/IJulia/src/IJulia.jl:143\" data-info=\"eventloop in /home/bates/.julia/v0.4/IJulia/src/IJulia.jl:143\"/>\n",
       "<text text-anchor=\"\" x=\"14.0\" y=\"161.5\" font-size=\"12\" font-family=\"Verdana\" fill=\"rgb(0,0,0)\" ></text>\n",
       "<rect vector-effect=\"non-scaling-stroke\" x=\"10.0\" y=\"135.0\" width=\"1172.4840764331211\" height=\"15.0\" fill=\"rgb(232,112,221)\" rx=\"2\" ry=\"2\" data-shortinfo=\"execute_request_0x535c5df2 in /home/bates/.julia/v0.4/IJulia/src/execute_request.jl:183\" data-info=\"execute_request_0x535c5df2 in /home/bates/.julia/v0.4/IJulia/src/execute_request.jl:183\"/>\n",
       "<text text-anchor=\"\" x=\"14.0\" y=\"146.5\" font-size=\"12\" font-family=\"Verdana\" fill=\"rgb(0,0,0)\" ></text>\n",
       "<rect vector-effect=\"non-scaling-stroke\" x=\"10.0\" y=\"120.0\" width=\"1172.4840764331211\" height=\"15.0\" fill=\"rgb(255,164,156)\" rx=\"2\" ry=\"2\" data-shortinfo=\"include_string in loading.jl:282\" data-info=\"include_string in loading.jl:282\"/>\n",
       "<text text-anchor=\"\" x=\"14.0\" y=\"131.5\" font-size=\"12\" font-family=\"Verdana\" fill=\"rgb(0,0,0)\" ></text>\n",
       "<rect vector-effect=\"non-scaling-stroke\" x=\"10.0\" y=\"105.0\" width=\"1007.1337579617834\" height=\"15.0\" fill=\"rgb(232,112,221)\" rx=\"2\" ry=\"2\" data-shortinfo=\"anonymous in profile.jl:16\" data-info=\"anonymous in profile.jl:16\"/>\n",
       "<text text-anchor=\"\" x=\"14.0\" y=\"116.5\" font-size=\"12\" font-family=\"Verdana\" fill=\"rgb(0,0,0)\" ></text>\n",
       "<rect vector-effect=\"non-scaling-stroke\" x=\"1017.1337579617834\" y=\"105.0\" width=\"165.3503184713377\" height=\"15.0\" fill=\"rgb(232,112,221)\" rx=\"2\" ry=\"2\" data-shortinfo=\"anonymous in profile.jl:16\" data-info=\"anonymous in profile.jl:16\"/>\n",
       "<text text-anchor=\"\" x=\"1021.1337579617834\" y=\"116.5\" font-size=\"12\" font-family=\"Verdana\" fill=\"rgb(0,0,0)\" ></text>\n",
       "<rect vector-effect=\"non-scaling-stroke\" x=\"10.0\" y=\"90.0\" width=\"248.02547770700636\" height=\"15.0\" fill=\"rgb(255,164,156)\" rx=\"2\" ry=\"2\" data-shortinfo=\"randn! in random.jl:1135\" data-info=\"randn! in random.jl:1135\"/>\n",
       "<text text-anchor=\"\" x=\"14.0\" y=\"101.5\" font-size=\"12\" font-family=\"Verdana\" fill=\"rgb(0,0,0)\" ></text>\n",
       "<rect vector-effect=\"non-scaling-stroke\" x=\"258.02547770700636\" y=\"90.0\" width=\"7.515923566878996\" height=\"15.0\" fill=\"rgb(255,164,156)\" rx=\"2\" ry=\"2\" data-shortinfo=\"randn! in random.jl:1135\" data-info=\"randn! in random.jl:1135\"/>\n",
       "<text text-anchor=\"\" x=\"262.02547770700636\" y=\"101.5\" font-size=\"12\" font-family=\"Verdana\" fill=\"rgb(0,0,0)\" ></text>\n",
       "<rect vector-effect=\"non-scaling-stroke\" x=\"265.54140127388536\" y=\"90.0\" width=\"195.4140127388535\" height=\"15.0\" fill=\"rgb(255,164,156)\" rx=\"2\" ry=\"2\" data-shortinfo=\"randn! in random.jl:1135\" data-info=\"randn! in random.jl:1135\"/>\n",
       "<text text-anchor=\"\" x=\"269.54140127388536\" y=\"101.5\" font-size=\"12\" font-family=\"Verdana\" fill=\"rgb(0,0,0)\" ></text>\n",
       "<rect vector-effect=\"non-scaling-stroke\" x=\"460.95541401273886\" y=\"90.0\" width=\"22.54777070063693\" height=\"15.0\" fill=\"rgb(255,164,156)\" rx=\"2\" ry=\"2\" data-shortinfo=\"randn! in random.jl:1135\" data-info=\"randn! in random.jl:1135\"/>\n",
       "<text text-anchor=\"\" x=\"464.95541401273886\" y=\"101.5\" font-size=\"12\" font-family=\"Verdana\" fill=\"rgb(0,0,0)\" ></text>\n",
       "<rect vector-effect=\"non-scaling-stroke\" x=\"483.5031847133758\" y=\"90.0\" width=\"37.579617834394924\" height=\"15.0\" fill=\"rgb(255,164,156)\" rx=\"2\" ry=\"2\" data-shortinfo=\"randn! in random.jl:1135\" data-info=\"randn! in random.jl:1135\"/>\n",
       "<text text-anchor=\"\" x=\"487.5031847133758\" y=\"101.5\" font-size=\"12\" font-family=\"Verdana\" fill=\"rgb(0,0,0)\" ></text>\n",
       "<rect vector-effect=\"non-scaling-stroke\" x=\"521.0828025477707\" y=\"90.0\" width=\"157.83439490445858\" height=\"15.0\" fill=\"rgb(255,164,156)\" rx=\"2\" ry=\"2\" data-shortinfo=\"randn! in random.jl:1135\" data-info=\"randn! in random.jl:1135\"/>\n",
       "<text text-anchor=\"\" x=\"525.0828025477707\" y=\"101.5\" font-size=\"12\" font-family=\"Verdana\" fill=\"rgb(0,0,0)\" ></text>\n",
       "<rect vector-effect=\"non-scaling-stroke\" x=\"678.9171974522293\" y=\"90.0\" width=\"52.61146496815286\" height=\"15.0\" fill=\"rgb(255,164,156)\" rx=\"2\" ry=\"2\" data-shortinfo=\"randn! in random.jl:1135\" data-info=\"randn! in random.jl:1135\"/>\n",
       "<text text-anchor=\"\" x=\"682.9171974522293\" y=\"101.5\" font-size=\"12\" font-family=\"Verdana\" fill=\"rgb(0,0,0)\" ></text>\n",
       "<rect vector-effect=\"non-scaling-stroke\" x=\"731.5286624203821\" y=\"90.0\" width=\"52.61146496815286\" height=\"15.0\" fill=\"rgb(255,164,156)\" rx=\"2\" ry=\"2\" data-shortinfo=\"randn! in random.jl:1135\" data-info=\"randn! in random.jl:1135\"/>\n",
       "<text text-anchor=\"\" x=\"735.5286624203821\" y=\"101.5\" font-size=\"12\" font-family=\"Verdana\" fill=\"rgb(0,0,0)\" ></text>\n",
       "<rect vector-effect=\"non-scaling-stroke\" x=\"784.140127388535\" y=\"90.0\" width=\"82.67515923566884\" height=\"15.0\" fill=\"rgb(255,164,156)\" rx=\"2\" ry=\"2\" data-shortinfo=\"randn! in random.jl:1135\" data-info=\"randn! in random.jl:1135\"/>\n",
       "<text text-anchor=\"\" x=\"788.140127388535\" y=\"101.5\" font-size=\"12\" font-family=\"Verdana\" fill=\"rgb(0,0,0)\" ></text>\n",
       "<rect vector-effect=\"non-scaling-stroke\" x=\"866.8152866242038\" y=\"90.0\" width=\"45.09554140127386\" height=\"15.0\" fill=\"rgb(255,164,156)\" rx=\"2\" ry=\"2\" data-shortinfo=\"randn! in random.jl:1135\" data-info=\"randn! in random.jl:1135\"/>\n",
       "<text text-anchor=\"\" x=\"870.8152866242038\" y=\"101.5\" font-size=\"12\" font-family=\"Verdana\" fill=\"rgb(0,0,0)\" ></text>\n",
       "<rect vector-effect=\"non-scaling-stroke\" x=\"911.9108280254777\" y=\"90.0\" width=\"7.515923566878996\" height=\"15.0\" fill=\"rgb(255,164,156)\" rx=\"2\" ry=\"2\" data-shortinfo=\"randn! in random.jl:1135\" data-info=\"randn! in random.jl:1135\"/>\n",
       "<text text-anchor=\"\" x=\"915.9108280254777\" y=\"101.5\" font-size=\"12\" font-family=\"Verdana\" fill=\"rgb(0,0,0)\" ></text>\n",
       "<rect vector-effect=\"non-scaling-stroke\" x=\"919.4267515923567\" y=\"90.0\" width=\"45.09554140127386\" height=\"15.0\" fill=\"rgb(255,164,156)\" rx=\"2\" ry=\"2\" data-shortinfo=\"randn! in random.jl:1135\" data-info=\"randn! in random.jl:1135\"/>\n",
       "<text text-anchor=\"\" x=\"923.4267515923567\" y=\"101.5\" font-size=\"12\" font-family=\"Verdana\" fill=\"rgb(0,0,0)\" ></text>\n",
       "<rect vector-effect=\"non-scaling-stroke\" x=\"964.5222929936306\" y=\"90.0\" width=\"52.61146496815286\" height=\"15.0\" fill=\"rgb(255,164,156)\" rx=\"2\" ry=\"2\" data-shortinfo=\"randn! in random.jl:1135\" data-info=\"randn! in random.jl:1135\"/>\n",
       "<text text-anchor=\"\" x=\"968.5222929936306\" y=\"101.5\" font-size=\"12\" font-family=\"Verdana\" fill=\"rgb(0,0,0)\" ></text>\n",
       "<rect vector-effect=\"non-scaling-stroke\" x=\"1017.1337579617834\" y=\"90.0\" width=\"7.515923566878882\" height=\"15.0\" fill=\"rgb(158,158,158)\" rx=\"2\" ry=\"2\" data-shortinfo=\"mean in statistics.jl:31\" data-info=\"mean in statistics.jl:31\"/>\n",
       "<text text-anchor=\"\" x=\"1021.1337579617834\" y=\"101.5\" font-size=\"12\" font-family=\"Verdana\" fill=\"rgb(0,0,0)\" ></text>\n",
       "<rect vector-effect=\"non-scaling-stroke\" x=\"1024.6496815286623\" y=\"90.0\" width=\"135.2866242038217\" height=\"15.0\" fill=\"rgb(158,158,158)\" rx=\"2\" ry=\"2\" data-shortinfo=\"mean in statistics.jl:31\" data-info=\"mean in statistics.jl:31\"/>\n",
       "<text text-anchor=\"\" x=\"1028.6496815286623\" y=\"101.5\" font-size=\"12\" font-family=\"Verdana\" fill=\"rgb(0,0,0)\" ></text>\n",
       "<rect vector-effect=\"non-scaling-stroke\" x=\"1159.936305732484\" y=\"90.0\" width=\"22.547770700637102\" height=\"15.0\" fill=\"rgb(158,158,158)\" rx=\"2\" ry=\"2\" data-shortinfo=\"mean in statistics.jl:31\" data-info=\"mean in statistics.jl:31\"/>\n",
       "<text text-anchor=\"\" x=\"1163.936305732484\" y=\"101.5\" font-size=\"12\" font-family=\"Verdana\" fill=\"rgb(0,0,0)\" ></text>\n",
       "<rect vector-effect=\"non-scaling-stroke\" x=\"130.2547770700637\" y=\"75.0\" width=\"15.031847133757935\" height=\"15.0\" fill=\"rgb(232,112,221)\" rx=\"2\" ry=\"2\" data-shortinfo=\"randn_unlikely in random.jl:1120\" data-info=\"randn_unlikely in random.jl:1120\"/>\n",
       "<text text-anchor=\"\" x=\"134.2547770700637\" y=\"86.5\" font-size=\"12\" font-family=\"Verdana\" fill=\"rgb(0,0,0)\" ></text>\n",
       "<rect vector-effect=\"non-scaling-stroke\" x=\"145.28662420382165\" y=\"75.0\" width=\"15.031847133757964\" height=\"15.0\" fill=\"rgb(232,112,221)\" rx=\"2\" ry=\"2\" data-shortinfo=\"randn_unlikely in random.jl:1120\" data-info=\"randn_unlikely in random.jl:1120\"/>\n",
       "<text text-anchor=\"\" x=\"149.28662420382165\" y=\"86.5\" font-size=\"12\" font-family=\"Verdana\" fill=\"rgb(0,0,0)\" ></text>\n",
       "<rect vector-effect=\"non-scaling-stroke\" x=\"160.3184713375796\" y=\"75.0\" width=\"52.61146496815289\" height=\"15.0\" fill=\"rgb(50,180,78)\" rx=\"2\" ry=\"2\" data-shortinfo=\"randn_unlikely in random.jl:1126\" data-info=\"randn_unlikely in random.jl:1126\"/>\n",
       "<text text-anchor=\"\" x=\"164.3184713375796\" y=\"86.5\" font-size=\"12\" font-family=\"Verdana\" fill=\"rgb(0,0,0)\" ></text>\n",
       "<rect vector-effect=\"non-scaling-stroke\" x=\"212.9299363057325\" y=\"75.0\" width=\"7.515923566878968\" height=\"15.0\" fill=\"rgb(50,180,78)\" rx=\"2\" ry=\"2\" data-shortinfo=\"randn_unlikely in random.jl:1126\" data-info=\"randn_unlikely in random.jl:1126\"/>\n",
       "<text text-anchor=\"\" x=\"216.9299363057325\" y=\"86.5\" font-size=\"12\" font-family=\"Verdana\" fill=\"rgb(0,0,0)\" ></text>\n",
       "<rect vector-effect=\"non-scaling-stroke\" x=\"220.44585987261146\" y=\"75.0\" width=\"7.515923566878996\" height=\"15.0\" fill=\"rgb(50,180,78)\" rx=\"2\" ry=\"2\" data-shortinfo=\"randn_unlikely in random.jl:1126\" data-info=\"randn_unlikely in random.jl:1126\"/>\n",
       "<text text-anchor=\"\" x=\"224.44585987261146\" y=\"86.5\" font-size=\"12\" font-family=\"Verdana\" fill=\"rgb(0,0,0)\" ></text>\n",
       "<rect vector-effect=\"non-scaling-stroke\" x=\"227.96178343949046\" y=\"75.0\" width=\"7.515923566878968\" height=\"15.0\" fill=\"rgb(50,180,78)\" rx=\"2\" ry=\"2\" data-shortinfo=\"randn_unlikely in random.jl:1126\" data-info=\"randn_unlikely in random.jl:1126\"/>\n",
       "<text text-anchor=\"\" x=\"231.96178343949046\" y=\"86.5\" font-size=\"12\" font-family=\"Verdana\" fill=\"rgb(0,0,0)\" ></text>\n",
       "<rect vector-effect=\"non-scaling-stroke\" x=\"235.47770700636943\" y=\"75.0\" width=\"15.031847133757964\" height=\"15.0\" fill=\"rgb(50,180,78)\" rx=\"2\" ry=\"2\" data-shortinfo=\"randn_unlikely in random.jl:1126\" data-info=\"randn_unlikely in random.jl:1126\"/>\n",
       "<text text-anchor=\"\" x=\"239.47770700636943\" y=\"86.5\" font-size=\"12\" font-family=\"Verdana\" fill=\"rgb(0,0,0)\" ></text>\n",
       "<rect vector-effect=\"non-scaling-stroke\" x=\"250.5095541401274\" y=\"75.0\" width=\"7.515923566878968\" height=\"15.0\" fill=\"rgb(26,162,255)\" rx=\"2\" ry=\"2\" data-shortinfo=\"randn_unlikely in random.jl:1127\" data-info=\"randn_unlikely in random.jl:1127\"/>\n",
       "<text text-anchor=\"\" x=\"254.5095541401274\" y=\"86.5\" font-size=\"12\" font-family=\"Verdana\" fill=\"rgb(0,0,0)\" ></text>\n",
       "<rect vector-effect=\"non-scaling-stroke\" x=\"265.54140127388536\" y=\"75.0\" width=\"187.8980891719745\" height=\"15.0\" fill=\"rgb(210,165,23)\" rx=\"2\" ry=\"2\" data-shortinfo=\"gen_rand in random.jl:88\" data-info=\"gen_rand in random.jl:88\"/>\n",
       "<text text-anchor=\"\" x=\"269.54140127388536\" y=\"86.5\" font-size=\"12\" font-family=\"Verdana\" fill=\"rgb(0,0,0)\" ></text>\n",
       "<rect vector-effect=\"non-scaling-stroke\" x=\"453.43949044585986\" y=\"75.0\" width=\"7.515923566878996\" height=\"15.0\" fill=\"rgb(210,165,23)\" rx=\"2\" ry=\"2\" data-shortinfo=\"gen_rand in random.jl:88\" data-info=\"gen_rand in random.jl:88\"/>\n",
       "<text text-anchor=\"\" x=\"457.43949044585986\" y=\"86.5\" font-size=\"12\" font-family=\"Verdana\" fill=\"rgb(0,0,0)\" ></text>\n",
       "<rect vector-effect=\"non-scaling-stroke\" x=\"1017.1337579617834\" y=\"75.0\" width=\"7.515923566878882\" height=\"15.0\" fill=\"rgb(0,222,230)\" rx=\"2\" ry=\"2\" data-shortinfo=\"fill! in array.jl:193\" data-info=\"fill! in array.jl:193\"/>\n",
       "<text text-anchor=\"\" x=\"1021.1337579617834\" y=\"86.5\" font-size=\"12\" font-family=\"Verdana\" fill=\"rgb(0,0,0)\" ></text>\n",
       "<rect vector-effect=\"non-scaling-stroke\" x=\"1024.6496815286623\" y=\"75.0\" width=\"127.77070063694282\" height=\"15.0\" fill=\"rgb(232,112,221)\" rx=\"2\" ry=\"2\" data-shortinfo=\"sum! in reducedim.jl:258\" data-info=\"sum! in reducedim.jl:258\"/>\n",
       "<text text-anchor=\"\" x=\"1028.6496815286623\" y=\"86.5\" font-size=\"12\" font-family=\"Verdana\" fill=\"rgb(0,0,0)\" ></text>\n",
       "<rect vector-effect=\"non-scaling-stroke\" x=\"1152.4203821656051\" y=\"75.0\" width=\"7.515923566878882\" height=\"15.0\" fill=\"rgb(232,112,221)\" rx=\"2\" ry=\"2\" data-shortinfo=\"sum! in reducedim.jl:258\" data-info=\"sum! in reducedim.jl:258\"/>\n",
       "<text text-anchor=\"\" x=\"1156.4203821656051\" y=\"86.5\" font-size=\"12\" font-family=\"Verdana\" fill=\"rgb(0,0,0)\" ></text>\n",
       "<rect vector-effect=\"non-scaling-stroke\" x=\"1159.936305732484\" y=\"75.0\" width=\"22.547770700637102\" height=\"15.0\" fill=\"rgb(255,0,0)\" rx=\"2\" ry=\"2\" data-shortinfo=\"reduced_dims in reducedim.jl:15\" data-info=\"reduced_dims in reducedim.jl:15\"/>\n",
       "<text text-anchor=\"\" x=\"1163.936305732484\" y=\"86.5\" font-size=\"12\" font-family=\"Verdana\" fill=\"rgb(0,0,0)\" ></text>\n",
       "<rect vector-effect=\"non-scaling-stroke\" x=\"265.54140127388536\" y=\"60.0\" width=\"187.8980891719745\" height=\"15.0\" fill=\"rgb(255,164,156)\" rx=\"2\" ry=\"2\" data-shortinfo=\"dsfmt_fill_array_close1_open2! in dSFMT.jl:67\" data-info=\"dsfmt_fill_array_close1_open2! in dSFMT.jl:67\"/>\n",
       "<text text-anchor=\"\" x=\"269.54140127388536\" y=\"71.5\" font-size=\"12\" font-family=\"Verdana\" fill=\"rgb(0,0,0)\" ></text>\n",
       "<rect vector-effect=\"non-scaling-stroke\" x=\"1024.6496815286623\" y=\"60.0\" width=\"7.51592356687911\" height=\"15.0\" fill=\"rgb(158,158,158)\" rx=\"2\" ry=\"2\" data-shortinfo=\"_mapreducedim! in reducedim.jl:196\" data-info=\"_mapreducedim! in reducedim.jl:196\"/>\n",
       "<text text-anchor=\"\" x=\"1028.6496815286623\" y=\"71.5\" font-size=\"12\" font-family=\"Verdana\" fill=\"rgb(0,0,0)\" ></text>\n",
       "<rect vector-effect=\"non-scaling-stroke\" x=\"1032.1656050955414\" y=\"60.0\" width=\"120.25477707006371\" height=\"15.0\" fill=\"rgb(205,185,255)\" rx=\"2\" ry=\"2\" data-shortinfo=\"_mapreducedim! in reducedim.jl:197\" data-info=\"_mapreducedim! in reducedim.jl:197\"/>\n",
       "<text text-anchor=\"\" x=\"1036.1656050955414\" y=\"71.5\" font-size=\"12\" font-family=\"Verdana\" fill=\"rgb(0,0,0)\" ></text>\n",
       "<rect vector-effect=\"non-scaling-stroke\" x=\"1152.4203821656051\" y=\"60.0\" width=\"7.515923566878882\" height=\"15.0\" fill=\"rgb(255,141,62)\" rx=\"2\" ry=\"2\" data-shortinfo=\"fill! in array.jl:193\" data-info=\"fill! in array.jl:193\"/>\n",
       "<text text-anchor=\"\" x=\"1156.4203821656051\" y=\"71.5\" font-size=\"12\" font-family=\"Verdana\" fill=\"rgb(0,0,0)\" ></text>\n",
       "<rect vector-effect=\"non-scaling-stroke\" x=\"1047.1974522292994\" y=\"45.0\" width=\"7.515923566878882\" height=\"15.0\" fill=\"rgb(232,112,221)\" rx=\"2\" ry=\"2\" data-shortinfo=\"mapreduce_pairwise_impl in reduce.jl:107\" data-info=\"mapreduce_pairwise_impl in reduce.jl:107\"/>\n",
       "<text text-anchor=\"\" x=\"1051.1974522292994\" y=\"56.5\" font-size=\"12\" font-family=\"Verdana\" fill=\"rgb(0,0,0)\" ></text>\n",
       "<rect vector-effect=\"non-scaling-stroke\" x=\"1054.7133757961783\" y=\"45.0\" width=\"90.19108280254773\" height=\"15.0\" fill=\"rgb(50,180,78)\" rx=\"2\" ry=\"2\" data-shortinfo=\"mapreduce_pairwise_impl in reduce.jl:108\" data-info=\"mapreduce_pairwise_impl in reduce.jl:108\"/>\n",
       "<text text-anchor=\"\" x=\"1058.7133757961783\" y=\"56.5\" font-size=\"12\" font-family=\"Verdana\" fill=\"rgb(0,0,0)\" ></text>\n",
       "<rect vector-effect=\"non-scaling-stroke\" x=\"1144.904458598726\" y=\"45.0\" width=\"7.51592356687911\" height=\"15.0\" fill=\"rgb(50,180,78)\" rx=\"2\" ry=\"2\" data-shortinfo=\"mapreduce_pairwise_impl in reduce.jl:108\" data-info=\"mapreduce_pairwise_impl in reduce.jl:108\"/>\n",
       "<text text-anchor=\"\" x=\"1148.904458598726\" y=\"56.5\" font-size=\"12\" font-family=\"Verdana\" fill=\"rgb(0,0,0)\" ></text>\n",
       "<rect vector-effect=\"non-scaling-stroke\" x=\"1054.7133757961783\" y=\"30.0\" width=\"7.51592356687911\" height=\"15.0\" fill=\"rgb(255,164,156)\" rx=\"2\" ry=\"2\" data-shortinfo=\"mapreduce_seq_impl in reduce.jl:230\" data-info=\"mapreduce_seq_impl in reduce.jl:230\"/>\n",
       "<text text-anchor=\"\" x=\"1058.7133757961783\" y=\"41.5\" font-size=\"12\" font-family=\"Verdana\" fill=\"rgb(0,0,0)\" ></text>\n",
       "<rect vector-effect=\"non-scaling-stroke\" x=\"1062.2292993630574\" y=\"30.0\" width=\"15.031847133757992\" height=\"15.0\" fill=\"rgb(158,158,158)\" rx=\"2\" ry=\"2\" data-shortinfo=\"mapreduce_seq_impl in simdloop.jl:67\" data-info=\"mapreduce_seq_impl in simdloop.jl:67\"/>\n",
       "<text text-anchor=\"\" x=\"1066.2292993630574\" y=\"41.5\" font-size=\"12\" font-family=\"Verdana\" fill=\"rgb(0,0,0)\" ></text>\n",
       "<rect vector-effect=\"non-scaling-stroke\" x=\"1077.2611464968154\" y=\"30.0\" width=\"7.515923566878882\" height=\"15.0\" fill=\"rgb(158,158,158)\" rx=\"2\" ry=\"2\" data-shortinfo=\"mapreduce_seq_impl in simdloop.jl:67\" data-info=\"mapreduce_seq_impl in simdloop.jl:67\"/>\n",
       "<text text-anchor=\"\" x=\"1081.2611464968154\" y=\"41.5\" font-size=\"12\" font-family=\"Verdana\" fill=\"rgb(0,0,0)\" ></text>\n",
       "<rect vector-effect=\"non-scaling-stroke\" x=\"1084.7770700636943\" y=\"30.0\" width=\"7.515923566878882\" height=\"15.0\" fill=\"rgb(158,158,158)\" rx=\"2\" ry=\"2\" data-shortinfo=\"mapreduce_seq_impl in simdloop.jl:67\" data-info=\"mapreduce_seq_impl in simdloop.jl:67\"/>\n",
       "<text text-anchor=\"\" x=\"1088.7770700636943\" y=\"41.5\" font-size=\"12\" font-family=\"Verdana\" fill=\"rgb(0,0,0)\" ></text>\n",
       "<rect vector-effect=\"non-scaling-stroke\" x=\"1092.2929936305732\" y=\"30.0\" width=\"7.51592356687911\" height=\"15.0\" fill=\"rgb(158,158,158)\" rx=\"2\" ry=\"2\" data-shortinfo=\"mapreduce_seq_impl in simdloop.jl:67\" data-info=\"mapreduce_seq_impl in simdloop.jl:67\"/>\n",
       "<text text-anchor=\"\" x=\"1096.2929936305732\" y=\"41.5\" font-size=\"12\" font-family=\"Verdana\" fill=\"rgb(0,0,0)\" ></text>\n",
       "<rect vector-effect=\"non-scaling-stroke\" x=\"1099.8089171974523\" y=\"30.0\" width=\"15.031847133757992\" height=\"15.0\" fill=\"rgb(158,158,158)\" rx=\"2\" ry=\"2\" data-shortinfo=\"mapreduce_seq_impl in simdloop.jl:67\" data-info=\"mapreduce_seq_impl in simdloop.jl:67\"/>\n",
       "<text text-anchor=\"\" x=\"1103.8089171974523\" y=\"41.5\" font-size=\"12\" font-family=\"Verdana\" fill=\"rgb(0,0,0)\" ></text>\n",
       "<rect vector-effect=\"non-scaling-stroke\" x=\"1114.8407643312103\" y=\"30.0\" width=\"7.515923566878882\" height=\"15.0\" fill=\"rgb(158,158,158)\" rx=\"2\" ry=\"2\" data-shortinfo=\"mapreduce_seq_impl in simdloop.jl:67\" data-info=\"mapreduce_seq_impl in simdloop.jl:67\"/>\n",
       "<text text-anchor=\"\" x=\"1118.8407643312103\" y=\"41.5\" font-size=\"12\" font-family=\"Verdana\" fill=\"rgb(0,0,0)\" ></text>\n",
       "<rect vector-effect=\"non-scaling-stroke\" x=\"1122.3566878980891\" y=\"30.0\" width=\"15.031847133757992\" height=\"15.0\" fill=\"rgb(158,158,158)\" rx=\"2\" ry=\"2\" data-shortinfo=\"mapreduce_seq_impl in simdloop.jl:67\" data-info=\"mapreduce_seq_impl in simdloop.jl:67\"/>\n",
       "<text text-anchor=\"\" x=\"1126.3566878980891\" y=\"41.5\" font-size=\"12\" font-family=\"Verdana\" fill=\"rgb(0,0,0)\" ></text>\n",
       "<rect vector-effect=\"non-scaling-stroke\" x=\"1137.3885350318471\" y=\"30.0\" width=\"7.515923566878882\" height=\"15.0\" fill=\"rgb(205,185,255)\" rx=\"2\" ry=\"2\" data-shortinfo=\"mapreduce_seq_impl in simdloop.jl:75\" data-info=\"mapreduce_seq_impl in simdloop.jl:75\"/>\n",
       "<text text-anchor=\"\" x=\"1141.3885350318471\" y=\"41.5\" font-size=\"12\" font-family=\"Verdana\" fill=\"rgb(0,0,0)\" ></text>\n",
       "    </g></g>\n",
       "    <script><![CDATA[(function(N){var k=/[\\.\\/]/,L=/\\s*,\\s*/,C=function(a,d){return a-d},a,v,y={n:{}},M=function(){for(var a=0,d=this.length;a<d;a++)if(\"undefined\"!=typeof this[a])return this[a]},A=function(){for(var a=this.length;--a;)if(\"undefined\"!=typeof this[a])return this[a]},w=function(k,d){k=String(k);var f=v,n=Array.prototype.slice.call(arguments,2),u=w.listeners(k),p=0,b,q=[],e={},l=[],r=a;l.firstDefined=M;l.lastDefined=A;a=k;for(var s=v=0,x=u.length;s<x;s++)\"zIndex\"in u[s]&&(q.push(u[s].zIndex),0>u[s].zIndex&&\n",
       "(e[u[s].zIndex]=u[s]));for(q.sort(C);0>q[p];)if(b=e[q[p++] ],l.push(b.apply(d,n)),v)return v=f,l;for(s=0;s<x;s++)if(b=u[s],\"zIndex\"in b)if(b.zIndex==q[p]){l.push(b.apply(d,n));if(v)break;do if(p++,(b=e[q[p] ])&&l.push(b.apply(d,n)),v)break;while(b)}else e[b.zIndex]=b;else if(l.push(b.apply(d,n)),v)break;v=f;a=r;return l};w._events=y;w.listeners=function(a){a=a.split(k);var d=y,f,n,u,p,b,q,e,l=[d],r=[];u=0;for(p=a.length;u<p;u++){e=[];b=0;for(q=l.length;b<q;b++)for(d=l[b].n,f=[d[a[u] ],d[\"*\"] ],n=2;n--;)if(d=\n",
       "f[n])e.push(d),r=r.concat(d.f||[]);l=e}return r};w.on=function(a,d){a=String(a);if(\"function\"!=typeof d)return function(){};for(var f=a.split(L),n=0,u=f.length;n<u;n++)(function(a){a=a.split(k);for(var b=y,f,e=0,l=a.length;e<l;e++)b=b.n,b=b.hasOwnProperty(a[e])&&b[a[e] ]||(b[a[e] ]={n:{}});b.f=b.f||[];e=0;for(l=b.f.length;e<l;e++)if(b.f[e]==d){f=!0;break}!f&&b.f.push(d)})(f[n]);return function(a){+a==+a&&(d.zIndex=+a)}};w.f=function(a){var d=[].slice.call(arguments,1);return function(){w.apply(null,\n",
       "[a,null].concat(d).concat([].slice.call(arguments,0)))}};w.stop=function(){v=1};w.nt=function(k){return k?(new RegExp(\"(?:\\\\.|\\\\/|^)\"+k+\"(?:\\\\.|\\\\/|$)\")).test(a):a};w.nts=function(){return a.split(k)};w.off=w.unbind=function(a,d){if(a){var f=a.split(L);if(1<f.length)for(var n=0,u=f.length;n<u;n++)w.off(f[n],d);else{for(var f=a.split(k),p,b,q,e,l=[y],n=0,u=f.length;n<u;n++)for(e=0;e<l.length;e+=q.length-2){q=[e,1];p=l[e].n;if(\"*\"!=f[n])p[f[n] ]&&q.push(p[f[n] ]);else for(b in p)p.hasOwnProperty(b)&&\n",
       "q.push(p[b]);l.splice.apply(l,q)}n=0;for(u=l.length;n<u;n++)for(p=l[n];p.n;){if(d){if(p.f){e=0;for(f=p.f.length;e<f;e++)if(p.f[e]==d){p.f.splice(e,1);break}!p.f.length&&delete p.f}for(b in p.n)if(p.n.hasOwnProperty(b)&&p.n[b].f){q=p.n[b].f;e=0;for(f=q.length;e<f;e++)if(q[e]==d){q.splice(e,1);break}!q.length&&delete p.n[b].f}}else for(b in delete p.f,p.n)p.n.hasOwnProperty(b)&&p.n[b].f&&delete p.n[b].f;p=p.n}}}else w._events=y={n:{}}};w.once=function(a,d){var f=function(){w.unbind(a,f);return d.apply(this,\n",
       "arguments)};return w.on(a,f)};w.version=\"0.4.2\";w.toString=function(){return\"You are running Eve 0.4.2\"};\"undefined\"!=typeof module&&module.exports?module.exports=w:\"function\"===typeof define&&define.amd?define(\"eve\",[],function(){return w}):N.eve=w})(this);\n",
       "(function(N,k){\"function\"===typeof define&&define.amd?define(\"Snap.svg\",[\"eve\"],function(L){return k(N,L)}):k(N,N.eve)})(this,function(N,k){var L=function(a){var k={},y=N.requestAnimationFrame||N.webkitRequestAnimationFrame||N.mozRequestAnimationFrame||N.oRequestAnimationFrame||N.msRequestAnimationFrame||function(a){setTimeout(a,16)},M=Array.isArray||function(a){return a instanceof Array||\"[object Array]\"==Object.prototype.toString.call(a)},A=0,w=\"M\"+(+new Date).toString(36),z=function(a){if(null==\n",
       "a)return this.s;var b=this.s-a;this.b+=this.dur*b;this.B+=this.dur*b;this.s=a},d=function(a){if(null==a)return this.spd;this.spd=a},f=function(a){if(null==a)return this.dur;this.s=this.s*a/this.dur;this.dur=a},n=function(){delete k[this.id];this.update();a(\"mina.stop.\"+this.id,this)},u=function(){this.pdif||(delete k[this.id],this.update(),this.pdif=this.get()-this.b)},p=function(){this.pdif&&(this.b=this.get()-this.pdif,delete this.pdif,k[this.id]=this)},b=function(){var a;if(M(this.start)){a=[];\n",
       "for(var b=0,e=this.start.length;b<e;b++)a[b]=+this.start[b]+(this.end[b]-this.start[b])*this.easing(this.s)}else a=+this.start+(this.end-this.start)*this.easing(this.s);this.set(a)},q=function(){var l=0,b;for(b in k)if(k.hasOwnProperty(b)){var e=k[b],f=e.get();l++;e.s=(f-e.b)/(e.dur/e.spd);1<=e.s&&(delete k[b],e.s=1,l--,function(b){setTimeout(function(){a(\"mina.finish.\"+b.id,b)})}(e));e.update()}l&&y(q)},e=function(a,r,s,x,G,h,J){a={id:w+(A++).toString(36),start:a,end:r,b:s,s:0,dur:x-s,spd:1,get:G,\n",
       "set:h,easing:J||e.linear,status:z,speed:d,duration:f,stop:n,pause:u,resume:p,update:b};k[a.id]=a;r=0;for(var K in k)if(k.hasOwnProperty(K)&&(r++,2==r))break;1==r&&y(q);return a};e.time=Date.now||function(){return+new Date};e.getById=function(a){return k[a]||null};e.linear=function(a){return a};e.easeout=function(a){return Math.pow(a,1.7)};e.easein=function(a){return Math.pow(a,0.48)};e.easeinout=function(a){if(1==a)return 1;if(0==a)return 0;var b=0.48-a/1.04,e=Math.sqrt(0.1734+b*b);a=e-b;a=Math.pow(Math.abs(a),\n",
       "1/3)*(0>a?-1:1);b=-e-b;b=Math.pow(Math.abs(b),1/3)*(0>b?-1:1);a=a+b+0.5;return 3*(1-a)*a*a+a*a*a};e.backin=function(a){return 1==a?1:a*a*(2.70158*a-1.70158)};e.backout=function(a){if(0==a)return 0;a-=1;return a*a*(2.70158*a+1.70158)+1};e.elastic=function(a){return a==!!a?a:Math.pow(2,-10*a)*Math.sin(2*(a-0.075)*Math.PI/0.3)+1};e.bounce=function(a){a<1/2.75?a*=7.5625*a:a<2/2.75?(a-=1.5/2.75,a=7.5625*a*a+0.75):a<2.5/2.75?(a-=2.25/2.75,a=7.5625*a*a+0.9375):(a-=2.625/2.75,a=7.5625*a*a+0.984375);return a};\n",
       "return N.mina=e}(\"undefined\"==typeof k?function(){}:k),C=function(){function a(c,t){if(c){if(c.tagName)return x(c);if(y(c,\"array\")&&a.set)return a.set.apply(a,c);if(c instanceof e)return c;if(null==t)return c=G.doc.querySelector(c),x(c)}return new s(null==c?\"100%\":c,null==t?\"100%\":t)}function v(c,a){if(a){\"#text\"==c&&(c=G.doc.createTextNode(a.text||\"\"));\"string\"==typeof c&&(c=v(c));if(\"string\"==typeof a)return\"xlink:\"==a.substring(0,6)?c.getAttributeNS(m,a.substring(6)):\"xml:\"==a.substring(0,4)?c.getAttributeNS(la,\n",
       "a.substring(4)):c.getAttribute(a);for(var da in a)if(a[h](da)){var b=J(a[da]);b?\"xlink:\"==da.substring(0,6)?c.setAttributeNS(m,da.substring(6),b):\"xml:\"==da.substring(0,4)?c.setAttributeNS(la,da.substring(4),b):c.setAttribute(da,b):c.removeAttribute(da)}}else c=G.doc.createElementNS(la,c);return c}function y(c,a){a=J.prototype.toLowerCase.call(a);return\"finite\"==a?isFinite(c):\"array\"==a&&(c instanceof Array||Array.isArray&&Array.isArray(c))?!0:\"null\"==a&&null===c||a==typeof c&&null!==c||\"object\"==\n",
       "a&&c===Object(c)||$.call(c).slice(8,-1).toLowerCase()==a}function M(c){if(\"function\"==typeof c||Object(c)!==c)return c;var a=new c.constructor,b;for(b in c)c[h](b)&&(a[b]=M(c[b]));return a}function A(c,a,b){function m(){var e=Array.prototype.slice.call(arguments,0),f=e.join(\"\\u2400\"),d=m.cache=m.cache||{},l=m.count=m.count||[];if(d[h](f)){a:for(var e=l,l=f,B=0,H=e.length;B<H;B++)if(e[B]===l){e.push(e.splice(B,1)[0]);break a}return b?b(d[f]):d[f]}1E3<=l.length&&delete d[l.shift()];l.push(f);d[f]=c.apply(a,\n",
       "e);return b?b(d[f]):d[f]}return m}function w(c,a,b,m,e,f){return null==e?(c-=b,a-=m,c||a?(180*I.atan2(-a,-c)/C+540)%360:0):w(c,a,e,f)-w(b,m,e,f)}function z(c){return c%360*C/180}function d(c){var a=[];c=c.replace(/(?:^|\\s)(\\w+)\\(([^)]+)\\)/g,function(c,b,m){m=m.split(/\\s*,\\s*|\\s+/);\"rotate\"==b&&1==m.length&&m.push(0,0);\"scale\"==b&&(2<m.length?m=m.slice(0,2):2==m.length&&m.push(0,0),1==m.length&&m.push(m[0],0,0));\"skewX\"==b?a.push([\"m\",1,0,I.tan(z(m[0])),1,0,0]):\"skewY\"==b?a.push([\"m\",1,I.tan(z(m[0])),\n",
       "0,1,0,0]):a.push([b.charAt(0)].concat(m));return c});return a}function f(c,t){var b=O(c),m=new a.Matrix;if(b)for(var e=0,f=b.length;e<f;e++){var h=b[e],d=h.length,B=J(h[0]).toLowerCase(),H=h[0]!=B,l=H?m.invert():0,E;\"t\"==B&&2==d?m.translate(h[1],0):\"t\"==B&&3==d?H?(d=l.x(0,0),B=l.y(0,0),H=l.x(h[1],h[2]),l=l.y(h[1],h[2]),m.translate(H-d,l-B)):m.translate(h[1],h[2]):\"r\"==B?2==d?(E=E||t,m.rotate(h[1],E.x+E.width/2,E.y+E.height/2)):4==d&&(H?(H=l.x(h[2],h[3]),l=l.y(h[2],h[3]),m.rotate(h[1],H,l)):m.rotate(h[1],\n",
       "h[2],h[3])):\"s\"==B?2==d||3==d?(E=E||t,m.scale(h[1],h[d-1],E.x+E.width/2,E.y+E.height/2)):4==d?H?(H=l.x(h[2],h[3]),l=l.y(h[2],h[3]),m.scale(h[1],h[1],H,l)):m.scale(h[1],h[1],h[2],h[3]):5==d&&(H?(H=l.x(h[3],h[4]),l=l.y(h[3],h[4]),m.scale(h[1],h[2],H,l)):m.scale(h[1],h[2],h[3],h[4])):\"m\"==B&&7==d&&m.add(h[1],h[2],h[3],h[4],h[5],h[6])}return m}function n(c,t){if(null==t){var m=!0;t=\"linearGradient\"==c.type||\"radialGradient\"==c.type?c.node.getAttribute(\"gradientTransform\"):\"pattern\"==c.type?c.node.getAttribute(\"patternTransform\"):\n",
       "c.node.getAttribute(\"transform\");if(!t)return new a.Matrix;t=d(t)}else t=a._.rgTransform.test(t)?J(t).replace(/\\.{3}|\\u2026/g,c._.transform||aa):d(t),y(t,\"array\")&&(t=a.path?a.path.toString.call(t):J(t)),c._.transform=t;var b=f(t,c.getBBox(1));if(m)return b;c.matrix=b}function u(c){c=c.node.ownerSVGElement&&x(c.node.ownerSVGElement)||c.node.parentNode&&x(c.node.parentNode)||a.select(\"svg\")||a(0,0);var t=c.select(\"defs\"),t=null==t?!1:t.node;t||(t=r(\"defs\",c.node).node);return t}function p(c){return c.node.ownerSVGElement&&\n",
       "x(c.node.ownerSVGElement)||a.select(\"svg\")}function b(c,a,m){function b(c){if(null==c)return aa;if(c==+c)return c;v(B,{width:c});try{return B.getBBox().width}catch(a){return 0}}function h(c){if(null==c)return aa;if(c==+c)return c;v(B,{height:c});try{return B.getBBox().height}catch(a){return 0}}function e(b,B){null==a?d[b]=B(c.attr(b)||0):b==a&&(d=B(null==m?c.attr(b)||0:m))}var f=p(c).node,d={},B=f.querySelector(\".svg---mgr\");B||(B=v(\"rect\"),v(B,{x:-9E9,y:-9E9,width:10,height:10,\"class\":\"svg---mgr\",\n",
       "fill:\"none\"}),f.appendChild(B));switch(c.type){case \"rect\":e(\"rx\",b),e(\"ry\",h);case \"image\":e(\"width\",b),e(\"height\",h);case \"text\":e(\"x\",b);e(\"y\",h);break;case \"circle\":e(\"cx\",b);e(\"cy\",h);e(\"r\",b);break;case \"ellipse\":e(\"cx\",b);e(\"cy\",h);e(\"rx\",b);e(\"ry\",h);break;case \"line\":e(\"x1\",b);e(\"x2\",b);e(\"y1\",h);e(\"y2\",h);break;case \"marker\":e(\"refX\",b);e(\"markerWidth\",b);e(\"refY\",h);e(\"markerHeight\",h);break;case \"radialGradient\":e(\"fx\",b);e(\"fy\",h);break;case \"tspan\":e(\"dx\",b);e(\"dy\",h);break;default:e(a,\n",
       "b)}f.removeChild(B);return d}function q(c){y(c,\"array\")||(c=Array.prototype.slice.call(arguments,0));for(var a=0,b=0,m=this.node;this[a];)delete this[a++];for(a=0;a<c.length;a++)\"set\"==c[a].type?c[a].forEach(function(c){m.appendChild(c.node)}):m.appendChild(c[a].node);for(var h=m.childNodes,a=0;a<h.length;a++)this[b++]=x(h[a]);return this}function e(c){if(c.snap in E)return E[c.snap];var a=this.id=V(),b;try{b=c.ownerSVGElement}catch(m){}this.node=c;b&&(this.paper=new s(b));this.type=c.tagName;this.anims=\n",
       "{};this._={transform:[]};c.snap=a;E[a]=this;\"g\"==this.type&&(this.add=q);if(this.type in{g:1,mask:1,pattern:1})for(var e in s.prototype)s.prototype[h](e)&&(this[e]=s.prototype[e])}function l(c){this.node=c}function r(c,a){var b=v(c);a.appendChild(b);return x(b)}function s(c,a){var b,m,f,d=s.prototype;if(c&&\"svg\"==c.tagName){if(c.snap in E)return E[c.snap];var l=c.ownerDocument;b=new e(c);m=c.getElementsByTagName(\"desc\")[0];f=c.getElementsByTagName(\"defs\")[0];m||(m=v(\"desc\"),m.appendChild(l.createTextNode(\"Created with Snap\")),\n",
       "b.node.appendChild(m));f||(f=v(\"defs\"),b.node.appendChild(f));b.defs=f;for(var ca in d)d[h](ca)&&(b[ca]=d[ca]);b.paper=b.root=b}else b=r(\"svg\",G.doc.body),v(b.node,{height:a,version:1.1,width:c,xmlns:la});return b}function x(c){return!c||c instanceof e||c instanceof l?c:c.tagName&&\"svg\"==c.tagName.toLowerCase()?new s(c):c.tagName&&\"object\"==c.tagName.toLowerCase()&&\"image/svg+xml\"==c.type?new s(c.contentDocument.getElementsByTagName(\"svg\")[0]):new e(c)}a.version=\"0.3.0\";a.toString=function(){return\"Snap v\"+\n",
       "this.version};a._={};var G={win:N,doc:N.document};a._.glob=G;var h=\"hasOwnProperty\",J=String,K=parseFloat,U=parseInt,I=Math,P=I.max,Q=I.min,Y=I.abs,C=I.PI,aa=\"\",$=Object.prototype.toString,F=/^\\s*((#[a-f\\d]{6})|(#[a-f\\d]{3})|rgba?\\(\\s*([\\d\\.]+%?\\s*,\\s*[\\d\\.]+%?\\s*,\\s*[\\d\\.]+%?(?:\\s*,\\s*[\\d\\.]+%?)?)\\s*\\)|hsba?\\(\\s*([\\d\\.]+(?:deg|\\xb0|%)?\\s*,\\s*[\\d\\.]+%?\\s*,\\s*[\\d\\.]+(?:%?\\s*,\\s*[\\d\\.]+)?%?)\\s*\\)|hsla?\\(\\s*([\\d\\.]+(?:deg|\\xb0|%)?\\s*,\\s*[\\d\\.]+%?\\s*,\\s*[\\d\\.]+(?:%?\\s*,\\s*[\\d\\.]+)?%?)\\s*\\))\\s*$/i;a._.separator=\n",
       "RegExp(\"[,\\t\\n\\x0B\\f\\r \\u00a0\\u1680\\u180e\\u2000\\u2001\\u2002\\u2003\\u2004\\u2005\\u2006\\u2007\\u2008\\u2009\\u200a\\u202f\\u205f\\u3000\\u2028\\u2029]+\");var S=RegExp(\"[\\t\\n\\x0B\\f\\r \\u00a0\\u1680\\u180e\\u2000\\u2001\\u2002\\u2003\\u2004\\u2005\\u2006\\u2007\\u2008\\u2009\\u200a\\u202f\\u205f\\u3000\\u2028\\u2029]*,[\\t\\n\\x0B\\f\\r \\u00a0\\u1680\\u180e\\u2000\\u2001\\u2002\\u2003\\u2004\\u2005\\u2006\\u2007\\u2008\\u2009\\u200a\\u202f\\u205f\\u3000\\u2028\\u2029]*\"),X={hs:1,rg:1},W=RegExp(\"([a-z])[\\t\\n\\x0B\\f\\r \\u00a0\\u1680\\u180e\\u2000\\u2001\\u2002\\u2003\\u2004\\u2005\\u2006\\u2007\\u2008\\u2009\\u200a\\u202f\\u205f\\u3000\\u2028\\u2029,]*((-?\\\\d*\\\\.?\\\\d*(?:e[\\\\-+]?\\\\d+)?[\\t\\n\\x0B\\f\\r \\u00a0\\u1680\\u180e\\u2000\\u2001\\u2002\\u2003\\u2004\\u2005\\u2006\\u2007\\u2008\\u2009\\u200a\\u202f\\u205f\\u3000\\u2028\\u2029]*,?[\\t\\n\\x0B\\f\\r \\u00a0\\u1680\\u180e\\u2000\\u2001\\u2002\\u2003\\u2004\\u2005\\u2006\\u2007\\u2008\\u2009\\u200a\\u202f\\u205f\\u3000\\u2028\\u2029]*)+)\",\n",
       "\"ig\"),ma=RegExp(\"([rstm])[\\t\\n\\x0B\\f\\r \\u00a0\\u1680\\u180e\\u2000\\u2001\\u2002\\u2003\\u2004\\u2005\\u2006\\u2007\\u2008\\u2009\\u200a\\u202f\\u205f\\u3000\\u2028\\u2029,]*((-?\\\\d*\\\\.?\\\\d*(?:e[\\\\-+]?\\\\d+)?[\\t\\n\\x0B\\f\\r \\u00a0\\u1680\\u180e\\u2000\\u2001\\u2002\\u2003\\u2004\\u2005\\u2006\\u2007\\u2008\\u2009\\u200a\\u202f\\u205f\\u3000\\u2028\\u2029]*,?[\\t\\n\\x0B\\f\\r \\u00a0\\u1680\\u180e\\u2000\\u2001\\u2002\\u2003\\u2004\\u2005\\u2006\\u2007\\u2008\\u2009\\u200a\\u202f\\u205f\\u3000\\u2028\\u2029]*)+)\",\"ig\"),Z=RegExp(\"(-?\\\\d*\\\\.?\\\\d*(?:e[\\\\-+]?\\\\d+)?)[\\t\\n\\x0B\\f\\r \\u00a0\\u1680\\u180e\\u2000\\u2001\\u2002\\u2003\\u2004\\u2005\\u2006\\u2007\\u2008\\u2009\\u200a\\u202f\\u205f\\u3000\\u2028\\u2029]*,?[\\t\\n\\x0B\\f\\r \\u00a0\\u1680\\u180e\\u2000\\u2001\\u2002\\u2003\\u2004\\u2005\\u2006\\u2007\\u2008\\u2009\\u200a\\u202f\\u205f\\u3000\\u2028\\u2029]*\",\n",
       "\"ig\"),na=0,ba=\"S\"+(+new Date).toString(36),V=function(){return ba+(na++).toString(36)},m=\"http://www.w3.org/1999/xlink\",la=\"http://www.w3.org/2000/svg\",E={},ca=a.url=function(c){return\"url('#\"+c+\"')\"};a._.$=v;a._.id=V;a.format=function(){var c=/\\{([^\\}]+)\\}/g,a=/(?:(?:^|\\.)(.+?)(?=\\[|\\.|$|\\()|\\[('|\")(.+?)\\2\\])(\\(\\))?/g,b=function(c,b,m){var h=m;b.replace(a,function(c,a,b,m,t){a=a||m;h&&(a in h&&(h=h[a]),\"function\"==typeof h&&t&&(h=h()))});return h=(null==h||h==m?c:h)+\"\"};return function(a,m){return J(a).replace(c,\n",
       "function(c,a){return b(c,a,m)})}}();a._.clone=M;a._.cacher=A;a.rad=z;a.deg=function(c){return 180*c/C%360};a.angle=w;a.is=y;a.snapTo=function(c,a,b){b=y(b,\"finite\")?b:10;if(y(c,\"array\"))for(var m=c.length;m--;){if(Y(c[m]-a)<=b)return c[m]}else{c=+c;m=a%c;if(m<b)return a-m;if(m>c-b)return a-m+c}return a};a.getRGB=A(function(c){if(!c||(c=J(c)).indexOf(\"-\")+1)return{r:-1,g:-1,b:-1,hex:\"none\",error:1,toString:ka};if(\"none\"==c)return{r:-1,g:-1,b:-1,hex:\"none\",toString:ka};!X[h](c.toLowerCase().substring(0,\n",
       "2))&&\"#\"!=c.charAt()&&(c=T(c));if(!c)return{r:-1,g:-1,b:-1,hex:\"none\",error:1,toString:ka};var b,m,e,f,d;if(c=c.match(F)){c[2]&&(e=U(c[2].substring(5),16),m=U(c[2].substring(3,5),16),b=U(c[2].substring(1,3),16));c[3]&&(e=U((d=c[3].charAt(3))+d,16),m=U((d=c[3].charAt(2))+d,16),b=U((d=c[3].charAt(1))+d,16));c[4]&&(d=c[4].split(S),b=K(d[0]),\"%\"==d[0].slice(-1)&&(b*=2.55),m=K(d[1]),\"%\"==d[1].slice(-1)&&(m*=2.55),e=K(d[2]),\"%\"==d[2].slice(-1)&&(e*=2.55),\"rgba\"==c[1].toLowerCase().slice(0,4)&&(f=K(d[3])),\n",
       "d[3]&&\"%\"==d[3].slice(-1)&&(f/=100));if(c[5])return d=c[5].split(S),b=K(d[0]),\"%\"==d[0].slice(-1)&&(b/=100),m=K(d[1]),\"%\"==d[1].slice(-1)&&(m/=100),e=K(d[2]),\"%\"==d[2].slice(-1)&&(e/=100),\"deg\"!=d[0].slice(-3)&&\"\\u00b0\"!=d[0].slice(-1)||(b/=360),\"hsba\"==c[1].toLowerCase().slice(0,4)&&(f=K(d[3])),d[3]&&\"%\"==d[3].slice(-1)&&(f/=100),a.hsb2rgb(b,m,e,f);if(c[6])return d=c[6].split(S),b=K(d[0]),\"%\"==d[0].slice(-1)&&(b/=100),m=K(d[1]),\"%\"==d[1].slice(-1)&&(m/=100),e=K(d[2]),\"%\"==d[2].slice(-1)&&(e/=100),\n",
       "\"deg\"!=d[0].slice(-3)&&\"\\u00b0\"!=d[0].slice(-1)||(b/=360),\"hsla\"==c[1].toLowerCase().slice(0,4)&&(f=K(d[3])),d[3]&&\"%\"==d[3].slice(-1)&&(f/=100),a.hsl2rgb(b,m,e,f);b=Q(I.round(b),255);m=Q(I.round(m),255);e=Q(I.round(e),255);f=Q(P(f,0),1);c={r:b,g:m,b:e,toString:ka};c.hex=\"#\"+(16777216|e|m<<8|b<<16).toString(16).slice(1);c.opacity=y(f,\"finite\")?f:1;return c}return{r:-1,g:-1,b:-1,hex:\"none\",error:1,toString:ka}},a);a.hsb=A(function(c,b,m){return a.hsb2rgb(c,b,m).hex});a.hsl=A(function(c,b,m){return a.hsl2rgb(c,\n",
       "b,m).hex});a.rgb=A(function(c,a,b,m){if(y(m,\"finite\")){var e=I.round;return\"rgba(\"+[e(c),e(a),e(b),+m.toFixed(2)]+\")\"}return\"#\"+(16777216|b|a<<8|c<<16).toString(16).slice(1)});var T=function(c){var a=G.doc.getElementsByTagName(\"head\")[0]||G.doc.getElementsByTagName(\"svg\")[0];T=A(function(c){if(\"red\"==c.toLowerCase())return\"rgb(255, 0, 0)\";a.style.color=\"rgb(255, 0, 0)\";a.style.color=c;c=G.doc.defaultView.getComputedStyle(a,aa).getPropertyValue(\"color\");return\"rgb(255, 0, 0)\"==c?null:c});return T(c)},\n",
       "qa=function(){return\"hsb(\"+[this.h,this.s,this.b]+\")\"},ra=function(){return\"hsl(\"+[this.h,this.s,this.l]+\")\"},ka=function(){return 1==this.opacity||null==this.opacity?this.hex:\"rgba(\"+[this.r,this.g,this.b,this.opacity]+\")\"},D=function(c,b,m){null==b&&y(c,\"object\")&&\"r\"in c&&\"g\"in c&&\"b\"in c&&(m=c.b,b=c.g,c=c.r);null==b&&y(c,string)&&(m=a.getRGB(c),c=m.r,b=m.g,m=m.b);if(1<c||1<b||1<m)c/=255,b/=255,m/=255;return[c,b,m]},oa=function(c,b,m,e){c=I.round(255*c);b=I.round(255*b);m=I.round(255*m);c={r:c,\n",
       "g:b,b:m,opacity:y(e,\"finite\")?e:1,hex:a.rgb(c,b,m),toString:ka};y(e,\"finite\")&&(c.opacity=e);return c};a.color=function(c){var b;y(c,\"object\")&&\"h\"in c&&\"s\"in c&&\"b\"in c?(b=a.hsb2rgb(c),c.r=b.r,c.g=b.g,c.b=b.b,c.opacity=1,c.hex=b.hex):y(c,\"object\")&&\"h\"in c&&\"s\"in c&&\"l\"in c?(b=a.hsl2rgb(c),c.r=b.r,c.g=b.g,c.b=b.b,c.opacity=1,c.hex=b.hex):(y(c,\"string\")&&(c=a.getRGB(c)),y(c,\"object\")&&\"r\"in c&&\"g\"in c&&\"b\"in c&&!(\"error\"in c)?(b=a.rgb2hsl(c),c.h=b.h,c.s=b.s,c.l=b.l,b=a.rgb2hsb(c),c.v=b.b):(c={hex:\"none\"},\n",
       "c.r=c.g=c.b=c.h=c.s=c.v=c.l=-1,c.error=1));c.toString=ka;return c};a.hsb2rgb=function(c,a,b,m){y(c,\"object\")&&\"h\"in c&&\"s\"in c&&\"b\"in c&&(b=c.b,a=c.s,c=c.h,m=c.o);var e,h,d;c=360*c%360/60;d=b*a;a=d*(1-Y(c%2-1));b=e=h=b-d;c=~~c;b+=[d,a,0,0,a,d][c];e+=[a,d,d,a,0,0][c];h+=[0,0,a,d,d,a][c];return oa(b,e,h,m)};a.hsl2rgb=function(c,a,b,m){y(c,\"object\")&&\"h\"in c&&\"s\"in c&&\"l\"in c&&(b=c.l,a=c.s,c=c.h);if(1<c||1<a||1<b)c/=360,a/=100,b/=100;var e,h,d;c=360*c%360/60;d=2*a*(0.5>b?b:1-b);a=d*(1-Y(c%2-1));b=e=\n",
       "h=b-d/2;c=~~c;b+=[d,a,0,0,a,d][c];e+=[a,d,d,a,0,0][c];h+=[0,0,a,d,d,a][c];return oa(b,e,h,m)};a.rgb2hsb=function(c,a,b){b=D(c,a,b);c=b[0];a=b[1];b=b[2];var m,e;m=P(c,a,b);e=m-Q(c,a,b);c=((0==e?0:m==c?(a-b)/e:m==a?(b-c)/e+2:(c-a)/e+4)+360)%6*60/360;return{h:c,s:0==e?0:e/m,b:m,toString:qa}};a.rgb2hsl=function(c,a,b){b=D(c,a,b);c=b[0];a=b[1];b=b[2];var m,e,h;m=P(c,a,b);e=Q(c,a,b);h=m-e;c=((0==h?0:m==c?(a-b)/h:m==a?(b-c)/h+2:(c-a)/h+4)+360)%6*60/360;m=(m+e)/2;return{h:c,s:0==h?0:0.5>m?h/(2*m):h/(2-2*\n",
       "m),l:m,toString:ra}};a.parsePathString=function(c){if(!c)return null;var b=a.path(c);if(b.arr)return a.path.clone(b.arr);var m={a:7,c:6,o:2,h:1,l:2,m:2,r:4,q:4,s:4,t:2,v:1,u:3,z:0},e=[];y(c,\"array\")&&y(c[0],\"array\")&&(e=a.path.clone(c));e.length||J(c).replace(W,function(c,a,b){var h=[];c=a.toLowerCase();b.replace(Z,function(c,a){a&&h.push(+a)});\"m\"==c&&2<h.length&&(e.push([a].concat(h.splice(0,2))),c=\"l\",a=\"m\"==a?\"l\":\"L\");\"o\"==c&&1==h.length&&e.push([a,h[0] ]);if(\"r\"==c)e.push([a].concat(h));else for(;h.length>=\n",
       "m[c]&&(e.push([a].concat(h.splice(0,m[c]))),m[c]););});e.toString=a.path.toString;b.arr=a.path.clone(e);return e};var O=a.parseTransformString=function(c){if(!c)return null;var b=[];y(c,\"array\")&&y(c[0],\"array\")&&(b=a.path.clone(c));b.length||J(c).replace(ma,function(c,a,m){var e=[];a.toLowerCase();m.replace(Z,function(c,a){a&&e.push(+a)});b.push([a].concat(e))});b.toString=a.path.toString;return b};a._.svgTransform2string=d;a._.rgTransform=RegExp(\"^[a-z][\\t\\n\\x0B\\f\\r \\u00a0\\u1680\\u180e\\u2000\\u2001\\u2002\\u2003\\u2004\\u2005\\u2006\\u2007\\u2008\\u2009\\u200a\\u202f\\u205f\\u3000\\u2028\\u2029]*-?\\\\.?\\\\d\",\n",
       "\"i\");a._.transform2matrix=f;a._unit2px=b;a._.getSomeDefs=u;a._.getSomeSVG=p;a.select=function(c){return x(G.doc.querySelector(c))};a.selectAll=function(c){c=G.doc.querySelectorAll(c);for(var b=(a.set||Array)(),m=0;m<c.length;m++)b.push(x(c[m]));return b};setInterval(function(){for(var c in E)if(E[h](c)){var a=E[c],b=a.node;(\"svg\"!=a.type&&!b.ownerSVGElement||\"svg\"==a.type&&(!b.parentNode||\"ownerSVGElement\"in b.parentNode&&!b.ownerSVGElement))&&delete E[c]}},1E4);(function(c){function m(c){function a(c,\n",
       "b){var m=v(c.node,b);(m=(m=m&&m.match(d))&&m[2])&&\"#\"==m.charAt()&&(m=m.substring(1))&&(f[m]=(f[m]||[]).concat(function(a){var m={};m[b]=ca(a);v(c.node,m)}))}function b(c){var a=v(c.node,\"xlink:href\");a&&\"#\"==a.charAt()&&(a=a.substring(1))&&(f[a]=(f[a]||[]).concat(function(a){c.attr(\"xlink:href\",\"#\"+a)}))}var e=c.selectAll(\"*\"),h,d=/^\\s*url\\((\"|'|)(.*)\\1\\)\\s*$/;c=[];for(var f={},l=0,E=e.length;l<E;l++){h=e[l];a(h,\"fill\");a(h,\"stroke\");a(h,\"filter\");a(h,\"mask\");a(h,\"clip-path\");b(h);var t=v(h.node,\n",
       "\"id\");t&&(v(h.node,{id:h.id}),c.push({old:t,id:h.id}))}l=0;for(E=c.length;l<E;l++)if(e=f[c[l].old])for(h=0,t=e.length;h<t;h++)e[h](c[l].id)}function e(c,a,b){return function(m){m=m.slice(c,a);1==m.length&&(m=m[0]);return b?b(m):m}}function d(c){return function(){var a=c?\"<\"+this.type:\"\",b=this.node.attributes,m=this.node.childNodes;if(c)for(var e=0,h=b.length;e<h;e++)a+=\" \"+b[e].name+'=\"'+b[e].value.replace(/\"/g,'\\\\\"')+'\"';if(m.length){c&&(a+=\">\");e=0;for(h=m.length;e<h;e++)3==m[e].nodeType?a+=m[e].nodeValue:\n",
       "1==m[e].nodeType&&(a+=x(m[e]).toString());c&&(a+=\"</\"+this.type+\">\")}else c&&(a+=\"/>\");return a}}c.attr=function(c,a){if(!c)return this;if(y(c,\"string\"))if(1<arguments.length){var b={};b[c]=a;c=b}else return k(\"snap.util.getattr.\"+c,this).firstDefined();for(var m in c)c[h](m)&&k(\"snap.util.attr.\"+m,this,c[m]);return this};c.getBBox=function(c){if(!a.Matrix||!a.path)return this.node.getBBox();var b=this,m=new a.Matrix;if(b.removed)return a._.box();for(;\"use\"==b.type;)if(c||(m=m.add(b.transform().localMatrix.translate(b.attr(\"x\")||\n",
       "0,b.attr(\"y\")||0))),b.original)b=b.original;else var e=b.attr(\"xlink:href\"),b=b.original=b.node.ownerDocument.getElementById(e.substring(e.indexOf(\"#\")+1));var e=b._,h=a.path.get[b.type]||a.path.get.deflt;try{if(c)return e.bboxwt=h?a.path.getBBox(b.realPath=h(b)):a._.box(b.node.getBBox()),a._.box(e.bboxwt);b.realPath=h(b);b.matrix=b.transform().localMatrix;e.bbox=a.path.getBBox(a.path.map(b.realPath,m.add(b.matrix)));return a._.box(e.bbox)}catch(d){return a._.box()}};var f=function(){return this.string};\n",
       "c.transform=function(c){var b=this._;if(null==c){var m=this;c=new a.Matrix(this.node.getCTM());for(var e=n(this),h=[e],d=new a.Matrix,l=e.toTransformString(),b=J(e)==J(this.matrix)?J(b.transform):l;\"svg\"!=m.type&&(m=m.parent());)h.push(n(m));for(m=h.length;m--;)d.add(h[m]);return{string:b,globalMatrix:c,totalMatrix:d,localMatrix:e,diffMatrix:c.clone().add(e.invert()),global:c.toTransformString(),total:d.toTransformString(),local:l,toString:f}}c instanceof a.Matrix?this.matrix=c:n(this,c);this.node&&\n",
       "(\"linearGradient\"==this.type||\"radialGradient\"==this.type?v(this.node,{gradientTransform:this.matrix}):\"pattern\"==this.type?v(this.node,{patternTransform:this.matrix}):v(this.node,{transform:this.matrix}));return this};c.parent=function(){return x(this.node.parentNode)};c.append=c.add=function(c){if(c){if(\"set\"==c.type){var a=this;c.forEach(function(c){a.add(c)});return this}c=x(c);this.node.appendChild(c.node);c.paper=this.paper}return this};c.appendTo=function(c){c&&(c=x(c),c.append(this));return this};\n",
       "c.prepend=function(c){if(c){if(\"set\"==c.type){var a=this,b;c.forEach(function(c){b?b.after(c):a.prepend(c);b=c});return this}c=x(c);var m=c.parent();this.node.insertBefore(c.node,this.node.firstChild);this.add&&this.add();c.paper=this.paper;this.parent()&&this.parent().add();m&&m.add()}return this};c.prependTo=function(c){c=x(c);c.prepend(this);return this};c.before=function(c){if(\"set\"==c.type){var a=this;c.forEach(function(c){var b=c.parent();a.node.parentNode.insertBefore(c.node,a.node);b&&b.add()});\n",
       "this.parent().add();return this}c=x(c);var b=c.parent();this.node.parentNode.insertBefore(c.node,this.node);this.parent()&&this.parent().add();b&&b.add();c.paper=this.paper;return this};c.after=function(c){c=x(c);var a=c.parent();this.node.nextSibling?this.node.parentNode.insertBefore(c.node,this.node.nextSibling):this.node.parentNode.appendChild(c.node);this.parent()&&this.parent().add();a&&a.add();c.paper=this.paper;return this};c.insertBefore=function(c){c=x(c);var a=this.parent();c.node.parentNode.insertBefore(this.node,\n",
       "c.node);this.paper=c.paper;a&&a.add();c.parent()&&c.parent().add();return this};c.insertAfter=function(c){c=x(c);var a=this.parent();c.node.parentNode.insertBefore(this.node,c.node.nextSibling);this.paper=c.paper;a&&a.add();c.parent()&&c.parent().add();return this};c.remove=function(){var c=this.parent();this.node.parentNode&&this.node.parentNode.removeChild(this.node);delete this.paper;this.removed=!0;c&&c.add();return this};c.select=function(c){return x(this.node.querySelector(c))};c.selectAll=\n",
       "function(c){c=this.node.querySelectorAll(c);for(var b=(a.set||Array)(),m=0;m<c.length;m++)b.push(x(c[m]));return b};c.asPX=function(c,a){null==a&&(a=this.attr(c));return+b(this,c,a)};c.use=function(){var c,a=this.node.id;a||(a=this.id,v(this.node,{id:a}));c=\"linearGradient\"==this.type||\"radialGradient\"==this.type||\"pattern\"==this.type?r(this.type,this.node.parentNode):r(\"use\",this.node.parentNode);v(c.node,{\"xlink:href\":\"#\"+a});c.original=this;return c};var l=/\\S+/g;c.addClass=function(c){var a=(c||\n",
       "\"\").match(l)||[];c=this.node;var b=c.className.baseVal,m=b.match(l)||[],e,h,d;if(a.length){for(e=0;d=a[e++];)h=m.indexOf(d),~h||m.push(d);a=m.join(\" \");b!=a&&(c.className.baseVal=a)}return this};c.removeClass=function(c){var a=(c||\"\").match(l)||[];c=this.node;var b=c.className.baseVal,m=b.match(l)||[],e,h;if(m.length){for(e=0;h=a[e++];)h=m.indexOf(h),~h&&m.splice(h,1);a=m.join(\" \");b!=a&&(c.className.baseVal=a)}return this};c.hasClass=function(c){return!!~(this.node.className.baseVal.match(l)||[]).indexOf(c)};\n",
       "c.toggleClass=function(c,a){if(null!=a)return a?this.addClass(c):this.removeClass(c);var b=(c||\"\").match(l)||[],m=this.node,e=m.className.baseVal,h=e.match(l)||[],d,f,E;for(d=0;E=b[d++];)f=h.indexOf(E),~f?h.splice(f,1):h.push(E);b=h.join(\" \");e!=b&&(m.className.baseVal=b);return this};c.clone=function(){var c=x(this.node.cloneNode(!0));v(c.node,\"id\")&&v(c.node,{id:c.id});m(c);c.insertAfter(this);return c};c.toDefs=function(){u(this).appendChild(this.node);return this};c.pattern=c.toPattern=function(c,\n",
       "a,b,m){var e=r(\"pattern\",u(this));null==c&&(c=this.getBBox());y(c,\"object\")&&\"x\"in c&&(a=c.y,b=c.width,m=c.height,c=c.x);v(e.node,{x:c,y:a,width:b,height:m,patternUnits:\"userSpaceOnUse\",id:e.id,viewBox:[c,a,b,m].join(\" \")});e.node.appendChild(this.node);return e};c.marker=function(c,a,b,m,e,h){var d=r(\"marker\",u(this));null==c&&(c=this.getBBox());y(c,\"object\")&&\"x\"in c&&(a=c.y,b=c.width,m=c.height,e=c.refX||c.cx,h=c.refY||c.cy,c=c.x);v(d.node,{viewBox:[c,a,b,m].join(\" \"),markerWidth:b,markerHeight:m,\n",
       "orient:\"auto\",refX:e||0,refY:h||0,id:d.id});d.node.appendChild(this.node);return d};var E=function(c,a,b,m){\"function\"!=typeof b||b.length||(m=b,b=L.linear);this.attr=c;this.dur=a;b&&(this.easing=b);m&&(this.callback=m)};a._.Animation=E;a.animation=function(c,a,b,m){return new E(c,a,b,m)};c.inAnim=function(){var c=[],a;for(a in this.anims)this.anims[h](a)&&function(a){c.push({anim:new E(a._attrs,a.dur,a.easing,a._callback),mina:a,curStatus:a.status(),status:function(c){return a.status(c)},stop:function(){a.stop()}})}(this.anims[a]);\n",
       "return c};a.animate=function(c,a,b,m,e,h){\"function\"!=typeof e||e.length||(h=e,e=L.linear);var d=L.time();c=L(c,a,d,d+m,L.time,b,e);h&&k.once(\"mina.finish.\"+c.id,h);return c};c.stop=function(){for(var c=this.inAnim(),a=0,b=c.length;a<b;a++)c[a].stop();return this};c.animate=function(c,a,b,m){\"function\"!=typeof b||b.length||(m=b,b=L.linear);c instanceof E&&(m=c.callback,b=c.easing,a=b.dur,c=c.attr);var d=[],f=[],l={},t,ca,n,T=this,q;for(q in c)if(c[h](q)){T.equal?(n=T.equal(q,J(c[q])),t=n.from,ca=\n",
       "n.to,n=n.f):(t=+T.attr(q),ca=+c[q]);var la=y(t,\"array\")?t.length:1;l[q]=e(d.length,d.length+la,n);d=d.concat(t);f=f.concat(ca)}t=L.time();var p=L(d,f,t,t+a,L.time,function(c){var a={},b;for(b in l)l[h](b)&&(a[b]=l[b](c));T.attr(a)},b);T.anims[p.id]=p;p._attrs=c;p._callback=m;k(\"snap.animcreated.\"+T.id,p);k.once(\"mina.finish.\"+p.id,function(){delete T.anims[p.id];m&&m.call(T)});k.once(\"mina.stop.\"+p.id,function(){delete T.anims[p.id]});return T};var T={};c.data=function(c,b){var m=T[this.id]=T[this.id]||\n",
       "{};if(0==arguments.length)return k(\"snap.data.get.\"+this.id,this,m,null),m;if(1==arguments.length){if(a.is(c,\"object\")){for(var e in c)c[h](e)&&this.data(e,c[e]);return this}k(\"snap.data.get.\"+this.id,this,m[c],c);return m[c]}m[c]=b;k(\"snap.data.set.\"+this.id,this,b,c);return this};c.removeData=function(c){null==c?T[this.id]={}:T[this.id]&&delete T[this.id][c];return this};c.outerSVG=c.toString=d(1);c.innerSVG=d()})(e.prototype);a.parse=function(c){var a=G.doc.createDocumentFragment(),b=!0,m=G.doc.createElement(\"div\");\n",
       "c=J(c);c.match(/^\\s*<\\s*svg(?:\\s|>)/)||(c=\"<svg>\"+c+\"</svg>\",b=!1);m.innerHTML=c;if(c=m.getElementsByTagName(\"svg\")[0])if(b)a=c;else for(;c.firstChild;)a.appendChild(c.firstChild);m.innerHTML=aa;return new l(a)};l.prototype.select=e.prototype.select;l.prototype.selectAll=e.prototype.selectAll;a.fragment=function(){for(var c=Array.prototype.slice.call(arguments,0),b=G.doc.createDocumentFragment(),m=0,e=c.length;m<e;m++){var h=c[m];h.node&&h.node.nodeType&&b.appendChild(h.node);h.nodeType&&b.appendChild(h);\n",
       "\"string\"==typeof h&&b.appendChild(a.parse(h).node)}return new l(b)};a._.make=r;a._.wrap=x;s.prototype.el=function(c,a){var b=r(c,this.node);a&&b.attr(a);return b};k.on(\"snap.util.getattr\",function(){var c=k.nt(),c=c.substring(c.lastIndexOf(\".\")+1),a=c.replace(/[A-Z]/g,function(c){return\"-\"+c.toLowerCase()});return pa[h](a)?this.node.ownerDocument.defaultView.getComputedStyle(this.node,null).getPropertyValue(a):v(this.node,c)});var pa={\"alignment-baseline\":0,\"baseline-shift\":0,clip:0,\"clip-path\":0,\n",
       "\"clip-rule\":0,color:0,\"color-interpolation\":0,\"color-interpolation-filters\":0,\"color-profile\":0,\"color-rendering\":0,cursor:0,direction:0,display:0,\"dominant-baseline\":0,\"enable-background\":0,fill:0,\"fill-opacity\":0,\"fill-rule\":0,filter:0,\"flood-color\":0,\"flood-opacity\":0,font:0,\"font-family\":0,\"font-size\":0,\"font-size-adjust\":0,\"font-stretch\":0,\"font-style\":0,\"font-variant\":0,\"font-weight\":0,\"glyph-orientation-horizontal\":0,\"glyph-orientation-vertical\":0,\"image-rendering\":0,kerning:0,\"letter-spacing\":0,\n",
       "\"lighting-color\":0,marker:0,\"marker-end\":0,\"marker-mid\":0,\"marker-start\":0,mask:0,opacity:0,overflow:0,\"pointer-events\":0,\"shape-rendering\":0,\"stop-color\":0,\"stop-opacity\":0,stroke:0,\"stroke-dasharray\":0,\"stroke-dashoffset\":0,\"stroke-linecap\":0,\"stroke-linejoin\":0,\"stroke-miterlimit\":0,\"stroke-opacity\":0,\"stroke-width\":0,\"text-anchor\":0,\"text-decoration\":0,\"text-rendering\":0,\"unicode-bidi\":0,visibility:0,\"word-spacing\":0,\"writing-mode\":0};k.on(\"snap.util.attr\",function(c){var a=k.nt(),b={},a=a.substring(a.lastIndexOf(\".\")+\n",
       "1);b[a]=c;var m=a.replace(/-(\\w)/gi,function(c,a){return a.toUpperCase()}),a=a.replace(/[A-Z]/g,function(c){return\"-\"+c.toLowerCase()});pa[h](a)?this.node.style[m]=null==c?aa:c:v(this.node,b)});a.ajax=function(c,a,b,m){var e=new XMLHttpRequest,h=V();if(e){if(y(a,\"function\"))m=b,b=a,a=null;else if(y(a,\"object\")){var d=[],f;for(f in a)a.hasOwnProperty(f)&&d.push(encodeURIComponent(f)+\"=\"+encodeURIComponent(a[f]));a=d.join(\"&\")}e.open(a?\"POST\":\"GET\",c,!0);a&&(e.setRequestHeader(\"X-Requested-With\",\"XMLHttpRequest\"),\n",
       "e.setRequestHeader(\"Content-type\",\"application/x-www-form-urlencoded\"));b&&(k.once(\"snap.ajax.\"+h+\".0\",b),k.once(\"snap.ajax.\"+h+\".200\",b),k.once(\"snap.ajax.\"+h+\".304\",b));e.onreadystatechange=function(){4==e.readyState&&k(\"snap.ajax.\"+h+\".\"+e.status,m,e)};if(4==e.readyState)return e;e.send(a);return e}};a.load=function(c,b,m){a.ajax(c,function(c){c=a.parse(c.responseText);m?b.call(m,c):b(c)})};a.getElementByPoint=function(c,a){var b,m,e=G.doc.elementFromPoint(c,a);if(G.win.opera&&\"svg\"==e.tagName){b=\n",
       "e;m=b.getBoundingClientRect();b=b.ownerDocument;var h=b.body,d=b.documentElement;b=m.top+(g.win.pageYOffset||d.scrollTop||h.scrollTop)-(d.clientTop||h.clientTop||0);m=m.left+(g.win.pageXOffset||d.scrollLeft||h.scrollLeft)-(d.clientLeft||h.clientLeft||0);h=e.createSVGRect();h.x=c-m;h.y=a-b;h.width=h.height=1;b=e.getIntersectionList(h,null);b.length&&(e=b[b.length-1])}return e?x(e):null};a.plugin=function(c){c(a,e,s,G,l)};return G.win.Snap=a}();C.plugin(function(a,k,y,M,A){function w(a,d,f,b,q,e){null==\n",
       "d&&\"[object SVGMatrix]\"==z.call(a)?(this.a=a.a,this.b=a.b,this.c=a.c,this.d=a.d,this.e=a.e,this.f=a.f):null!=a?(this.a=+a,this.b=+d,this.c=+f,this.d=+b,this.e=+q,this.f=+e):(this.a=1,this.c=this.b=0,this.d=1,this.f=this.e=0)}var z=Object.prototype.toString,d=String,f=Math;(function(n){function k(a){return a[0]*a[0]+a[1]*a[1]}function p(a){var d=f.sqrt(k(a));a[0]&&(a[0]/=d);a[1]&&(a[1]/=d)}n.add=function(a,d,e,f,n,p){var k=[[],[],[] ],u=[[this.a,this.c,this.e],[this.b,this.d,this.f],[0,0,1] ];d=[[a,\n",
       "e,n],[d,f,p],[0,0,1] ];a&&a instanceof w&&(d=[[a.a,a.c,a.e],[a.b,a.d,a.f],[0,0,1] ]);for(a=0;3>a;a++)for(e=0;3>e;e++){for(f=n=0;3>f;f++)n+=u[a][f]*d[f][e];k[a][e]=n}this.a=k[0][0];this.b=k[1][0];this.c=k[0][1];this.d=k[1][1];this.e=k[0][2];this.f=k[1][2];return this};n.invert=function(){var a=this.a*this.d-this.b*this.c;return new w(this.d/a,-this.b/a,-this.c/a,this.a/a,(this.c*this.f-this.d*this.e)/a,(this.b*this.e-this.a*this.f)/a)};n.clone=function(){return new w(this.a,this.b,this.c,this.d,this.e,\n",
       "this.f)};n.translate=function(a,d){return this.add(1,0,0,1,a,d)};n.scale=function(a,d,e,f){null==d&&(d=a);(e||f)&&this.add(1,0,0,1,e,f);this.add(a,0,0,d,0,0);(e||f)&&this.add(1,0,0,1,-e,-f);return this};n.rotate=function(b,d,e){b=a.rad(b);d=d||0;e=e||0;var l=+f.cos(b).toFixed(9);b=+f.sin(b).toFixed(9);this.add(l,b,-b,l,d,e);return this.add(1,0,0,1,-d,-e)};n.x=function(a,d){return a*this.a+d*this.c+this.e};n.y=function(a,d){return a*this.b+d*this.d+this.f};n.get=function(a){return+this[d.fromCharCode(97+\n",
       "a)].toFixed(4)};n.toString=function(){return\"matrix(\"+[this.get(0),this.get(1),this.get(2),this.get(3),this.get(4),this.get(5)].join()+\")\"};n.offset=function(){return[this.e.toFixed(4),this.f.toFixed(4)]};n.determinant=function(){return this.a*this.d-this.b*this.c};n.split=function(){var b={};b.dx=this.e;b.dy=this.f;var d=[[this.a,this.c],[this.b,this.d] ];b.scalex=f.sqrt(k(d[0]));p(d[0]);b.shear=d[0][0]*d[1][0]+d[0][1]*d[1][1];d[1]=[d[1][0]-d[0][0]*b.shear,d[1][1]-d[0][1]*b.shear];b.scaley=f.sqrt(k(d[1]));\n",
       "p(d[1]);b.shear/=b.scaley;0>this.determinant()&&(b.scalex=-b.scalex);var e=-d[0][1],d=d[1][1];0>d?(b.rotate=a.deg(f.acos(d)),0>e&&(b.rotate=360-b.rotate)):b.rotate=a.deg(f.asin(e));b.isSimple=!+b.shear.toFixed(9)&&(b.scalex.toFixed(9)==b.scaley.toFixed(9)||!b.rotate);b.isSuperSimple=!+b.shear.toFixed(9)&&b.scalex.toFixed(9)==b.scaley.toFixed(9)&&!b.rotate;b.noRotation=!+b.shear.toFixed(9)&&!b.rotate;return b};n.toTransformString=function(a){a=a||this.split();if(+a.shear.toFixed(9))return\"m\"+[this.get(0),\n",
       "this.get(1),this.get(2),this.get(3),this.get(4),this.get(5)];a.scalex=+a.scalex.toFixed(4);a.scaley=+a.scaley.toFixed(4);a.rotate=+a.rotate.toFixed(4);return(a.dx||a.dy?\"t\"+[+a.dx.toFixed(4),+a.dy.toFixed(4)]:\"\")+(1!=a.scalex||1!=a.scaley?\"s\"+[a.scalex,a.scaley,0,0]:\"\")+(a.rotate?\"r\"+[+a.rotate.toFixed(4),0,0]:\"\")}})(w.prototype);a.Matrix=w;a.matrix=function(a,d,f,b,k,e){return new w(a,d,f,b,k,e)}});C.plugin(function(a,v,y,M,A){function w(h){return function(d){k.stop();d instanceof A&&1==d.node.childNodes.length&&\n",
       "(\"radialGradient\"==d.node.firstChild.tagName||\"linearGradient\"==d.node.firstChild.tagName||\"pattern\"==d.node.firstChild.tagName)&&(d=d.node.firstChild,b(this).appendChild(d),d=u(d));if(d instanceof v)if(\"radialGradient\"==d.type||\"linearGradient\"==d.type||\"pattern\"==d.type){d.node.id||e(d.node,{id:d.id});var f=l(d.node.id)}else f=d.attr(h);else f=a.color(d),f.error?(f=a(b(this).ownerSVGElement).gradient(d))?(f.node.id||e(f.node,{id:f.id}),f=l(f.node.id)):f=d:f=r(f);d={};d[h]=f;e(this.node,d);this.node.style[h]=\n",
       "x}}function z(a){k.stop();a==+a&&(a+=\"px\");this.node.style.fontSize=a}function d(a){var b=[];a=a.childNodes;for(var e=0,f=a.length;e<f;e++){var l=a[e];3==l.nodeType&&b.push(l.nodeValue);\"tspan\"==l.tagName&&(1==l.childNodes.length&&3==l.firstChild.nodeType?b.push(l.firstChild.nodeValue):b.push(d(l)))}return b}function f(){k.stop();return this.node.style.fontSize}var n=a._.make,u=a._.wrap,p=a.is,b=a._.getSomeDefs,q=/^url\\(#?([^)]+)\\)$/,e=a._.$,l=a.url,r=String,s=a._.separator,x=\"\";k.on(\"snap.util.attr.mask\",\n",
       "function(a){if(a instanceof v||a instanceof A){k.stop();a instanceof A&&1==a.node.childNodes.length&&(a=a.node.firstChild,b(this).appendChild(a),a=u(a));if(\"mask\"==a.type)var d=a;else d=n(\"mask\",b(this)),d.node.appendChild(a.node);!d.node.id&&e(d.node,{id:d.id});e(this.node,{mask:l(d.id)})}});(function(a){k.on(\"snap.util.attr.clip\",a);k.on(\"snap.util.attr.clip-path\",a);k.on(\"snap.util.attr.clipPath\",a)})(function(a){if(a instanceof v||a instanceof A){k.stop();if(\"clipPath\"==a.type)var d=a;else d=\n",
       "n(\"clipPath\",b(this)),d.node.appendChild(a.node),!d.node.id&&e(d.node,{id:d.id});e(this.node,{\"clip-path\":l(d.id)})}});k.on(\"snap.util.attr.fill\",w(\"fill\"));k.on(\"snap.util.attr.stroke\",w(\"stroke\"));var G=/^([lr])(?:\\(([^)]*)\\))?(.*)$/i;k.on(\"snap.util.grad.parse\",function(a){a=r(a);var b=a.match(G);if(!b)return null;a=b[1];var e=b[2],b=b[3],e=e.split(/\\s*,\\s*/).map(function(a){return+a==a?+a:a});1==e.length&&0==e[0]&&(e=[]);b=b.split(\"-\");b=b.map(function(a){a=a.split(\":\");var b={color:a[0]};a[1]&&\n",
       "(b.offset=parseFloat(a[1]));return b});return{type:a,params:e,stops:b}});k.on(\"snap.util.attr.d\",function(b){k.stop();p(b,\"array\")&&p(b[0],\"array\")&&(b=a.path.toString.call(b));b=r(b);b.match(/[ruo]/i)&&(b=a.path.toAbsolute(b));e(this.node,{d:b})})(-1);k.on(\"snap.util.attr.#text\",function(a){k.stop();a=r(a);for(a=M.doc.createTextNode(a);this.node.firstChild;)this.node.removeChild(this.node.firstChild);this.node.appendChild(a)})(-1);k.on(\"snap.util.attr.path\",function(a){k.stop();this.attr({d:a})})(-1);\n",
       "k.on(\"snap.util.attr.class\",function(a){k.stop();this.node.className.baseVal=a})(-1);k.on(\"snap.util.attr.viewBox\",function(a){a=p(a,\"object\")&&\"x\"in a?[a.x,a.y,a.width,a.height].join(\" \"):p(a,\"array\")?a.join(\" \"):a;e(this.node,{viewBox:a});k.stop()})(-1);k.on(\"snap.util.attr.transform\",function(a){this.transform(a);k.stop()})(-1);k.on(\"snap.util.attr.r\",function(a){\"rect\"==this.type&&(k.stop(),e(this.node,{rx:a,ry:a}))})(-1);k.on(\"snap.util.attr.textpath\",function(a){k.stop();if(\"text\"==this.type){var d,\n",
       "f;if(!a&&this.textPath){for(a=this.textPath;a.node.firstChild;)this.node.appendChild(a.node.firstChild);a.remove();delete this.textPath}else if(p(a,\"string\")?(d=b(this),a=u(d.parentNode).path(a),d.appendChild(a.node),d=a.id,a.attr({id:d})):(a=u(a),a instanceof v&&(d=a.attr(\"id\"),d||(d=a.id,a.attr({id:d})))),d)if(a=this.textPath,f=this.node,a)a.attr({\"xlink:href\":\"#\"+d});else{for(a=e(\"textPath\",{\"xlink:href\":\"#\"+d});f.firstChild;)a.appendChild(f.firstChild);f.appendChild(a);this.textPath=u(a)}}})(-1);\n",
       "k.on(\"snap.util.attr.text\",function(a){if(\"text\"==this.type){for(var b=this.node,d=function(a){var b=e(\"tspan\");if(p(a,\"array\"))for(var f=0;f<a.length;f++)b.appendChild(d(a[f]));else b.appendChild(M.doc.createTextNode(a));b.normalize&&b.normalize();return b};b.firstChild;)b.removeChild(b.firstChild);for(a=d(a);a.firstChild;)b.appendChild(a.firstChild)}k.stop()})(-1);k.on(\"snap.util.attr.fontSize\",z)(-1);k.on(\"snap.util.attr.font-size\",z)(-1);k.on(\"snap.util.getattr.transform\",function(){k.stop();\n",
       "return this.transform()})(-1);k.on(\"snap.util.getattr.textpath\",function(){k.stop();return this.textPath})(-1);(function(){function b(d){return function(){k.stop();var b=M.doc.defaultView.getComputedStyle(this.node,null).getPropertyValue(\"marker-\"+d);return\"none\"==b?b:a(M.doc.getElementById(b.match(q)[1]))}}function d(a){return function(b){k.stop();var d=\"marker\"+a.charAt(0).toUpperCase()+a.substring(1);if(\"\"==b||!b)this.node.style[d]=\"none\";else if(\"marker\"==b.type){var f=b.node.id;f||e(b.node,{id:b.id});\n",
       "this.node.style[d]=l(f)}}}k.on(\"snap.util.getattr.marker-end\",b(\"end\"))(-1);k.on(\"snap.util.getattr.markerEnd\",b(\"end\"))(-1);k.on(\"snap.util.getattr.marker-start\",b(\"start\"))(-1);k.on(\"snap.util.getattr.markerStart\",b(\"start\"))(-1);k.on(\"snap.util.getattr.marker-mid\",b(\"mid\"))(-1);k.on(\"snap.util.getattr.markerMid\",b(\"mid\"))(-1);k.on(\"snap.util.attr.marker-end\",d(\"end\"))(-1);k.on(\"snap.util.attr.markerEnd\",d(\"end\"))(-1);k.on(\"snap.util.attr.marker-start\",d(\"start\"))(-1);k.on(\"snap.util.attr.markerStart\",\n",
       "d(\"start\"))(-1);k.on(\"snap.util.attr.marker-mid\",d(\"mid\"))(-1);k.on(\"snap.util.attr.markerMid\",d(\"mid\"))(-1)})();k.on(\"snap.util.getattr.r\",function(){if(\"rect\"==this.type&&e(this.node,\"rx\")==e(this.node,\"ry\"))return k.stop(),e(this.node,\"rx\")})(-1);k.on(\"snap.util.getattr.text\",function(){if(\"text\"==this.type||\"tspan\"==this.type){k.stop();var a=d(this.node);return 1==a.length?a[0]:a}})(-1);k.on(\"snap.util.getattr.#text\",function(){return this.node.textContent})(-1);k.on(\"snap.util.getattr.viewBox\",\n",
       "function(){k.stop();var b=e(this.node,\"viewBox\");if(b)return b=b.split(s),a._.box(+b[0],+b[1],+b[2],+b[3])})(-1);k.on(\"snap.util.getattr.points\",function(){var a=e(this.node,\"points\");k.stop();if(a)return a.split(s)})(-1);k.on(\"snap.util.getattr.path\",function(){var a=e(this.node,\"d\");k.stop();return a})(-1);k.on(\"snap.util.getattr.class\",function(){return this.node.className.baseVal})(-1);k.on(\"snap.util.getattr.fontSize\",f)(-1);k.on(\"snap.util.getattr.font-size\",f)(-1)});C.plugin(function(a,v,y,\n",
       "M,A){function w(a){return a}function z(a){return function(b){return+b.toFixed(3)+a}}var d={\"+\":function(a,b){return a+b},\"-\":function(a,b){return a-b},\"/\":function(a,b){return a/b},\"*\":function(a,b){return a*b}},f=String,n=/[a-z]+$/i,u=/^\\s*([+\\-\\/*])\\s*=\\s*([\\d.eE+\\-]+)\\s*([^\\d\\s]+)?\\s*$/;k.on(\"snap.util.attr\",function(a){if(a=f(a).match(u)){var b=k.nt(),b=b.substring(b.lastIndexOf(\".\")+1),q=this.attr(b),e={};k.stop();var l=a[3]||\"\",r=q.match(n),s=d[a[1] ];r&&r==l?a=s(parseFloat(q),+a[2]):(q=this.asPX(b),\n",
       "a=s(this.asPX(b),this.asPX(b,a[2]+l)));isNaN(q)||isNaN(a)||(e[b]=a,this.attr(e))}})(-10);k.on(\"snap.util.equal\",function(a,b){var q=f(this.attr(a)||\"\"),e=f(b).match(u);if(e){k.stop();var l=e[3]||\"\",r=q.match(n),s=d[e[1] ];if(r&&r==l)return{from:parseFloat(q),to:s(parseFloat(q),+e[2]),f:z(r)};q=this.asPX(a);return{from:q,to:s(q,this.asPX(a,e[2]+l)),f:w}}})(-10)});C.plugin(function(a,v,y,M,A){var w=y.prototype,z=a.is;w.rect=function(a,d,k,p,b,q){var e;null==q&&(q=b);z(a,\"object\")&&\"[object Object]\"==\n",
       "a?e=a:null!=a&&(e={x:a,y:d,width:k,height:p},null!=b&&(e.rx=b,e.ry=q));return this.el(\"rect\",e)};w.circle=function(a,d,k){var p;z(a,\"object\")&&\"[object Object]\"==a?p=a:null!=a&&(p={cx:a,cy:d,r:k});return this.el(\"circle\",p)};var d=function(){function a(){this.parentNode.removeChild(this)}return function(d,k){var p=M.doc.createElement(\"img\"),b=M.doc.body;p.style.cssText=\"position:absolute;left:-9999em;top:-9999em\";p.onload=function(){k.call(p);p.onload=p.onerror=null;b.removeChild(p)};p.onerror=a;\n",
       "b.appendChild(p);p.src=d}}();w.image=function(f,n,k,p,b){var q=this.el(\"image\");if(z(f,\"object\")&&\"src\"in f)q.attr(f);else if(null!=f){var e={\"xlink:href\":f,preserveAspectRatio:\"none\"};null!=n&&null!=k&&(e.x=n,e.y=k);null!=p&&null!=b?(e.width=p,e.height=b):d(f,function(){a._.$(q.node,{width:this.offsetWidth,height:this.offsetHeight})});a._.$(q.node,e)}return q};w.ellipse=function(a,d,k,p){var b;z(a,\"object\")&&\"[object Object]\"==a?b=a:null!=a&&(b={cx:a,cy:d,rx:k,ry:p});return this.el(\"ellipse\",b)};\n",
       "w.path=function(a){var d;z(a,\"object\")&&!z(a,\"array\")?d=a:a&&(d={d:a});return this.el(\"path\",d)};w.group=w.g=function(a){var d=this.el(\"g\");1==arguments.length&&a&&!a.type?d.attr(a):arguments.length&&d.add(Array.prototype.slice.call(arguments,0));return d};w.svg=function(a,d,k,p,b,q,e,l){var r={};z(a,\"object\")&&null==d?r=a:(null!=a&&(r.x=a),null!=d&&(r.y=d),null!=k&&(r.width=k),null!=p&&(r.height=p),null!=b&&null!=q&&null!=e&&null!=l&&(r.viewBox=[b,q,e,l]));return this.el(\"svg\",r)};w.mask=function(a){var d=\n",
       "this.el(\"mask\");1==arguments.length&&a&&!a.type?d.attr(a):arguments.length&&d.add(Array.prototype.slice.call(arguments,0));return d};w.ptrn=function(a,d,k,p,b,q,e,l){if(z(a,\"object\"))var r=a;else arguments.length?(r={},null!=a&&(r.x=a),null!=d&&(r.y=d),null!=k&&(r.width=k),null!=p&&(r.height=p),null!=b&&null!=q&&null!=e&&null!=l&&(r.viewBox=[b,q,e,l])):r={patternUnits:\"userSpaceOnUse\"};return this.el(\"pattern\",r)};w.use=function(a){return null!=a?(make(\"use\",this.node),a instanceof v&&(a.attr(\"id\")||\n",
       "a.attr({id:ID()}),a=a.attr(\"id\")),this.el(\"use\",{\"xlink:href\":a})):v.prototype.use.call(this)};w.text=function(a,d,k){var p={};z(a,\"object\")?p=a:null!=a&&(p={x:a,y:d,text:k||\"\"});return this.el(\"text\",p)};w.line=function(a,d,k,p){var b={};z(a,\"object\")?b=a:null!=a&&(b={x1:a,x2:k,y1:d,y2:p});return this.el(\"line\",b)};w.polyline=function(a){1<arguments.length&&(a=Array.prototype.slice.call(arguments,0));var d={};z(a,\"object\")&&!z(a,\"array\")?d=a:null!=a&&(d={points:a});return this.el(\"polyline\",d)};\n",
       "w.polygon=function(a){1<arguments.length&&(a=Array.prototype.slice.call(arguments,0));var d={};z(a,\"object\")&&!z(a,\"array\")?d=a:null!=a&&(d={points:a});return this.el(\"polygon\",d)};(function(){function d(){return this.selectAll(\"stop\")}function n(b,d){var f=e(\"stop\"),k={offset:+d+\"%\"};b=a.color(b);k[\"stop-color\"]=b.hex;1>b.opacity&&(k[\"stop-opacity\"]=b.opacity);e(f,k);this.node.appendChild(f);return this}function u(){if(\"linearGradient\"==this.type){var b=e(this.node,\"x1\")||0,d=e(this.node,\"x2\")||\n",
       "1,f=e(this.node,\"y1\")||0,k=e(this.node,\"y2\")||0;return a._.box(b,f,math.abs(d-b),math.abs(k-f))}b=this.node.r||0;return a._.box((this.node.cx||0.5)-b,(this.node.cy||0.5)-b,2*b,2*b)}function p(a,d){function f(a,b){for(var d=(b-u)/(a-w),e=w;e<a;e++)h[e].offset=+(+u+d*(e-w)).toFixed(2);w=a;u=b}var n=k(\"snap.util.grad.parse\",null,d).firstDefined(),p;if(!n)return null;n.params.unshift(a);p=\"l\"==n.type.toLowerCase()?b.apply(0,n.params):q.apply(0,n.params);n.type!=n.type.toLowerCase()&&e(p.node,{gradientUnits:\"userSpaceOnUse\"});\n",
       "var h=n.stops,n=h.length,u=0,w=0;n--;for(var v=0;v<n;v++)\"offset\"in h[v]&&f(v,h[v].offset);h[n].offset=h[n].offset||100;f(n,h[n].offset);for(v=0;v<=n;v++){var y=h[v];p.addStop(y.color,y.offset)}return p}function b(b,k,p,q,w){b=a._.make(\"linearGradient\",b);b.stops=d;b.addStop=n;b.getBBox=u;null!=k&&e(b.node,{x1:k,y1:p,x2:q,y2:w});return b}function q(b,k,p,q,w,h){b=a._.make(\"radialGradient\",b);b.stops=d;b.addStop=n;b.getBBox=u;null!=k&&e(b.node,{cx:k,cy:p,r:q});null!=w&&null!=h&&e(b.node,{fx:w,fy:h});\n",
       "return b}var e=a._.$;w.gradient=function(a){return p(this.defs,a)};w.gradientLinear=function(a,d,e,f){return b(this.defs,a,d,e,f)};w.gradientRadial=function(a,b,d,e,f){return q(this.defs,a,b,d,e,f)};w.toString=function(){var b=this.node.ownerDocument,d=b.createDocumentFragment(),b=b.createElement(\"div\"),e=this.node.cloneNode(!0);d.appendChild(b);b.appendChild(e);a._.$(e,{xmlns:\"http://www.w3.org/2000/svg\"});b=b.innerHTML;d.removeChild(d.firstChild);return b};w.clear=function(){for(var a=this.node.firstChild,\n",
       "b;a;)b=a.nextSibling,\"defs\"!=a.tagName?a.parentNode.removeChild(a):w.clear.call({node:a}),a=b}})()});C.plugin(function(a,k,y,M){function A(a){var b=A.ps=A.ps||{};b[a]?b[a].sleep=100:b[a]={sleep:100};setTimeout(function(){for(var d in b)b[L](d)&&d!=a&&(b[d].sleep--,!b[d].sleep&&delete b[d])});return b[a]}function w(a,b,d,e){null==a&&(a=b=d=e=0);null==b&&(b=a.y,d=a.width,e=a.height,a=a.x);return{x:a,y:b,width:d,w:d,height:e,h:e,x2:a+d,y2:b+e,cx:a+d/2,cy:b+e/2,r1:F.min(d,e)/2,r2:F.max(d,e)/2,r0:F.sqrt(d*\n",
       "d+e*e)/2,path:s(a,b,d,e),vb:[a,b,d,e].join(\" \")}}function z(){return this.join(\",\").replace(N,\"$1\")}function d(a){a=C(a);a.toString=z;return a}function f(a,b,d,h,f,k,l,n,p){if(null==p)return e(a,b,d,h,f,k,l,n);if(0>p||e(a,b,d,h,f,k,l,n)<p)p=void 0;else{var q=0.5,O=1-q,s;for(s=e(a,b,d,h,f,k,l,n,O);0.01<Z(s-p);)q/=2,O+=(s<p?1:-1)*q,s=e(a,b,d,h,f,k,l,n,O);p=O}return u(a,b,d,h,f,k,l,n,p)}function n(b,d){function e(a){return+(+a).toFixed(3)}return a._.cacher(function(a,h,l){a instanceof k&&(a=a.attr(\"d\"));\n",
       "a=I(a);for(var n,p,D,q,O=\"\",s={},c=0,t=0,r=a.length;t<r;t++){D=a[t];if(\"M\"==D[0])n=+D[1],p=+D[2];else{q=f(n,p,D[1],D[2],D[3],D[4],D[5],D[6]);if(c+q>h){if(d&&!s.start){n=f(n,p,D[1],D[2],D[3],D[4],D[5],D[6],h-c);O+=[\"C\"+e(n.start.x),e(n.start.y),e(n.m.x),e(n.m.y),e(n.x),e(n.y)];if(l)return O;s.start=O;O=[\"M\"+e(n.x),e(n.y)+\"C\"+e(n.n.x),e(n.n.y),e(n.end.x),e(n.end.y),e(D[5]),e(D[6])].join();c+=q;n=+D[5];p=+D[6];continue}if(!b&&!d)return n=f(n,p,D[1],D[2],D[3],D[4],D[5],D[6],h-c)}c+=q;n=+D[5];p=+D[6]}O+=\n",
       "D.shift()+D}s.end=O;return n=b?c:d?s:u(n,p,D[0],D[1],D[2],D[3],D[4],D[5],1)},null,a._.clone)}function u(a,b,d,e,h,f,k,l,n){var p=1-n,q=ma(p,3),s=ma(p,2),c=n*n,t=c*n,r=q*a+3*s*n*d+3*p*n*n*h+t*k,q=q*b+3*s*n*e+3*p*n*n*f+t*l,s=a+2*n*(d-a)+c*(h-2*d+a),t=b+2*n*(e-b)+c*(f-2*e+b),x=d+2*n*(h-d)+c*(k-2*h+d),c=e+2*n*(f-e)+c*(l-2*f+e);a=p*a+n*d;b=p*b+n*e;h=p*h+n*k;f=p*f+n*l;l=90-180*F.atan2(s-x,t-c)/S;return{x:r,y:q,m:{x:s,y:t},n:{x:x,y:c},start:{x:a,y:b},end:{x:h,y:f},alpha:l}}function p(b,d,e,h,f,n,k,l){a.is(b,\n",
       "\"array\")||(b=[b,d,e,h,f,n,k,l]);b=U.apply(null,b);return w(b.min.x,b.min.y,b.max.x-b.min.x,b.max.y-b.min.y)}function b(a,b,d){return b>=a.x&&b<=a.x+a.width&&d>=a.y&&d<=a.y+a.height}function q(a,d){a=w(a);d=w(d);return b(d,a.x,a.y)||b(d,a.x2,a.y)||b(d,a.x,a.y2)||b(d,a.x2,a.y2)||b(a,d.x,d.y)||b(a,d.x2,d.y)||b(a,d.x,d.y2)||b(a,d.x2,d.y2)||(a.x<d.x2&&a.x>d.x||d.x<a.x2&&d.x>a.x)&&(a.y<d.y2&&a.y>d.y||d.y<a.y2&&d.y>a.y)}function e(a,b,d,e,h,f,n,k,l){null==l&&(l=1);l=(1<l?1:0>l?0:l)/2;for(var p=[-0.1252,\n",
       "0.1252,-0.3678,0.3678,-0.5873,0.5873,-0.7699,0.7699,-0.9041,0.9041,-0.9816,0.9816],q=[0.2491,0.2491,0.2335,0.2335,0.2032,0.2032,0.1601,0.1601,0.1069,0.1069,0.0472,0.0472],s=0,c=0;12>c;c++)var t=l*p[c]+l,r=t*(t*(-3*a+9*d-9*h+3*n)+6*a-12*d+6*h)-3*a+3*d,t=t*(t*(-3*b+9*e-9*f+3*k)+6*b-12*e+6*f)-3*b+3*e,s=s+q[c]*F.sqrt(r*r+t*t);return l*s}function l(a,b,d){a=I(a);b=I(b);for(var h,f,l,n,k,s,r,O,x,c,t=d?0:[],w=0,v=a.length;w<v;w++)if(x=a[w],\"M\"==x[0])h=k=x[1],f=s=x[2];else{\"C\"==x[0]?(x=[h,f].concat(x.slice(1)),\n",
       "h=x[6],f=x[7]):(x=[h,f,h,f,k,s,k,s],h=k,f=s);for(var G=0,y=b.length;G<y;G++)if(c=b[G],\"M\"==c[0])l=r=c[1],n=O=c[2];else{\"C\"==c[0]?(c=[l,n].concat(c.slice(1)),l=c[6],n=c[7]):(c=[l,n,l,n,r,O,r,O],l=r,n=O);var z;var K=x,B=c;z=d;var H=p(K),J=p(B);if(q(H,J)){for(var H=e.apply(0,K),J=e.apply(0,B),H=~~(H/8),J=~~(J/8),U=[],A=[],F={},M=z?0:[],P=0;P<H+1;P++){var C=u.apply(0,K.concat(P/H));U.push({x:C.x,y:C.y,t:P/H})}for(P=0;P<J+1;P++)C=u.apply(0,B.concat(P/J)),A.push({x:C.x,y:C.y,t:P/J});for(P=0;P<H;P++)for(K=\n",
       "0;K<J;K++){var Q=U[P],L=U[P+1],B=A[K],C=A[K+1],N=0.001>Z(L.x-Q.x)?\"y\":\"x\",S=0.001>Z(C.x-B.x)?\"y\":\"x\",R;R=Q.x;var Y=Q.y,V=L.x,ea=L.y,fa=B.x,ga=B.y,ha=C.x,ia=C.y;if(W(R,V)<X(fa,ha)||X(R,V)>W(fa,ha)||W(Y,ea)<X(ga,ia)||X(Y,ea)>W(ga,ia))R=void 0;else{var $=(R*ea-Y*V)*(fa-ha)-(R-V)*(fa*ia-ga*ha),aa=(R*ea-Y*V)*(ga-ia)-(Y-ea)*(fa*ia-ga*ha),ja=(R-V)*(ga-ia)-(Y-ea)*(fa-ha);if(ja){var $=$/ja,aa=aa/ja,ja=+$.toFixed(2),ba=+aa.toFixed(2);R=ja<+X(R,V).toFixed(2)||ja>+W(R,V).toFixed(2)||ja<+X(fa,ha).toFixed(2)||\n",
       "ja>+W(fa,ha).toFixed(2)||ba<+X(Y,ea).toFixed(2)||ba>+W(Y,ea).toFixed(2)||ba<+X(ga,ia).toFixed(2)||ba>+W(ga,ia).toFixed(2)?void 0:{x:$,y:aa}}else R=void 0}R&&F[R.x.toFixed(4)]!=R.y.toFixed(4)&&(F[R.x.toFixed(4)]=R.y.toFixed(4),Q=Q.t+Z((R[N]-Q[N])/(L[N]-Q[N]))*(L.t-Q.t),B=B.t+Z((R[S]-B[S])/(C[S]-B[S]))*(C.t-B.t),0<=Q&&1>=Q&&0<=B&&1>=B&&(z?M++:M.push({x:R.x,y:R.y,t1:Q,t2:B})))}z=M}else z=z?0:[];if(d)t+=z;else{H=0;for(J=z.length;H<J;H++)z[H].segment1=w,z[H].segment2=G,z[H].bez1=x,z[H].bez2=c;t=t.concat(z)}}}return t}\n",
       "function r(a){var b=A(a);if(b.bbox)return C(b.bbox);if(!a)return w();a=I(a);for(var d=0,e=0,h=[],f=[],l,n=0,k=a.length;n<k;n++)l=a[n],\"M\"==l[0]?(d=l[1],e=l[2],h.push(d),f.push(e)):(d=U(d,e,l[1],l[2],l[3],l[4],l[5],l[6]),h=h.concat(d.min.x,d.max.x),f=f.concat(d.min.y,d.max.y),d=l[5],e=l[6]);a=X.apply(0,h);l=X.apply(0,f);h=W.apply(0,h);f=W.apply(0,f);f=w(a,l,h-a,f-l);b.bbox=C(f);return f}function s(a,b,d,e,h){if(h)return[[\"M\",+a+ +h,b],[\"l\",d-2*h,0],[\"a\",h,h,0,0,1,h,h],[\"l\",0,e-2*h],[\"a\",h,h,0,0,1,\n",
       "-h,h],[\"l\",2*h-d,0],[\"a\",h,h,0,0,1,-h,-h],[\"l\",0,2*h-e],[\"a\",h,h,0,0,1,h,-h],[\"z\"] ];a=[[\"M\",a,b],[\"l\",d,0],[\"l\",0,e],[\"l\",-d,0],[\"z\"] ];a.toString=z;return a}function x(a,b,d,e,h){null==h&&null==e&&(e=d);a=+a;b=+b;d=+d;e=+e;if(null!=h){var f=Math.PI/180,l=a+d*Math.cos(-e*f);a+=d*Math.cos(-h*f);var n=b+d*Math.sin(-e*f);b+=d*Math.sin(-h*f);d=[[\"M\",l,n],[\"A\",d,d,0,+(180<h-e),0,a,b] ]}else d=[[\"M\",a,b],[\"m\",0,-e],[\"a\",d,e,0,1,1,0,2*e],[\"a\",d,e,0,1,1,0,-2*e],[\"z\"] ];d.toString=z;return d}function G(b){var e=\n",
       "A(b);if(e.abs)return d(e.abs);Q(b,\"array\")&&Q(b&&b[0],\"array\")||(b=a.parsePathString(b));if(!b||!b.length)return[[\"M\",0,0] ];var h=[],f=0,l=0,n=0,k=0,p=0;\"M\"==b[0][0]&&(f=+b[0][1],l=+b[0][2],n=f,k=l,p++,h[0]=[\"M\",f,l]);for(var q=3==b.length&&\"M\"==b[0][0]&&\"R\"==b[1][0].toUpperCase()&&\"Z\"==b[2][0].toUpperCase(),s,r,w=p,c=b.length;w<c;w++){h.push(s=[]);r=b[w];p=r[0];if(p!=p.toUpperCase())switch(s[0]=p.toUpperCase(),s[0]){case \"A\":s[1]=r[1];s[2]=r[2];s[3]=r[3];s[4]=r[4];s[5]=r[5];s[6]=+r[6]+f;s[7]=+r[7]+\n",
       "l;break;case \"V\":s[1]=+r[1]+l;break;case \"H\":s[1]=+r[1]+f;break;case \"R\":for(var t=[f,l].concat(r.slice(1)),u=2,v=t.length;u<v;u++)t[u]=+t[u]+f,t[++u]=+t[u]+l;h.pop();h=h.concat(P(t,q));break;case \"O\":h.pop();t=x(f,l,r[1],r[2]);t.push(t[0]);h=h.concat(t);break;case \"U\":h.pop();h=h.concat(x(f,l,r[1],r[2],r[3]));s=[\"U\"].concat(h[h.length-1].slice(-2));break;case \"M\":n=+r[1]+f,k=+r[2]+l;default:for(u=1,v=r.length;u<v;u++)s[u]=+r[u]+(u%2?f:l)}else if(\"R\"==p)t=[f,l].concat(r.slice(1)),h.pop(),h=h.concat(P(t,\n",
       "q)),s=[\"R\"].concat(r.slice(-2));else if(\"O\"==p)h.pop(),t=x(f,l,r[1],r[2]),t.push(t[0]),h=h.concat(t);else if(\"U\"==p)h.pop(),h=h.concat(x(f,l,r[1],r[2],r[3])),s=[\"U\"].concat(h[h.length-1].slice(-2));else for(t=0,u=r.length;t<u;t++)s[t]=r[t];p=p.toUpperCase();if(\"O\"!=p)switch(s[0]){case \"Z\":f=+n;l=+k;break;case \"H\":f=s[1];break;case \"V\":l=s[1];break;case \"M\":n=s[s.length-2],k=s[s.length-1];default:f=s[s.length-2],l=s[s.length-1]}}h.toString=z;e.abs=d(h);return h}function h(a,b,d,e){return[a,b,d,e,d,\n",
       "e]}function J(a,b,d,e,h,f){var l=1/3,n=2/3;return[l*a+n*d,l*b+n*e,l*h+n*d,l*f+n*e,h,f]}function K(b,d,e,h,f,l,n,k,p,s){var r=120*S/180,q=S/180*(+f||0),c=[],t,x=a._.cacher(function(a,b,c){var d=a*F.cos(c)-b*F.sin(c);a=a*F.sin(c)+b*F.cos(c);return{x:d,y:a}});if(s)v=s[0],t=s[1],l=s[2],u=s[3];else{t=x(b,d,-q);b=t.x;d=t.y;t=x(k,p,-q);k=t.x;p=t.y;F.cos(S/180*f);F.sin(S/180*f);t=(b-k)/2;v=(d-p)/2;u=t*t/(e*e)+v*v/(h*h);1<u&&(u=F.sqrt(u),e*=u,h*=u);var u=e*e,w=h*h,u=(l==n?-1:1)*F.sqrt(Z((u*w-u*v*v-w*t*t)/\n",
       "(u*v*v+w*t*t)));l=u*e*v/h+(b+k)/2;var u=u*-h*t/e+(d+p)/2,v=F.asin(((d-u)/h).toFixed(9));t=F.asin(((p-u)/h).toFixed(9));v=b<l?S-v:v;t=k<l?S-t:t;0>v&&(v=2*S+v);0>t&&(t=2*S+t);n&&v>t&&(v-=2*S);!n&&t>v&&(t-=2*S)}if(Z(t-v)>r){var c=t,w=k,G=p;t=v+r*(n&&t>v?1:-1);k=l+e*F.cos(t);p=u+h*F.sin(t);c=K(k,p,e,h,f,0,n,w,G,[t,c,l,u])}l=t-v;f=F.cos(v);r=F.sin(v);n=F.cos(t);t=F.sin(t);l=F.tan(l/4);e=4/3*e*l;l*=4/3*h;h=[b,d];b=[b+e*r,d-l*f];d=[k+e*t,p-l*n];k=[k,p];b[0]=2*h[0]-b[0];b[1]=2*h[1]-b[1];if(s)return[b,d,k].concat(c);\n",
       "c=[b,d,k].concat(c).join().split(\",\");s=[];k=0;for(p=c.length;k<p;k++)s[k]=k%2?x(c[k-1],c[k],q).y:x(c[k],c[k+1],q).x;return s}function U(a,b,d,e,h,f,l,k){for(var n=[],p=[[],[] ],s,r,c,t,q=0;2>q;++q)0==q?(r=6*a-12*d+6*h,s=-3*a+9*d-9*h+3*l,c=3*d-3*a):(r=6*b-12*e+6*f,s=-3*b+9*e-9*f+3*k,c=3*e-3*b),1E-12>Z(s)?1E-12>Z(r)||(s=-c/r,0<s&&1>s&&n.push(s)):(t=r*r-4*c*s,c=F.sqrt(t),0>t||(t=(-r+c)/(2*s),0<t&&1>t&&n.push(t),s=(-r-c)/(2*s),0<s&&1>s&&n.push(s)));for(r=q=n.length;q--;)s=n[q],c=1-s,p[0][q]=c*c*c*a+3*\n",
       "c*c*s*d+3*c*s*s*h+s*s*s*l,p[1][q]=c*c*c*b+3*c*c*s*e+3*c*s*s*f+s*s*s*k;p[0][r]=a;p[1][r]=b;p[0][r+1]=l;p[1][r+1]=k;p[0].length=p[1].length=r+2;return{min:{x:X.apply(0,p[0]),y:X.apply(0,p[1])},max:{x:W.apply(0,p[0]),y:W.apply(0,p[1])}}}function I(a,b){var e=!b&&A(a);if(!b&&e.curve)return d(e.curve);var f=G(a),l=b&&G(b),n={x:0,y:0,bx:0,by:0,X:0,Y:0,qx:null,qy:null},k={x:0,y:0,bx:0,by:0,X:0,Y:0,qx:null,qy:null},p=function(a,b,c){if(!a)return[\"C\",b.x,b.y,b.x,b.y,b.x,b.y];a[0]in{T:1,Q:1}||(b.qx=b.qy=null);\n",
       "switch(a[0]){case \"M\":b.X=a[1];b.Y=a[2];break;case \"A\":a=[\"C\"].concat(K.apply(0,[b.x,b.y].concat(a.slice(1))));break;case \"S\":\"C\"==c||\"S\"==c?(c=2*b.x-b.bx,b=2*b.y-b.by):(c=b.x,b=b.y);a=[\"C\",c,b].concat(a.slice(1));break;case \"T\":\"Q\"==c||\"T\"==c?(b.qx=2*b.x-b.qx,b.qy=2*b.y-b.qy):(b.qx=b.x,b.qy=b.y);a=[\"C\"].concat(J(b.x,b.y,b.qx,b.qy,a[1],a[2]));break;case \"Q\":b.qx=a[1];b.qy=a[2];a=[\"C\"].concat(J(b.x,b.y,a[1],a[2],a[3],a[4]));break;case \"L\":a=[\"C\"].concat(h(b.x,b.y,a[1],a[2]));break;case \"H\":a=[\"C\"].concat(h(b.x,\n",
       "b.y,a[1],b.y));break;case \"V\":a=[\"C\"].concat(h(b.x,b.y,b.x,a[1]));break;case \"Z\":a=[\"C\"].concat(h(b.x,b.y,b.X,b.Y))}return a},s=function(a,b){if(7<a[b].length){a[b].shift();for(var c=a[b];c.length;)q[b]=\"A\",l&&(u[b]=\"A\"),a.splice(b++,0,[\"C\"].concat(c.splice(0,6)));a.splice(b,1);v=W(f.length,l&&l.length||0)}},r=function(a,b,c,d,e){a&&b&&\"M\"==a[e][0]&&\"M\"!=b[e][0]&&(b.splice(e,0,[\"M\",d.x,d.y]),c.bx=0,c.by=0,c.x=a[e][1],c.y=a[e][2],v=W(f.length,l&&l.length||0))},q=[],u=[],c=\"\",t=\"\",x=0,v=W(f.length,\n",
       "l&&l.length||0);for(;x<v;x++){f[x]&&(c=f[x][0]);\"C\"!=c&&(q[x]=c,x&&(t=q[x-1]));f[x]=p(f[x],n,t);\"A\"!=q[x]&&\"C\"==c&&(q[x]=\"C\");s(f,x);l&&(l[x]&&(c=l[x][0]),\"C\"!=c&&(u[x]=c,x&&(t=u[x-1])),l[x]=p(l[x],k,t),\"A\"!=u[x]&&\"C\"==c&&(u[x]=\"C\"),s(l,x));r(f,l,n,k,x);r(l,f,k,n,x);var w=f[x],z=l&&l[x],y=w.length,U=l&&z.length;n.x=w[y-2];n.y=w[y-1];n.bx=$(w[y-4])||n.x;n.by=$(w[y-3])||n.y;k.bx=l&&($(z[U-4])||k.x);k.by=l&&($(z[U-3])||k.y);k.x=l&&z[U-2];k.y=l&&z[U-1]}l||(e.curve=d(f));return l?[f,l]:f}function P(a,\n",
       "b){for(var d=[],e=0,h=a.length;h-2*!b>e;e+=2){var f=[{x:+a[e-2],y:+a[e-1]},{x:+a[e],y:+a[e+1]},{x:+a[e+2],y:+a[e+3]},{x:+a[e+4],y:+a[e+5]}];b?e?h-4==e?f[3]={x:+a[0],y:+a[1]}:h-2==e&&(f[2]={x:+a[0],y:+a[1]},f[3]={x:+a[2],y:+a[3]}):f[0]={x:+a[h-2],y:+a[h-1]}:h-4==e?f[3]=f[2]:e||(f[0]={x:+a[e],y:+a[e+1]});d.push([\"C\",(-f[0].x+6*f[1].x+f[2].x)/6,(-f[0].y+6*f[1].y+f[2].y)/6,(f[1].x+6*f[2].x-f[3].x)/6,(f[1].y+6*f[2].y-f[3].y)/6,f[2].x,f[2].y])}return d}y=k.prototype;var Q=a.is,C=a._.clone,L=\"hasOwnProperty\",\n",
       "N=/,?([a-z]),?/gi,$=parseFloat,F=Math,S=F.PI,X=F.min,W=F.max,ma=F.pow,Z=F.abs;M=n(1);var na=n(),ba=n(0,1),V=a._unit2px;a.path=A;a.path.getTotalLength=M;a.path.getPointAtLength=na;a.path.getSubpath=function(a,b,d){if(1E-6>this.getTotalLength(a)-d)return ba(a,b).end;a=ba(a,d,1);return b?ba(a,b).end:a};y.getTotalLength=function(){if(this.node.getTotalLength)return this.node.getTotalLength()};y.getPointAtLength=function(a){return na(this.attr(\"d\"),a)};y.getSubpath=function(b,d){return a.path.getSubpath(this.attr(\"d\"),\n",
       "b,d)};a._.box=w;a.path.findDotsAtSegment=u;a.path.bezierBBox=p;a.path.isPointInsideBBox=b;a.path.isBBoxIntersect=q;a.path.intersection=function(a,b){return l(a,b)};a.path.intersectionNumber=function(a,b){return l(a,b,1)};a.path.isPointInside=function(a,d,e){var h=r(a);return b(h,d,e)&&1==l(a,[[\"M\",d,e],[\"H\",h.x2+10] ],1)%2};a.path.getBBox=r;a.path.get={path:function(a){return a.attr(\"path\")},circle:function(a){a=V(a);return x(a.cx,a.cy,a.r)},ellipse:function(a){a=V(a);return x(a.cx||0,a.cy||0,a.rx,\n",
       "a.ry)},rect:function(a){a=V(a);return s(a.x||0,a.y||0,a.width,a.height,a.rx,a.ry)},image:function(a){a=V(a);return s(a.x||0,a.y||0,a.width,a.height)},line:function(a){return\"M\"+[a.attr(\"x1\")||0,a.attr(\"y1\")||0,a.attr(\"x2\"),a.attr(\"y2\")]},polyline:function(a){return\"M\"+a.attr(\"points\")},polygon:function(a){return\"M\"+a.attr(\"points\")+\"z\"},deflt:function(a){a=a.node.getBBox();return s(a.x,a.y,a.width,a.height)}};a.path.toRelative=function(b){var e=A(b),h=String.prototype.toLowerCase;if(e.rel)return d(e.rel);\n",
       "a.is(b,\"array\")&&a.is(b&&b[0],\"array\")||(b=a.parsePathString(b));var f=[],l=0,n=0,k=0,p=0,s=0;\"M\"==b[0][0]&&(l=b[0][1],n=b[0][2],k=l,p=n,s++,f.push([\"M\",l,n]));for(var r=b.length;s<r;s++){var q=f[s]=[],x=b[s];if(x[0]!=h.call(x[0]))switch(q[0]=h.call(x[0]),q[0]){case \"a\":q[1]=x[1];q[2]=x[2];q[3]=x[3];q[4]=x[4];q[5]=x[5];q[6]=+(x[6]-l).toFixed(3);q[7]=+(x[7]-n).toFixed(3);break;case \"v\":q[1]=+(x[1]-n).toFixed(3);break;case \"m\":k=x[1],p=x[2];default:for(var c=1,t=x.length;c<t;c++)q[c]=+(x[c]-(c%2?l:\n",
       "n)).toFixed(3)}else for(f[s]=[],\"m\"==x[0]&&(k=x[1]+l,p=x[2]+n),q=0,c=x.length;q<c;q++)f[s][q]=x[q];x=f[s].length;switch(f[s][0]){case \"z\":l=k;n=p;break;case \"h\":l+=+f[s][x-1];break;case \"v\":n+=+f[s][x-1];break;default:l+=+f[s][x-2],n+=+f[s][x-1]}}f.toString=z;e.rel=d(f);return f};a.path.toAbsolute=G;a.path.toCubic=I;a.path.map=function(a,b){if(!b)return a;var d,e,h,f,l,n,k;a=I(a);h=0;for(l=a.length;h<l;h++)for(k=a[h],f=1,n=k.length;f<n;f+=2)d=b.x(k[f],k[f+1]),e=b.y(k[f],k[f+1]),k[f]=d,k[f+1]=e;return a};\n",
       "a.path.toString=z;a.path.clone=d});C.plugin(function(a,v,y,C){var A=Math.max,w=Math.min,z=function(a){this.items=[];this.bindings={};this.length=0;this.type=\"set\";if(a)for(var f=0,n=a.length;f<n;f++)a[f]&&(this[this.items.length]=this.items[this.items.length]=a[f],this.length++)};v=z.prototype;v.push=function(){for(var a,f,n=0,k=arguments.length;n<k;n++)if(a=arguments[n])f=this.items.length,this[f]=this.items[f]=a,this.length++;return this};v.pop=function(){this.length&&delete this[this.length--];\n",
       "return this.items.pop()};v.forEach=function(a,f){for(var n=0,k=this.items.length;n<k&&!1!==a.call(f,this.items[n],n);n++);return this};v.animate=function(d,f,n,u){\"function\"!=typeof n||n.length||(u=n,n=L.linear);d instanceof a._.Animation&&(u=d.callback,n=d.easing,f=n.dur,d=d.attr);var p=arguments;if(a.is(d,\"array\")&&a.is(p[p.length-1],\"array\"))var b=!0;var q,e=function(){q?this.b=q:q=this.b},l=0,r=u&&function(){l++==this.length&&u.call(this)};return this.forEach(function(a,l){k.once(\"snap.animcreated.\"+\n",
       "a.id,e);b?p[l]&&a.animate.apply(a,p[l]):a.animate(d,f,n,r)})};v.remove=function(){for(;this.length;)this.pop().remove();return this};v.bind=function(a,f,k){var u={};if(\"function\"==typeof f)this.bindings[a]=f;else{var p=k||a;this.bindings[a]=function(a){u[p]=a;f.attr(u)}}return this};v.attr=function(a){var f={},k;for(k in a)if(this.bindings[k])this.bindings[k](a[k]);else f[k]=a[k];a=0;for(k=this.items.length;a<k;a++)this.items[a].attr(f);return this};v.clear=function(){for(;this.length;)this.pop()};\n",
       "v.splice=function(a,f,k){a=0>a?A(this.length+a,0):a;f=A(0,w(this.length-a,f));var u=[],p=[],b=[],q;for(q=2;q<arguments.length;q++)b.push(arguments[q]);for(q=0;q<f;q++)p.push(this[a+q]);for(;q<this.length-a;q++)u.push(this[a+q]);var e=b.length;for(q=0;q<e+u.length;q++)this.items[a+q]=this[a+q]=q<e?b[q]:u[q-e];for(q=this.items.length=this.length-=f-e;this[q];)delete this[q++];return new z(p)};v.exclude=function(a){for(var f=0,k=this.length;f<k;f++)if(this[f]==a)return this.splice(f,1),!0;return!1};\n",
       "v.insertAfter=function(a){for(var f=this.items.length;f--;)this.items[f].insertAfter(a);return this};v.getBBox=function(){for(var a=[],f=[],k=[],u=[],p=this.items.length;p--;)if(!this.items[p].removed){var b=this.items[p].getBBox();a.push(b.x);f.push(b.y);k.push(b.x+b.width);u.push(b.y+b.height)}a=w.apply(0,a);f=w.apply(0,f);k=A.apply(0,k);u=A.apply(0,u);return{x:a,y:f,x2:k,y2:u,width:k-a,height:u-f,cx:a+(k-a)/2,cy:f+(u-f)/2}};v.clone=function(a){a=new z;for(var f=0,k=this.items.length;f<k;f++)a.push(this.items[f].clone());\n",
       "return a};v.toString=function(){return\"Snap\\u2018s set\"};v.type=\"set\";a.set=function(){var a=new z;arguments.length&&a.push.apply(a,Array.prototype.slice.call(arguments,0));return a}});C.plugin(function(a,v,y,C){function A(a){var b=a[0];switch(b.toLowerCase()){case \"t\":return[b,0,0];case \"m\":return[b,1,0,0,1,0,0];case \"r\":return 4==a.length?[b,0,a[2],a[3] ]:[b,0];case \"s\":return 5==a.length?[b,1,1,a[3],a[4] ]:3==a.length?[b,1,1]:[b,1]}}function w(b,d,f){d=q(d).replace(/\\.{3}|\\u2026/g,b);b=a.parseTransformString(b)||\n",
       "[];d=a.parseTransformString(d)||[];for(var k=Math.max(b.length,d.length),p=[],v=[],h=0,w,z,y,I;h<k;h++){y=b[h]||A(d[h]);I=d[h]||A(y);if(y[0]!=I[0]||\"r\"==y[0].toLowerCase()&&(y[2]!=I[2]||y[3]!=I[3])||\"s\"==y[0].toLowerCase()&&(y[3]!=I[3]||y[4]!=I[4])){b=a._.transform2matrix(b,f());d=a._.transform2matrix(d,f());p=[[\"m\",b.a,b.b,b.c,b.d,b.e,b.f] ];v=[[\"m\",d.a,d.b,d.c,d.d,d.e,d.f] ];break}p[h]=[];v[h]=[];w=0;for(z=Math.max(y.length,I.length);w<z;w++)w in y&&(p[h][w]=y[w]),w in I&&(v[h][w]=I[w])}return{from:u(p),\n",
       "to:u(v),f:n(p)}}function z(a){return a}function d(a){return function(b){return+b.toFixed(3)+a}}function f(b){return a.rgb(b[0],b[1],b[2])}function n(a){var b=0,d,f,k,n,h,p,q=[];d=0;for(f=a.length;d<f;d++){h=\"[\";p=['\"'+a[d][0]+'\"'];k=1;for(n=a[d].length;k<n;k++)p[k]=\"val[\"+b++ +\"]\";h+=p+\"]\";q[d]=h}return Function(\"val\",\"return Snap.path.toString.call([\"+q+\"])\")}function u(a){for(var b=[],d=0,f=a.length;d<f;d++)for(var k=1,n=a[d].length;k<n;k++)b.push(a[d][k]);return b}var p={},b=/[a-z]+$/i,q=String;\n",
       "p.stroke=p.fill=\"colour\";v.prototype.equal=function(a,b){return k(\"snap.util.equal\",this,a,b).firstDefined()};k.on(\"snap.util.equal\",function(e,k){var r,s;r=q(this.attr(e)||\"\");var x=this;if(r==+r&&k==+k)return{from:+r,to:+k,f:z};if(\"colour\"==p[e])return r=a.color(r),s=a.color(k),{from:[r.r,r.g,r.b,r.opacity],to:[s.r,s.g,s.b,s.opacity],f:f};if(\"transform\"==e||\"gradientTransform\"==e||\"patternTransform\"==e)return k instanceof a.Matrix&&(k=k.toTransformString()),a._.rgTransform.test(k)||(k=a._.svgTransform2string(k)),\n",
       "w(r,k,function(){return x.getBBox(1)});if(\"d\"==e||\"path\"==e)return r=a.path.toCubic(r,k),{from:u(r[0]),to:u(r[1]),f:n(r[0])};if(\"points\"==e)return r=q(r).split(a._.separator),s=q(k).split(a._.separator),{from:r,to:s,f:function(a){return a}};aUnit=r.match(b);s=q(k).match(b);return aUnit&&aUnit==s?{from:parseFloat(r),to:parseFloat(k),f:d(aUnit)}:{from:this.asPX(e),to:this.asPX(e,k),f:z}})});C.plugin(function(a,v,y,C){var A=v.prototype,w=\"createTouch\"in C.doc;v=\"click dblclick mousedown mousemove mouseout mouseover mouseup touchstart touchmove touchend touchcancel\".split(\" \");\n",
       "var z={mousedown:\"touchstart\",mousemove:\"touchmove\",mouseup:\"touchend\"},d=function(a,b){var d=\"y\"==a?\"scrollTop\":\"scrollLeft\",e=b&&b.node?b.node.ownerDocument:C.doc;return e[d in e.documentElement?\"documentElement\":\"body\"][d]},f=function(){this.returnValue=!1},n=function(){return this.originalEvent.preventDefault()},u=function(){this.cancelBubble=!0},p=function(){return this.originalEvent.stopPropagation()},b=function(){if(C.doc.addEventListener)return function(a,b,e,f){var k=w&&z[b]?z[b]:b,l=function(k){var l=\n",
       "d(\"y\",f),q=d(\"x\",f);if(w&&z.hasOwnProperty(b))for(var r=0,u=k.targetTouches&&k.targetTouches.length;r<u;r++)if(k.targetTouches[r].target==a||a.contains(k.targetTouches[r].target)){u=k;k=k.targetTouches[r];k.originalEvent=u;k.preventDefault=n;k.stopPropagation=p;break}return e.call(f,k,k.clientX+q,k.clientY+l)};b!==k&&a.addEventListener(b,l,!1);a.addEventListener(k,l,!1);return function(){b!==k&&a.removeEventListener(b,l,!1);a.removeEventListener(k,l,!1);return!0}};if(C.doc.attachEvent)return function(a,\n",
       "b,e,h){var k=function(a){a=a||h.node.ownerDocument.window.event;var b=d(\"y\",h),k=d(\"x\",h),k=a.clientX+k,b=a.clientY+b;a.preventDefault=a.preventDefault||f;a.stopPropagation=a.stopPropagation||u;return e.call(h,a,k,b)};a.attachEvent(\"on\"+b,k);return function(){a.detachEvent(\"on\"+b,k);return!0}}}(),q=[],e=function(a){for(var b=a.clientX,e=a.clientY,f=d(\"y\"),l=d(\"x\"),n,p=q.length;p--;){n=q[p];if(w)for(var r=a.touches&&a.touches.length,u;r--;){if(u=a.touches[r],u.identifier==n.el._drag.id||n.el.node.contains(u.target)){b=\n",
       "u.clientX;e=u.clientY;(a.originalEvent?a.originalEvent:a).preventDefault();break}}else a.preventDefault();b+=l;e+=f;k(\"snap.drag.move.\"+n.el.id,n.move_scope||n.el,b-n.el._drag.x,e-n.el._drag.y,b,e,a)}},l=function(b){a.unmousemove(e).unmouseup(l);for(var d=q.length,f;d--;)f=q[d],f.el._drag={},k(\"snap.drag.end.\"+f.el.id,f.end_scope||f.start_scope||f.move_scope||f.el,b);q=[]};for(y=v.length;y--;)(function(d){a[d]=A[d]=function(e,f){a.is(e,\"function\")&&(this.events=this.events||[],this.events.push({name:d,\n",
       "f:e,unbind:b(this.node||document,d,e,f||this)}));return this};a[\"un\"+d]=A[\"un\"+d]=function(a){for(var b=this.events||[],e=b.length;e--;)if(b[e].name==d&&(b[e].f==a||!a)){b[e].unbind();b.splice(e,1);!b.length&&delete this.events;break}return this}})(v[y]);A.hover=function(a,b,d,e){return this.mouseover(a,d).mouseout(b,e||d)};A.unhover=function(a,b){return this.unmouseover(a).unmouseout(b)};var r=[];A.drag=function(b,d,f,h,n,p){function u(r,v,w){(r.originalEvent||r).preventDefault();this._drag.x=v;\n",
       "this._drag.y=w;this._drag.id=r.identifier;!q.length&&a.mousemove(e).mouseup(l);q.push({el:this,move_scope:h,start_scope:n,end_scope:p});d&&k.on(\"snap.drag.start.\"+this.id,d);b&&k.on(\"snap.drag.move.\"+this.id,b);f&&k.on(\"snap.drag.end.\"+this.id,f);k(\"snap.drag.start.\"+this.id,n||h||this,v,w,r)}if(!arguments.length){var v;return this.drag(function(a,b){this.attr({transform:v+(v?\"T\":\"t\")+[a,b]})},function(){v=this.transform().local})}this._drag={};r.push({el:this,start:u});this.mousedown(u);return this};\n",
       "A.undrag=function(){for(var b=r.length;b--;)r[b].el==this&&(this.unmousedown(r[b].start),r.splice(b,1),k.unbind(\"snap.drag.*.\"+this.id));!r.length&&a.unmousemove(e).unmouseup(l);return this}});C.plugin(function(a,v,y,C){y=y.prototype;var A=/^\\s*url\\((.+)\\)/,w=String,z=a._.$;a.filter={};y.filter=function(d){var f=this;\"svg\"!=f.type&&(f=f.paper);d=a.parse(w(d));var k=a._.id(),u=z(\"filter\");z(u,{id:k,filterUnits:\"userSpaceOnUse\"});u.appendChild(d.node);f.defs.appendChild(u);return new v(u)};k.on(\"snap.util.getattr.filter\",\n",
       "function(){k.stop();var d=z(this.node,\"filter\");if(d)return(d=w(d).match(A))&&a.select(d[1])});k.on(\"snap.util.attr.filter\",function(d){if(d instanceof v&&\"filter\"==d.type){k.stop();var f=d.node.id;f||(z(d.node,{id:d.id}),f=d.id);z(this.node,{filter:a.url(f)})}d&&\"none\"!=d||(k.stop(),this.node.removeAttribute(\"filter\"))});a.filter.blur=function(d,f){null==d&&(d=2);return a.format('<feGaussianBlur stdDeviation=\"{def}\"/>',{def:null==f?d:[d,f]})};a.filter.blur.toString=function(){return this()};a.filter.shadow=\n",
       "function(d,f,k,u,p){\"string\"==typeof k&&(p=u=k,k=4);\"string\"!=typeof u&&(p=u,u=\"#000\");null==k&&(k=4);null==p&&(p=1);null==d&&(d=0,f=2);null==f&&(f=d);u=a.color(u||\"#000\");return a.format('<feGaussianBlur in=\"SourceAlpha\" stdDeviation=\"{blur}\"/><feOffset dx=\"{dx}\" dy=\"{dy}\" result=\"offsetblur\"/><feFlood flood-color=\"{color}\"/><feComposite in2=\"offsetblur\" operator=\"in\"/><feComponentTransfer><feFuncA type=\"linear\" slope=\"{opacity}\"/></feComponentTransfer><feMerge><feMergeNode/><feMergeNode in=\"SourceGraphic\"/></feMerge>',\n",
       "{color:u,dx:d,dy:f,blur:k,opacity:p})};a.filter.shadow.toString=function(){return this()};a.filter.grayscale=function(d){null==d&&(d=1);return a.format('<feColorMatrix type=\"matrix\" values=\"{a} {b} {c} 0 0 {d} {e} {f} 0 0 {g} {b} {h} 0 0 0 0 0 1 0\"/>',{a:0.2126+0.7874*(1-d),b:0.7152-0.7152*(1-d),c:0.0722-0.0722*(1-d),d:0.2126-0.2126*(1-d),e:0.7152+0.2848*(1-d),f:0.0722-0.0722*(1-d),g:0.2126-0.2126*(1-d),h:0.0722+0.9278*(1-d)})};a.filter.grayscale.toString=function(){return this()};a.filter.sepia=\n",
       "function(d){null==d&&(d=1);return a.format('<feColorMatrix type=\"matrix\" values=\"{a} {b} {c} 0 0 {d} {e} {f} 0 0 {g} {h} {i} 0 0 0 0 0 1 0\"/>',{a:0.393+0.607*(1-d),b:0.769-0.769*(1-d),c:0.189-0.189*(1-d),d:0.349-0.349*(1-d),e:0.686+0.314*(1-d),f:0.168-0.168*(1-d),g:0.272-0.272*(1-d),h:0.534-0.534*(1-d),i:0.131+0.869*(1-d)})};a.filter.sepia.toString=function(){return this()};a.filter.saturate=function(d){null==d&&(d=1);return a.format('<feColorMatrix type=\"saturate\" values=\"{amount}\"/>',{amount:1-\n",
       "d})};a.filter.saturate.toString=function(){return this()};a.filter.hueRotate=function(d){return a.format('<feColorMatrix type=\"hueRotate\" values=\"{angle}\"/>',{angle:d||0})};a.filter.hueRotate.toString=function(){return this()};a.filter.invert=function(d){null==d&&(d=1);return a.format('<feComponentTransfer><feFuncR type=\"table\" tableValues=\"{amount} {amount2}\"/><feFuncG type=\"table\" tableValues=\"{amount} {amount2}\"/><feFuncB type=\"table\" tableValues=\"{amount} {amount2}\"/></feComponentTransfer>',{amount:d,\n",
       "amount2:1-d})};a.filter.invert.toString=function(){return this()};a.filter.brightness=function(d){null==d&&(d=1);return a.format('<feComponentTransfer><feFuncR type=\"linear\" slope=\"{amount}\"/><feFuncG type=\"linear\" slope=\"{amount}\"/><feFuncB type=\"linear\" slope=\"{amount}\"/></feComponentTransfer>',{amount:d})};a.filter.brightness.toString=function(){return this()};a.filter.contrast=function(d){null==d&&(d=1);return a.format('<feComponentTransfer><feFuncR type=\"linear\" slope=\"{amount}\" intercept=\"{amount2}\"/><feFuncG type=\"linear\" slope=\"{amount}\" intercept=\"{amount2}\"/><feFuncB type=\"linear\" slope=\"{amount}\" intercept=\"{amount2}\"/></feComponentTransfer>',\n",
       "{amount:d,amount2:0.5-d/2})};a.filter.contrast.toString=function(){return this()}});return C});\n",
       "]]></script>\n",
       "    <script><![CDATA[\n",
       "        (function(glob, factory){\n",
       "    if (typeof define == \"function\" && define.amd) {\n",
       "        define(\"ProfileView\", [\"Snap.svg\"], function (Snap){\n",
       "            return factory(Snap);\n",
       "        });\n",
       "    }\n",
       "    else {\n",
       "        glob.ProfileView = factory(glob.Snap);\n",
       "    }\n",
       "}(this, function(Snap){\n",
       "    var ProfileView = {};\n",
       "\n",
       "    var avgcharwidth = 6;\n",
       "    var default_transition_time = 300;\n",
       "    var viewport_scale = 0.9;\n",
       "\n",
       "    var format_text = function(text, available_len){\n",
       "        if (available_len < 3*avgcharwidth) {\n",
       "            return \"\";\n",
       "        }\n",
       "        else if (text.length*avgcharwidth > available_len) {\n",
       "            nchars = Math.round(available_len/avgcharwidth)-2;\n",
       "            return text.slice(0,nchars) + \"..\"\n",
       "        }\n",
       "        return text;\n",
       "    }\n",
       "\n",
       "    // Shift the view port to center on xc, then scale in the x direction\n",
       "    ProfileView.move_and_zoom = function(xc, xs, xScale, fig, delta_t){\n",
       "        if (typeof delta_t === 'undefined') { delta_t = default_transition_time; }\n",
       "        if (typeof xs === 'undefined') {xs = xc;}\n",
       "\n",
       "        var oldScale = fig.scale;\n",
       "        var oldShift = fig.shift;\n",
       "\n",
       "        fig.scale = xScale;\n",
       "        fig.shift = xc;\n",
       "\n",
       "        xScale *= viewport_scale;\n",
       "\n",
       "        var oldxshift = -(oldShift - 0.5*fig.clip_width);\n",
       "        var xshift = -(xc - 0.5*fig.clip_width);\n",
       "\n",
       "        fig.texts.forEach(function(text){\n",
       "            text.node.textContent = \"\";\n",
       "        });\n",
       "\n",
       "        if (delta_t != 0){\n",
       "            Snap.animate(0, 1, function(step){\n",
       "\n",
       "                var scale = oldScale + (xScale - oldScale)*step\n",
       "                var rMatrix = new Snap.Matrix;\n",
       "                rMatrix.translate(oldxshift + (xshift - oldxshift)*step, 0);\n",
       "                rMatrix.scale(scale, 1, xs, fig.clip_middle);\n",
       "                fig.viewport.attr({\n",
       "                    transform: rMatrix\n",
       "                })\n",
       "                fig.rects.forEach(function(rect){\n",
       "                    rect.attr({\n",
       "                        rx: 2/scale,\n",
       "                        ry: 2/scale\n",
       "                    });\n",
       "                })\n",
       "\n",
       "            }, delta_t, null, function(){\n",
       "                fig.rects.forEach(function(rect, i){\n",
       "                    var bbox = rect.getBBox();\n",
       "                    var text = fig.texts[i];\n",
       "                    var shortinfo = rect.node.getAttribute(\"data-shortinfo\");\n",
       "\n",
       "                    var tMatrix = new Snap.Matrix;\n",
       "                    tMatrix.scale(1.0/xScale, 1, bbox.x, bbox.y);\n",
       "\n",
       "                    text.node.textContent = format_text(shortinfo, bbox.w*xScale);\n",
       "                    text.transform(tMatrix);\n",
       "                });\n",
       "            });\n",
       "        }\n",
       "        else {\n",
       "            var rMatrix = new Snap.Matrix;\n",
       "            rMatrix.translate(xshift, 0);\n",
       "            rMatrix.scale(xScale, 1, xs, fig.clip_middle);\n",
       "\n",
       "            fig.viewport.transform(rMatrix);\n",
       "            fig.rects.forEach(function(rect, i){\n",
       "                rect.attr({\n",
       "                    rx: 2/xScale,\n",
       "                    ry: 2/xScale\n",
       "                });\n",
       "                var bbox = rect.getBBox();\n",
       "                var text = fig.texts[i];\n",
       "                var shortinfo = rect.node.getAttribute(\"data-shortinfo\");\n",
       "\n",
       "                var tMatrix = new Snap.Matrix;\n",
       "                tMatrix.scale(1.0/xScale, 1, bbox.x, bbox.y);\n",
       "\n",
       "                text.node.textContent = format_text(shortinfo, bbox.w*xScale);\n",
       "                text.transform(tMatrix);\n",
       "            });\n",
       "       }\n",
       "\n",
       "    }\n",
       "\n",
       "    ProfileView.reset = function(fig) {\n",
       "        ProfileView.move_and_zoom(fig.viewport_cx, fig.viewport_cx, viewport_scale, fig);\n",
       "    }\n",
       "\n",
       "    return ProfileView;\n",
       "}));\n",
       "\n",
       "        (function (glob, factory) {\n",
       "            if (typeof require === \"function\" && typeof define === \"function\" && define.amd) {\n",
       "                require([\"Snap.svg\", \"ProfileView\"], function (Snap, ProfileView) {\n",
       "                    factory(Snap, ProfileView);\n",
       "                });\n",
       "          } else {\n",
       "              factory(glob.Snap, glob.ProfileView);\n",
       "          }\n",
       "        })(window, function (Snap, ProfileView) {\n",
       "            var svg = Snap.select('svg').node;\n",
       "            var pt = svg.createSVGPoint();\n",
       "\n",
       "            var fig = {};\n",
       "\n",
       "            fig.viewport = Snap.select('#fig-0c15e0d08612412bb1cc1d51486796f7-viewport');\n",
       "            fig.frame = Snap.select('#fig-0c15e0d08612412bb1cc1d51486796f7-frame');\n",
       "\n",
       "            fig.viewport_cx = fig.viewport.getBBox().cx;\n",
       "\n",
       "            fig.rects = Snap.selectAll('#fig-0c15e0d08612412bb1cc1d51486796f7-viewport rect');\n",
       "            fig.texts = Snap.selectAll('#fig-0c15e0d08612412bb1cc1d51486796f7-viewport text');\n",
       "            fig.clip = Snap.select('#fig-0c15e0d08612412bb1cc1d51486796f7-clip-rect');\n",
       "            fig.clip_width  = fig.clip.getBBox().w;\n",
       "            fig.clip_middle = fig.clip.getBBox().cy;\n",
       "            fig.details = document.getElementById(\"fig-0c15e0d08612412bb1cc1d51486796f7-details\").firstChild; \n",
       "\n",
       "            fig.scale = 1.0;\n",
       "            fig.shift = fig.viewport_cx;\n",
       "\n",
       "            ProfileView.reset(fig)\n",
       "\n",
       "            fig.rects.forEach(function(rect, i){\n",
       "                rect.dblclick(function(){\n",
       "                    bbox = rect.getBBox();\n",
       "                    ProfileView.move_and_zoom(bbox.cx, bbox.cx, fig.clip_width/bbox.w, fig);\n",
       "                })\n",
       "                .mouseover(function(){\n",
       "                    fig.details.nodeValue = rect.node.getAttribute(\"data-info\");\n",
       "                })\n",
       "                .mouseout(function(){\n",
       "                    fig.details.nodeValue = \"\";\n",
       "                });\n",
       "\n",
       "            })\n",
       "            fig.texts.forEach(function(text, i){\n",
       "                text.dblclick(function(){\n",
       "                    bbox = fig.rects[i].getBBox();\n",
       "                    ProfileView.move_and_zoom(bbox.cx, bbox.cx, fig.clip_width/bbox.w, fig);\n",
       "                })\n",
       "                .mouseover(function(){\n",
       "                    fig.details.nodeValue = fig.rects[i].node.getAttribute(\"data-info\");\n",
       "                })\n",
       "                .mouseout(function(){\n",
       "                    fig.details.nodeValue = \"\";\n",
       "                });\n",
       "            })\n",
       "            Snap.selectAll(\"#fig-0c15e0d08612412bb1cc1d51486796f7-frame .pvbackground\").forEach(function(bg){\n",
       "               bg.dblclick(function(e){\n",
       "                   ProfileView.reset(fig);\n",
       "                });\n",
       "            });\n",
       "\n",
       "            function throttle(delay, callback) {\n",
       "                var previousCall = new Date().getTime();\n",
       "                return function() {\n",
       "                    var time = new Date().getTime();\n",
       "\n",
       "                    if ((time - previousCall) >= delay) {\n",
       "                        previousCall = time;\n",
       "                        callback.apply(null, arguments);\n",
       "                    }\n",
       "                    else {\n",
       "                        arguments[0].preventDefault();\n",
       "                    }\n",
       "                };\n",
       "            }\n",
       "\n",
       "            var MouseWheelHandler = throttle(400, function(e) {\n",
       "                e.preventDefault();\n",
       "                var e = window.event || e;\n",
       "                var delta = Math.max(-1, Math.min(1, (e.wheelDelta || -e.detail)));\n",
       "                pt.x = e.clientX;\n",
       "                pt.y = e.clientY;\n",
       "\n",
       "                pt.matrixTransform(fig.viewport.node.getScreenCTM().inverse());\n",
       "                var targetScale = fig.scale + 0.2*delta;\n",
       "                ProfileView.move_and_zoom(fig.shift, pt.x, targetScale, fig, 400);\n",
       "                return false;\n",
       "            })\n",
       "            frame = fig.frame.node;\n",
       "            if (frame.addEventListener) {\n",
       "                frame.addEventListener(\"mousewheel\", MouseWheelHandler, false);\n",
       "                frame.addEventListener(\"DOMMouseScroll\", MouseWheelHandler, false);\n",
       "            }\n",
       "            else {\n",
       "                frame.attachEvent(\"onmousewheel\", MouseWheelHandler);\n",
       "            }\n",
       "\n",
       "        fig.viewport.drag();\n",
       "}); ]]></script>\n",
       "</svg>\n"
      ],
      "text/plain": [
       "ProfileView.ProfileData(157x10 Array{ColorTypes.RGB{FixedPointNumbers.UFixed{UInt8,8}},2}:\n",
       " RGB{U8}(0.91,0.439,0.867)  …  RGB{U8}(1.0,1.0,1.0)    \n",
       " RGB{U8}(0.91,0.439,0.867)     RGB{U8}(1.0,1.0,1.0)    \n",
       " RGB{U8}(0.91,0.439,0.867)     RGB{U8}(1.0,1.0,1.0)    \n",
       " RGB{U8}(0.91,0.439,0.867)     RGB{U8}(1.0,1.0,1.0)    \n",
       " RGB{U8}(0.91,0.439,0.867)     RGB{U8}(1.0,1.0,1.0)    \n",
       " RGB{U8}(0.91,0.439,0.867)  …  RGB{U8}(1.0,1.0,1.0)    \n",
       " RGB{U8}(0.91,0.439,0.867)     RGB{U8}(1.0,1.0,1.0)    \n",
       " RGB{U8}(0.91,0.439,0.867)     RGB{U8}(1.0,1.0,1.0)    \n",
       " RGB{U8}(0.91,0.439,0.867)     RGB{U8}(1.0,1.0,1.0)    \n",
       " RGB{U8}(0.91,0.439,0.867)     RGB{U8}(1.0,1.0,1.0)    \n",
       " RGB{U8}(0.91,0.439,0.867)  …  RGB{U8}(1.0,1.0,1.0)    \n",
       " RGB{U8}(0.91,0.439,0.867)     RGB{U8}(1.0,1.0,1.0)    \n",
       " RGB{U8}(0.91,0.439,0.867)     RGB{U8}(1.0,1.0,1.0)    \n",
       " ⋮                          ⋱                          \n",
       " RGB{U8}(0.91,0.439,0.867)  …  RGB{U8}(0.62,0.62,0.62) \n",
       " RGB{U8}(0.91,0.439,0.867)     RGB{U8}(0.62,0.62,0.62) \n",
       " RGB{U8}(0.91,0.439,0.867)     RGB{U8}(0.62,0.62,0.62) \n",
       " RGB{U8}(0.91,0.439,0.867)     RGB{U8}(0.62,0.62,0.62) \n",
       " RGB{U8}(0.91,0.439,0.867)     RGB{U8}(0.62,0.62,0.62) \n",
       " RGB{U8}(0.91,0.439,0.867)  …  RGB{U8}(0.804,0.725,1.0)\n",
       " RGB{U8}(0.91,0.439,0.867)     RGB{U8}(1.0,1.0,1.0)    \n",
       " RGB{U8}(0.91,0.439,0.867)     RGB{U8}(1.0,1.0,1.0)    \n",
       " RGB{U8}(0.91,0.439,0.867)     RGB{U8}(1.0,1.0,1.0)    \n",
       " RGB{U8}(0.91,0.439,0.867)     RGB{U8}(1.0,1.0,1.0)    \n",
       " RGB{U8}(0.91,0.439,0.867)  …  RGB{U8}(1.0,1.0,1.0)    \n",
       " RGB{U8}(0.91,0.439,0.867)     RGB{U8}(1.0,1.0,1.0)    ,Dict(0x00007f6f0e206099=>Base.Profile.LineInfo(\"execute_request_0x535c5df2\",\"/home/bates/.julia/v0.4/IJulia/src/execute_request.jl\",183,\"\",-1,false,140114955100313),0x00007f6d071202e8=>Base.Profile.LineInfo(\"dsfmt_fill_array_close1_open2\",\"/usr/local/src/julia-2e358ce975/bin/../lib/julia/libdSFMT.so\",-1,\"\",-1,true,140106246783720),0x00007f6f0e22b5fd=>Base.Profile.LineInfo(\"mean\",\"statistics.jl\",31,\"\",-1,false,140114955253245),0x00007f6d0712043f=>Base.Profile.LineInfo(\"dsfmt_fill_array_close1_open2\",\"/usr/local/src/julia-2e358ce975/bin/../lib/julia/libdSFMT.so\",-1,\"\",-1,true,140106246784063),0x00007f6f0e2261be=>Base.Profile.LineInfo(\"randn!\",\"random.jl\",1135,\"\",-1,false,140114955231678),0x00007f6f0e22cb56=>Base.Profile.LineInfo(\"mapreduce_seq_impl\",\"simdloop.jl\",67,\"reduce.jl\",229,false,140114955258710),0x00007f6d071203c1=>Base.Profile.LineInfo(\"dsfmt_fill_array_close1_open2\",\"/usr/local/src/julia-2e358ce975/bin/../lib/julia/libdSFMT.so\",-1,\"\",-1,true,140106246783937),0x00007f6f0e22b4c9=>Base.Profile.LineInfo(\"mean\",\"statistics.jl\",31,\"\",-1,false,140114955252937),0x00007f6f0e22c2dc=>Base.Profile.LineInfo(\"julia_sum!_22093\",\"\",-1,\"\",-1,true,140114955256540),0x00007f6f0e1f84f8=>Base.Profile.LineInfo(\"eventloop\",\"/home/bates/.julia/v0.4/IJulia/src/IJulia.jl\",143,\"\",-1,false,140114955044088),0x00007f6d071202f5=>Base.Profile.LineInfo(\"dsfmt_fill_array_close1_open2\",\"/usr/local/src/julia-2e358ce975/bin/../lib/julia/libdSFMT.so\",-1,\"\",-1,true,140106246783733),0x00007f6f0e226578=>Base.Profile.LineInfo(\"randn_unlikely\",\"random.jl\",1126,\"\",-1,false,140114955232632),0x00007f6f0e1e63b7=>Base.Profile.LineInfo(\"gen_rand\",\"random.jl\",88,\"\",-1,false,140114954970039),0x00007f6f0e2261f0=>Base.Profile.LineInfo(\"randn!\",\"random.jl\",1135,\"\",-1,false,140114955231728),0x00007f6f0e226351=>Base.Profile.LineInfo(\"randn_unlikely\",\"random.jl\",1126,\"\",-1,false,140114955232081),0x00007f6cf73ab1a9=>Base.Profile.LineInfo(\"exp\",\"/usr/local/src/julia-2e358ce975/bin/../lib/julia/libopenlibm.so\",-1,\"\",-1,true,140105981014441),0x00007f6d0712027f=>Base.Profile.LineInfo(\"dsfmt_fill_array_close1_open2\",\"/usr/local/src/julia-2e358ce975/bin/../lib/julia/libdSFMT.so\",-1,\"\",-1,true,140106246783615),0x00007f6f0e22c19b=>Base.Profile.LineInfo(\"jlcall_sum!_22093\",\"\",-1,\"\",-1,true,140114955256219),0x00007f6f0e22b68a=>Base.Profile.LineInfo(\"scale!\",\"linalg/dense.jl\",16,\"\",-1,false,140114955253386),0x00007f6f0be9e8a0=>Base.Profile.LineInfo(\"???\",\"/lib/x86_64-linux-gnu/libc.so.6\",140114917976224,\"\",-1,true,140114917976224),0x00007f6f0e22c5b9=>Base.Profile.LineInfo(\"sum!\",\"reducedim.jl\",258,\"\",-1,false,140114955257273),0x00007f6cf73ab01c=>Base.Profile.LineInfo(\"exp\",\"/usr/local/src/julia-2e358ce975/bin/../lib/julia/libopenlibm.so\",-1,\"\",-1,true,140105981014044),0x00007f6f0e2057a7=>Base.Profile.LineInfo(\"jlcall_execute_request_0x535c5df2_21862\",\"\",-1,\"\",-1,true,140114955098023),0x00007f6f0e226210=>Base.Profile.LineInfo(\"randn!\",\"random.jl\",1135,\"\",-1,false,140114955231760),0x00007f6f0e22c85b=>Base.Profile.LineInfo(\"_mapreducedim!\",\"reducedim.jl\",197,\"\",-1,false,140114955257947),0x00007f6f0d1e9880=>Base.Profile.LineInfo(\"jl_gc_collect\",\"/usr/local/src/julia-2e358ce975/bin/../lib/julia/libjulia.so\",-1,\"\",-1,true,140114938206336),0x00007f6f0e1e6385=>Base.Profile.LineInfo(\"gen_rand\",\"random.jl\",88,\"\",-1,false,140114954969989),0x00007f6f0e2265fa=>Base.Profile.LineInfo(\"randn_unlikely\",\"random.jl\",1126,\"\",-1,false,140114955232762),0x00007f6f0e2261a1=>Base.Profile.LineInfo(\"randn!\",\"random.jl\",1135,\"\",-1,false,140114955231649),0x00007f6f0e1e645a=>Base.Profile.LineInfo(\"dsfmt_fill_array_close1_open2!\",\"dSFMT.jl\",67,\"\",-1,false,140114954970202),0x00007f6f0d1750d4=>Base.Profile.LineInfo(\"jl_load_file_string\",\"/usr/local/src/julia-2e358ce975/bin/../lib/julia/libjulia.so\",-1,\"\",-1,true,140114937729236),0x00007f6f0e226236=>Base.Profile.LineInfo(\"randn!\",\"random.jl\",1135,\"\",-1,false,140114955231798),0x00007f6f0d1eb217=>Base.Profile.LineInfo(\"jl_gc_allocobj\",\"/usr/local/src/julia-2e358ce975/bin/../lib/julia/libjulia.so\",-1,\"\",-1,true,140114938212887),0x00007f6d05f16025=>Base.Profile.LineInfo(\"dscal_k_SANDYBRIDGE\",\"/usr/local/src/julia-2e358ce975/bin/../lib/julia/libopenblas64_.so\",-1,\"\",-1,true,140106227867685),0x00007f6d071202aa=>Base.Profile.LineInfo(\"dsfmt_fill_array_close1_open2\",\"/usr/local/src/julia-2e358ce975/bin/../lib/julia/libdSFMT.so\",-1,\"\",-1,true,140106246783658),0x00007f6f0e22b929=>Base.Profile.LineInfo(\"reduced_dims\",\"reducedim.jl\",15,\"\",-1,false,140114955254057),0x00007f6f0d1dd203=>Base.Profile.LineInfo(\"???\",\"/usr/local/src/julia-2e358ce975/bin/../lib/julia/libjulia.so\",140114938155523,\"\",-1,true,140114938155523),0x00007f6f0e22ced0=>Base.Profile.LineInfo(\"fill!\",\"array.jl\",193,\"\",-1,false,140114955259600),0x00007f6cf73ab0d3=>Base.Profile.LineInfo(\"exp\",\"/usr/local/src/julia-2e358ce975/bin/../lib/julia/libopenlibm.so\",-1,\"\",-1,true,140105981014227),0x00007f6f0d1dde5c=>Base.Profile.LineInfo(\"???\",\"/usr/local/src/julia-2e358ce975/bin/../lib/julia/libjulia.so\",140114938158684,\"\",-1,true,140114938158684),0x00007f6f0e22cba9=>Base.Profile.LineInfo(\"mapreduce_seq_impl\",\"reduce.jl\",230,\"\",-1,false,140114955258793),0x00007f6cf73ab0ad=>Base.Profile.LineInfo(\"exp\",\"/usr/local/src/julia-2e358ce975/bin/../lib/julia/libopenlibm.so\",-1,\"\",-1,true,140105981014189),0x00007f6f0e237385=>Base.Profile.LineInfo(\"anonymous\",\"profile.jl\",16,\"\",-1,false,140114955301765),0x00007f6f0d1e36b0=>Base.Profile.LineInfo(\"???\",\"/usr/local/src/julia-2e358ce975/bin/../lib/julia/libjulia.so\",140114938181296,\"\",-1,true,140114938181296),0x00007f6d07120288=>Base.Profile.LineInfo(\"dsfmt_fill_array_close1_open2\",\"/usr/local/src/julia-2e358ce975/bin/../lib/julia/libdSFMT.so\",-1,\"\",-1,true,140106246783624),0x00007f6f0e22663d=>Base.Profile.LineInfo(\"randn_unlikely\",\"random.jl\",1127,\"\",-1,false,140114955232829),0x00007f6f0e22cbad=>Base.Profile.LineInfo(\"mapreduce_seq_impl\",\"simdloop.jl\",75,\"reduce.jl\",230,false,140114955258797),0x00007f6f0e22622c=>Base.Profile.LineInfo(\"randn!\",\"random.jl\",1135,\"\",-1,false,140114955231788),0x00007f6d05f15c98=>Base.Profile.LineInfo(\"???\",\"/usr/local/src/julia-2e358ce975/bin/../lib/julia/libopenblas64_.so\",140106227866776,\"\",-1,true,140106227866776),0x00007f6f0e22b5dd=>Base.Profile.LineInfo(\"mean\",\"statistics.jl\",31,\"\",-1,false,140114955253213),0x00007f6f0e22cb64=>Base.Profile.LineInfo(\"mapreduce_seq_impl\",\"simdloop.jl\",67,\"reduce.jl\",229,false,140114955258724),0x00007f6f0e22cb27=>Base.Profile.LineInfo(\"mapreduce_seq_impl\",\"simdloop.jl\",67,\"reduce.jl\",229,false,140114955258663),0x00007f6f0d1e14df=>Base.Profile.LineInfo(\"???\",\"/usr/local/src/julia-2e358ce975/bin/../lib/julia/libjulia.so\",140114938172639,\"\",-1,true,140114938172639),0x00007f6f0e22bed3=>Base.Profile.LineInfo(\"julia_sum!_22092\",\"\",-1,\"\",-1,true,140114955255507),0x00007f6f0e2261d2=>Base.Profile.LineInfo(\"randn!\",\"random.jl\",1135,\"\",-1,false,140114955231698),0x00007f6d07120301=>Base.Profile.LineInfo(\"dsfmt_fill_array_close1_open2\",\"/usr/local/src/julia-2e358ce975/bin/../lib/julia/libdSFMT.so\",-1,\"\",-1,true,140106246783745),0x00007f6f0d1e36d2=>Base.Profile.LineInfo(\"???\",\"/usr/local/src/julia-2e358ce975/bin/../lib/julia/libjulia.so\",140114938181330,\"\",-1,true,140114938181330),0x00007f6f0e22c5cb=>Base.Profile.LineInfo(\"sum!\",\"reducedim.jl\",258,\"\",-1,false,140114955257291),0x00007f6f0e22659e=>Base.Profile.LineInfo(\"randn_unlikely\",\"random.jl\",1126,\"\",-1,false,140114955232670),0x00007f6f0e22b855=>Base.Profile.LineInfo(\"fill!\",\"array.jl\",193,\"\",-1,false,140114955253845),0x00007f6f0d1e97e6=>Base.Profile.LineInfo(\"jl_gc_collect\",\"/usr/local/src/julia-2e358ce975/bin/../lib/julia/libjulia.so\",-1,\"\",-1,true,140114938206182),0x00007f6cf73ab089=>Base.Profile.LineInfo(\"exp\",\"/usr/local/src/julia-2e358ce975/bin/../lib/julia/libopenlibm.so\",-1,\"\",-1,true,140105981014153),0x00007f6f0e209c8c=>Base.Profile.LineInfo(\"include_string\",\"loading.jl\",282,\"\",-1,false,140114955115660),0x00007f6f0e22621c=>Base.Profile.LineInfo(\"randn!\",\"random.jl\",1135,\"\",-1,false,140114955231772),0x00007f6f0e19c02a=>Base.Profile.LineInfo(\"???\",\"???\",140114954666026,\"\",-1,true,140114954666026),0x00007f6f0e22cb5a=>Base.Profile.LineInfo(\"mapreduce_seq_impl\",\"simdloop.jl\",67,\"reduce.jl\",229,false,140114955258714),0x00007f6f0e226608=>Base.Profile.LineInfo(\"randn_unlikely\",\"random.jl\",1126,\"\",-1,false,140114955232776),0x00007f6d07120299=>Base.Profile.LineInfo(\"dsfmt_fill_array_close1_open2\",\"/usr/local/src/julia-2e358ce975/bin/../lib/julia/libdSFMT.so\",-1,\"\",-1,true,140106246783641),0x00007f6d071202db=>Base.Profile.LineInfo(\"dsfmt_fill_array_close1_open2\",\"/usr/local/src/julia-2e358ce975/bin/../lib/julia/libdSFMT.so\",-1,\"\",-1,true,140106246783707),0x00007f6f0e2261e1=>Base.Profile.LineInfo(\"randn!\",\"random.jl\",1135,\"\",-1,false,140114955231713),0x00007f6f0e226323=>Base.Profile.LineInfo(\"randn_unlikely\",\"random.jl\",1120,\"\",-1,false,140114955232035),0x00007f6d071202c9=>Base.Profile.LineInfo(\"dsfmt_fill_array_close1_open2\",\"/usr/local/src/julia-2e358ce975/bin/../lib/julia/libdSFMT.so\",-1,\"\",-1,true,140106246783689),0x00007f6f0e22cb88=>Base.Profile.LineInfo(\"mapreduce_seq_impl\",\"simdloop.jl\",67,\"reduce.jl\",229,false,140114955258760),0x00007f6f0e1fa749=>Base.Profile.LineInfo(\"anonymous\",\"task.jl\",447,\"\",-1,false,140114955052873),0x00007f6d0712029d=>Base.Profile.LineInfo(\"dsfmt_fill_array_close1_open2\",\"/usr/local/src/julia-2e358ce975/bin/../lib/julia/libdSFMT.so\",-1,\"\",-1,true,140106246783645),0x00007f6f0e22c833=>Base.Profile.LineInfo(\"_mapreducedim!\",\"reducedim.jl\",196,\"\",-1,false,140114955257907),0x00007f6f0d1cea95=>Base.Profile.LineInfo(\"rec_backtrace\",\"/usr/local/src/julia-2e358ce975/bin/../lib/julia/libjulia.so\",-1,\"\",-1,true,140114938096277),0x00007f6cf73ab095=>Base.Profile.LineInfo(\"exp\",\"/usr/local/src/julia-2e358ce975/bin/../lib/julia/libopenlibm.so\",-1,\"\",-1,true,140105981014165),0x00007f6f0e2261fd=>Base.Profile.LineInfo(\"randn!\",\"random.jl\",1135,\"\",-1,false,140114955231741),0x00007f6d04f0d682=>Base.Profile.LineInfo(\"dscal_64_\",\"/usr/local/src/julia-2e358ce975/bin/../lib/julia/libopenblas64_.so\",-1,\"\",-1,true,140106211055234),0x00007f6f0e2262e9=>Base.Profile.LineInfo(\"randn_unlikely\",\"random.jl\",1120,\"\",-1,false,140114955231977),0x00007f6f0e23736d=>Base.Profile.LineInfo(\"anonymous\",\"profile.jl\",16,\"\",-1,false,140114955301741),0x00007f6f0e226258=>Base.Profile.LineInfo(\"randn!\",\"random.jl\",1135,\"\",-1,false,140114955231832),0x00007f6f0e22b537=>Base.Profile.LineInfo(\"mean\",\"statistics.jl\",31,\"\",-1,false,140114955253047),0x00007f6f0be9e8a4=>Base.Profile.LineInfo(\"???\",\"/lib/x86_64-linux-gnu/libc.so.6\",140114917976228,\"\",-1,true,140114917976228),0x00007f6f0e226241=>Base.Profile.LineInfo(\"randn!\",\"random.jl\",1135,\"\",-1,false,140114955231809),0x00007f6f0d1dd243=>Base.Profile.LineInfo(\"???\",\"/usr/local/src/julia-2e358ce975/bin/../lib/julia/libjulia.so\",140114938155587,\"\",-1,true,140114938155587),0x00007f6f0e22ca76=>Base.Profile.LineInfo(\"mapreduce_pairwise_impl\",\"reduce.jl\",108,\"\",-1,false,140114955258486),0x00007f6f0e22ca46=>Base.Profile.LineInfo(\"mapreduce_pairwise_impl\",\"reduce.jl\",107,\"\",-1,false,140114955258438),0x00007f6f0d1e7587=>Base.Profile.LineInfo(\"???\",\"/usr/local/src/julia-2e358ce975/bin/../lib/julia/libjulia.so\",140114938197383,\"\",-1,true,140114938197383),0x00007f6d071202f9=>Base.Profile.LineInfo(\"dsfmt_fill_array_close1_open2\",\"/usr/local/src/julia-2e358ce975/bin/../lib/julia/libdSFMT.so\",-1,\"\",-1,true,140106246783737),0x00007f6f0d1cebc4=>Base.Profile.LineInfo(\"???\",\"/usr/local/src/julia-2e358ce975/bin/../lib/julia/libjulia.so\",140114938096580,\"\",-1,true,140114938096580),0x00007f6f0d1e45d5=>Base.Profile.LineInfo(\"???\",\"/usr/local/src/julia-2e358ce975/bin/../lib/julia/libjulia.so\",140114938185173,\"\",-1,true,140114938185173),0x00007f6f0e226254=>Base.Profile.LineInfo(\"randn!\",\"random.jl\",1135,\"\",-1,false,140114955231828),0x00007f6f0e22ca71=>Base.Profile.LineInfo(\"mapreduce_pairwise_impl\",\"reduce.jl\",108,\"\",-1,false,140114955258481),0x00007f6f0e22cb4f=>Base.Profile.LineInfo(\"mapreduce_seq_impl\",\"simdloop.jl\",67,\"reduce.jl\",229,false,140114955258703),0x00007f6f0ca843d0=>Base.Profile.LineInfo(\"???\",\"/lib/x86_64-linux-gnu/libpthread.so.0\",140114930451408,\"\",-1,true,140114930451408),0x00007f6d0712027b=>Base.Profile.LineInfo(\"dsfmt_fill_array_close1_open2\",\"/usr/local/src/julia-2e358ce975/bin/../lib/julia/libdSFMT.so\",-1,\"\",-1,true,140106246783611),0x00007f6f0d17317b=>Base.Profile.LineInfo(\"jl_apply_generic\",\"/usr/local/src/julia-2e358ce975/bin/../lib/julia/libjulia.so\",-1,\"\",-1,true,140114937721211),0x00007f6d071203b8=>Base.Profile.LineInfo(\"dsfmt_fill_array_close1_open2\",\"/usr/local/src/julia-2e358ce975/bin/../lib/julia/libdSFMT.so\",-1,\"\",-1,true,140106246783928),0x00007f6d071202b3=>Base.Profile.LineInfo(\"dsfmt_fill_array_close1_open2\",\"/usr/local/src/julia-2e358ce975/bin/../lib/julia/libdSFMT.so\",-1,\"\",-1,true,140106246783667),0x00007f6f0e22cb5d=>Base.Profile.LineInfo(\"mapreduce_seq_impl\",\"simdloop.jl\",67,\"reduce.jl\",229,false,140114955258717)),157x10 Array{ProfileView.TagData,2}:\n",
       " ProfileView.TagData(0x00007f6f0e1fa749,0)  …  ProfileView.TagData(0x0000000000000000,-1)\n",
       " ProfileView.TagData(0x00007f6f0e1fa749,0)     ProfileView.TagData(0x0000000000000000,-1)\n",
       " ProfileView.TagData(0x00007f6f0e1fa749,0)     ProfileView.TagData(0x0000000000000000,-1)\n",
       " ProfileView.TagData(0x00007f6f0e1fa749,0)     ProfileView.TagData(0x0000000000000000,-1)\n",
       " ProfileView.TagData(0x00007f6f0e1fa749,0)     ProfileView.TagData(0x0000000000000000,-1)\n",
       " ProfileView.TagData(0x00007f6f0e1fa749,0)  …  ProfileView.TagData(0x0000000000000000,-1)\n",
       " ProfileView.TagData(0x00007f6f0e1fa749,0)     ProfileView.TagData(0x0000000000000000,-1)\n",
       " ProfileView.TagData(0x00007f6f0e1fa749,0)     ProfileView.TagData(0x0000000000000000,-1)\n",
       " ProfileView.TagData(0x00007f6f0e1fa749,0)     ProfileView.TagData(0x0000000000000000,-1)\n",
       " ProfileView.TagData(0x00007f6f0e1fa749,0)     ProfileView.TagData(0x0000000000000000,-1)\n",
       " ProfileView.TagData(0x00007f6f0e1fa749,0)  …  ProfileView.TagData(0x0000000000000000,-1)\n",
       " ProfileView.TagData(0x00007f6f0e1fa749,0)     ProfileView.TagData(0x0000000000000000,-1)\n",
       " ProfileView.TagData(0x00007f6f0e1fa749,0)     ProfileView.TagData(0x0000000000000000,-1)\n",
       " ⋮                                          ⋱                                            \n",
       " ProfileView.TagData(0x00007f6f0e1fa749,0)  …  ProfileView.TagData(0x00007f6f0e22cb27,0) \n",
       " ProfileView.TagData(0x00007f6f0e1fa749,0)     ProfileView.TagData(0x00007f6f0e22cb27,0) \n",
       " ProfileView.TagData(0x00007f6f0e1fa749,0)     ProfileView.TagData(0x00007f6f0e22cb64,0) \n",
       " ProfileView.TagData(0x00007f6f0e1fa749,0)     ProfileView.TagData(0x00007f6f0e22cb4f,0) \n",
       " ProfileView.TagData(0x00007f6f0e1fa749,0)     ProfileView.TagData(0x00007f6f0e22cb4f,0) \n",
       " ProfileView.TagData(0x00007f6f0e1fa749,0)  …  ProfileView.TagData(0x00007f6f0e22cbad,0) \n",
       " ProfileView.TagData(0x00007f6f0e1fa749,0)     ProfileView.TagData(0x0000000000000000,-1)\n",
       " ProfileView.TagData(0x00007f6f0e1fa749,0)     ProfileView.TagData(0x0000000000000000,-1)\n",
       " ProfileView.TagData(0x00007f6f0e1fa749,0)     ProfileView.TagData(0x0000000000000000,-1)\n",
       " ProfileView.TagData(0x00007f6f0e1fa749,0)     ProfileView.TagData(0x0000000000000000,-1)\n",
       " ProfileView.TagData(0x00007f6f0e1fa749,0)  …  ProfileView.TagData(0x0000000000000000,-1)\n",
       " ProfileView.TagData(0x00007f6f0e1fa749,0)     ProfileView.TagData(0x0000000000000000,-1),12)"
      ]
     },
     "execution_count": 8,
     "metadata": {},
     "output_type": "execute_result"
    }
   ],
   "source": [
    "#Pkg.add(\"ProfileView\") # similar to install.packages() in R\n",
    "using ProfileView  # similar to library(ProfileView) in R\n",
    "ProfileView.view()"
   ]
  },
  {
   "cell_type": "markdown",
   "metadata": {},
   "source": [
    "In this case the results aren't very interesting but in a REPL session the bars in the image are live links to lines in the source code.\n",
    "\n",
    "Note that using one package may bring in others."
   ]
  },
  {
   "cell_type": "code",
   "execution_count": 9,
   "metadata": {
    "collapsed": false
   },
   "outputs": [
    {
     "name": "stdout",
     "output_type": "stream",
     "text": [
      "                          Base  26878 KB     Module\n",
      "                    ColorTypes    253 KB     Module\n",
      "                        Colors    577 KB     Module\n",
      "                        Compat    225 KB     Module\n",
      "                          Core   4712 KB     Module\n",
      "             FixedPointNumbers     32 KB     Module\n",
      "                        IJulia   8189 KB     Module\n",
      "                IPythonDisplay     27 KB     Module\n",
      "                          JSON    232 KB     Module\n",
      "                          Main  47285 KB     Module\n",
      "                        Nettle     57 KB     Module\n",
      "                   ProfileView    529 KB     Module\n",
      "                ProfileViewSVG     17 KB     Module\n",
      "                      Reexport   3628 bytes  Module\n",
      "                           ZMQ     80 KB     Module\n",
      "                         mn25n   7812 KB     1x1000000 Array{Float64,2}\n"
     ]
    }
   ],
   "source": [
    "whos()"
   ]
  },
  {
   "cell_type": "markdown",
   "metadata": {},
   "source": [
    "## Simulation of the distribution of sample statistics"
   ]
  },
  {
   "cell_type": "markdown",
   "metadata": {},
   "source": [
    "An example I like to use for function creation is simulation of the distribution of sample statistics.  For creating samples from various distributions we will use the Distributions package.  I was going to use the Gadfly package for visualization but it doesn't seem to be happy today."
   ]
  },
  {
   "cell_type": "code",
   "execution_count": 10,
   "metadata": {
    "collapsed": false
   },
   "outputs": [],
   "source": [
    "# Pkg.add(\"Distributions\") # done previously\n",
    "using Distributions"
   ]
  },
  {
   "cell_type": "markdown",
   "metadata": {},
   "source": [
    "In the last section, we simulated the means of samples of size 25 from a standard normal distribution.  We know that the distribution of this sample statistic should be a normal with mean zero and standard deviation 5."
   ]
  },
  {
   "cell_type": "code",
   "execution_count": 11,
   "metadata": {
    "collapsed": false
   },
   "outputs": [
    {
     "data": {
      "text/plain": [
       "-7.607745026973842e-5"
      ]
     },
     "execution_count": 11,
     "metadata": {},
     "output_type": "execute_result"
    }
   ],
   "source": [
    "mean(mn25n)  # expect a value close to zero"
   ]
  },
  {
   "cell_type": "code",
   "execution_count": 12,
   "metadata": {
    "collapsed": false
   },
   "outputs": [
    {
     "data": {
      "text/plain": [
       "0.19998354641851948"
      ]
     },
     "execution_count": 12,
     "metadata": {},
     "output_type": "execute_result"
    }
   ],
   "source": [
    "std(mn25n)  # expect a value close to 0.2"
   ]
  },
  {
   "cell_type": "markdown",
   "metadata": {},
   "source": [
    "The `randn` function for sampling from a normal distribution is in the `Base` module.  For other distributions we use the Distributions package.  Check the documentation for the Distributions package to see all the possibilities.\n",
    "\n",
    "To write a general function for simulating the distribution of sample statistics we need the distribution from which to sample, the sample size, the statistic to evaluate and the number of replications to perform.  A distribution object encompasses both the distribution type and the parameters of the distribution."
   ]
  },
  {
   "cell_type": "code",
   "execution_count": 13,
   "metadata": {
    "collapsed": false
   },
   "outputs": [
    {
     "data": {
      "text/plain": [
       "DataType"
      ]
     },
     "execution_count": 13,
     "metadata": {},
     "output_type": "execute_result"
    }
   ],
   "source": [
    "typeof(Poisson)"
   ]
  },
  {
   "cell_type": "code",
   "execution_count": 14,
   "metadata": {
    "collapsed": false
   },
   "outputs": [
    {
     "data": {
      "text/plain": [
       "4-element Array{Any,1}:\n",
       " call(::Type{Distributions.Poisson}) at /home/bates/.julia/v0.4/Distributions/src/univariate/discrete/poisson.jl:25         \n",
       " call(::Type{Distributions.Poisson}, λ::Real) at /home/bates/.julia/v0.4/Distributions/src/univariate/discrete/poisson.jl:24\n",
       " call{T}(::Type{T}, arg) at essentials.jl:56                                                                                \n",
       " call{T}(::Type{T}, args...) at essentials.jl:57                                                                            "
      ]
     },
     "execution_count": 14,
     "metadata": {},
     "output_type": "execute_result"
    }
   ],
   "source": [
    "methods(Poisson)"
   ]
  },
  {
   "cell_type": "code",
   "execution_count": 15,
   "metadata": {
    "collapsed": false
   },
   "outputs": [
    {
     "data": {
      "text/plain": [
       "Distributions.Poisson(λ=5.0)"
      ]
     },
     "execution_count": 15,
     "metadata": {},
     "output_type": "execute_result"
    }
   ],
   "source": [
    "d = Poisson(5)"
   ]
  },
  {
   "cell_type": "markdown",
   "metadata": {},
   "source": [
    "A function to replicate N times the evaluation of the statistic, s, on a sample of size n from distribution d can be written"
   ]
  },
  {
   "cell_type": "code",
   "execution_count": 16,
   "metadata": {
    "collapsed": false
   },
   "outputs": [
    {
     "data": {
      "text/plain": [
       "sampstat (generic function with 1 method)"
      ]
     },
     "execution_count": 16,
     "metadata": {},
     "output_type": "execute_result"
    }
   ],
   "source": [
    "function sampstat(N::Integer,s::Function,n::Integer,d::Distribution)\n",
    "    samp = rand(d,n)   # simulate the first sample\n",
    "    v1 = s(samp)       # evaluate the statistic\n",
    "    res = Array(typeof(v1),(N,))  # create the result array\n",
    "    res[1] = v1        # set the first element\n",
    "    for i in 2:N\n",
    "        res[i] = s(rand(d,n))\n",
    "    end\n",
    "    res\n",
    "end"
   ]
  },
  {
   "cell_type": "markdown",
   "metadata": {},
   "source": [
    "It might be good to step through the evaluation just to check that everything is okay."
   ]
  },
  {
   "cell_type": "code",
   "execution_count": 17,
   "metadata": {
    "collapsed": false
   },
   "outputs": [
    {
     "data": {
      "text/plain": [
       "median (generic function with 43 methods)"
      ]
     },
     "execution_count": 17,
     "metadata": {},
     "output_type": "execute_result"
    }
   ],
   "source": [
    "N = 100; n = 20; s = median"
   ]
  },
  {
   "cell_type": "code",
   "execution_count": 18,
   "metadata": {
    "collapsed": false
   },
   "outputs": [
    {
     "data": {
      "text/plain": [
       "1x20 Array{Int64,2}:\n",
       " 8  8  5  4  1  3  4  13  2  4  5  3  5  5  5  5  6  5  5  5"
      ]
     },
     "execution_count": 18,
     "metadata": {},
     "output_type": "execute_result"
    }
   ],
   "source": [
    "samp = rand(d,n);\n",
    "samp'"
   ]
  },
  {
   "cell_type": "code",
   "execution_count": 19,
   "metadata": {
    "collapsed": false
   },
   "outputs": [
    {
     "data": {
      "text/plain": [
       "5.0"
      ]
     },
     "execution_count": 19,
     "metadata": {},
     "output_type": "execute_result"
    }
   ],
   "source": [
    "v1 = s(samp)"
   ]
  },
  {
   "cell_type": "code",
   "execution_count": 20,
   "metadata": {
    "collapsed": false
   },
   "outputs": [
    {
     "data": {
      "text/plain": [
       "5.0"
      ]
     },
     "execution_count": 20,
     "metadata": {},
     "output_type": "execute_result"
    }
   ],
   "source": [
    "res = Array(typeof(v1),N);\n",
    "res[1] = v1"
   ]
  },
  {
   "cell_type": "code",
   "execution_count": 21,
   "metadata": {
    "collapsed": false
   },
   "outputs": [],
   "source": [
    "for i in 2:N\n",
    "    res[i] = s(rand(d,n))\n",
    "end"
   ]
  },
  {
   "cell_type": "code",
   "execution_count": 22,
   "metadata": {
    "collapsed": false
   },
   "outputs": [
    {
     "data": {
      "text/plain": [
       "1x100 Array{Float64,2}:\n",
       " 5.0  5.5  6.0  4.5  4.0  6.0  4.0  5.0  …  5.0  5.0  5.0  6.0  5.0  4.0  4.5"
      ]
     },
     "execution_count": 22,
     "metadata": {},
     "output_type": "execute_result"
    }
   ],
   "source": [
    "res'"
   ]
  },
  {
   "cell_type": "markdown",
   "metadata": {},
   "source": [
    "Next we generate a large sample and check the timing"
   ]
  },
  {
   "cell_type": "code",
   "execution_count": 23,
   "metadata": {
    "collapsed": false
   },
   "outputs": [
    {
     "name": "stdout",
     "output_type": "stream",
     "text": [
      "  1.110126 seconds (6.01 M allocations: 572.455 MB, 7.03% gc time)\n"
     ]
    }
   ],
   "source": [
    "@time med20p = sampstat(1_000_000,median,20,d);"
   ]
  },
  {
   "cell_type": "code",
   "execution_count": 24,
   "metadata": {
    "collapsed": false
   },
   "outputs": [
    {
     "data": {
      "text/plain": [
       "1x1000000 Array{Float64,2}:\n",
       " 4.0  4.0  5.0  5.0  4.0  4.0  4.5  5.0  …  4.5  2.5  5.0  5.0  4.0  5.5  4.0"
      ]
     },
     "execution_count": 24,
     "metadata": {},
     "output_type": "execute_result"
    }
   ],
   "source": [
    "med20p'"
   ]
  },
  {
   "cell_type": "markdown",
   "metadata": {},
   "source": [
    "We see that a large amount of storage is allocated and about 25% of the execution time is in garbage collection.  Because the function is fairly simple we can guess that the allocation is taking place in the call to `rand`.  For each of the 1,000,000 replications a new vector of 20 Int64 values is being allocated, populated, passed to the function `s` then released to be garbage collected later.\n",
    "\n",
    "Julia allows for __mutating__ functions that change the value of one or more of their arguments.  This may seem heretical to R programmers but it can be very useful.  Tuning the performance of long-running functions often comes down to finding out where temporary storage is being allocated and avoiding doing that.\n",
    "\n",
    "By convention, the names of mutating functions end in `!` so `rand` allocates new storage whereas `rand!` uses storage passed to it.  Fortunately the vector `samp` has already been allocated and we can reuse it."
   ]
  },
  {
   "cell_type": "code",
   "execution_count": 25,
   "metadata": {
    "collapsed": false
   },
   "outputs": [
    {
     "data": {
      "text/plain": [
       "1x20 Array{Int64,2}:\n",
       " 8  8  5  4  1  3  4  13  2  4  5  3  5  5  5  5  6  5  5  5"
      ]
     },
     "execution_count": 25,
     "metadata": {},
     "output_type": "execute_result"
    }
   ],
   "source": [
    "samp'"
   ]
  },
  {
   "cell_type": "code",
   "execution_count": 26,
   "metadata": {
    "collapsed": false
   },
   "outputs": [
    {
     "data": {
      "text/plain": [
       "1x20 Array{Int64,2}:\n",
       " 3  6  6  4  3  5  3  6  6  4  4  8  4  6  5  3  7  5  5  5"
      ]
     },
     "execution_count": 26,
     "metadata": {},
     "output_type": "execute_result"
    }
   ],
   "source": [
    "rand!(d,samp)'"
   ]
  },
  {
   "cell_type": "code",
   "execution_count": 27,
   "metadata": {
    "collapsed": false
   },
   "outputs": [
    {
     "data": {
      "text/plain": [
       "1x20 Array{Int64,2}:\n",
       " 3  6  6  4  3  5  3  6  6  4  4  8  4  6  5  3  7  5  5  5"
      ]
     },
     "execution_count": 27,
     "metadata": {},
     "output_type": "execute_result"
    }
   ],
   "source": [
    "samp'"
   ]
  },
  {
   "cell_type": "code",
   "execution_count": 28,
   "metadata": {
    "collapsed": false
   },
   "outputs": [
    {
     "data": {
      "text/plain": [
       "sampstat1 (generic function with 1 method)"
      ]
     },
     "execution_count": 28,
     "metadata": {},
     "output_type": "execute_result"
    }
   ],
   "source": [
    "function sampstat1(N::Integer,s::Function,n::Integer,d::Distribution)\n",
    "    samp = rand(d,n)   # simulate the first sample\n",
    "    v1 = s(samp)       # evaluate the statistic\n",
    "    res = Array(typeof(v1),(N,))  # create the result array\n",
    "    res[1] = v1        # set the first element\n",
    "    for i in 2:N\n",
    "        res[i] = s(rand!(d,samp))\n",
    "    end\n",
    "    res\n",
    "end"
   ]
  },
  {
   "cell_type": "code",
   "execution_count": 29,
   "metadata": {
    "collapsed": false
   },
   "outputs": [
    {
     "name": "stdout",
     "output_type": "stream",
     "text": [
      "  1.032929 seconds (5.00 M allocations: 366.426 MB, 2.46% gc time)\n"
     ]
    },
    {
     "data": {
      "text/plain": [
       "1x1000000 Array{Float64,2}:\n",
       " 5.0  5.0  5.0  5.0  4.5  5.0  4.5  5.0  …  5.0  5.0  5.0  6.0  4.5  6.5  5.0"
      ]
     },
     "execution_count": 29,
     "metadata": {},
     "output_type": "execute_result"
    }
   ],
   "source": [
    "@time med20p1 = sampstat1(1_000_000,s,n,d)'"
   ]
  },
  {
   "cell_type": "markdown",
   "metadata": {},
   "source": [
    "The reuse of the `samp` vector has helped to reduce the amount of storage allocated and the time spent in garbage collection but not substantially.  A less obvious source of allocation is the `median` function.  The non-mutating version must take a copy of the vector to do the (partial) sort evaluating the median.  We don't need to preserve the sample because we are going to overwrite it in the next iteration anyway."
   ]
  },
  {
   "cell_type": "code",
   "execution_count": 30,
   "metadata": {
    "collapsed": false
   },
   "outputs": [
    {
     "name": "stdout",
     "output_type": "stream",
     "text": [
      "  0.967369 seconds (4.00 M allocations: 152.581 MB, 1.40% gc time)\n"
     ]
    },
    {
     "data": {
      "text/plain": [
       "1x1000000 Array{Float64,2}:\n",
       " 6.0  5.0  5.0  5.0  5.0  6.0  5.0  4.0  …  4.0  6.5  6.0  4.0  5.0  5.0  4.0"
      ]
     },
     "execution_count": 30,
     "metadata": {},
     "output_type": "execute_result"
    }
   ],
   "source": [
    "@time med20p1 = sampstat1(1_000_000,median!,n,d)'"
   ]
  },
  {
   "cell_type": "markdown",
   "metadata": {},
   "source": [
    "We should, of course, check that the results are consistent by setting the random number generator seed and comparing the results from the two `sampstat` functions and the mutating and non-mutating `median` functions."
   ]
  },
  {
   "cell_type": "code",
   "execution_count": 31,
   "metadata": {
    "collapsed": false
   },
   "outputs": [
    {
     "data": {
      "text/plain": [
       "true"
      ]
     },
     "execution_count": 31,
     "metadata": {},
     "output_type": "execute_result"
    }
   ],
   "source": [
    "srand(1234321)\n",
    "s1 = sampstat(100_000,median,n,d);\n",
    "srand(1234321)\n",
    "s2 = sampstat(100_000,median!,n,d);\n",
    "srand(1234321)\n",
    "s3 = sampstat1(100_000,median,n,d);\n",
    "srand(1234321)\n",
    "s4 = sampstat1(100_000,median!,n,d);\n",
    "all(s1 .== s2 .== s3 .== s4)"
   ]
  },
  {
   "cell_type": "markdown",
   "metadata": {},
   "source": [
    "## Syntax of function (actually method) definitions"
   ]
  },
  {
   "cell_type": "markdown",
   "metadata": {},
   "source": [
    "We have seen that a method is defined by a block of the form\n",
    "```\n",
    "function <functionname>(arg1::Type1,arg2::Type2,...,argn::Typen)\n",
    "   ...\n",
    "end\n",
    "```\n",
    "\n",
    "Be careful not to let your R instincts take over and write\n",
    "```\n",
    "functionanme = function(arg1::Type1,...,argn::Typen)\n",
    " ...\n",
    "end\n",
    "```\n",
    "That is not syntactically wrong but it isn't what you want. (The gory details are that it creates an anonymous function, which is generally less effective because of the way the compiler and type inference operates, then assigning this anonymous function to a name.)\n",
    "\n",
    "The type annotations are optional.  Obviously when you are defining methods that are distinguished by the types of their arguments you use them.  Other times you may want to use them to validate the arguments.  In `sampstat` the argument `s` is applied as a function so it should be a function.  The argument `d` is passed to `rand` or `rand!` and it could be something other than a Distribution but we want a Distribution here.  It wouldn't make sense for `n` and `N` to be other than integers as they represent sizes.  The `Integer` type is an abstract type with several subtypes. "
   ]
  },
  {
   "cell_type": "code",
   "execution_count": 32,
   "metadata": {
    "collapsed": false
   },
   "outputs": [
    {
     "data": {
      "text/plain": [
       "DataType"
      ]
     },
     "execution_count": 32,
     "metadata": {},
     "output_type": "execute_result"
    }
   ],
   "source": [
    "typeof(Integer)"
   ]
  },
  {
   "cell_type": "code",
   "execution_count": 33,
   "metadata": {
    "collapsed": false
   },
   "outputs": [
    {
     "data": {
      "text/plain": [
       "4-element Array{Any,1}:\n",
       " BigInt  \n",
       " Bool    \n",
       " Signed  \n",
       " Unsigned"
      ]
     },
     "execution_count": 33,
     "metadata": {},
     "output_type": "execute_result"
    }
   ],
   "source": [
    "subtypes(Integer)"
   ]
  },
  {
   "cell_type": "markdown",
   "metadata": {},
   "source": [
    "Those coming to Julia with a background in strongly typed languages (C, C++, Java) tend to overspecify the argument types.  Generally I use argument type declarations when I want to distinguish methods and to validate the argument types.  Frequently in R I will begin a function with\n",
    "```s\n",
    "f <- function(a, b, c) {\n",
    "   stopifnot(is.integer(a), length(a) == 1L, ...)\n",
    "   ...\n",
    "}\n",
    "```\n",
    "to validate the types of the actual arguments.  In Julia I specify the types that I want in the argument list.  If other types are passed the evaluation of the function fails to find an appropriate method.\n",
    "\n",
    "The value of a function evaluation is the last object evaluated.  There is also a `return` directive which can be useful in short-circuiting evaluation.\n",
    "\n",
    "A method that consists of a single expression can be written with an `=` sign.  For example, the `insupport` generic checks whether a value `x` is in the support of a distribution `d`.  The method for the Binomial type is\n",
    "```julia\n",
    "insupport(d::Binomial, x::Real) = isinteger(x) && 0 <= x <= d.size\n",
    "```\n",
    "If we want to check for all of a vector's elements being in the support we could write"
   ]
  },
  {
   "cell_type": "code",
   "execution_count": 34,
   "metadata": {
    "collapsed": false
   },
   "outputs": [
    {
     "data": {
      "text/plain": [
       "vsupport (generic function with 1 method)"
      ]
     },
     "execution_count": 34,
     "metadata": {},
     "output_type": "execute_result"
    }
   ],
   "source": [
    "function vsupport(d::Binomial,v::Vector)\n",
    "    for el in v\n",
    "        insupport(d, el) || return false\n",
    "    end\n",
    "    true\n",
    "end"
   ]
  },
  {
   "cell_type": "markdown",
   "metadata": {},
   "source": [
    "Doing things this way if you have a million values to check and the second one fails you don't bother checking the rest.\n",
    "\n",
    "An short anonymous function can be written with the \"stabby lambda syntax\".  To apply the logit transform to a vector of values in (0,1) we could write"
   ]
  },
  {
   "cell_type": "code",
   "execution_count": 35,
   "metadata": {
    "collapsed": false
   },
   "outputs": [
    {
     "data": {
      "text/html": [
       "<table class=\"data-frame\"><tr><th></th><th>μ</th><th>η</th></tr><tr><th>1</th><td>0.0944217798994027</td><td>-2.260801891104243</td></tr><tr><th>2</th><td>0.9366111003876687</td><td>2.692979387335428</td></tr><tr><th>3</th><td>0.2583267373061602</td><td>-1.0546835920616155</td></tr><tr><th>4</th><td>0.9309236942019032</td><td>2.600965538110032</td></tr><tr><th>5</th><td>0.5552832964597973</td><td>0.22204096940697216</td></tr><tr><th>6</th><td>0.8715098619396013</td><td>1.9143750261699557</td></tr><tr><th>7</th><td>0.04155298306875843</td><td>-3.138344970491189</td></tr><tr><th>8</th><td>0.9687790528318041</td><td>3.4349473171034735</td></tr><tr><th>9</th><td>0.6535657113441573</td><td>0.6347499234293605</td></tr><tr><th>10</th><td>0.4581009073306117</td><td>-0.16799032669054131</td></tr></table>"
      ],
      "text/plain": [
       "10×2 DataFrames.DataFrame\n",
       "│ Row │ μ         │ η        │\n",
       "├─────┼───────────┼──────────┤\n",
       "│ 1   │ 0.0944218 │ -2.2608  │\n",
       "│ 2   │ 0.936611  │ 2.69298  │\n",
       "│ 3   │ 0.258327  │ -1.05468 │\n",
       "│ 4   │ 0.930924  │ 2.60097  │\n",
       "│ 5   │ 0.555283  │ 0.222041 │\n",
       "│ 6   │ 0.87151   │ 1.91438  │\n",
       "│ 7   │ 0.041553  │ -3.13834 │\n",
       "│ 8   │ 0.968779  │ 3.43495  │\n",
       "│ 9   │ 0.653566  │ 0.63475  │\n",
       "│ 10  │ 0.458101  │ -0.16799 │"
      ]
     },
     "execution_count": 35,
     "metadata": {},
     "output_type": "execute_result"
    }
   ],
   "source": [
    "μ = rand(10);\n",
    "η = map(p -> log(p/(1-p)), μ);\n",
    "using DataFrames\n",
    "DataFrame(μ = μ, η = η)"
   ]
  },
  {
   "cell_type": "markdown",
   "metadata": {},
   "source": [
    "Many of the reduction functions (`any`, `all`, `sum`, `prod`, etc.) can take a function as the first argument.  In that form `any` and `all` have the short-circuiting behavior so the `vsupport` function could be written"
   ]
  },
  {
   "cell_type": "code",
   "execution_count": 36,
   "metadata": {
    "collapsed": false
   },
   "outputs": [
    {
     "data": {
      "text/plain": [
       "vsupport (generic function with 2 methods)"
      ]
     },
     "execution_count": 36,
     "metadata": {},
     "output_type": "execute_result"
    }
   ],
   "source": [
    "vsupport(d::Distribution, v) = any(x -> insupport(d, x), v)"
   ]
  }
 ],
 "metadata": {
  "kernelspec": {
   "display_name": "Julia 0.4.6",
   "language": "julia",
   "name": "julia-0.4"
  },
  "language_info": {
   "file_extension": ".jl",
   "mimetype": "application/julia",
   "name": "julia",
   "version": "0.4.6"
  }
 },
 "nbformat": 4,
 "nbformat_minor": 0
}
